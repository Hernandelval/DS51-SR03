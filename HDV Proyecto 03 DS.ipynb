{
 "cells": [
  {
   "cell_type": "markdown",
   "id": "524d821a-9a85-451e-ad33-302dd0c911ce",
   "metadata": {
    "tags": []
   },
   "source": [
    "# Proyecto 03 - Sistemas de Recomendación\n",
    "\n",
    "## Dataset: STEAM\n",
    "\n",
    "**Recuerda descargar el dataset de [aquí](https://github.com/kang205/SASRec). Son dos archivos, uno de calificaciones y otro de información sobre los juegos.**\n",
    "\n",
    "En este notebook te dejamos unas celdas para que puedas comenzar a trabajar con este dataset. Sin embargo, **deberás** modificarlas para hacer un mejor manejo de datos. Algunas cosas a las que deberás prestar atención (tal vez no a todas):\n",
    "1. Tipos de datos: elige tipos de datos apropiados para cada columna.\n",
    "2. Descartar columnas poco informativas.\n",
    "3. Guardar en memoria datasets preprocesados para no tener que repetir código que tarde en correr.\n",
    "\n",
    "### Exploración de datos\n",
    "\n",
    "Dedícale un buen tiempo a hacer un Análisis Exploratorio de Datos. Elige preguntas que creas que puedas responder con este dataset. Por ejemplo, ¿cuáles son los juegos más populares?¿Y los menos populares?\n",
    "\n",
    "### Filtro Colaborativo\n",
    "\n",
    "Deberás implementar un sistema de recomendación colaborativo para este dataset. Ten en cuenta:\n",
    "\n",
    "1. Haz todas las transformaciones de datos que consideres necesarias. Justifica.\n",
    "1. Evalúa de forma apropiada sus resultados. Justifica la métrica elegida.\n",
    "1. Elige un modelo benchmark y compara tus resultados con este modelo.\n",
    "1. Optimiza los hiperparámetros de tu modelo.\n",
    "\n",
    "Puedes implementar un filtro colaborativo a partir de la similitud coseno o índice de Jaccard. ¿Puedes utilizar los métodos de la librería Surprise? Si no es así, busca implementaciones (por ejemplo, nuevas librerías) que sean apropiadas.\n",
    "\n",
    "Para comenzar a trabajar, puedes asumir que cada entrada es un enlace entre una persona usuaria y un item, **independientemente** de si la crítica es buena o mala. \n",
    "\n",
    "### Para pensar, investigar y, opcionalmente, implementar\n",
    "1. ¿Cómo harías para ponerle un valor a la calificación?\n",
    "1. ¿Cómo harías para agregar contenido? Por ejemplo, cuentas con el género, precio, fecha de lanzamiento y más información de los juegos.\n",
    "1. ¿Hay algo que te gustaría investigar o probar?\n",
    "\n",
    "### **¡Tómate tiempo para investigar y leer mucho!**"
   ]
  },
  {
   "cell_type": "code",
   "execution_count": 1,
   "id": "fb07628e-7315-42cc-aa7f-8114b761c25f",
   "metadata": {},
   "outputs": [],
   "source": [
    "# Importamos las librerías que vamos a utilizar a lo largo del proyecto\n",
    "\n",
    "import gzip\n",
    "import pandas as pd\n",
    "import numpy as np\n",
    "import itertools\n",
    "import plotly.express as px\n",
    "import plotly.graph_objects as go\n",
    "from time import strptime\n",
    "import gc \n",
    "import datetime\n",
    "import re\n",
    "import nltk\n",
    "from nltk.stem import WordNetLemmatizer\n",
    "from PIL import Image\n",
    "from scipy.ndimage import gaussian_gradient_magnitude\n",
    "from IPython.display import display, SVG\n",
    "from sklearn.experimental import enable_iterative_imputer\n",
    "from sklearn.impute import IterativeImputer\n",
    "from sklearn.preprocessing import OrdinalEncoder\n",
    "import seaborn as sns\n",
    "import matplotlib.pyplot as plt\n",
    "from sklearn.metrics.pairwise import cosine_similarity\n",
    "from scipy import sparse\n",
    "from stop_words import get_stop_words\n",
    "\n"
   ]
  },
  {
   "cell_type": "code",
   "execution_count": 2,
   "id": "79371c90-1610-4560-b260-7f0917b4e835",
   "metadata": {},
   "outputs": [],
   "source": [
    "def parse(path):\n",
    "    g = gzip.open(path, 'r')\n",
    "    for l in g:\n",
    "        yield eval(l)"
   ]
  },
  {
   "cell_type": "markdown",
   "id": "b38c7662-dd95-4fa4-945b-8f26f03a44ea",
   "metadata": {},
   "source": [
    "## Reviews"
   ]
  },
  {
   "cell_type": "code",
   "execution_count": 3,
   "id": "73912879-6a45-495a-9c2f-7c58d6eb49ff",
   "metadata": {},
   "outputs": [],
   "source": [
    "counter = 0\n",
    "data_reviews = []\n",
    "\n",
    "# Para no saturar la RAM. Guardaremos una de cada 2 reviews. \n",
    "n = 2\n",
    "for l in parse('steam_reviews.json.gz'):\n",
    "    if counter%n == 0:\n",
    "        data_reviews.append(l)\n",
    "    else:\n",
    "        pass\n",
    "    counter += 1"
   ]
  },
  {
   "cell_type": "code",
   "execution_count": 4,
   "id": "f870f7a0-5e7c-457e-a610-e22d8854fda3",
   "metadata": {},
   "outputs": [],
   "source": [
    "data_reviews = pd.DataFrame(data_reviews)"
   ]
  },
  {
   "cell_type": "code",
   "execution_count": 5,
   "id": "1bef3ee7-db6b-40dd-ab3e-a3b4fd0c4e17",
   "metadata": {},
   "outputs": [
    {
     "data": {
      "text/html": [
       "<div>\n",
       "<style scoped>\n",
       "    .dataframe tbody tr th:only-of-type {\n",
       "        vertical-align: middle;\n",
       "    }\n",
       "\n",
       "    .dataframe tbody tr th {\n",
       "        vertical-align: top;\n",
       "    }\n",
       "\n",
       "    .dataframe thead th {\n",
       "        text-align: right;\n",
       "    }\n",
       "</style>\n",
       "<table border=\"1\" class=\"dataframe\">\n",
       "  <thead>\n",
       "    <tr style=\"text-align: right;\">\n",
       "      <th></th>\n",
       "      <th>username</th>\n",
       "      <th>hours</th>\n",
       "      <th>products</th>\n",
       "      <th>product_id</th>\n",
       "      <th>page_order</th>\n",
       "      <th>date</th>\n",
       "      <th>text</th>\n",
       "      <th>early_access</th>\n",
       "      <th>page</th>\n",
       "      <th>found_funny</th>\n",
       "      <th>compensation</th>\n",
       "      <th>user_id</th>\n",
       "    </tr>\n",
       "  </thead>\n",
       "  <tbody>\n",
       "    <tr>\n",
       "      <th>0</th>\n",
       "      <td>Chaos Syren</td>\n",
       "      <td>0.1</td>\n",
       "      <td>41.0</td>\n",
       "      <td>725280</td>\n",
       "      <td>0</td>\n",
       "      <td>2017-12-17</td>\n",
       "      <td>This would not be acceptable as an entertainme...</td>\n",
       "      <td>False</td>\n",
       "      <td>1</td>\n",
       "      <td>NaN</td>\n",
       "      <td>NaN</td>\n",
       "      <td>NaN</td>\n",
       "    </tr>\n",
       "    <tr>\n",
       "      <th>1</th>\n",
       "      <td>hello?&lt;</td>\n",
       "      <td>14.6</td>\n",
       "      <td>2.0</td>\n",
       "      <td>328100</td>\n",
       "      <td>1</td>\n",
       "      <td>2017-10-16</td>\n",
       "      <td>Better than Minecraft</td>\n",
       "      <td>False</td>\n",
       "      <td>1</td>\n",
       "      <td>2.0</td>\n",
       "      <td>Product received for free</td>\n",
       "      <td>NaN</td>\n",
       "    </tr>\n",
       "    <tr>\n",
       "      <th>2</th>\n",
       "      <td>DarklyThinking</td>\n",
       "      <td>16.6</td>\n",
       "      <td>577.0</td>\n",
       "      <td>35140</td>\n",
       "      <td>1</td>\n",
       "      <td>2018-01-04</td>\n",
       "      <td>Still worth playing in 2018.\\nProbably my favo...</td>\n",
       "      <td>False</td>\n",
       "      <td>1</td>\n",
       "      <td>NaN</td>\n",
       "      <td>NaN</td>\n",
       "      <td>76561198007483075</td>\n",
       "    </tr>\n",
       "    <tr>\n",
       "      <th>3</th>\n",
       "      <td>nd</td>\n",
       "      <td>1.0</td>\n",
       "      <td>2759.0</td>\n",
       "      <td>725280</td>\n",
       "      <td>2</td>\n",
       "      <td>2017-11-28</td>\n",
       "      <td>endless rooms of some underground complex, blo...</td>\n",
       "      <td>False</td>\n",
       "      <td>1</td>\n",
       "      <td>1.0</td>\n",
       "      <td>NaN</td>\n",
       "      <td>NaN</td>\n",
       "    </tr>\n",
       "    <tr>\n",
       "      <th>4</th>\n",
       "      <td>jimllfixitok</td>\n",
       "      <td>1.1</td>\n",
       "      <td>729.0</td>\n",
       "      <td>707610</td>\n",
       "      <td>0</td>\n",
       "      <td>2017-10-16</td>\n",
       "      <td>no sound. icons don't work. re-installed but n...</td>\n",
       "      <td>False</td>\n",
       "      <td>1</td>\n",
       "      <td>NaN</td>\n",
       "      <td>NaN</td>\n",
       "      <td>76561197970402776</td>\n",
       "    </tr>\n",
       "  </tbody>\n",
       "</table>\n",
       "</div>"
      ],
      "text/plain": [
       "         username  hours  products product_id  page_order        date  \\\n",
       "0     Chaos Syren    0.1      41.0     725280           0  2017-12-17   \n",
       "1         hello?<   14.6       2.0     328100           1  2017-10-16   \n",
       "2  DarklyThinking   16.6     577.0      35140           1  2018-01-04   \n",
       "3              nd    1.0    2759.0     725280           2  2017-11-28   \n",
       "4    jimllfixitok    1.1     729.0     707610           0  2017-10-16   \n",
       "\n",
       "                                                text  early_access  page  \\\n",
       "0  This would not be acceptable as an entertainme...         False     1   \n",
       "1                              Better than Minecraft         False     1   \n",
       "2  Still worth playing in 2018.\\nProbably my favo...         False     1   \n",
       "3  endless rooms of some underground complex, blo...         False     1   \n",
       "4  no sound. icons don't work. re-installed but n...         False     1   \n",
       "\n",
       "   found_funny               compensation            user_id  \n",
       "0          NaN                        NaN                NaN  \n",
       "1          2.0  Product received for free                NaN  \n",
       "2          NaN                        NaN  76561198007483075  \n",
       "3          1.0                        NaN                NaN  \n",
       "4          NaN                        NaN  76561197970402776  "
      ]
     },
     "execution_count": 5,
     "metadata": {},
     "output_type": "execute_result"
    }
   ],
   "source": [
    "data_reviews.head()"
   ]
  },
  {
   "cell_type": "code",
   "execution_count": 6,
   "id": "7427e83e-0993-48ff-bd49-7ecf526efa54",
   "metadata": {},
   "outputs": [
    {
     "data": {
      "text/plain": [
       "(3896535, 12)"
      ]
     },
     "execution_count": 6,
     "metadata": {},
     "output_type": "execute_result"
    }
   ],
   "source": [
    "data_reviews.shape"
   ]
  },
  {
   "cell_type": "code",
   "execution_count": 7,
   "id": "589c6290-3b36-4dea-8447-f10659475c14",
   "metadata": {},
   "outputs": [
    {
     "data": {
      "text/plain": [
       "username              0\n",
       "hours             13206\n",
       "products           7531\n",
       "product_id            0\n",
       "page_order            0\n",
       "date                  0\n",
       "text                  0\n",
       "early_access          0\n",
       "page                  0\n",
       "found_funny     3296831\n",
       "compensation    3823747\n",
       "user_id         2308752\n",
       "dtype: int64"
      ]
     },
     "execution_count": 7,
     "metadata": {},
     "output_type": "execute_result"
    }
   ],
   "source": [
    "# Chequeamos valores faltantes\n",
    "data_reviews.isna().sum()"
   ]
  },
  {
   "cell_type": "code",
   "execution_count": 8,
   "id": "ff5ab926-2877-4243-b12b-3786b39e2bea",
   "metadata": {},
   "outputs": [],
   "source": [
    "# Paso a quedarme únicamente con las columnas que creo necesarias para agilizar los procesos a llevar adelante\n",
    "\n",
    "data_reviews= pd.DataFrame(data_reviews, columns=['username', 'hours','product_id','date','text'])"
   ]
  },
  {
   "cell_type": "code",
   "execution_count": 9,
   "id": "2b6955d5-9278-414f-9d0a-5d166c67340a",
   "metadata": {},
   "outputs": [
    {
     "data": {
      "text/html": [
       "<div>\n",
       "<style scoped>\n",
       "    .dataframe tbody tr th:only-of-type {\n",
       "        vertical-align: middle;\n",
       "    }\n",
       "\n",
       "    .dataframe tbody tr th {\n",
       "        vertical-align: top;\n",
       "    }\n",
       "\n",
       "    .dataframe thead th {\n",
       "        text-align: right;\n",
       "    }\n",
       "</style>\n",
       "<table border=\"1\" class=\"dataframe\">\n",
       "  <thead>\n",
       "    <tr style=\"text-align: right;\">\n",
       "      <th></th>\n",
       "      <th>username</th>\n",
       "      <th>hours</th>\n",
       "      <th>product_id</th>\n",
       "      <th>date</th>\n",
       "      <th>text</th>\n",
       "    </tr>\n",
       "  </thead>\n",
       "  <tbody>\n",
       "    <tr>\n",
       "      <th>0</th>\n",
       "      <td>Chaos Syren</td>\n",
       "      <td>0.1</td>\n",
       "      <td>725280</td>\n",
       "      <td>2017-12-17</td>\n",
       "      <td>This would not be acceptable as an entertainme...</td>\n",
       "    </tr>\n",
       "    <tr>\n",
       "      <th>1</th>\n",
       "      <td>hello?&lt;</td>\n",
       "      <td>14.6</td>\n",
       "      <td>328100</td>\n",
       "      <td>2017-10-16</td>\n",
       "      <td>Better than Minecraft</td>\n",
       "    </tr>\n",
       "    <tr>\n",
       "      <th>2</th>\n",
       "      <td>DarklyThinking</td>\n",
       "      <td>16.6</td>\n",
       "      <td>35140</td>\n",
       "      <td>2018-01-04</td>\n",
       "      <td>Still worth playing in 2018.\\nProbably my favo...</td>\n",
       "    </tr>\n",
       "    <tr>\n",
       "      <th>3</th>\n",
       "      <td>nd</td>\n",
       "      <td>1.0</td>\n",
       "      <td>725280</td>\n",
       "      <td>2017-11-28</td>\n",
       "      <td>endless rooms of some underground complex, blo...</td>\n",
       "    </tr>\n",
       "    <tr>\n",
       "      <th>4</th>\n",
       "      <td>jimllfixitok</td>\n",
       "      <td>1.1</td>\n",
       "      <td>707610</td>\n",
       "      <td>2017-10-16</td>\n",
       "      <td>no sound. icons don't work. re-installed but n...</td>\n",
       "    </tr>\n",
       "  </tbody>\n",
       "</table>\n",
       "</div>"
      ],
      "text/plain": [
       "         username  hours product_id        date  \\\n",
       "0     Chaos Syren    0.1     725280  2017-12-17   \n",
       "1         hello?<   14.6     328100  2017-10-16   \n",
       "2  DarklyThinking   16.6      35140  2018-01-04   \n",
       "3              nd    1.0     725280  2017-11-28   \n",
       "4    jimllfixitok    1.1     707610  2017-10-16   \n",
       "\n",
       "                                                text  \n",
       "0  This would not be acceptable as an entertainme...  \n",
       "1                              Better than Minecraft  \n",
       "2  Still worth playing in 2018.\\nProbably my favo...  \n",
       "3  endless rooms of some underground complex, blo...  \n",
       "4  no sound. icons don't work. re-installed but n...  "
      ]
     },
     "execution_count": 9,
     "metadata": {},
     "output_type": "execute_result"
    }
   ],
   "source": [
    "# Realizo otro .head() para ir viendo como queda mi dataset\n",
    "data_reviews.head()"
   ]
  },
  {
   "cell_type": "code",
   "execution_count": 10,
   "id": "5448ad54-8774-4e1d-803c-04f3408d962a",
   "metadata": {},
   "outputs": [
    {
     "data": {
      "text/plain": [
       "username       object\n",
       "hours         float64\n",
       "product_id     object\n",
       "date           object\n",
       "text           object\n",
       "dtype: object"
      ]
     },
     "execution_count": 10,
     "metadata": {},
     "output_type": "execute_result"
    }
   ],
   "source": [
    "# Detallo que tipo de datos tiene cada columna\n",
    "data_reviews.dtypes"
   ]
  },
  {
   "cell_type": "code",
   "execution_count": 11,
   "id": "104d55eb-d2b8-4bb9-b3f2-4f328ad11500",
   "metadata": {},
   "outputs": [],
   "source": [
    "# Paso a transformar \"date\" a \"tiempo\" con la librería 'datetime'\n",
    "import datetime"
   ]
  },
  {
   "cell_type": "code",
   "execution_count": 12,
   "id": "3aac4eac-8719-4511-95b4-8f09d548dff2",
   "metadata": {},
   "outputs": [],
   "source": [
    "data_reviews['date'] = pd.to_datetime(data_reviews['date'])"
   ]
  },
  {
   "cell_type": "code",
   "execution_count": 13,
   "id": "81788846-76b3-4f10-aae6-723dfecf690b",
   "metadata": {},
   "outputs": [
    {
     "data": {
      "text/plain": [
       "username              object\n",
       "hours                float64\n",
       "product_id            object\n",
       "date          datetime64[ns]\n",
       "text                  object\n",
       "dtype: object"
      ]
     },
     "execution_count": 13,
     "metadata": {},
     "output_type": "execute_result"
    }
   ],
   "source": [
    "# Chequeamos como quedó\n",
    "data_reviews.dtypes"
   ]
  },
  {
   "cell_type": "code",
   "execution_count": 14,
   "id": "1394d036-18bb-4e28-9548-e008807a6574",
   "metadata": {},
   "outputs": [
    {
     "name": "stdout",
     "output_type": "stream",
     "text": [
      "(3896535, 5)\n"
     ]
    },
    {
     "data": {
      "text/html": [
       "<div>\n",
       "<style scoped>\n",
       "    .dataframe tbody tr th:only-of-type {\n",
       "        vertical-align: middle;\n",
       "    }\n",
       "\n",
       "    .dataframe tbody tr th {\n",
       "        vertical-align: top;\n",
       "    }\n",
       "\n",
       "    .dataframe thead th {\n",
       "        text-align: right;\n",
       "    }\n",
       "</style>\n",
       "<table border=\"1\" class=\"dataframe\">\n",
       "  <thead>\n",
       "    <tr style=\"text-align: right;\">\n",
       "      <th></th>\n",
       "      <th>username</th>\n",
       "      <th>hours</th>\n",
       "      <th>product_id</th>\n",
       "      <th>date</th>\n",
       "      <th>text</th>\n",
       "    </tr>\n",
       "  </thead>\n",
       "  <tbody>\n",
       "    <tr>\n",
       "      <th>0</th>\n",
       "      <td>Chaos Syren</td>\n",
       "      <td>0.1</td>\n",
       "      <td>725280</td>\n",
       "      <td>2017-12-17</td>\n",
       "      <td>This would not be acceptable as an entertainme...</td>\n",
       "    </tr>\n",
       "    <tr>\n",
       "      <th>1</th>\n",
       "      <td>hello?&lt;</td>\n",
       "      <td>14.6</td>\n",
       "      <td>328100</td>\n",
       "      <td>2017-10-16</td>\n",
       "      <td>Better than Minecraft</td>\n",
       "    </tr>\n",
       "    <tr>\n",
       "      <th>2</th>\n",
       "      <td>DarklyThinking</td>\n",
       "      <td>16.6</td>\n",
       "      <td>35140</td>\n",
       "      <td>2018-01-04</td>\n",
       "      <td>Still worth playing in 2018.\\nProbably my favo...</td>\n",
       "    </tr>\n",
       "    <tr>\n",
       "      <th>3</th>\n",
       "      <td>nd</td>\n",
       "      <td>1.0</td>\n",
       "      <td>725280</td>\n",
       "      <td>2017-11-28</td>\n",
       "      <td>endless rooms of some underground complex, blo...</td>\n",
       "    </tr>\n",
       "    <tr>\n",
       "      <th>4</th>\n",
       "      <td>jimllfixitok</td>\n",
       "      <td>1.1</td>\n",
       "      <td>707610</td>\n",
       "      <td>2017-10-16</td>\n",
       "      <td>no sound. icons don't work. re-installed but n...</td>\n",
       "    </tr>\n",
       "  </tbody>\n",
       "</table>\n",
       "</div>"
      ],
      "text/plain": [
       "         username  hours product_id       date  \\\n",
       "0     Chaos Syren    0.1     725280 2017-12-17   \n",
       "1         hello?<   14.6     328100 2017-10-16   \n",
       "2  DarklyThinking   16.6      35140 2018-01-04   \n",
       "3              nd    1.0     725280 2017-11-28   \n",
       "4    jimllfixitok    1.1     707610 2017-10-16   \n",
       "\n",
       "                                                text  \n",
       "0  This would not be acceptable as an entertainme...  \n",
       "1                              Better than Minecraft  \n",
       "2  Still worth playing in 2018.\\nProbably my favo...  \n",
       "3  endless rooms of some underground complex, blo...  \n",
       "4  no sound. icons don't work. re-installed but n...  "
      ]
     },
     "execution_count": 14,
     "metadata": {},
     "output_type": "execute_result"
    }
   ],
   "source": [
    "# Volvemos a visualizar y detallar\n",
    "print(data_reviews.shape)\n",
    "data_reviews.head()"
   ]
  },
  {
   "cell_type": "code",
   "execution_count": 15,
   "id": "33b22479-081e-4945-b777-257c1f1520db",
   "metadata": {},
   "outputs": [
    {
     "data": {
      "text/plain": [
       "username          0\n",
       "hours         13206\n",
       "product_id        0\n",
       "date              0\n",
       "text              0\n",
       "dtype: int64"
      ]
     },
     "execution_count": 15,
     "metadata": {},
     "output_type": "execute_result"
    }
   ],
   "source": [
    "# Dada la seleccion hecha, vuelvo a visualizar los datos faltantes para cada columna\n",
    "data_reviews.isna().sum()"
   ]
  },
  {
   "cell_type": "code",
   "execution_count": 16,
   "id": "4398b474-0417-4f91-a408-86143a6658b3",
   "metadata": {},
   "outputs": [
    {
     "data": {
      "text/plain": [
       "440       91809\n",
       "252490    51104\n",
       "49520     36487\n",
       "377160    35432\n",
       "271590    29585\n",
       "          ...  \n",
       "550440        1\n",
       "697860        1\n",
       "36900         1\n",
       "654600        1\n",
       "724640        1\n",
       "Name: product_id, Length: 14970, dtype: int64"
      ]
     },
     "execution_count": 16,
     "metadata": {},
     "output_type": "execute_result"
    }
   ],
   "source": [
    "# Investigo como estan distribuidos los reviews de los juegos por su 'product_id'.\n",
    "# Haciendo esto logro separar los juegos que mayor info tengan.\n",
    "data_reviews['product_id'].value_counts()"
   ]
  },
  {
   "cell_type": "code",
   "execution_count": 17,
   "id": "121ebaa5-da43-42a1-9795-81c63e70d0b3",
   "metadata": {},
   "outputs": [
    {
     "data": {
      "text/plain": [
       "123                         1056\n",
       "Alex                         926\n",
       "Chris                        742\n",
       "Nick                         699\n",
       "Tom                          660\n",
       "                            ... \n",
       "George The Sofa                1\n",
       "Sawed Off - P250 Origami       1\n",
       "Crip Daddy                     1\n",
       "DoctorRuckus                   1\n",
       "Deez Knees                     1\n",
       "Name: username, Length: 1716724, dtype: int64"
      ]
     },
     "execution_count": 17,
     "metadata": {},
     "output_type": "execute_result"
    }
   ],
   "source": [
    "# Ahora voy a ver la cantidad de reviews que hay y cuantas realizó cada usuario\n",
    "data_reviews['username'].value_counts()"
   ]
  },
  {
   "cell_type": "code",
   "execution_count": 18,
   "id": "0f493019-540f-42fc-8fdf-9a5e484a8b7c",
   "metadata": {},
   "outputs": [],
   "source": [
    "# Dropeamos los duplicados\n",
    "data_reviews.drop_duplicates(inplace=True, ignore_index=True)"
   ]
  },
  {
   "cell_type": "code",
   "execution_count": 19,
   "id": "b4eff05c-84f4-4e81-9ee4-2fab4631f4c4",
   "metadata": {},
   "outputs": [
    {
     "data": {
      "text/plain": [
       "(3681082, 5)"
      ]
     },
     "execution_count": 19,
     "metadata": {},
     "output_type": "execute_result"
    }
   ],
   "source": [
    "# Volvemos a ver como quedó.\n",
    "data_reviews.shape"
   ]
  },
  {
   "cell_type": "code",
   "execution_count": 20,
   "id": "0427b1cc-af5a-46f1-b41d-2f683ae4bf7d",
   "metadata": {},
   "outputs": [
    {
     "data": {
      "text/plain": [
       "username          0\n",
       "hours         13079\n",
       "product_id        0\n",
       "date              0\n",
       "text              0\n",
       "dtype: int64"
      ]
     },
     "execution_count": 20,
     "metadata": {},
     "output_type": "execute_result"
    }
   ],
   "source": [
    "data_reviews.isna().sum()"
   ]
  },
  {
   "cell_type": "markdown",
   "id": "8efba14b-1fdf-4016-9972-6096752bf2ec",
   "metadata": {},
   "source": [
    "### Horas Faltantes\n",
    "\n",
    "##### Las horas faltantes representan el 0.37 del total de datos del dataframe, por lo tanto, procedo a calcular el promedio de cada usuario"
   ]
  },
  {
   "cell_type": "code",
   "execution_count": 21,
   "id": "4238865b-199f-4e5c-b2eb-830b31a1348d",
   "metadata": {},
   "outputs": [
    {
     "data": {
      "text/plain": [
       "Index(['username', 'hours', 'product_id', 'date', 'text'], dtype='object')"
      ]
     },
     "execution_count": 21,
     "metadata": {},
     "output_type": "execute_result"
    }
   ],
   "source": [
    "data_reviews.columns"
   ]
  },
  {
   "cell_type": "code",
   "execution_count": 22,
   "id": "e1ee8421-ba19-41ce-8d53-55de2f07d461",
   "metadata": {},
   "outputs": [],
   "source": [
    "ordinalCategories = OrdinalEncoder(dtype=int).fit_transform(data_reviews[['username', 'product_id']])\n",
    "X = np.c_[ordinalCategories, data_reviews.hours]\n",
    "                                                            \n",
    "data_imputed = IterativeImputer(random_state=42).fit_transform(X)"
   ]
  },
  {
   "cell_type": "code",
   "execution_count": 23,
   "id": "c38efebb-f617-4770-996a-e3611dbfc8d2",
   "metadata": {},
   "outputs": [],
   "source": [
    "# Reemplazo valores imputados\n",
    "data_reviews.hours = data_imputed[:,2]"
   ]
  },
  {
   "cell_type": "code",
   "execution_count": 24,
   "id": "c4c3f70e-bb14-45a0-9663-cb7a740f34a3",
   "metadata": {
    "tags": []
   },
   "outputs": [
    {
     "data": {
      "text/plain": [
       "username      0\n",
       "hours         0\n",
       "product_id    0\n",
       "date          0\n",
       "text          0\n",
       "dtype: int64"
      ]
     },
     "execution_count": 24,
     "metadata": {},
     "output_type": "execute_result"
    }
   ],
   "source": [
    "data_reviews.isna().sum()"
   ]
  },
  {
   "cell_type": "code",
   "execution_count": 25,
   "id": "6a9cd932-6fab-4f05-ba2b-88102562be50",
   "metadata": {},
   "outputs": [
    {
     "data": {
      "text/plain": [
       "(3681082, 5)"
      ]
     },
     "execution_count": 25,
     "metadata": {},
     "output_type": "execute_result"
    }
   ],
   "source": [
    "data_reviews.shape"
   ]
  },
  {
   "cell_type": "code",
   "execution_count": 26,
   "id": "701c3069-3681-4d18-b6e3-885d9eefe8a8",
   "metadata": {},
   "outputs": [],
   "source": [
    "# Guardo el archivo usado y lo guardo aparte, para quedarme solo con la info que creo necesaria en un .csv\n",
    "if True:\n",
    "    data_reviews.to_csv('data_reviews.csv', index= False)"
   ]
  },
  {
   "cell_type": "markdown",
   "id": "46d0f8d2-d028-4d80-96c0-3b0b00e7a468",
   "metadata": {},
   "source": [
    "#### Preprocesamiento de Games"
   ]
  },
  {
   "cell_type": "code",
   "execution_count": 27,
   "id": "6c49dbcb-e5c1-4aba-baac-1c93e3b58c37",
   "metadata": {
    "tags": []
   },
   "outputs": [],
   "source": [
    "# Cargamos el dataset de juegos. Al haber menos juegos, utilizo toda su totalidad.\n",
    "\n",
    "data_games = []\n",
    "for l in parse('steam_games.json.gz'):\n",
    "    data_games.append(l)\n",
    "data_games = pd.DataFrame(data_games)"
   ]
  },
  {
   "cell_type": "code",
   "execution_count": 28,
   "id": "2d206f1c-78dd-4373-bc11-c2cd83a90984",
   "metadata": {
    "tags": []
   },
   "outputs": [
    {
     "data": {
      "text/html": [
       "<div>\n",
       "<style scoped>\n",
       "    .dataframe tbody tr th:only-of-type {\n",
       "        vertical-align: middle;\n",
       "    }\n",
       "\n",
       "    .dataframe tbody tr th {\n",
       "        vertical-align: top;\n",
       "    }\n",
       "\n",
       "    .dataframe thead th {\n",
       "        text-align: right;\n",
       "    }\n",
       "</style>\n",
       "<table border=\"1\" class=\"dataframe\">\n",
       "  <thead>\n",
       "    <tr style=\"text-align: right;\">\n",
       "      <th></th>\n",
       "      <th>publisher</th>\n",
       "      <th>genres</th>\n",
       "      <th>app_name</th>\n",
       "      <th>title</th>\n",
       "      <th>url</th>\n",
       "      <th>release_date</th>\n",
       "      <th>tags</th>\n",
       "      <th>discount_price</th>\n",
       "      <th>reviews_url</th>\n",
       "      <th>specs</th>\n",
       "      <th>price</th>\n",
       "      <th>early_access</th>\n",
       "      <th>id</th>\n",
       "      <th>developer</th>\n",
       "      <th>sentiment</th>\n",
       "      <th>metascore</th>\n",
       "    </tr>\n",
       "  </thead>\n",
       "  <tbody>\n",
       "    <tr>\n",
       "      <th>0</th>\n",
       "      <td>Kotoshiro</td>\n",
       "      <td>[Action, Casual, Indie, Simulation, Strategy]</td>\n",
       "      <td>Lost Summoner Kitty</td>\n",
       "      <td>Lost Summoner Kitty</td>\n",
       "      <td>http://store.steampowered.com/app/761140/Lost_...</td>\n",
       "      <td>2018-01-04</td>\n",
       "      <td>[Strategy, Action, Indie, Casual, Simulation]</td>\n",
       "      <td>4.49</td>\n",
       "      <td>http://steamcommunity.com/app/761140/reviews/?...</td>\n",
       "      <td>[Single-player]</td>\n",
       "      <td>4.99</td>\n",
       "      <td>False</td>\n",
       "      <td>761140</td>\n",
       "      <td>Kotoshiro</td>\n",
       "      <td>NaN</td>\n",
       "      <td>NaN</td>\n",
       "    </tr>\n",
       "    <tr>\n",
       "      <th>1</th>\n",
       "      <td>Making Fun, Inc.</td>\n",
       "      <td>[Free to Play, Indie, RPG, Strategy]</td>\n",
       "      <td>Ironbound</td>\n",
       "      <td>Ironbound</td>\n",
       "      <td>http://store.steampowered.com/app/643980/Ironb...</td>\n",
       "      <td>2018-01-04</td>\n",
       "      <td>[Free to Play, Strategy, Indie, RPG, Card Game...</td>\n",
       "      <td>NaN</td>\n",
       "      <td>http://steamcommunity.com/app/643980/reviews/?...</td>\n",
       "      <td>[Single-player, Multi-player, Online Multi-Pla...</td>\n",
       "      <td>Free To Play</td>\n",
       "      <td>False</td>\n",
       "      <td>643980</td>\n",
       "      <td>Secret Level SRL</td>\n",
       "      <td>Mostly Positive</td>\n",
       "      <td>NaN</td>\n",
       "    </tr>\n",
       "    <tr>\n",
       "      <th>2</th>\n",
       "      <td>Poolians.com</td>\n",
       "      <td>[Casual, Free to Play, Indie, Simulation, Sports]</td>\n",
       "      <td>Real Pool 3D - Poolians</td>\n",
       "      <td>Real Pool 3D - Poolians</td>\n",
       "      <td>http://store.steampowered.com/app/670290/Real_...</td>\n",
       "      <td>2017-07-24</td>\n",
       "      <td>[Free to Play, Simulation, Sports, Casual, Ind...</td>\n",
       "      <td>NaN</td>\n",
       "      <td>http://steamcommunity.com/app/670290/reviews/?...</td>\n",
       "      <td>[Single-player, Multi-player, Online Multi-Pla...</td>\n",
       "      <td>Free to Play</td>\n",
       "      <td>False</td>\n",
       "      <td>670290</td>\n",
       "      <td>Poolians.com</td>\n",
       "      <td>Mostly Positive</td>\n",
       "      <td>NaN</td>\n",
       "    </tr>\n",
       "    <tr>\n",
       "      <th>3</th>\n",
       "      <td>彼岸领域</td>\n",
       "      <td>[Action, Adventure, Casual]</td>\n",
       "      <td>弹炸人2222</td>\n",
       "      <td>弹炸人2222</td>\n",
       "      <td>http://store.steampowered.com/app/767400/2222/</td>\n",
       "      <td>2017-12-07</td>\n",
       "      <td>[Action, Adventure, Casual]</td>\n",
       "      <td>0.83</td>\n",
       "      <td>http://steamcommunity.com/app/767400/reviews/?...</td>\n",
       "      <td>[Single-player]</td>\n",
       "      <td>0.99</td>\n",
       "      <td>False</td>\n",
       "      <td>767400</td>\n",
       "      <td>彼岸领域</td>\n",
       "      <td>NaN</td>\n",
       "      <td>NaN</td>\n",
       "    </tr>\n",
       "    <tr>\n",
       "      <th>4</th>\n",
       "      <td>NaN</td>\n",
       "      <td>NaN</td>\n",
       "      <td>Log Challenge</td>\n",
       "      <td>NaN</td>\n",
       "      <td>http://store.steampowered.com/app/773570/Log_C...</td>\n",
       "      <td>NaN</td>\n",
       "      <td>[Action, Indie, Casual, Sports]</td>\n",
       "      <td>1.79</td>\n",
       "      <td>http://steamcommunity.com/app/773570/reviews/?...</td>\n",
       "      <td>[Single-player, Full controller support, HTC V...</td>\n",
       "      <td>2.99</td>\n",
       "      <td>False</td>\n",
       "      <td>773570</td>\n",
       "      <td>NaN</td>\n",
       "      <td>NaN</td>\n",
       "      <td>NaN</td>\n",
       "    </tr>\n",
       "  </tbody>\n",
       "</table>\n",
       "</div>"
      ],
      "text/plain": [
       "          publisher                                             genres  \\\n",
       "0         Kotoshiro      [Action, Casual, Indie, Simulation, Strategy]   \n",
       "1  Making Fun, Inc.               [Free to Play, Indie, RPG, Strategy]   \n",
       "2      Poolians.com  [Casual, Free to Play, Indie, Simulation, Sports]   \n",
       "3              彼岸领域                        [Action, Adventure, Casual]   \n",
       "4               NaN                                                NaN   \n",
       "\n",
       "                  app_name                    title  \\\n",
       "0      Lost Summoner Kitty      Lost Summoner Kitty   \n",
       "1                Ironbound                Ironbound   \n",
       "2  Real Pool 3D - Poolians  Real Pool 3D - Poolians   \n",
       "3                  弹炸人2222                  弹炸人2222   \n",
       "4            Log Challenge                      NaN   \n",
       "\n",
       "                                                 url release_date  \\\n",
       "0  http://store.steampowered.com/app/761140/Lost_...   2018-01-04   \n",
       "1  http://store.steampowered.com/app/643980/Ironb...   2018-01-04   \n",
       "2  http://store.steampowered.com/app/670290/Real_...   2017-07-24   \n",
       "3     http://store.steampowered.com/app/767400/2222/   2017-12-07   \n",
       "4  http://store.steampowered.com/app/773570/Log_C...          NaN   \n",
       "\n",
       "                                                tags  discount_price  \\\n",
       "0      [Strategy, Action, Indie, Casual, Simulation]            4.49   \n",
       "1  [Free to Play, Strategy, Indie, RPG, Card Game...             NaN   \n",
       "2  [Free to Play, Simulation, Sports, Casual, Ind...             NaN   \n",
       "3                        [Action, Adventure, Casual]            0.83   \n",
       "4                    [Action, Indie, Casual, Sports]            1.79   \n",
       "\n",
       "                                         reviews_url  \\\n",
       "0  http://steamcommunity.com/app/761140/reviews/?...   \n",
       "1  http://steamcommunity.com/app/643980/reviews/?...   \n",
       "2  http://steamcommunity.com/app/670290/reviews/?...   \n",
       "3  http://steamcommunity.com/app/767400/reviews/?...   \n",
       "4  http://steamcommunity.com/app/773570/reviews/?...   \n",
       "\n",
       "                                               specs         price  \\\n",
       "0                                    [Single-player]          4.99   \n",
       "1  [Single-player, Multi-player, Online Multi-Pla...  Free To Play   \n",
       "2  [Single-player, Multi-player, Online Multi-Pla...  Free to Play   \n",
       "3                                    [Single-player]          0.99   \n",
       "4  [Single-player, Full controller support, HTC V...          2.99   \n",
       "\n",
       "   early_access      id         developer        sentiment metascore  \n",
       "0         False  761140         Kotoshiro              NaN       NaN  \n",
       "1         False  643980  Secret Level SRL  Mostly Positive       NaN  \n",
       "2         False  670290      Poolians.com  Mostly Positive       NaN  \n",
       "3         False  767400              彼岸领域              NaN       NaN  \n",
       "4         False  773570               NaN              NaN       NaN  "
      ]
     },
     "execution_count": 28,
     "metadata": {},
     "output_type": "execute_result"
    }
   ],
   "source": [
    "data_games.head()"
   ]
  },
  {
   "cell_type": "code",
   "execution_count": 29,
   "id": "955c0896-45d0-4936-9b25-090e59a0a880",
   "metadata": {
    "tags": []
   },
   "outputs": [
    {
     "data": {
      "text/html": [
       "<div>\n",
       "<style scoped>\n",
       "    .dataframe tbody tr th:only-of-type {\n",
       "        vertical-align: middle;\n",
       "    }\n",
       "\n",
       "    .dataframe tbody tr th {\n",
       "        vertical-align: top;\n",
       "    }\n",
       "\n",
       "    .dataframe thead th {\n",
       "        text-align: right;\n",
       "    }\n",
       "</style>\n",
       "<table border=\"1\" class=\"dataframe\">\n",
       "  <thead>\n",
       "    <tr style=\"text-align: right;\">\n",
       "      <th></th>\n",
       "      <th>publisher</th>\n",
       "      <th>genres</th>\n",
       "      <th>app_name</th>\n",
       "      <th>title</th>\n",
       "      <th>url</th>\n",
       "      <th>release_date</th>\n",
       "      <th>tags</th>\n",
       "      <th>discount_price</th>\n",
       "      <th>reviews_url</th>\n",
       "      <th>specs</th>\n",
       "      <th>price</th>\n",
       "      <th>early_access</th>\n",
       "      <th>id</th>\n",
       "      <th>developer</th>\n",
       "      <th>sentiment</th>\n",
       "      <th>metascore</th>\n",
       "    </tr>\n",
       "  </thead>\n",
       "  <tbody>\n",
       "    <tr>\n",
       "      <th>31617</th>\n",
       "      <td>Warner Bros. Interactive Entertainment, Feral ...</td>\n",
       "      <td>[Action, Adventure]</td>\n",
       "      <td>Batman: Arkham Asylum Game of the Year Edition</td>\n",
       "      <td>Batman: Arkham Asylum Game of the Year Edition</td>\n",
       "      <td>http://store.steampowered.com/app/35140/Batman...</td>\n",
       "      <td>2010-03-26</td>\n",
       "      <td>[Action, Batman, Stealth, Adventure, Third Per...</td>\n",
       "      <td>NaN</td>\n",
       "      <td>http://steamcommunity.com/app/35140/reviews/?b...</td>\n",
       "      <td>[Single-player, Steam Achievements, Steam Trad...</td>\n",
       "      <td>19.99</td>\n",
       "      <td>False</td>\n",
       "      <td>35140</td>\n",
       "      <td>Rocksteady Studios,Feral Interactive (Mac)</td>\n",
       "      <td>Overwhelmingly Positive</td>\n",
       "      <td>91</td>\n",
       "    </tr>\n",
       "  </tbody>\n",
       "</table>\n",
       "</div>"
      ],
      "text/plain": [
       "                                               publisher               genres  \\\n",
       "31617  Warner Bros. Interactive Entertainment, Feral ...  [Action, Adventure]   \n",
       "\n",
       "                                             app_name  \\\n",
       "31617  Batman: Arkham Asylum Game of the Year Edition   \n",
       "\n",
       "                                                title  \\\n",
       "31617  Batman: Arkham Asylum Game of the Year Edition   \n",
       "\n",
       "                                                     url release_date  \\\n",
       "31617  http://store.steampowered.com/app/35140/Batman...   2010-03-26   \n",
       "\n",
       "                                                    tags  discount_price  \\\n",
       "31617  [Action, Batman, Stealth, Adventure, Third Per...             NaN   \n",
       "\n",
       "                                             reviews_url  \\\n",
       "31617  http://steamcommunity.com/app/35140/reviews/?b...   \n",
       "\n",
       "                                                   specs  price  early_access  \\\n",
       "31617  [Single-player, Steam Achievements, Steam Trad...  19.99         False   \n",
       "\n",
       "          id                                   developer  \\\n",
       "31617  35140  Rocksteady Studios,Feral Interactive (Mac)   \n",
       "\n",
       "                     sentiment metascore  \n",
       "31617  Overwhelmingly Positive        91  "
      ]
     },
     "execution_count": 29,
     "metadata": {},
     "output_type": "execute_result"
    }
   ],
   "source": [
    "data_games[data_games.id == '35140']\n",
    "#print(data_games.shape)"
   ]
  },
  {
   "cell_type": "code",
   "execution_count": 30,
   "id": "59f842ed-01b7-4ce9-b2b3-ef0c4176c87c",
   "metadata": {},
   "outputs": [],
   "source": [
    "# Dejo las columnas que considero importantes, dropeando las restantes\n",
    "\n",
    "data_games.drop(columns=['title', 'discount_price', 'reviews_url',\n",
    "                         'early_access', 'developer', 'sentiment', 'metascore'], inplace=True)\n",
    "data_games1= pd.DataFrame(data_games, columns=['genres','app_name','release_date','tags','specs','price','id','publisher', 'url'])"
   ]
  },
  {
   "cell_type": "code",
   "execution_count": 31,
   "id": "109fdb4e-e5aa-471f-9a4d-a016e6c2251f",
   "metadata": {},
   "outputs": [
    {
     "name": "stdout",
     "output_type": "stream",
     "text": [
      "(32135, 9)\n"
     ]
    },
    {
     "data": {
      "text/html": [
       "<div>\n",
       "<style scoped>\n",
       "    .dataframe tbody tr th:only-of-type {\n",
       "        vertical-align: middle;\n",
       "    }\n",
       "\n",
       "    .dataframe tbody tr th {\n",
       "        vertical-align: top;\n",
       "    }\n",
       "\n",
       "    .dataframe thead th {\n",
       "        text-align: right;\n",
       "    }\n",
       "</style>\n",
       "<table border=\"1\" class=\"dataframe\">\n",
       "  <thead>\n",
       "    <tr style=\"text-align: right;\">\n",
       "      <th></th>\n",
       "      <th>genres</th>\n",
       "      <th>app_name</th>\n",
       "      <th>release_date</th>\n",
       "      <th>tags</th>\n",
       "      <th>specs</th>\n",
       "      <th>price</th>\n",
       "      <th>id</th>\n",
       "      <th>publisher</th>\n",
       "      <th>url</th>\n",
       "    </tr>\n",
       "  </thead>\n",
       "  <tbody>\n",
       "    <tr>\n",
       "      <th>0</th>\n",
       "      <td>[Action, Casual, Indie, Simulation, Strategy]</td>\n",
       "      <td>Lost Summoner Kitty</td>\n",
       "      <td>2018-01-04</td>\n",
       "      <td>[Strategy, Action, Indie, Casual, Simulation]</td>\n",
       "      <td>[Single-player]</td>\n",
       "      <td>4.99</td>\n",
       "      <td>761140</td>\n",
       "      <td>Kotoshiro</td>\n",
       "      <td>http://store.steampowered.com/app/761140/Lost_...</td>\n",
       "    </tr>\n",
       "    <tr>\n",
       "      <th>1</th>\n",
       "      <td>[Free to Play, Indie, RPG, Strategy]</td>\n",
       "      <td>Ironbound</td>\n",
       "      <td>2018-01-04</td>\n",
       "      <td>[Free to Play, Strategy, Indie, RPG, Card Game...</td>\n",
       "      <td>[Single-player, Multi-player, Online Multi-Pla...</td>\n",
       "      <td>Free To Play</td>\n",
       "      <td>643980</td>\n",
       "      <td>Making Fun, Inc.</td>\n",
       "      <td>http://store.steampowered.com/app/643980/Ironb...</td>\n",
       "    </tr>\n",
       "    <tr>\n",
       "      <th>2</th>\n",
       "      <td>[Casual, Free to Play, Indie, Simulation, Sports]</td>\n",
       "      <td>Real Pool 3D - Poolians</td>\n",
       "      <td>2017-07-24</td>\n",
       "      <td>[Free to Play, Simulation, Sports, Casual, Ind...</td>\n",
       "      <td>[Single-player, Multi-player, Online Multi-Pla...</td>\n",
       "      <td>Free to Play</td>\n",
       "      <td>670290</td>\n",
       "      <td>Poolians.com</td>\n",
       "      <td>http://store.steampowered.com/app/670290/Real_...</td>\n",
       "    </tr>\n",
       "    <tr>\n",
       "      <th>3</th>\n",
       "      <td>[Action, Adventure, Casual]</td>\n",
       "      <td>弹炸人2222</td>\n",
       "      <td>2017-12-07</td>\n",
       "      <td>[Action, Adventure, Casual]</td>\n",
       "      <td>[Single-player]</td>\n",
       "      <td>0.99</td>\n",
       "      <td>767400</td>\n",
       "      <td>彼岸领域</td>\n",
       "      <td>http://store.steampowered.com/app/767400/2222/</td>\n",
       "    </tr>\n",
       "    <tr>\n",
       "      <th>4</th>\n",
       "      <td>NaN</td>\n",
       "      <td>Log Challenge</td>\n",
       "      <td>NaN</td>\n",
       "      <td>[Action, Indie, Casual, Sports]</td>\n",
       "      <td>[Single-player, Full controller support, HTC V...</td>\n",
       "      <td>2.99</td>\n",
       "      <td>773570</td>\n",
       "      <td>NaN</td>\n",
       "      <td>http://store.steampowered.com/app/773570/Log_C...</td>\n",
       "    </tr>\n",
       "  </tbody>\n",
       "</table>\n",
       "</div>"
      ],
      "text/plain": [
       "                                              genres                 app_name  \\\n",
       "0      [Action, Casual, Indie, Simulation, Strategy]      Lost Summoner Kitty   \n",
       "1               [Free to Play, Indie, RPG, Strategy]                Ironbound   \n",
       "2  [Casual, Free to Play, Indie, Simulation, Sports]  Real Pool 3D - Poolians   \n",
       "3                        [Action, Adventure, Casual]                  弹炸人2222   \n",
       "4                                                NaN            Log Challenge   \n",
       "\n",
       "  release_date                                               tags  \\\n",
       "0   2018-01-04      [Strategy, Action, Indie, Casual, Simulation]   \n",
       "1   2018-01-04  [Free to Play, Strategy, Indie, RPG, Card Game...   \n",
       "2   2017-07-24  [Free to Play, Simulation, Sports, Casual, Ind...   \n",
       "3   2017-12-07                        [Action, Adventure, Casual]   \n",
       "4          NaN                    [Action, Indie, Casual, Sports]   \n",
       "\n",
       "                                               specs         price      id  \\\n",
       "0                                    [Single-player]          4.99  761140   \n",
       "1  [Single-player, Multi-player, Online Multi-Pla...  Free To Play  643980   \n",
       "2  [Single-player, Multi-player, Online Multi-Pla...  Free to Play  670290   \n",
       "3                                    [Single-player]          0.99  767400   \n",
       "4  [Single-player, Full controller support, HTC V...          2.99  773570   \n",
       "\n",
       "          publisher                                                url  \n",
       "0         Kotoshiro  http://store.steampowered.com/app/761140/Lost_...  \n",
       "1  Making Fun, Inc.  http://store.steampowered.com/app/643980/Ironb...  \n",
       "2      Poolians.com  http://store.steampowered.com/app/670290/Real_...  \n",
       "3              彼岸领域     http://store.steampowered.com/app/767400/2222/  \n",
       "4               NaN  http://store.steampowered.com/app/773570/Log_C...  "
      ]
     },
     "execution_count": 31,
     "metadata": {},
     "output_type": "execute_result"
    }
   ],
   "source": [
    "print(data_games1.shape)\n",
    "data_games1.head()"
   ]
  },
  {
   "cell_type": "markdown",
   "id": "2b4f16bd-2f0f-4ec7-b3e3-4fc3f17e7a49",
   "metadata": {},
   "source": [
    "###### Así podemos ver cuales son los datos que contiene cada columna. En orden de, 'género', 'fecha de lanzamiento', 'etiquetas', etc."
   ]
  },
  {
   "cell_type": "code",
   "execution_count": 32,
   "id": "bf3eaf15-e1ff-407c-8e06-d1d85e217f73",
   "metadata": {},
   "outputs": [
    {
     "data": {
      "text/plain": [
       "genres          object\n",
       "app_name        object\n",
       "release_date    object\n",
       "tags            object\n",
       "specs           object\n",
       "price           object\n",
       "id              object\n",
       "publisher       object\n",
       "url             object\n",
       "dtype: object"
      ]
     },
     "execution_count": 32,
     "metadata": {},
     "output_type": "execute_result"
    }
   ],
   "source": [
    "# Hacemos dtypes para saber que tipos de datos posee\n",
    "data_games1.dtypes"
   ]
  },
  {
   "cell_type": "markdown",
   "id": "928b2271-09b3-4caa-a528-6316746a564a",
   "metadata": {},
   "source": [
    "### Transform"
   ]
  },
  {
   "cell_type": "code",
   "execution_count": 33,
   "id": "41ec9311-8637-4d1d-bc85-4c3f137b4ba6",
   "metadata": {},
   "outputs": [
    {
     "data": {
      "text/plain": [
       "genres          3283\n",
       "app_name           2\n",
       "release_date    2067\n",
       "tags             163\n",
       "specs            670\n",
       "price           1377\n",
       "id                 2\n",
       "publisher       8052\n",
       "url                0\n",
       "dtype: int64"
      ]
     },
     "execution_count": 33,
     "metadata": {},
     "output_type": "execute_result"
    }
   ],
   "source": [
    "# Me hago con la cantidad de datos faltantes (porcentuales) de cada\n",
    "# columna con el fin de determinar las más relevantes. Los restantes,\n",
    "# tendrán una importancia relativa.\n",
    "data_games1.isna().sum()"
   ]
  },
  {
   "cell_type": "code",
   "execution_count": 34,
   "id": "0b36d3b6-9f68-4f1b-a563-c0cfc216404c",
   "metadata": {},
   "outputs": [
    {
     "data": {
      "text/html": [
       "<div>\n",
       "<style scoped>\n",
       "    .dataframe tbody tr th:only-of-type {\n",
       "        vertical-align: middle;\n",
       "    }\n",
       "\n",
       "    .dataframe tbody tr th {\n",
       "        vertical-align: top;\n",
       "    }\n",
       "\n",
       "    .dataframe thead th {\n",
       "        text-align: right;\n",
       "    }\n",
       "</style>\n",
       "<table border=\"1\" class=\"dataframe\">\n",
       "  <thead>\n",
       "    <tr style=\"text-align: right;\">\n",
       "      <th></th>\n",
       "      <th>genres</th>\n",
       "      <th>app_name</th>\n",
       "      <th>release_date</th>\n",
       "      <th>tags</th>\n",
       "      <th>specs</th>\n",
       "      <th>price</th>\n",
       "      <th>id</th>\n",
       "      <th>publisher</th>\n",
       "      <th>url</th>\n",
       "    </tr>\n",
       "  </thead>\n",
       "  <tbody>\n",
       "    <tr>\n",
       "      <th>74</th>\n",
       "      <td>NaN</td>\n",
       "      <td>NaN</td>\n",
       "      <td>NaN</td>\n",
       "      <td>NaN</td>\n",
       "      <td>NaN</td>\n",
       "      <td>19.99</td>\n",
       "      <td>NaN</td>\n",
       "      <td>NaN</td>\n",
       "      <td>http://store.steampowered.com/</td>\n",
       "    </tr>\n",
       "    <tr>\n",
       "      <th>2580</th>\n",
       "      <td>[Action, Indie]</td>\n",
       "      <td>NaN</td>\n",
       "      <td>2014-08-26</td>\n",
       "      <td>[Action, Indie]</td>\n",
       "      <td>[Single-player, Game demo]</td>\n",
       "      <td>NaN</td>\n",
       "      <td>317160</td>\n",
       "      <td>NaN</td>\n",
       "      <td>http://store.steampowered.com/app/317160/_/</td>\n",
       "    </tr>\n",
       "  </tbody>\n",
       "</table>\n",
       "</div>"
      ],
      "text/plain": [
       "               genres app_name release_date             tags  \\\n",
       "74                NaN      NaN          NaN              NaN   \n",
       "2580  [Action, Indie]      NaN   2014-08-26  [Action, Indie]   \n",
       "\n",
       "                           specs  price      id publisher  \\\n",
       "74                           NaN  19.99     NaN       NaN   \n",
       "2580  [Single-player, Game demo]    NaN  317160       NaN   \n",
       "\n",
       "                                              url  \n",
       "74                 http://store.steampowered.com/  \n",
       "2580  http://store.steampowered.com/app/317160/_/  "
      ]
     },
     "execution_count": 34,
     "metadata": {},
     "output_type": "execute_result"
    }
   ],
   "source": [
    "# Videojuegos con nombres faltantes\n",
    "data_games1[data_games1.app_name.isna()]"
   ]
  },
  {
   "cell_type": "code",
   "execution_count": 35,
   "id": "3fb7b8e5-1412-4a16-aecb-ded361982d91",
   "metadata": {},
   "outputs": [
    {
     "data": {
      "text/html": [
       "<div>\n",
       "<style scoped>\n",
       "    .dataframe tbody tr th:only-of-type {\n",
       "        vertical-align: middle;\n",
       "    }\n",
       "\n",
       "    .dataframe tbody tr th {\n",
       "        vertical-align: top;\n",
       "    }\n",
       "\n",
       "    .dataframe thead th {\n",
       "        text-align: right;\n",
       "    }\n",
       "</style>\n",
       "<table border=\"1\" class=\"dataframe\">\n",
       "  <thead>\n",
       "    <tr style=\"text-align: right;\">\n",
       "      <th></th>\n",
       "      <th>genres</th>\n",
       "      <th>app_name</th>\n",
       "      <th>release_date</th>\n",
       "      <th>tags</th>\n",
       "      <th>specs</th>\n",
       "      <th>price</th>\n",
       "      <th>id</th>\n",
       "      <th>publisher</th>\n",
       "      <th>url</th>\n",
       "    </tr>\n",
       "  </thead>\n",
       "  <tbody>\n",
       "    <tr>\n",
       "      <th>13894</th>\n",
       "      <td>[Action]</td>\n",
       "      <td>Wolfenstein II: The New Colossus</td>\n",
       "      <td>2017-10-26</td>\n",
       "      <td>[Action, FPS, Gore, Violent, Alternate History...</td>\n",
       "      <td>[Single-player, Steam Achievements, Full contr...</td>\n",
       "      <td>59.99</td>\n",
       "      <td>612880</td>\n",
       "      <td>Bethesda Softworks</td>\n",
       "      <td>http://store.steampowered.com/app/612880/</td>\n",
       "    </tr>\n",
       "    <tr>\n",
       "      <th>14573</th>\n",
       "      <td>[Action]</td>\n",
       "      <td>Wolfenstein II: The New Colossus</td>\n",
       "      <td>2017-10-26</td>\n",
       "      <td>[Action, FPS, Gore, Violent, Alternate History...</td>\n",
       "      <td>[Single-player, Steam Achievements, Full contr...</td>\n",
       "      <td>59.99</td>\n",
       "      <td>612880</td>\n",
       "      <td>Bethesda Softworks</td>\n",
       "      <td>http://store.steampowered.com/app/612880/Wolfe...</td>\n",
       "    </tr>\n",
       "    <tr>\n",
       "      <th>30961</th>\n",
       "      <td>[Action, Adventure]</td>\n",
       "      <td>Batman: Arkham City - Game of the Year Edition</td>\n",
       "      <td>2012-09-07</td>\n",
       "      <td>[Action, Open World, Batman, Adventure, Stealt...</td>\n",
       "      <td>[Single-player, Steam Achievements, Steam Trad...</td>\n",
       "      <td>19.99</td>\n",
       "      <td>NaN</td>\n",
       "      <td>Warner Bros. Interactive Entertainment, Feral ...</td>\n",
       "      <td>http://store.steampowered.com/app/200260</td>\n",
       "    </tr>\n",
       "    <tr>\n",
       "      <th>74</th>\n",
       "      <td>NaN</td>\n",
       "      <td>NaN</td>\n",
       "      <td>NaN</td>\n",
       "      <td>NaN</td>\n",
       "      <td>NaN</td>\n",
       "      <td>19.99</td>\n",
       "      <td>NaN</td>\n",
       "      <td>NaN</td>\n",
       "      <td>http://store.steampowered.com/</td>\n",
       "    </tr>\n",
       "  </tbody>\n",
       "</table>\n",
       "</div>"
      ],
      "text/plain": [
       "                    genres                                        app_name  \\\n",
       "13894             [Action]                Wolfenstein II: The New Colossus   \n",
       "14573             [Action]                Wolfenstein II: The New Colossus   \n",
       "30961  [Action, Adventure]  Batman: Arkham City - Game of the Year Edition   \n",
       "74                     NaN                                             NaN   \n",
       "\n",
       "      release_date                                               tags  \\\n",
       "13894   2017-10-26  [Action, FPS, Gore, Violent, Alternate History...   \n",
       "14573   2017-10-26  [Action, FPS, Gore, Violent, Alternate History...   \n",
       "30961   2012-09-07  [Action, Open World, Batman, Adventure, Stealt...   \n",
       "74             NaN                                                NaN   \n",
       "\n",
       "                                                   specs  price      id  \\\n",
       "13894  [Single-player, Steam Achievements, Full contr...  59.99  612880   \n",
       "14573  [Single-player, Steam Achievements, Full contr...  59.99  612880   \n",
       "30961  [Single-player, Steam Achievements, Steam Trad...  19.99     NaN   \n",
       "74                                                   NaN  19.99     NaN   \n",
       "\n",
       "                                               publisher  \\\n",
       "13894                                 Bethesda Softworks   \n",
       "14573                                 Bethesda Softworks   \n",
       "30961  Warner Bros. Interactive Entertainment, Feral ...   \n",
       "74                                                   NaN   \n",
       "\n",
       "                                                     url  \n",
       "13894          http://store.steampowered.com/app/612880/  \n",
       "14573  http://store.steampowered.com/app/612880/Wolfe...  \n",
       "30961           http://store.steampowered.com/app/200260  \n",
       "74                        http://store.steampowered.com/  "
      ]
     },
     "execution_count": 35,
     "metadata": {},
     "output_type": "execute_result"
    }
   ],
   "source": [
    "# Averiguo si existe algun duplicado dentro del dataset\n",
    "data_games1[data_games1.duplicated(\n",
    "    subset=['id'], keep=False)].sort_values(by='publisher')"
   ]
  },
  {
   "cell_type": "code",
   "execution_count": 36,
   "id": "9c19e11d-ecec-46f9-949d-883b1acfe8b6",
   "metadata": {},
   "outputs": [],
   "source": [
    "# Procedo a eliminarlos\n",
    "data_games1.drop_duplicates(subset=['id'], ignore_index=True, inplace=True)"
   ]
  },
  {
   "cell_type": "code",
   "execution_count": 37,
   "id": "acbddb97-e703-4dd9-99c8-644c1e241a34",
   "metadata": {},
   "outputs": [
    {
     "data": {
      "text/html": [
       "<div>\n",
       "<style scoped>\n",
       "    .dataframe tbody tr th:only-of-type {\n",
       "        vertical-align: middle;\n",
       "    }\n",
       "\n",
       "    .dataframe tbody tr th {\n",
       "        vertical-align: top;\n",
       "    }\n",
       "\n",
       "    .dataframe thead th {\n",
       "        text-align: right;\n",
       "    }\n",
       "</style>\n",
       "<table border=\"1\" class=\"dataframe\">\n",
       "  <thead>\n",
       "    <tr style=\"text-align: right;\">\n",
       "      <th></th>\n",
       "      <th>genres</th>\n",
       "      <th>app_name</th>\n",
       "      <th>release_date</th>\n",
       "      <th>tags</th>\n",
       "      <th>specs</th>\n",
       "      <th>price</th>\n",
       "      <th>id</th>\n",
       "      <th>publisher</th>\n",
       "      <th>url</th>\n",
       "    </tr>\n",
       "  </thead>\n",
       "  <tbody>\n",
       "  </tbody>\n",
       "</table>\n",
       "</div>"
      ],
      "text/plain": [
       "Empty DataFrame\n",
       "Columns: [genres, app_name, release_date, tags, specs, price, id, publisher, url]\n",
       "Index: []"
      ]
     },
     "execution_count": 37,
     "metadata": {},
     "output_type": "execute_result"
    }
   ],
   "source": [
    "data_games1[data_games1.duplicated(\n",
    "    subset=['id'], keep=False)].sort_values(by='publisher')"
   ]
  },
  {
   "cell_type": "code",
   "execution_count": 38,
   "id": "9d462883-8142-4cdb-8209-c63c9420f638",
   "metadata": {},
   "outputs": [
    {
     "data": {
      "text/html": [
       "<div>\n",
       "<style scoped>\n",
       "    .dataframe tbody tr th:only-of-type {\n",
       "        vertical-align: middle;\n",
       "    }\n",
       "\n",
       "    .dataframe tbody tr th {\n",
       "        vertical-align: top;\n",
       "    }\n",
       "\n",
       "    .dataframe thead th {\n",
       "        text-align: right;\n",
       "    }\n",
       "</style>\n",
       "<table border=\"1\" class=\"dataframe\">\n",
       "  <thead>\n",
       "    <tr style=\"text-align: right;\">\n",
       "      <th></th>\n",
       "      <th>genres</th>\n",
       "      <th>app_name</th>\n",
       "      <th>release_date</th>\n",
       "      <th>tags</th>\n",
       "      <th>specs</th>\n",
       "      <th>price</th>\n",
       "      <th>id</th>\n",
       "      <th>publisher</th>\n",
       "      <th>url</th>\n",
       "    </tr>\n",
       "  </thead>\n",
       "  <tbody>\n",
       "    <tr>\n",
       "      <th>74</th>\n",
       "      <td>NaN</td>\n",
       "      <td>NaN</td>\n",
       "      <td>NaN</td>\n",
       "      <td>NaN</td>\n",
       "      <td>NaN</td>\n",
       "      <td>19.99</td>\n",
       "      <td>NaN</td>\n",
       "      <td>NaN</td>\n",
       "      <td>http://store.steampowered.com/</td>\n",
       "    </tr>\n",
       "  </tbody>\n",
       "</table>\n",
       "</div>"
      ],
      "text/plain": [
       "   genres app_name release_date tags specs  price   id publisher  \\\n",
       "74    NaN      NaN          NaN  NaN   NaN  19.99  NaN       NaN   \n",
       "\n",
       "                               url  \n",
       "74  http://store.steampowered.com/  "
      ]
     },
     "execution_count": 38,
     "metadata": {},
     "output_type": "execute_result"
    }
   ],
   "source": [
    "data_games1[data_games1.id.isna()]"
   ]
  },
  {
   "cell_type": "code",
   "execution_count": 39,
   "id": "769d004b-4a56-4ffa-a367-e28c79fc2cc1",
   "metadata": {},
   "outputs": [
    {
     "data": {
      "text/plain": [
       "genres          3283\n",
       "app_name           2\n",
       "release_date    2067\n",
       "tags             163\n",
       "specs            670\n",
       "price           1377\n",
       "id                 1\n",
       "publisher       8052\n",
       "url                0\n",
       "dtype: int64"
      ]
     },
     "execution_count": 39,
     "metadata": {},
     "output_type": "execute_result"
    }
   ],
   "source": [
    "# Cuantos valores faltantes en data_games.isna().sum()\n",
    "data_games1.isna().sum()"
   ]
  },
  {
   "cell_type": "markdown",
   "id": "2e9f2bed-1c9d-4cb7-b9cc-d8a9a4cb2369",
   "metadata": {},
   "source": [
    "###### Me hago con el juego mas popular, necesitando determinar cuantos usuarios lo juegan y su cantidad en horas también por cada uno de ellos."
   ]
  },
  {
   "cell_type": "code",
   "execution_count": 40,
   "id": "1e0977b2-a12e-4e4e-ba8b-d0f51022b001",
   "metadata": {},
   "outputs": [
    {
     "name": "stdout",
     "output_type": "stream",
     "text": [
      "(31862, 9)\n"
     ]
    },
    {
     "name": "stderr",
     "output_type": "stream",
     "text": [
      "/var/folders/jm/b4qb1b4d0sxb54q_z7zylyx00000gp/T/ipykernel_49537/2544320494.py:2: UserWarning: Boolean Series key will be reindexed to match DataFrame index.\n",
      "  data_games1 = data_games1[~isNan_genre_tag]\n"
     ]
    }
   ],
   "source": [
    "isNan_genre_tag = data_games1.genres.isna() & data_games.specs.isna()\n",
    "data_games1 = data_games1[~isNan_genre_tag]\n",
    "print(data_games1.shape)"
   ]
  },
  {
   "cell_type": "code",
   "execution_count": 41,
   "id": "70872642-329e-4f3f-8121-5f7238bd36ce",
   "metadata": {},
   "outputs": [
    {
     "data": {
      "text/plain": [
       "genres          3012\n",
       "app_name           1\n",
       "release_date    2040\n",
       "tags             155\n",
       "specs            437\n",
       "price           1373\n",
       "id                 0\n",
       "publisher       7783\n",
       "url                0\n",
       "dtype: int64"
      ]
     },
     "execution_count": 41,
     "metadata": {},
     "output_type": "execute_result"
    }
   ],
   "source": [
    "data_games1.isna().sum()\n"
   ]
  },
  {
   "cell_type": "markdown",
   "id": "9ceb52db-a42d-4625-80d9-518ecbb3048e",
   "metadata": {},
   "source": [
    "### Filtrado por Categoría"
   ]
  },
  {
   "cell_type": "code",
   "execution_count": 42,
   "id": "52d82262-75df-48be-b3c0-9129cb2de992",
   "metadata": {},
   "outputs": [
    {
     "name": "stdout",
     "output_type": "stream",
     "text": [
      "(31711, 9)\n"
     ]
    }
   ],
   "source": [
    "# Filtro las categorías con valores nulos en 'genres' y 'specs'\n",
    "isNan_genre_tag = data_games1.genres.isna() & data_games1.specs.isna()\n",
    "data_games1 = data_games1[~isNan_genre_tag]\n",
    "print(data_games1.shape)"
   ]
  },
  {
   "cell_type": "code",
   "execution_count": 43,
   "id": "65141bef-992c-4514-8a8f-6c573bd48e79",
   "metadata": {
    "tags": []
   },
   "outputs": [
    {
     "data": {
      "text/plain": [
       "genres          2861\n",
       "app_name           1\n",
       "release_date    2040\n",
       "tags             152\n",
       "specs            286\n",
       "price           1369\n",
       "id                 0\n",
       "publisher       7632\n",
       "url                0\n",
       "dtype: int64"
      ]
     },
     "execution_count": 43,
     "metadata": {},
     "output_type": "execute_result"
    }
   ],
   "source": [
    "data_games1.isna().sum()"
   ]
  },
  {
   "cell_type": "code",
   "execution_count": 44,
   "id": "f8c05685-87fd-4985-b22e-4c69128361a4",
   "metadata": {},
   "outputs": [],
   "source": [
    "# Crearé una lista vacía para rellenar, con los valores faltantes en \n",
    "# 'genres','tags', 'specs', que me van a servir para averiguar la \n",
    "# similitud entre los juegos\n",
    "for col in ['genres', 'tags', 'specs']:\n",
    "    data_games1[col].fillna({i: [] for i in data_games1.index}, inplace=True)"
   ]
  },
  {
   "cell_type": "code",
   "execution_count": 45,
   "id": "331a73ba-058e-48fe-affa-3fed2335683f",
   "metadata": {},
   "outputs": [
    {
     "data": {
      "text/plain": [
       "genres             0\n",
       "app_name           1\n",
       "release_date    2040\n",
       "tags               0\n",
       "specs              0\n",
       "price           1369\n",
       "id                 0\n",
       "publisher       7632\n",
       "url                0\n",
       "dtype: int64"
      ]
     },
     "execution_count": 45,
     "metadata": {},
     "output_type": "execute_result"
    }
   ],
   "source": [
    "data_games1.isna().sum()"
   ]
  },
  {
   "cell_type": "code",
   "execution_count": 46,
   "id": "0036273f-8959-4f26-989f-c1cc77cbcfbf",
   "metadata": {},
   "outputs": [],
   "source": [
    "# Para trabajar con los arrays que encuentro en las columnas 'genres',\n",
    "# 'tags' y 'specs', utilizamos NumPy\n",
    "\n",
    "#Todas las categorías\n",
    "data_games1['categories'] = data_games1['genres'] + data_games1['tags'] + data_games1['specs']"
   ]
  },
  {
   "cell_type": "code",
   "execution_count": 47,
   "id": "aca852cf-8ae8-439f-89d6-294924ca628c",
   "metadata": {},
   "outputs": [
    {
     "data": {
      "text/html": [
       "<div>\n",
       "<style scoped>\n",
       "    .dataframe tbody tr th:only-of-type {\n",
       "        vertical-align: middle;\n",
       "    }\n",
       "\n",
       "    .dataframe tbody tr th {\n",
       "        vertical-align: top;\n",
       "    }\n",
       "\n",
       "    .dataframe thead th {\n",
       "        text-align: right;\n",
       "    }\n",
       "</style>\n",
       "<table border=\"1\" class=\"dataframe\">\n",
       "  <thead>\n",
       "    <tr style=\"text-align: right;\">\n",
       "      <th></th>\n",
       "      <th>genres</th>\n",
       "      <th>app_name</th>\n",
       "      <th>release_date</th>\n",
       "      <th>tags</th>\n",
       "      <th>specs</th>\n",
       "      <th>price</th>\n",
       "      <th>id</th>\n",
       "      <th>publisher</th>\n",
       "      <th>url</th>\n",
       "      <th>categories</th>\n",
       "    </tr>\n",
       "  </thead>\n",
       "  <tbody>\n",
       "    <tr>\n",
       "      <th>0</th>\n",
       "      <td>[Action, Casual, Indie, Simulation, Strategy]</td>\n",
       "      <td>Lost Summoner Kitty</td>\n",
       "      <td>2018-01-04</td>\n",
       "      <td>[Strategy, Action, Indie, Casual, Simulation]</td>\n",
       "      <td>[Single-player]</td>\n",
       "      <td>4.99</td>\n",
       "      <td>761140</td>\n",
       "      <td>Kotoshiro</td>\n",
       "      <td>http://store.steampowered.com/app/761140/Lost_...</td>\n",
       "      <td>[Action, Casual, Indie, Simulation, Strategy, ...</td>\n",
       "    </tr>\n",
       "    <tr>\n",
       "      <th>1</th>\n",
       "      <td>[Free to Play, Indie, RPG, Strategy]</td>\n",
       "      <td>Ironbound</td>\n",
       "      <td>2018-01-04</td>\n",
       "      <td>[Free to Play, Strategy, Indie, RPG, Card Game...</td>\n",
       "      <td>[Single-player, Multi-player, Online Multi-Pla...</td>\n",
       "      <td>Free To Play</td>\n",
       "      <td>643980</td>\n",
       "      <td>Making Fun, Inc.</td>\n",
       "      <td>http://store.steampowered.com/app/643980/Ironb...</td>\n",
       "      <td>[Free to Play, Indie, RPG, Strategy, Free to P...</td>\n",
       "    </tr>\n",
       "  </tbody>\n",
       "</table>\n",
       "</div>"
      ],
      "text/plain": [
       "                                          genres             app_name  \\\n",
       "0  [Action, Casual, Indie, Simulation, Strategy]  Lost Summoner Kitty   \n",
       "1           [Free to Play, Indie, RPG, Strategy]            Ironbound   \n",
       "\n",
       "  release_date                                               tags  \\\n",
       "0   2018-01-04      [Strategy, Action, Indie, Casual, Simulation]   \n",
       "1   2018-01-04  [Free to Play, Strategy, Indie, RPG, Card Game...   \n",
       "\n",
       "                                               specs         price      id  \\\n",
       "0                                    [Single-player]          4.99  761140   \n",
       "1  [Single-player, Multi-player, Online Multi-Pla...  Free To Play  643980   \n",
       "\n",
       "          publisher                                                url  \\\n",
       "0         Kotoshiro  http://store.steampowered.com/app/761140/Lost_...   \n",
       "1  Making Fun, Inc.  http://store.steampowered.com/app/643980/Ironb...   \n",
       "\n",
       "                                          categories  \n",
       "0  [Action, Casual, Indie, Simulation, Strategy, ...  \n",
       "1  [Free to Play, Indie, RPG, Strategy, Free to P...  "
      ]
     },
     "execution_count": 47,
     "metadata": {},
     "output_type": "execute_result"
    }
   ],
   "source": [
    "data_games1.head(2)"
   ]
  },
  {
   "cell_type": "code",
   "execution_count": 48,
   "id": "90d8658a-0b12-4a2d-82fe-3340715fe166",
   "metadata": {},
   "outputs": [
    {
     "data": {
      "text/plain": [
       "array(['1980s', \"1990's\", '2.5D', '2D', '2D Fighter', '360 Video',\n",
       "       '3D Platformer', '3D Vision', '4 Player Local', '4X', '6DOF',\n",
       "       'Abstract', 'Accounting', 'Action', 'Action RPG',\n",
       "       'Action-Adventure', 'Adventure', 'Agriculture', 'Aliens',\n",
       "       'Alternate History', 'America', 'Animation & Modeling',\n",
       "       'Animation &amp; Modeling', 'Anime', 'Arcade', 'Arena Shooter',\n",
       "       'Artificial Intelligence', 'Assassin', 'Asynchronous Multiplayer',\n",
       "       'Atmospheric', 'Audio Production', 'Base Building',\n",
       "       'Based On A Novel', 'Basketball', 'Batman', \"Beat 'em up\",\n",
       "       'Benchmark', 'Bikes', 'Blood', 'Board Game', 'Bowling', 'Building',\n",
       "       'Bullet Hell', 'Bullet Time', 'CRPG', 'Capitalism',\n",
       "       'Captions available', 'Card Game', 'Cartoon', 'Cartoony', 'Casual',\n",
       "       'Character Action Game', 'Character Customization', 'Chess',\n",
       "       'Choices Matter', 'Choose Your Own Adventure', 'Cinematic',\n",
       "       'City Builder', 'Class-Based', 'Classic', 'Clicker', 'Co-op',\n",
       "       'Co-op Campaign', 'Cold War', 'Colorful', 'Comedy', 'Comic Book',\n",
       "       'Commentary available', 'Competitive', 'Conspiracy', 'Controller',\n",
       "       'Conversation', 'Crafting', 'Crime', 'Cross-Platform Multiplayer',\n",
       "       'Crowdfunded', 'Cult Classic', 'Cute', 'Cyberpunk', 'Cycling',\n",
       "       'Dark', 'Dark Comedy', 'Dark Fantasy', 'Dark Humor', 'Dating Sim',\n",
       "       'Demons', 'Design & Illustration', 'Design &amp; Illustration',\n",
       "       'Destruction', 'Detective', 'Difficult', 'Dinosaurs', 'Diplomacy',\n",
       "       'Documentary', 'Downloadable Content', 'Dragons', 'Drama',\n",
       "       'Driving', 'Dungeon Crawler', 'Dynamic Narration', 'Dystopian',\n",
       "       'Early Access', 'Economy', 'Education', 'Episodic', 'Experience',\n",
       "       'Experimental', 'Exploration', 'FMV', 'FPS', 'Faith',\n",
       "       'Family Friendly', 'Fantasy', 'Fast-Paced', 'Feature Film',\n",
       "       'Female Protagonist', 'Fighting', 'First-Person', 'Fishing',\n",
       "       'Flight', 'Football', 'Foreign', 'Free to Play',\n",
       "       'Full controller support', 'Funny', 'Futuristic', 'Gambling',\n",
       "       'Game Development', 'Game demo', 'GameMaker', 'Gamepad',\n",
       "       'Games Workshop', 'Gaming', 'God Game', 'Golf', 'Gore', 'Gothic',\n",
       "       'Grand Strategy', 'Great Soundtrack', 'Grid-Based Movement',\n",
       "       'Gun Customization', 'HTC Vive', 'Hack and Slash', 'Hacking',\n",
       "       'Hand-drawn', 'Hardware', 'Heist', 'Hex Grid', 'Hidden Object',\n",
       "       'Historical', 'Horror', 'Horses', 'Hunting', 'Illuminati',\n",
       "       'In-App Purchases', 'Includes Source SDK', 'Includes level editor',\n",
       "       'Indie', 'Intentionally Awkward Controls', 'Interactive Fiction',\n",
       "       'Inventory Management', 'Investigation', 'Isometric', 'JRPG',\n",
       "       'Keyboard / Mouse', 'Kickstarter', 'LEGO', 'Lara Croft',\n",
       "       'Lemmings', 'Level Editor', 'Linear', 'Local Co-Op', 'Local Co-op',\n",
       "       'Local Multi-Player', 'Local Multiplayer', 'Loot', 'Lore-Rich',\n",
       "       'Lovecraftian', 'MMO', 'MMORPG', 'MOBA', 'Magic', 'Management',\n",
       "       'Mars', 'Martial Arts', 'Massively Multiplayer', 'Match 3',\n",
       "       'Mature', 'Mechs', 'Medieval', 'Memes', 'Metroidvania', 'Military',\n",
       "       'Mini Golf', 'Minimalist', 'Mining', 'Mod', 'Moddable', 'Modern',\n",
       "       'Mods', 'Mods (require HL1)', 'Mods (require HL2)', 'Mouse only',\n",
       "       'Movie', 'Multi-player', 'Multiplayer', 'Multiple Endings',\n",
       "       'Music', 'Music-Based Procedural Generation', 'Mystery',\n",
       "       'Mystery Dungeon', 'Mythology', 'NSFW', 'Narration', 'Naval',\n",
       "       'Ninja', 'Noir', 'Nonlinear', 'Nudity', 'Oculus Rift', 'Offroad',\n",
       "       'On-Rails Shooter', 'Online Co-Op', 'Online Co-op',\n",
       "       'Online Multi-Player', 'Open World', 'Otome', 'Parkour', 'Parody',\n",
       "       'Partial Controller Support', 'Party-Based RPG', 'Perma Death',\n",
       "       'Philisophical', 'Photo Editing', 'Physics', 'Pinball', 'Pirates',\n",
       "       'Pixel Graphics', 'Platformer', 'Point & Click', 'Political',\n",
       "       'Politics', 'Pool', 'Post-apocalyptic', 'Procedural Generation',\n",
       "       'Programming', 'Psychedelic', 'Psychological',\n",
       "       'Psychological Horror', 'Puzzle', 'Puzzle-Platformer', 'PvE',\n",
       "       'PvP', 'Quick-Time Events', 'RPG', 'RPGMaker', 'RTS', 'Racing',\n",
       "       'Real Time Tactics', 'Real-Time', 'Real-Time with Pause',\n",
       "       'Realistic', 'Relaxing', 'Remake', 'Replay Value',\n",
       "       'Resource Management', 'Retro', 'Rhythm', 'Robots', 'Rogue-like',\n",
       "       'Rogue-lite', 'Romance', 'Rome', 'Room-Scale', 'Runner', 'Sailing',\n",
       "       'Sandbox', 'Satire', 'Sci-fi', 'Science', 'Score Attack', 'Seated',\n",
       "       'Sexual Content', 'Shared/Split Screen', \"Shoot 'Em Up\", 'Shooter',\n",
       "       'Short', 'Side Scroller', 'Silent Protagonist', 'Simulation',\n",
       "       'Single-player', 'Singleplayer', 'Sniper', 'Soccer', 'Software',\n",
       "       'Software Training', 'Sokoban', 'Soundtrack', 'Space', 'Space Sim',\n",
       "       'Spectacle fighter', 'Spelling', 'Split Screen', 'Sports',\n",
       "       'Standing', 'Star Wars', 'Stats', 'Stealth', 'Steam Achievements',\n",
       "       'Steam Cloud', 'Steam Leaderboards', 'Steam Machine',\n",
       "       'Steam Trading Cards', 'Steam Turn Notifications',\n",
       "       'Steam Workshop', 'SteamVR Collectibles', 'Steampunk',\n",
       "       'Story Rich', 'Strategy', 'Strategy RPG', 'Stylized', 'Superhero',\n",
       "       'Supernatural', 'Surreal', 'Survival', 'Survival Horror',\n",
       "       'Swordplay', 'Tactical', 'Tactical RPG', 'Tanks', 'Team-Based',\n",
       "       'Text-Based', 'Third Person', 'Third-Person Shooter', 'Thriller',\n",
       "       'Time Attack', 'Time Manipulation', 'Time Travel', 'Top-Down',\n",
       "       'Top-Down Shooter', 'Touch-Friendly', 'Tower Defense', 'TrackIR',\n",
       "       'Tracked Motion Controllers', 'Trading', 'Trading Card Game',\n",
       "       'Trains', 'Transhumanism', 'Turn-Based', 'Turn-Based Combat',\n",
       "       'Turn-Based Strategy', 'Turn-Based Tactics', 'Tutorial',\n",
       "       'Twin Stick Shooter', 'Typing', 'Underground', 'Underwater',\n",
       "       'Utilities', 'VR', 'Valve Anti-Cheat enabled', 'Vampire',\n",
       "       'Video Production', 'Villain Protagonist', 'Violent',\n",
       "       'Visual Novel', 'Voice Control', 'Voxel', 'Walking Simulator',\n",
       "       'War', 'Wargame', 'Warhammer 40K', 'Web Publishing', 'Werewolves',\n",
       "       'Western', 'Windows Mixed Reality', 'Word Game', 'World War I',\n",
       "       'World War II', 'Wrestling', 'Zombies', 'e-sports'], dtype='<U33')"
      ]
     },
     "execution_count": 48,
     "metadata": {},
     "output_type": "execute_result"
    }
   ],
   "source": [
    "# Obtenemos categorías únicas\n",
    "data_games1['categories'] = [np.unique(cat) for cat in data_games1.categories]\n",
    "\n",
    "\n",
    "#Obtencion también de categorías únicas\n",
    "np.unique(list(itertools.chain(*data_games1.categories)))"
   ]
  },
  {
   "cell_type": "code",
   "execution_count": 49,
   "id": "accdf6f9-bb0b-4ef4-b65d-0ccad787f649",
   "metadata": {},
   "outputs": [],
   "source": [
    "# Me deshago de ciertos features; Single-player, multi-player, singleplayer, multiplayer...\n",
    "data_games1['categories'] = [[re.sub(r'[^\\w\\s]', '', subcat).lower() for subcat in cat] \n",
    "                            for cat in data_games1.categories]"
   ]
  },
  {
   "cell_type": "code",
   "execution_count": 50,
   "id": "f72d8db9-2e52-4a76-94df-1866966486db",
   "metadata": {},
   "outputs": [
    {
     "data": {
      "text/plain": [
       "0        [action, casual, indie, simulation, singleplay...\n",
       "1        [2d, board game, card game, character customiz...\n",
       "2        [casual, free to play, inapp purchases, indie,...\n",
       "3                [action, adventure, casual, singleplayer]\n",
       "4        [action, casual, full controller support, htc ...\n",
       "                               ...                        \n",
       "32128    [casual, indie, simulation, singleplayer, stea...\n",
       "32129    [casual, indie, singleplayer, stats, steam ach...\n",
       "32130    [indie, racing, simulation, singleplayer, stea...\n",
       "32131    [atmospheric, casual, indie, puzzle, relaxing,...\n",
       "32132    [action, adventure, early access, htc vive, in...\n",
       "Name: categories, Length: 31711, dtype: object"
      ]
     },
     "execution_count": 50,
     "metadata": {},
     "output_type": "execute_result"
    }
   ],
   "source": [
    "data_games1['categories']"
   ]
  },
  {
   "cell_type": "code",
   "execution_count": 51,
   "id": "8ef5afe7-0321-4250-8dc9-85b15dff0c77",
   "metadata": {},
   "outputs": [],
   "source": [
    "# Me deshago, luego de una revisión de manera manual, de las categorias que no considero \"games\".\n",
    "INVALID_CATEGORIES = ['photo editing', 'game development', 'documentary', 'video production', 'tutorial', 'software',\n",
    "                      'movie', 'software training', 'soundtrack', 'utilities', 'accounting', 'downloadable content']"
   ]
  },
  {
   "cell_type": "code",
   "execution_count": 52,
   "id": "f03159bf-4cbf-4ebf-82eb-53b3c3940430",
   "metadata": {},
   "outputs": [],
   "source": [
    "def getTuplesPandas(search_list):\n",
    "    return pd.DataFrame([game for game in data_games1.itertuples()\n",
    "            if np.isin(search_list, game.categories).sum() > 0])\n"
   ]
  },
  {
   "cell_type": "code",
   "execution_count": 53,
   "id": "3ddf8ad5-0cf0-4290-8ab7-7c8ce2b215e5",
   "metadata": {},
   "outputs": [
    {
     "name": "stderr",
     "output_type": "stream",
     "text": [
      "/var/folders/jm/b4qb1b4d0sxb54q_z7zylyx00000gp/T/ipykernel_49537/3358937519.py:1: UserWarning: Boolean Series key will be reindexed to match DataFrame index.\n",
      "  data_games1 = data_games1[~data_games.id.isin(getTuplesPandas(INVALID_CATEGORIES).id)]\n"
     ]
    }
   ],
   "source": [
    "data_games1 = data_games1[~data_games.id.isin(getTuplesPandas(INVALID_CATEGORIES).id)]"
   ]
  },
  {
   "cell_type": "code",
   "execution_count": 54,
   "id": "c35dc91a-1824-4742-97fb-ee5610a21feb",
   "metadata": {},
   "outputs": [
    {
     "data": {
      "text/plain": [
       "(18037, 10)"
      ]
     },
     "execution_count": 54,
     "metadata": {},
     "output_type": "execute_result"
    }
   ],
   "source": [
    "data_games1.shape"
   ]
  },
  {
   "cell_type": "markdown",
   "id": "c2960191-4e9f-4023-a297-25f1adcf4919",
   "metadata": {},
   "source": [
    "###### El dataframe paso a ser de 18037 x 10. Ahora vamos a liminar, luego de convertirlas en categorías, 'specs' y 'tags'."
   ]
  },
  {
   "cell_type": "code",
   "execution_count": 55,
   "id": "4d51ee30-e83d-4776-be13-e346110b797f",
   "metadata": {},
   "outputs": [],
   "source": [
    "data_games1.drop(['specs', 'tags'], inplace=True, axis=1)"
   ]
  },
  {
   "cell_type": "code",
   "execution_count": 56,
   "id": "afd5c189-9a60-4d7f-816a-769b8136ff4f",
   "metadata": {},
   "outputs": [],
   "source": [
    "def parse(path):\n",
    "    g = gzip.open(path, 'r')\n",
    "    for l in g:\n",
    "        yield eval(l)"
   ]
  },
  {
   "cell_type": "code",
   "execution_count": 57,
   "id": "fd377ebe-fa5e-422d-ba5d-4435dde4db73",
   "metadata": {},
   "outputs": [
    {
     "data": {
      "text/html": [
       "<div>\n",
       "<style scoped>\n",
       "    .dataframe tbody tr th:only-of-type {\n",
       "        vertical-align: middle;\n",
       "    }\n",
       "\n",
       "    .dataframe tbody tr th {\n",
       "        vertical-align: top;\n",
       "    }\n",
       "\n",
       "    .dataframe thead th {\n",
       "        text-align: right;\n",
       "    }\n",
       "</style>\n",
       "<table border=\"1\" class=\"dataframe\">\n",
       "  <thead>\n",
       "    <tr style=\"text-align: right;\">\n",
       "      <th></th>\n",
       "      <th>genres</th>\n",
       "      <th>app_name</th>\n",
       "      <th>release_date</th>\n",
       "      <th>price</th>\n",
       "      <th>id</th>\n",
       "      <th>publisher</th>\n",
       "      <th>url</th>\n",
       "      <th>categories</th>\n",
       "    </tr>\n",
       "  </thead>\n",
       "  <tbody>\n",
       "    <tr>\n",
       "      <th>0</th>\n",
       "      <td>[Action, Casual, Indie, Simulation, Strategy]</td>\n",
       "      <td>Lost Summoner Kitty</td>\n",
       "      <td>2018-01-04</td>\n",
       "      <td>4.99</td>\n",
       "      <td>761140</td>\n",
       "      <td>Kotoshiro</td>\n",
       "      <td>http://store.steampowered.com/app/761140/Lost_...</td>\n",
       "      <td>[action, casual, indie, simulation, singleplay...</td>\n",
       "    </tr>\n",
       "    <tr>\n",
       "      <th>1</th>\n",
       "      <td>[Free to Play, Indie, RPG, Strategy]</td>\n",
       "      <td>Ironbound</td>\n",
       "      <td>2018-01-04</td>\n",
       "      <td>Free To Play</td>\n",
       "      <td>643980</td>\n",
       "      <td>Making Fun, Inc.</td>\n",
       "      <td>http://store.steampowered.com/app/643980/Ironb...</td>\n",
       "      <td>[2d, board game, card game, character customiz...</td>\n",
       "    </tr>\n",
       "    <tr>\n",
       "      <th>2</th>\n",
       "      <td>[Casual, Free to Play, Indie, Simulation, Sports]</td>\n",
       "      <td>Real Pool 3D - Poolians</td>\n",
       "      <td>2017-07-24</td>\n",
       "      <td>Free to Play</td>\n",
       "      <td>670290</td>\n",
       "      <td>Poolians.com</td>\n",
       "      <td>http://store.steampowered.com/app/670290/Real_...</td>\n",
       "      <td>[casual, free to play, inapp purchases, indie,...</td>\n",
       "    </tr>\n",
       "    <tr>\n",
       "      <th>3</th>\n",
       "      <td>[Action, Adventure, Casual]</td>\n",
       "      <td>弹炸人2222</td>\n",
       "      <td>2017-12-07</td>\n",
       "      <td>0.99</td>\n",
       "      <td>767400</td>\n",
       "      <td>彼岸领域</td>\n",
       "      <td>http://store.steampowered.com/app/767400/2222/</td>\n",
       "      <td>[action, adventure, casual, singleplayer]</td>\n",
       "    </tr>\n",
       "    <tr>\n",
       "      <th>4</th>\n",
       "      <td>[]</td>\n",
       "      <td>Log Challenge</td>\n",
       "      <td>NaN</td>\n",
       "      <td>2.99</td>\n",
       "      <td>773570</td>\n",
       "      <td>NaN</td>\n",
       "      <td>http://store.steampowered.com/app/773570/Log_C...</td>\n",
       "      <td>[action, casual, full controller support, htc ...</td>\n",
       "    </tr>\n",
       "  </tbody>\n",
       "</table>\n",
       "</div>"
      ],
      "text/plain": [
       "                                              genres                 app_name  \\\n",
       "0      [Action, Casual, Indie, Simulation, Strategy]      Lost Summoner Kitty   \n",
       "1               [Free to Play, Indie, RPG, Strategy]                Ironbound   \n",
       "2  [Casual, Free to Play, Indie, Simulation, Sports]  Real Pool 3D - Poolians   \n",
       "3                        [Action, Adventure, Casual]                  弹炸人2222   \n",
       "4                                                 []            Log Challenge   \n",
       "\n",
       "  release_date         price      id         publisher  \\\n",
       "0   2018-01-04          4.99  761140         Kotoshiro   \n",
       "1   2018-01-04  Free To Play  643980  Making Fun, Inc.   \n",
       "2   2017-07-24  Free to Play  670290      Poolians.com   \n",
       "3   2017-12-07          0.99  767400              彼岸领域   \n",
       "4          NaN          2.99  773570               NaN   \n",
       "\n",
       "                                                 url  \\\n",
       "0  http://store.steampowered.com/app/761140/Lost_...   \n",
       "1  http://store.steampowered.com/app/643980/Ironb...   \n",
       "2  http://store.steampowered.com/app/670290/Real_...   \n",
       "3     http://store.steampowered.com/app/767400/2222/   \n",
       "4  http://store.steampowered.com/app/773570/Log_C...   \n",
       "\n",
       "                                          categories  \n",
       "0  [action, casual, indie, simulation, singleplay...  \n",
       "1  [2d, board game, card game, character customiz...  \n",
       "2  [casual, free to play, inapp purchases, indie,...  \n",
       "3          [action, adventure, casual, singleplayer]  \n",
       "4  [action, casual, full controller support, htc ...  "
      ]
     },
     "execution_count": 57,
     "metadata": {},
     "output_type": "execute_result"
    }
   ],
   "source": [
    "data_games1.head()"
   ]
  },
  {
   "cell_type": "code",
   "execution_count": 58,
   "id": "f08193e2-0aec-4018-b58e-0aa2b1c87c5e",
   "metadata": {},
   "outputs": [],
   "source": [
    "data_games1['genres'] = data_games1['genres'].apply(lambda x: np.nan if len(x) == 0 else x)\n"
   ]
  },
  {
   "cell_type": "code",
   "execution_count": 59,
   "id": "bcc07501-144a-4980-a9d0-285c7fdfa533",
   "metadata": {},
   "outputs": [
    {
     "data": {
      "text/plain": [
       "genres          1838\n",
       "app_name           1\n",
       "release_date    1614\n",
       "price            883\n",
       "id                 0\n",
       "publisher       2909\n",
       "url                0\n",
       "categories         0\n",
       "dtype: int64"
      ]
     },
     "execution_count": 59,
     "metadata": {},
     "output_type": "execute_result"
    }
   ],
   "source": [
    "data_games1.isna().sum()"
   ]
  },
  {
   "cell_type": "markdown",
   "id": "e621f8fa-fe63-4634-b820-bd50a37fddbd",
   "metadata": {},
   "source": [
    "#### Transformación de precios"
   ]
  },
  {
   "cell_type": "code",
   "execution_count": 60,
   "id": "ea01a06b-958c-4ca3-9924-44e0200e3935",
   "metadata": {},
   "outputs": [],
   "source": [
    "# En 'price' hay valores tanto nméricos como categóricos.\n",
    "\n",
    "category_prices = lambda x: np.unique(np.array([i for i in list(x) if type(i) == str]))"
   ]
  },
  {
   "cell_type": "code",
   "execution_count": 61,
   "id": "700f9b3a-acf2-4ad8-a1f7-15533689283c",
   "metadata": {},
   "outputs": [
    {
     "data": {
      "text/plain": [
       "array(['Free', 'Free Demo', 'Free HITMAN™ Holiday Pack', 'Free Mod',\n",
       "       'Free Movie', 'Free To Play', 'Free to Play', 'Play Now',\n",
       "       'Play WARMACHINE: Tactics Demo', 'Play for Free!', 'Third-party'],\n",
       "      dtype='<U29')"
      ]
     },
     "execution_count": 61,
     "metadata": {},
     "output_type": "execute_result"
    }
   ],
   "source": [
    "category_prices(data_games1.price)"
   ]
  },
  {
   "cell_type": "code",
   "execution_count": 62,
   "id": "ffa3465a-0d51-4610-9577-6f4406f80078",
   "metadata": {},
   "outputs": [],
   "source": [
    "def transform_prices(df):\n",
    "    df['category_price'] = df.price.apply(\n",
    "        lambda p: 'paid' if (type(p) == float or p.startswith('Starting')) else 'free')\n",
    "    df.drop('price', axis=1, inplace=True)"
   ]
  },
  {
   "cell_type": "code",
   "execution_count": 63,
   "id": "e8c1e6e8-2274-4a8c-b606-4e323b0e2232",
   "metadata": {},
   "outputs": [
    {
     "data": {
      "text/html": [
       "<div>\n",
       "<style scoped>\n",
       "    .dataframe tbody tr th:only-of-type {\n",
       "        vertical-align: middle;\n",
       "    }\n",
       "\n",
       "    .dataframe tbody tr th {\n",
       "        vertical-align: top;\n",
       "    }\n",
       "\n",
       "    .dataframe thead th {\n",
       "        text-align: right;\n",
       "    }\n",
       "</style>\n",
       "<table border=\"1\" class=\"dataframe\">\n",
       "  <thead>\n",
       "    <tr style=\"text-align: right;\">\n",
       "      <th></th>\n",
       "      <th>genres</th>\n",
       "      <th>app_name</th>\n",
       "      <th>release_date</th>\n",
       "      <th>id</th>\n",
       "      <th>publisher</th>\n",
       "      <th>url</th>\n",
       "      <th>categories</th>\n",
       "      <th>category_price</th>\n",
       "    </tr>\n",
       "  </thead>\n",
       "  <tbody>\n",
       "    <tr>\n",
       "      <th>0</th>\n",
       "      <td>[Action, Casual, Indie, Simulation, Strategy]</td>\n",
       "      <td>Lost Summoner Kitty</td>\n",
       "      <td>2018-01-04</td>\n",
       "      <td>761140</td>\n",
       "      <td>Kotoshiro</td>\n",
       "      <td>http://store.steampowered.com/app/761140/Lost_...</td>\n",
       "      <td>[action, casual, indie, simulation, singleplay...</td>\n",
       "      <td>paid</td>\n",
       "    </tr>\n",
       "    <tr>\n",
       "      <th>1</th>\n",
       "      <td>[Free to Play, Indie, RPG, Strategy]</td>\n",
       "      <td>Ironbound</td>\n",
       "      <td>2018-01-04</td>\n",
       "      <td>643980</td>\n",
       "      <td>Making Fun, Inc.</td>\n",
       "      <td>http://store.steampowered.com/app/643980/Ironb...</td>\n",
       "      <td>[2d, board game, card game, character customiz...</td>\n",
       "      <td>free</td>\n",
       "    </tr>\n",
       "    <tr>\n",
       "      <th>2</th>\n",
       "      <td>[Casual, Free to Play, Indie, Simulation, Sports]</td>\n",
       "      <td>Real Pool 3D - Poolians</td>\n",
       "      <td>2017-07-24</td>\n",
       "      <td>670290</td>\n",
       "      <td>Poolians.com</td>\n",
       "      <td>http://store.steampowered.com/app/670290/Real_...</td>\n",
       "      <td>[casual, free to play, inapp purchases, indie,...</td>\n",
       "      <td>free</td>\n",
       "    </tr>\n",
       "    <tr>\n",
       "      <th>3</th>\n",
       "      <td>[Action, Adventure, Casual]</td>\n",
       "      <td>弹炸人2222</td>\n",
       "      <td>2017-12-07</td>\n",
       "      <td>767400</td>\n",
       "      <td>彼岸领域</td>\n",
       "      <td>http://store.steampowered.com/app/767400/2222/</td>\n",
       "      <td>[action, adventure, casual, singleplayer]</td>\n",
       "      <td>paid</td>\n",
       "    </tr>\n",
       "    <tr>\n",
       "      <th>4</th>\n",
       "      <td>NaN</td>\n",
       "      <td>Log Challenge</td>\n",
       "      <td>NaN</td>\n",
       "      <td>773570</td>\n",
       "      <td>NaN</td>\n",
       "      <td>http://store.steampowered.com/app/773570/Log_C...</td>\n",
       "      <td>[action, casual, full controller support, htc ...</td>\n",
       "      <td>paid</td>\n",
       "    </tr>\n",
       "  </tbody>\n",
       "</table>\n",
       "</div>"
      ],
      "text/plain": [
       "                                              genres                 app_name  \\\n",
       "0      [Action, Casual, Indie, Simulation, Strategy]      Lost Summoner Kitty   \n",
       "1               [Free to Play, Indie, RPG, Strategy]                Ironbound   \n",
       "2  [Casual, Free to Play, Indie, Simulation, Sports]  Real Pool 3D - Poolians   \n",
       "3                        [Action, Adventure, Casual]                  弹炸人2222   \n",
       "4                                                NaN            Log Challenge   \n",
       "\n",
       "  release_date      id         publisher  \\\n",
       "0   2018-01-04  761140         Kotoshiro   \n",
       "1   2018-01-04  643980  Making Fun, Inc.   \n",
       "2   2017-07-24  670290      Poolians.com   \n",
       "3   2017-12-07  767400              彼岸领域   \n",
       "4          NaN  773570               NaN   \n",
       "\n",
       "                                                 url  \\\n",
       "0  http://store.steampowered.com/app/761140/Lost_...   \n",
       "1  http://store.steampowered.com/app/643980/Ironb...   \n",
       "2  http://store.steampowered.com/app/670290/Real_...   \n",
       "3     http://store.steampowered.com/app/767400/2222/   \n",
       "4  http://store.steampowered.com/app/773570/Log_C...   \n",
       "\n",
       "                                          categories category_price  \n",
       "0  [action, casual, indie, simulation, singleplay...           paid  \n",
       "1  [2d, board game, card game, character customiz...           free  \n",
       "2  [casual, free to play, inapp purchases, indie,...           free  \n",
       "3          [action, adventure, casual, singleplayer]           paid  \n",
       "4  [action, casual, full controller support, htc ...           paid  "
      ]
     },
     "execution_count": 63,
     "metadata": {},
     "output_type": "execute_result"
    }
   ],
   "source": [
    "transform_prices(data_games1)\n",
    "data_games1.head()"
   ]
  },
  {
   "cell_type": "code",
   "execution_count": 64,
   "id": "8f28288a-549e-473d-bf3f-72db1471de21",
   "metadata": {},
   "outputs": [
    {
     "data": {
      "text/plain": [
       "genres            1838\n",
       "app_name             1\n",
       "release_date      1614\n",
       "id                   0\n",
       "publisher         2909\n",
       "url                  0\n",
       "categories           0\n",
       "category_price       0\n",
       "dtype: int64"
      ]
     },
     "execution_count": 64,
     "metadata": {},
     "output_type": "execute_result"
    }
   ],
   "source": [
    "data_games1.isnull().sum()"
   ]
  },
  {
   "cell_type": "code",
   "execution_count": 65,
   "id": "a1ca3e24-71b6-4a6b-afa1-5aa23777b9c2",
   "metadata": {},
   "outputs": [],
   "source": [
    "# Al igual que el dataset anterior, guardo en uno nuevo lo trabajado hasta ahora\n",
    "# para quedarme solo con la info necesaria\n",
    "if True:\n",
    "        data_games1.to_csv('data_games.csv', index=False)"
   ]
  },
  {
   "cell_type": "markdown",
   "id": "f93fd5de-de6d-4be5-b410-1a8f1c039eb7",
   "metadata": {
    "tags": []
   },
   "source": [
    "#### Consultas\n",
    "\n",
    "###### Ya tenemos creados los datasets nuevos, en formato .csv, tanto 'reviews' como 'games'. En 'reviews' todos los usuarios con valor null pandas lo transforma en NaN, asi que vamos a transformar esta en un string.\n",
    "###### Mientras que en el dataset 'games' puede suceder, que en 'categories' por ejemplo ciertos datos hayan perdido su formato también.\n"
   ]
  },
  {
   "cell_type": "code",
   "execution_count": 66,
   "id": "4d7bbb9a-f51a-4135-a527-a9e823bb7c66",
   "metadata": {},
   "outputs": [],
   "source": [
    "# Cargo el .csv creado y procedo a realizar lo mencionado anteriormente\n",
    "# con respecto a los formatos ('str')\n",
    "\n",
    "data_reviews = pd.read_csv(f'data_reviews.csv', converters={'username': str, 'text': str, 'genres':str, 'categories':str})\n",
    "data_reviews.date = pd.to_datetime(data_reviews.date)"
   ]
  },
  {
   "cell_type": "code",
   "execution_count": 67,
   "id": "b4366cb0-d1f5-40f9-b159-1676e9c4bb23",
   "metadata": {},
   "outputs": [],
   "source": [
    "def toList(x):\n",
    "    return x[1:-1].replace(\"'\", '').split(', ') if (x is not np.nan) else nan"
   ]
  },
  {
   "cell_type": "code",
   "execution_count": 68,
   "id": "e24c71ce-b2d2-4d31-95be-22d526af2c41",
   "metadata": {},
   "outputs": [],
   "source": [
    "data_games = pd.read_csv(f'data_games.csv',\n",
    "                         converters={\n",
    "                             'genres': lambda x: toList(x),\n",
    "                             'tags': lambda x: toList(x),\n",
    "                             'specs': lambda x: toList(x),\n",
    "                             'categories': str\n",
    "                         })\n",
    "# data_games.release_date = pd.to_datetime(data_games.release_date)"
   ]
  },
  {
   "cell_type": "code",
   "execution_count": 69,
   "id": "54f77b4c-3ce5-48ce-86d4-88f1b3c52c80",
   "metadata": {},
   "outputs": [
    {
     "name": "stdout",
     "output_type": "stream",
     "text": [
      "Reviews:\n",
      " username              object\n",
      "hours                float64\n",
      "product_id             int64\n",
      "date          datetime64[ns]\n",
      "text                  object\n",
      "dtype: object \n",
      "\n",
      "Games\n",
      " genres            object\n",
      "app_name          object\n",
      "release_date      object\n",
      "id                 int64\n",
      "publisher         object\n",
      "url               object\n",
      "categories        object\n",
      "category_price    object\n",
      "dtype: object\n"
     ]
    }
   ],
   "source": [
    "print('Reviews:\\n', data_reviews.dtypes, '\\n')\n",
    "print('Games\\n', data_games.dtypes)"
   ]
  },
  {
   "cell_type": "code",
   "execution_count": 70,
   "id": "92f230cb-ccac-456f-8de0-5ae821bf0403",
   "metadata": {},
   "outputs": [
    {
     "data": {
      "text/html": [
       "<div>\n",
       "<style scoped>\n",
       "    .dataframe tbody tr th:only-of-type {\n",
       "        vertical-align: middle;\n",
       "    }\n",
       "\n",
       "    .dataframe tbody tr th {\n",
       "        vertical-align: top;\n",
       "    }\n",
       "\n",
       "    .dataframe thead th {\n",
       "        text-align: right;\n",
       "    }\n",
       "</style>\n",
       "<table border=\"1\" class=\"dataframe\">\n",
       "  <thead>\n",
       "    <tr style=\"text-align: right;\">\n",
       "      <th></th>\n",
       "      <th>genres</th>\n",
       "      <th>app_name</th>\n",
       "      <th>release_date</th>\n",
       "      <th>id</th>\n",
       "      <th>publisher</th>\n",
       "      <th>url</th>\n",
       "      <th>categories</th>\n",
       "      <th>category_price</th>\n",
       "    </tr>\n",
       "  </thead>\n",
       "  <tbody>\n",
       "    <tr>\n",
       "      <th>0</th>\n",
       "      <td>[Action, Casual, Indie, Simulation, Strategy]</td>\n",
       "      <td>Lost Summoner Kitty</td>\n",
       "      <td>2018-01-04</td>\n",
       "      <td>761140</td>\n",
       "      <td>Kotoshiro</td>\n",
       "      <td>http://store.steampowered.com/app/761140/Lost_...</td>\n",
       "      <td>[action, casual, indie, simulation, singleplay...</td>\n",
       "      <td>paid</td>\n",
       "    </tr>\n",
       "    <tr>\n",
       "      <th>1</th>\n",
       "      <td>[Free to Play, Indie, RPG, Strategy]</td>\n",
       "      <td>Ironbound</td>\n",
       "      <td>2018-01-04</td>\n",
       "      <td>643980</td>\n",
       "      <td>Making Fun, Inc.</td>\n",
       "      <td>http://store.steampowered.com/app/643980/Ironb...</td>\n",
       "      <td>[2d, board game, card game, character customiz...</td>\n",
       "      <td>free</td>\n",
       "    </tr>\n",
       "    <tr>\n",
       "      <th>2</th>\n",
       "      <td>[Casual, Free to Play, Indie, Simulation, Sports]</td>\n",
       "      <td>Real Pool 3D - Poolians</td>\n",
       "      <td>2017-07-24</td>\n",
       "      <td>670290</td>\n",
       "      <td>Poolians.com</td>\n",
       "      <td>http://store.steampowered.com/app/670290/Real_...</td>\n",
       "      <td>[casual, free to play, inapp purchases, indie,...</td>\n",
       "      <td>free</td>\n",
       "    </tr>\n",
       "  </tbody>\n",
       "</table>\n",
       "</div>"
      ],
      "text/plain": [
       "                                              genres                 app_name  \\\n",
       "0      [Action, Casual, Indie, Simulation, Strategy]      Lost Summoner Kitty   \n",
       "1               [Free to Play, Indie, RPG, Strategy]                Ironbound   \n",
       "2  [Casual, Free to Play, Indie, Simulation, Sports]  Real Pool 3D - Poolians   \n",
       "\n",
       "  release_date      id         publisher  \\\n",
       "0   2018-01-04  761140         Kotoshiro   \n",
       "1   2018-01-04  643980  Making Fun, Inc.   \n",
       "2   2017-07-24  670290      Poolians.com   \n",
       "\n",
       "                                                 url  \\\n",
       "0  http://store.steampowered.com/app/761140/Lost_...   \n",
       "1  http://store.steampowered.com/app/643980/Ironb...   \n",
       "2  http://store.steampowered.com/app/670290/Real_...   \n",
       "\n",
       "                                          categories category_price  \n",
       "0  [action, casual, indie, simulation, singleplay...           paid  \n",
       "1  [2d, board game, card game, character customiz...           free  \n",
       "2  [casual, free to play, inapp purchases, indie,...           free  "
      ]
     },
     "execution_count": 70,
     "metadata": {},
     "output_type": "execute_result"
    }
   ],
   "source": [
    "data_games1.head(3)"
   ]
  },
  {
   "cell_type": "code",
   "execution_count": 71,
   "id": "33577146-38a9-4b0f-8fe6-dbe1894f0841",
   "metadata": {},
   "outputs": [
    {
     "data": {
      "text/html": [
       "<div>\n",
       "<style scoped>\n",
       "    .dataframe tbody tr th:only-of-type {\n",
       "        vertical-align: middle;\n",
       "    }\n",
       "\n",
       "    .dataframe tbody tr th {\n",
       "        vertical-align: top;\n",
       "    }\n",
       "\n",
       "    .dataframe thead th {\n",
       "        text-align: right;\n",
       "    }\n",
       "</style>\n",
       "<table border=\"1\" class=\"dataframe\">\n",
       "  <thead>\n",
       "    <tr style=\"text-align: right;\">\n",
       "      <th></th>\n",
       "      <th>username</th>\n",
       "      <th>hours</th>\n",
       "      <th>product_id</th>\n",
       "      <th>date</th>\n",
       "      <th>text</th>\n",
       "    </tr>\n",
       "  </thead>\n",
       "  <tbody>\n",
       "    <tr>\n",
       "      <th>0</th>\n",
       "      <td>Chaos Syren</td>\n",
       "      <td>0.1</td>\n",
       "      <td>725280</td>\n",
       "      <td>2017-12-17</td>\n",
       "      <td>This would not be acceptable as an entertainme...</td>\n",
       "    </tr>\n",
       "    <tr>\n",
       "      <th>1</th>\n",
       "      <td>hello?&lt;</td>\n",
       "      <td>14.6</td>\n",
       "      <td>328100</td>\n",
       "      <td>2017-10-16</td>\n",
       "      <td>Better than Minecraft</td>\n",
       "    </tr>\n",
       "    <tr>\n",
       "      <th>2</th>\n",
       "      <td>DarklyThinking</td>\n",
       "      <td>16.6</td>\n",
       "      <td>35140</td>\n",
       "      <td>2018-01-04</td>\n",
       "      <td>Still worth playing in 2018.\\nProbably my favo...</td>\n",
       "    </tr>\n",
       "    <tr>\n",
       "      <th>3</th>\n",
       "      <td>nd</td>\n",
       "      <td>1.0</td>\n",
       "      <td>725280</td>\n",
       "      <td>2017-11-28</td>\n",
       "      <td>endless rooms of some underground complex, blo...</td>\n",
       "    </tr>\n",
       "    <tr>\n",
       "      <th>4</th>\n",
       "      <td>jimllfixitok</td>\n",
       "      <td>1.1</td>\n",
       "      <td>707610</td>\n",
       "      <td>2017-10-16</td>\n",
       "      <td>no sound. icons don't work. re-installed but n...</td>\n",
       "    </tr>\n",
       "  </tbody>\n",
       "</table>\n",
       "</div>"
      ],
      "text/plain": [
       "         username  hours  product_id       date  \\\n",
       "0     Chaos Syren    0.1      725280 2017-12-17   \n",
       "1         hello?<   14.6      328100 2017-10-16   \n",
       "2  DarklyThinking   16.6       35140 2018-01-04   \n",
       "3              nd    1.0      725280 2017-11-28   \n",
       "4    jimllfixitok    1.1      707610 2017-10-16   \n",
       "\n",
       "                                                text  \n",
       "0  This would not be acceptable as an entertainme...  \n",
       "1                              Better than Minecraft  \n",
       "2  Still worth playing in 2018.\\nProbably my favo...  \n",
       "3  endless rooms of some underground complex, blo...  \n",
       "4  no sound. icons don't work. re-installed but n...  "
      ]
     },
     "execution_count": 71,
     "metadata": {},
     "output_type": "execute_result"
    }
   ],
   "source": [
    "data_reviews.head()"
   ]
  },
  {
   "cell_type": "markdown",
   "id": "ea340881-de9a-43a6-8b37-f05576882a84",
   "metadata": {},
   "source": [
    "#### Independientemente de la buena implementacion de librerías y herramientas, gran parte de nuestra tarea se verá \"resuelta\" (no en su totalidad por supuesto) en entender el mercado el cual estamos analizando y hacernos cuantas preguntas sean necesarias.\n",
    "\n",
    "###### Cuáles son los juegos mas populares, por su cantidad de usuarios?\n",
    "###### Cuáles son los menos populares, dada también por su cantidad de usuarios?\n",
    "###### Cuáles son los juegos que mas horas se jugaron?\n",
    "###### Convendría generar una lista con los géneros de cada juego para poder determinar paridad y/o relacion entre los mismos?\n",
    "###### Qué precio habría que poner en función a las recomendaciones de los juegos y su precio pagado?\n",
    "\n",
    "\n",
    "##### El sistema recomendador será de acuerdo al usuario, al género y la cantidad de horas jugadas; Esto nos aproximaría la similaridad para sugerir las recomendaciones exactas.\n"
   ]
  },
  {
   "cell_type": "code",
   "execution_count": 72,
   "id": "325e0f09-5a90-4c9c-9b8d-591732f4ce4f",
   "metadata": {},
   "outputs": [],
   "source": [
    "cantidad_por_productoId = data_reviews.groupby('product_id').product_id.count().reset_index(name='amount')"
   ]
  },
  {
   "cell_type": "code",
   "execution_count": 73,
   "id": "8fba5168-655f-4428-8bd9-d0cabd86c657",
   "metadata": {},
   "outputs": [
    {
     "name": "stdout",
     "output_type": "stream",
     "text": [
      "Existe una cantidad total de 1716724 usuarios únicos\n"
     ]
    }
   ],
   "source": [
    "### Cuantos usuarios únicos existen ? ##\n",
    "print(f'Existe una cantidad total de {len(data_reviews.username.value_counts())} usuarios únicos')"
   ]
  },
  {
   "cell_type": "code",
   "execution_count": 74,
   "id": "6b56224e-4284-4c6d-98ed-54bb48c1cc5a",
   "metadata": {
    "tags": []
   },
   "outputs": [],
   "source": [
    "# Merge entre reviews y videojuegos\n",
    "\n",
    "reviews_games_amount = pd.merge(cantidad_por_productoId, data_games, left_on='product_id',\n",
    "                               right_on='id').sort_values(by='amount', ascending=False)\n",
    "top10 = reviews_games_amount.head(10)"
   ]
  },
  {
   "cell_type": "code",
   "execution_count": 75,
   "id": "3edba9a9-fe73-4c0f-b172-7793afb368d1",
   "metadata": {
    "tags": []
   },
   "outputs": [
    {
     "data": {
      "text/html": [
       "<div>\n",
       "<style scoped>\n",
       "    .dataframe tbody tr th:only-of-type {\n",
       "        vertical-align: middle;\n",
       "    }\n",
       "\n",
       "    .dataframe tbody tr th {\n",
       "        vertical-align: top;\n",
       "    }\n",
       "\n",
       "    .dataframe thead th {\n",
       "        text-align: right;\n",
       "    }\n",
       "</style>\n",
       "<table border=\"1\" class=\"dataframe\">\n",
       "  <thead>\n",
       "    <tr style=\"text-align: right;\">\n",
       "      <th></th>\n",
       "      <th>product_id</th>\n",
       "      <th>amount</th>\n",
       "      <th>genres</th>\n",
       "      <th>app_name</th>\n",
       "      <th>release_date</th>\n",
       "      <th>id</th>\n",
       "      <th>publisher</th>\n",
       "      <th>url</th>\n",
       "      <th>categories</th>\n",
       "      <th>category_price</th>\n",
       "    </tr>\n",
       "  </thead>\n",
       "  <tbody>\n",
       "    <tr>\n",
       "      <th>19</th>\n",
       "      <td>440</td>\n",
       "      <td>76875</td>\n",
       "      <td>[Action, Free to Play]</td>\n",
       "      <td>Team Fortress 2</td>\n",
       "      <td>2007-10-10</td>\n",
       "      <td>440</td>\n",
       "      <td>Valve</td>\n",
       "      <td>http://store.steampowered.com/app/440/Team_For...</td>\n",
       "      <td>['action', 'captions available', 'cartoon', 'c...</td>\n",
       "      <td>free</td>\n",
       "    </tr>\n",
       "    <tr>\n",
       "      <th>1817</th>\n",
       "      <td>252490</td>\n",
       "      <td>43318</td>\n",
       "      <td>[Action, Adventure, Indie, Massively Multiplay...</td>\n",
       "      <td>Rust</td>\n",
       "      <td>2013-12-11</td>\n",
       "      <td>252490</td>\n",
       "      <td>Facepunch Studios</td>\n",
       "      <td>http://store.steampowered.com/app/252490/Rust/</td>\n",
       "      <td>['action', 'adventure', 'building', 'coop', 'c...</td>\n",
       "      <td>paid</td>\n",
       "    </tr>\n",
       "    <tr>\n",
       "      <th>2170</th>\n",
       "      <td>271590</td>\n",
       "      <td>25273</td>\n",
       "      <td>[Action, Adventure]</td>\n",
       "      <td>Grand Theft Auto V</td>\n",
       "      <td>2015-04-14</td>\n",
       "      <td>271590</td>\n",
       "      <td>Rockstar Games</td>\n",
       "      <td>http://store.steampowered.com/app/271590/Grand...</td>\n",
       "      <td>['action', 'adventure', 'atmospheric', 'coop',...</td>\n",
       "      <td>paid</td>\n",
       "    </tr>\n",
       "    <tr>\n",
       "      <th>2777</th>\n",
       "      <td>301520</td>\n",
       "      <td>24896</td>\n",
       "      <td>[Action, Free to Play, Indie, Massively Multip...</td>\n",
       "      <td>Robocraft</td>\n",
       "      <td>2017-08-24</td>\n",
       "      <td>301520</td>\n",
       "      <td>Freejam</td>\n",
       "      <td>http://store.steampowered.com/app/301520/Roboc...</td>\n",
       "      <td>['action', 'adventure', 'building', 'crafting'...</td>\n",
       "      <td>free</td>\n",
       "    </tr>\n",
       "    <tr>\n",
       "      <th>1417</th>\n",
       "      <td>221100</td>\n",
       "      <td>24222</td>\n",
       "      <td>[Action, Indie, Massively Multiplayer, Early A...</td>\n",
       "      <td>DayZ</td>\n",
       "      <td>2013-12-16</td>\n",
       "      <td>221100</td>\n",
       "      <td>Bohemia Interactive</td>\n",
       "      <td>http://store.steampowered.com/app/221100/DayZ/</td>\n",
       "      <td>['action', 'adventure', 'atmospheric', 'coop',...</td>\n",
       "      <td>paid</td>\n",
       "    </tr>\n",
       "  </tbody>\n",
       "</table>\n",
       "</div>"
      ],
      "text/plain": [
       "      product_id  amount                                             genres  \\\n",
       "19           440   76875                             [Action, Free to Play]   \n",
       "1817      252490   43318  [Action, Adventure, Indie, Massively Multiplay...   \n",
       "2170      271590   25273                                [Action, Adventure]   \n",
       "2777      301520   24896  [Action, Free to Play, Indie, Massively Multip...   \n",
       "1417      221100   24222  [Action, Indie, Massively Multiplayer, Early A...   \n",
       "\n",
       "                app_name release_date      id            publisher  \\\n",
       "19       Team Fortress 2   2007-10-10     440                Valve   \n",
       "1817                Rust   2013-12-11  252490    Facepunch Studios   \n",
       "2170  Grand Theft Auto V   2015-04-14  271590       Rockstar Games   \n",
       "2777           Robocraft   2017-08-24  301520              Freejam   \n",
       "1417                DayZ   2013-12-16  221100  Bohemia Interactive   \n",
       "\n",
       "                                                    url  \\\n",
       "19    http://store.steampowered.com/app/440/Team_For...   \n",
       "1817     http://store.steampowered.com/app/252490/Rust/   \n",
       "2170  http://store.steampowered.com/app/271590/Grand...   \n",
       "2777  http://store.steampowered.com/app/301520/Roboc...   \n",
       "1417     http://store.steampowered.com/app/221100/DayZ/   \n",
       "\n",
       "                                             categories category_price  \n",
       "19    ['action', 'captions available', 'cartoon', 'c...           free  \n",
       "1817  ['action', 'adventure', 'building', 'coop', 'c...           paid  \n",
       "2170  ['action', 'adventure', 'atmospheric', 'coop',...           paid  \n",
       "2777  ['action', 'adventure', 'building', 'crafting'...           free  \n",
       "1417  ['action', 'adventure', 'atmospheric', 'coop',...           paid  "
      ]
     },
     "execution_count": 75,
     "metadata": {},
     "output_type": "execute_result"
    }
   ],
   "source": [
    "top10.head()"
   ]
  },
  {
   "cell_type": "code",
   "execution_count": 76,
   "id": "1e85d350-ffe7-4c64-818e-59e9ca09fb54",
   "metadata": {},
   "outputs": [],
   "source": [
    "# Valores para mostrar en la leyenda de cada barra\n",
    "HOVER_DATA_COLUMNS = ['publisher', 'release_date', 'genres', 'category_price']"
   ]
  },
  {
   "cell_type": "code",
   "execution_count": 77,
   "id": "e9133198-e5a5-4974-9c1c-2c2e6f65201c",
   "metadata": {},
   "outputs": [
    {
     "name": "stdout",
     "output_type": "stream",
     "text": [
      "Requirement already satisfied: kaleido in /Users/Hernandelval/opt/miniconda3/envs/snakes/lib/python3.8/site-packages (0.2.1)\n",
      "Note: you may need to restart the kernel to use updated packages.\n"
     ]
    }
   ],
   "source": [
    "pip install kaleido"
   ]
  },
  {
   "cell_type": "code",
   "execution_count": 78,
   "id": "b18d2538-f1ce-46f9-80c2-77e5ea33ac1b",
   "metadata": {},
   "outputs": [
    {
     "data": {
      "image/svg+xml": [
       "<svg xmlns=\"http://www.w3.org/2000/svg\" xmlns:xlink=\"http://www.w3.org/1999/xlink\" class=\"main-svg\" width=\"900\" height=\"450\" style=\"\" viewBox=\"0 0 900 450\"><rect x=\"0\" y=\"0\" width=\"900\" height=\"450\" style=\"fill: rgb(250, 250, 250); fill-opacity: 1;\"/><defs id=\"defs-a6e9e8\"><g class=\"clips\"><clipPath id=\"clipa6e9e8xyplot\" class=\"plotclip\"><rect width=\"555\" height=\"358\"/></clipPath><clipPath class=\"axesclip\" id=\"clipa6e9e8x\"><rect x=\"154\" y=\"0\" width=\"555\" height=\"450\"/></clipPath><clipPath class=\"axesclip\" id=\"clipa6e9e8y\"><rect x=\"0\" y=\"40\" width=\"900\" height=\"358\"/></clipPath><clipPath class=\"axesclip\" id=\"clipa6e9e8xy\"><rect x=\"154\" y=\"40\" width=\"555\" height=\"358\"/></clipPath></g><g class=\"gradients\"><linearGradient x1=\"0\" x2=\"0\" y1=\"1\" y2=\"0\" id=\"ga6e9e8-cbcoloraxis\"><stop offset=\"0%\" stop-color=\"rgb(68, 1, 84)\" stop-opacity=\"1\"/><stop offset=\"11.111111%\" stop-color=\"rgb(72, 40, 120)\" stop-opacity=\"1\"/><stop offset=\"22.222222%\" stop-color=\"rgb(62, 73, 137)\" stop-opacity=\"1\"/><stop offset=\"33.333333%\" stop-color=\"rgb(49, 104, 142)\" stop-opacity=\"1\"/><stop offset=\"44.444444%\" stop-color=\"rgb(38, 130, 142)\" stop-opacity=\"1\"/><stop offset=\"55.555556%\" stop-color=\"rgb(31, 158, 137)\" stop-opacity=\"1\"/><stop offset=\"66.666667%\" stop-color=\"rgb(53, 183, 121)\" stop-opacity=\"1\"/><stop offset=\"77.777778%\" stop-color=\"rgb(110, 206, 88)\" stop-opacity=\"1\"/><stop offset=\"88.888889%\" stop-color=\"rgb(181, 222, 43)\" stop-opacity=\"1\"/><stop offset=\"100%\" stop-color=\"rgb(253, 231, 37)\" stop-opacity=\"1\"/></linearGradient></g><g class=\"patterns\"/></defs><g class=\"bglayer\"><rect class=\"bg\" x=\"154\" y=\"40\" width=\"555\" height=\"358\" style=\"fill: rgb(229, 236, 246); fill-opacity: 1; stroke-width: 0;\"/></g><g class=\"layer-below\"><g class=\"imagelayer\"/><g class=\"shapelayer\"/></g><g class=\"cartesianlayer\"><g class=\"subplot xy\"><g class=\"layer-subplot\"><g class=\"shapelayer\"/><g class=\"imagelayer\"/></g><g class=\"gridlayer\"><g class=\"x\"><path class=\"xgrid crisp\" transform=\"translate(291.16999999999996,0)\" d=\"M0,40v358\" style=\"stroke: rgb(255, 255, 255); stroke-opacity: 1; stroke-width: 1px;\"/><path class=\"xgrid crisp\" transform=\"translate(428.34,0)\" d=\"M0,40v358\" style=\"stroke: rgb(255, 255, 255); stroke-opacity: 1; stroke-width: 1px;\"/><path class=\"xgrid crisp\" transform=\"translate(565.51,0)\" d=\"M0,40v358\" style=\"stroke: rgb(255, 255, 255); stroke-opacity: 1; stroke-width: 1px;\"/><path class=\"xgrid crisp\" transform=\"translate(702.68,0)\" d=\"M0,40v358\" style=\"stroke: rgb(255, 255, 255); stroke-opacity: 1; stroke-width: 1px;\"/></g><g class=\"y\"/></g><g class=\"zerolinelayer\"><path class=\"xzl zl crisp\" transform=\"translate(154,0)\" d=\"M0,40v358\" style=\"stroke: rgb(255, 255, 255); stroke-opacity: 1; stroke-width: 2px;\"/></g><path class=\"xlines-below\"/><path class=\"ylines-below\"/><g class=\"overlines-below\"/><g class=\"xaxislayer-below\"/><g class=\"yaxislayer-below\"/><g class=\"overaxes-below\"/><g class=\"plot\" transform=\"translate(154,40)\" clip-path=\"url(#clipa6e9e8xyplot)\"><g class=\"barlayer mlayer\"><g class=\"trace bars\" style=\"opacity: 1;\"><g class=\"points\"><g class=\"point\"><path d=\"M0,354.42V325.78H125.68V354.42Z\" style=\"vector-effect: non-scaling-stroke; opacity: 1; stroke-width: 0.5px; fill: rgb(68, 1, 84); fill-opacity: 1; stroke: rgb(229, 236, 246); stroke-opacity: 1;\"/></g><g class=\"point\"><path d=\"M0,318.62V289.98H131V318.62Z\" style=\"vector-effect: non-scaling-stroke; opacity: 1; stroke-width: 0.5px; fill: rgb(68, 6, 88); fill-opacity: 1; stroke: rgb(229, 236, 246); stroke-opacity: 1;\"/></g><g class=\"point\"><path d=\"M0,282.82V254.18H141.06V282.82Z\" style=\"vector-effect: non-scaling-stroke; opacity: 1; stroke-width: 0.5px; fill: rgb(69, 14, 96); fill-opacity: 1; stroke: rgb(229, 236, 246); stroke-opacity: 1;\"/></g><g class=\"point\"><path d=\"M0,247.02V218.38H163.72V247.02Z\" style=\"vector-effect: non-scaling-stroke; opacity: 1; stroke-width: 0.5px; fill: rgb(71, 34, 115); fill-opacity: 1; stroke: rgb(229, 236, 246); stroke-opacity: 1;\"/></g><g class=\"point\"><path d=\"M0,211.22V182.58H166V211.22Z\" style=\"vector-effect: non-scaling-stroke; opacity: 1; stroke-width: 0.5px; fill: rgb(72, 36, 117); fill-opacity: 1; stroke: rgb(229, 236, 246); stroke-opacity: 1;\"/></g><g class=\"point\"><path d=\"M0,175.42V146.78H166.13V175.42Z\" style=\"vector-effect: non-scaling-stroke; opacity: 1; stroke-width: 0.5px; fill: rgb(72, 36, 117); fill-opacity: 1; stroke: rgb(229, 236, 246); stroke-opacity: 1;\"/></g><g class=\"point\"><path d=\"M0,139.62V110.98H170.75V139.62Z\" style=\"vector-effect: non-scaling-stroke; opacity: 1; stroke-width: 0.5px; fill: rgb(72, 40, 120); fill-opacity: 1; stroke: rgb(229, 236, 246); stroke-opacity: 1;\"/></g><g class=\"point\"><path d=\"M0,103.82V75.18H173.34V103.82Z\" style=\"vector-effect: non-scaling-stroke; opacity: 1; stroke-width: 0.5px; fill: rgb(71, 42, 121); fill-opacity: 1; stroke: rgb(229, 236, 246); stroke-opacity: 1;\"/></g><g class=\"point\"><path d=\"M0,68.02V39.38H297.1V68.02Z\" style=\"vector-effect: non-scaling-stroke; opacity: 1; stroke-width: 0.5px; fill: rgb(40, 126, 142); fill-opacity: 1; stroke: rgb(229, 236, 246); stroke-opacity: 1;\"/></g><g class=\"point\"><path d=\"M0,32.22V3.58H527.25V32.22Z\" style=\"vector-effect: non-scaling-stroke; opacity: 1; stroke-width: 0.5px; fill: rgb(253, 231, 37); fill-opacity: 1; stroke: rgb(229, 236, 246); stroke-opacity: 1;\"/></g></g></g></g></g><g class=\"overplot\"/><path class=\"xlines-above crisp\" d=\"M0,0\" style=\"fill: none;\"/><path class=\"ylines-above crisp\" d=\"M0,0\" style=\"fill: none;\"/><g class=\"overlines-above\"/><g class=\"xaxislayer-above\"><g class=\"xtick\"><text text-anchor=\"middle\" x=\"0\" y=\"411\" transform=\"translate(154,0)\" style=\"font-family: 'Open Sans', verdana, arial, sans-serif; font-size: 12px; fill: rgb(42, 63, 95); fill-opacity: 1; white-space: pre; opacity: 1;\">0</text></g><g class=\"xtick\"><text text-anchor=\"middle\" x=\"0\" y=\"411\" style=\"font-family: 'Open Sans', verdana, arial, sans-serif; font-size: 12px; fill: rgb(42, 63, 95); fill-opacity: 1; white-space: pre; opacity: 1;\" transform=\"translate(291.16999999999996,0)\">20k</text></g><g class=\"xtick\"><text text-anchor=\"middle\" x=\"0\" y=\"411\" style=\"font-family: 'Open Sans', verdana, arial, sans-serif; font-size: 12px; fill: rgb(42, 63, 95); fill-opacity: 1; white-space: pre; opacity: 1;\" transform=\"translate(428.34,0)\">40k</text></g><g class=\"xtick\"><text text-anchor=\"middle\" x=\"0\" y=\"411\" style=\"font-family: 'Open Sans', verdana, arial, sans-serif; font-size: 12px; fill: rgb(42, 63, 95); fill-opacity: 1; white-space: pre; opacity: 1;\" transform=\"translate(565.51,0)\">60k</text></g><g class=\"xtick\"><text text-anchor=\"middle\" x=\"0\" y=\"411\" style=\"font-family: 'Open Sans', verdana, arial, sans-serif; font-size: 12px; fill: rgb(42, 63, 95); fill-opacity: 1; white-space: pre; opacity: 1;\" transform=\"translate(702.68,0)\">80k</text></g></g><g class=\"yaxislayer-above\"><g class=\"ytick\"><text text-anchor=\"end\" x=\"153\" y=\"4.199999999999999\" transform=\"translate(0,380.1)\" style=\"font-family: 'Open Sans', verdana, arial, sans-serif; font-size: 12px; fill: rgb(42, 63, 95); fill-opacity: 1; white-space: pre; opacity: 1;\">Starbound</text></g><g class=\"ytick\"><text text-anchor=\"end\" x=\"153\" y=\"4.199999999999999\" transform=\"translate(0,344.3)\" style=\"font-family: 'Open Sans', verdana, arial, sans-serif; font-size: 12px; fill: rgb(42, 63, 95); fill-opacity: 1; white-space: pre; opacity: 1;\">Heroes &amp; Generals</text></g><g class=\"ytick\"><text text-anchor=\"end\" x=\"153\" y=\"4.199999999999999\" transform=\"translate(0,308.5)\" style=\"font-family: 'Open Sans', verdana, arial, sans-serif; font-size: 12px; fill: rgb(42, 63, 95); fill-opacity: 1; white-space: pre; opacity: 1;\">Garry's Mod</text></g><g class=\"ytick\"><text text-anchor=\"end\" x=\"153\" y=\"4.199999999999999\" transform=\"translate(0,272.7)\" style=\"font-family: 'Open Sans', verdana, arial, sans-serif; font-size: 12px; fill: rgb(42, 63, 95); fill-opacity: 1; white-space: pre; opacity: 1;\">Portal 2</text></g><g class=\"ytick\"><text text-anchor=\"end\" x=\"153\" y=\"4.199999999999999\" transform=\"translate(0,236.9)\" style=\"font-family: 'Open Sans', verdana, arial, sans-serif; font-size: 12px; fill: rgb(42, 63, 95); fill-opacity: 1; white-space: pre; opacity: 1;\">Undertale</text></g><g class=\"ytick\"><text text-anchor=\"end\" x=\"153\" y=\"4.199999999999999\" transform=\"translate(0,201.1)\" style=\"font-family: 'Open Sans', verdana, arial, sans-serif; font-size: 12px; fill: rgb(42, 63, 95); fill-opacity: 1; white-space: pre; opacity: 1;\">DayZ</text></g><g class=\"ytick\"><text text-anchor=\"end\" x=\"153\" y=\"4.199999999999999\" transform=\"translate(0,165.3)\" style=\"font-family: 'Open Sans', verdana, arial, sans-serif; font-size: 12px; fill: rgb(42, 63, 95); fill-opacity: 1; white-space: pre; opacity: 1;\">Robocraft</text></g><g class=\"ytick\"><text text-anchor=\"end\" x=\"153\" y=\"4.199999999999999\" transform=\"translate(0,129.5)\" style=\"font-family: 'Open Sans', verdana, arial, sans-serif; font-size: 12px; fill: rgb(42, 63, 95); fill-opacity: 1; white-space: pre; opacity: 1;\">Grand Theft Auto V</text></g><g class=\"ytick\"><text text-anchor=\"end\" x=\"153\" y=\"4.199999999999999\" transform=\"translate(0,93.7)\" style=\"font-family: 'Open Sans', verdana, arial, sans-serif; font-size: 12px; fill: rgb(42, 63, 95); fill-opacity: 1; white-space: pre; opacity: 1;\">Rust</text></g><g class=\"ytick\"><text text-anchor=\"end\" x=\"153\" y=\"4.199999999999999\" transform=\"translate(0,57.9)\" style=\"font-family: 'Open Sans', verdana, arial, sans-serif; font-size: 12px; fill: rgb(42, 63, 95); fill-opacity: 1; white-space: pre; opacity: 1;\">Team Fortress 2</text></g></g><g class=\"overaxes-above\"/></g></g><g class=\"polarlayer\"/><g class=\"ternarylayer\"/><g class=\"geolayer\"/><g class=\"funnelarealayer\"/><g class=\"pielayer\"/><g class=\"iciclelayer\"/><g class=\"treemaplayer\"/><g class=\"sunburstlayer\"/><g class=\"glimages\"/><defs id=\"topdefs-a6e9e8\"><g class=\"clips\"/></defs><g class=\"layer-above\"><g class=\"imagelayer\"/><g class=\"shapelayer\"/></g><g class=\"infolayer\"><g class=\"cbcoloraxis colorbar\" transform=\"translate(154,40)\"><rect class=\"cbbg\" x=\"566\" y=\"0\" width=\"168.296875\" height=\"358\" style=\"fill: rgb(0, 0, 0); fill-opacity: 0; stroke: rgb(68, 68, 68); stroke-opacity: 1; stroke-width: 0;\"/><g class=\"cbfills\" transform=\"translate(0,32)\"><rect class=\"cbfill\" x=\"576\" width=\"30\" y=\"0\" height=\"316\" style=\"fill: url('#ga6e9e8-cbcoloraxis');\"/></g><g class=\"cblines\" transform=\"translate(0,32)\"/><g class=\"cbaxis crisp\" transform=\"translate(0,-40)\"><g class=\"ycbcoloraxistick\"><text text-anchor=\"start\" x=\"608.9\" y=\"4.199999999999999\" transform=\"translate(0,378.95)\" style=\"font-family: 'Open Sans', verdana, arial, sans-serif; font-size: 12px; fill: rgb(42, 63, 95); fill-opacity: 1; white-space: pre; opacity: 1;\">20k</text></g><g class=\"ycbcoloraxistick\"><text text-anchor=\"start\" x=\"608.9\" y=\"4.199999999999999\" style=\"font-family: 'Open Sans', verdana, arial, sans-serif; font-size: 12px; fill: rgb(42, 63, 95); fill-opacity: 1; white-space: pre; opacity: 1;\" transform=\"translate(0,324.98)\">30k</text></g><g class=\"ycbcoloraxistick\"><text text-anchor=\"start\" x=\"608.9\" y=\"4.199999999999999\" style=\"font-family: 'Open Sans', verdana, arial, sans-serif; font-size: 12px; fill: rgb(42, 63, 95); fill-opacity: 1; white-space: pre; opacity: 1;\" transform=\"translate(0,271.01)\">40k</text></g><g class=\"ycbcoloraxistick\"><text text-anchor=\"start\" x=\"608.9\" y=\"4.199999999999999\" style=\"font-family: 'Open Sans', verdana, arial, sans-serif; font-size: 12px; fill: rgb(42, 63, 95); fill-opacity: 1; white-space: pre; opacity: 1;\" transform=\"translate(0,217.04)\">50k</text></g><g class=\"ycbcoloraxistick\"><text text-anchor=\"start\" x=\"608.9\" y=\"4.199999999999999\" style=\"font-family: 'Open Sans', verdana, arial, sans-serif; font-size: 12px; fill: rgb(42, 63, 95); fill-opacity: 1; white-space: pre; opacity: 1;\" transform=\"translate(0,163.07)\">60k</text></g><g class=\"ycbcoloraxistick\"><text text-anchor=\"start\" x=\"608.9\" y=\"4.199999999999999\" style=\"font-family: 'Open Sans', verdana, arial, sans-serif; font-size: 12px; fill: rgb(42, 63, 95); fill-opacity: 1; white-space: pre; opacity: 1;\" transform=\"translate(0,109.1)\">70k</text></g></g><g class=\"cbtitleunshift\" transform=\"translate(-154,-40)\"><g class=\"cbtitle\" transform=\"\"><text class=\"ycbcoloraxistitle\" x=\"730.1\" y=\"63.50000000000001\" text-anchor=\"start\" style=\"font-family: 'Open Sans', verdana, arial, sans-serif; font-size: 14px; fill: rgb(42, 63, 95); opacity: 1; font-weight: normal; white-space: pre;\">Cantidad de usuarios</text></g></g><rect class=\"cboutline\" x=\"576\" y=\"32\" width=\"30\" height=\"316\" style=\"stroke: rgb(68, 68, 68); stroke-opacity: 1; fill: none; stroke-width: 0;\"/></g><g class=\"g-gtitle\"><text class=\"gtitle\" x=\"45\" y=\"20\" text-anchor=\"start\" dy=\"0em\" style=\"font-family: 'Open Sans', verdana, arial, sans-serif; font-size: 17px; fill: rgb(42, 63, 95); opacity: 1; font-weight: normal; white-space: pre;\">Videojuegos más populares</text></g><g class=\"g-xtitle\"><text class=\"xtitle\" x=\"431.5\" y=\"438.3\" text-anchor=\"middle\" style=\"font-family: 'Open Sans', verdana, arial, sans-serif; font-size: 14px; fill: rgb(42, 63, 95); opacity: 1; font-weight: normal; white-space: pre;\">Cantidad de usuarios</text></g><g class=\"g-ytitle\" transform=\"translate(2.2685546875,0)\"><text class=\"ytitle\" transform=\"rotate(-90,11.731249999999989,219)\" x=\"11.731249999999989\" y=\"219\" text-anchor=\"middle\" style=\"font-family: 'Open Sans', verdana, arial, sans-serif; font-size: 14px; fill: rgb(42, 63, 95); opacity: 1; font-weight: normal; white-space: pre;\">Videojuegos</text></g></g></svg>"
      ],
      "text/plain": [
       "<IPython.core.display.SVG object>"
      ]
     },
     "metadata": {},
     "output_type": "display_data"
    }
   ],
   "source": [
    "fig = px.bar(top10.sort_values(by='amount'), y='app_name', x='amount', color='amount', title='Videojuegos más populares',\n",
    "             color_continuous_scale='viridis',\n",
    "             labels={'app_name': 'Videojuegos',\n",
    "                     \"amount\": 'Cantidad de usuarios'},\n",
    "             hover_data=HOVER_DATA_COLUMNS,\n",
    "             width=900,\n",
    "             height=450\n",
    "             )\n",
    "fig.update_layout(paper_bgcolor='#FAFAFA',\n",
    "                  margin=dict(l=20, r=20, t=40, b=50)\n",
    "                  )\n",
    "# Jupyter\n",
    "#fig.show()\n",
    "\n",
    "# Static\n",
    "display(SVG(fig.to_image(format='svg')))"
   ]
  },
  {
   "cell_type": "code",
   "execution_count": 79,
   "id": "61d2128a-205a-4f6f-a5fd-6d354ab20ca5",
   "metadata": {},
   "outputs": [],
   "source": [
    "# Valores a graficar\n",
    "\n",
    "HOVER_DATA_COLUMNS = ['publisher', 'release_date', 'genres', 'category_price']"
   ]
  },
  {
   "cell_type": "code",
   "execution_count": 80,
   "id": "e6d6e549-52de-4762-9b72-681e46b2058d",
   "metadata": {},
   "outputs": [
    {
     "data": {
      "image/svg+xml": [
       "<svg xmlns=\"http://www.w3.org/2000/svg\" xmlns:xlink=\"http://www.w3.org/1999/xlink\" class=\"main-svg\" width=\"900\" height=\"450\" style=\"\" viewBox=\"0 0 900 450\"><rect x=\"0\" y=\"0\" width=\"900\" height=\"450\" style=\"fill: rgb(250, 250, 250); fill-opacity: 1;\"/><defs id=\"defs-140c87\"><g class=\"clips\"><clipPath id=\"clip140c87xyplot\" class=\"plotclip\"><rect width=\"555\" height=\"358\"/></clipPath><clipPath class=\"axesclip\" id=\"clip140c87x\"><rect x=\"154\" y=\"0\" width=\"555\" height=\"450\"/></clipPath><clipPath class=\"axesclip\" id=\"clip140c87y\"><rect x=\"0\" y=\"40\" width=\"900\" height=\"358\"/></clipPath><clipPath class=\"axesclip\" id=\"clip140c87xy\"><rect x=\"154\" y=\"40\" width=\"555\" height=\"358\"/></clipPath></g><g class=\"gradients\"><linearGradient x1=\"0\" x2=\"0\" y1=\"1\" y2=\"0\" id=\"g140c87-cbcoloraxis\"><stop offset=\"0%\" stop-color=\"rgb(68, 1, 84)\" stop-opacity=\"1\"/><stop offset=\"11.111111%\" stop-color=\"rgb(72, 40, 120)\" stop-opacity=\"1\"/><stop offset=\"22.222222%\" stop-color=\"rgb(62, 73, 137)\" stop-opacity=\"1\"/><stop offset=\"33.333333%\" stop-color=\"rgb(49, 104, 142)\" stop-opacity=\"1\"/><stop offset=\"44.444444%\" stop-color=\"rgb(38, 130, 142)\" stop-opacity=\"1\"/><stop offset=\"55.555556%\" stop-color=\"rgb(31, 158, 137)\" stop-opacity=\"1\"/><stop offset=\"66.666667%\" stop-color=\"rgb(53, 183, 121)\" stop-opacity=\"1\"/><stop offset=\"77.777778%\" stop-color=\"rgb(110, 206, 88)\" stop-opacity=\"1\"/><stop offset=\"88.888889%\" stop-color=\"rgb(181, 222, 43)\" stop-opacity=\"1\"/><stop offset=\"100%\" stop-color=\"rgb(253, 231, 37)\" stop-opacity=\"1\"/></linearGradient></g><g class=\"patterns\"/></defs><g class=\"bglayer\"><rect class=\"bg\" x=\"154\" y=\"40\" width=\"555\" height=\"358\" style=\"fill: rgb(229, 236, 246); fill-opacity: 1; stroke-width: 0;\"/></g><g class=\"layer-below\"><g class=\"imagelayer\"/><g class=\"shapelayer\"/></g><g class=\"cartesianlayer\"><g class=\"subplot xy\"><g class=\"layer-subplot\"><g class=\"shapelayer\"/><g class=\"imagelayer\"/></g><g class=\"gridlayer\"><g class=\"x\"><path class=\"xgrid crisp\" transform=\"translate(291.16999999999996,0)\" d=\"M0,40v358\" style=\"stroke: rgb(255, 255, 255); stroke-opacity: 1; stroke-width: 1px;\"/><path class=\"xgrid crisp\" transform=\"translate(428.34,0)\" d=\"M0,40v358\" style=\"stroke: rgb(255, 255, 255); stroke-opacity: 1; stroke-width: 1px;\"/><path class=\"xgrid crisp\" transform=\"translate(565.51,0)\" d=\"M0,40v358\" style=\"stroke: rgb(255, 255, 255); stroke-opacity: 1; stroke-width: 1px;\"/><path class=\"xgrid crisp\" transform=\"translate(702.68,0)\" d=\"M0,40v358\" style=\"stroke: rgb(255, 255, 255); stroke-opacity: 1; stroke-width: 1px;\"/></g><g class=\"y\"/></g><g class=\"zerolinelayer\"><path class=\"xzl zl crisp\" transform=\"translate(154,0)\" d=\"M0,40v358\" style=\"stroke: rgb(255, 255, 255); stroke-opacity: 1; stroke-width: 2px;\"/></g><path class=\"xlines-below\"/><path class=\"ylines-below\"/><g class=\"overlines-below\"/><g class=\"xaxislayer-below\"/><g class=\"yaxislayer-below\"/><g class=\"overaxes-below\"/><g class=\"plot\" transform=\"translate(154,40)\" clip-path=\"url(#clip140c87xyplot)\"><g class=\"barlayer mlayer\"><g class=\"trace bars\" style=\"opacity: 1;\"><g class=\"points\"><g class=\"point\"><path d=\"M0,354.42V325.78H125.68V354.42Z\" style=\"vector-effect: non-scaling-stroke; opacity: 1; stroke-width: 0.5px; fill: rgb(68, 1, 84); fill-opacity: 1; stroke: rgb(229, 236, 246); stroke-opacity: 1;\"/></g><g class=\"point\"><path d=\"M0,318.62V289.98H131V318.62Z\" style=\"vector-effect: non-scaling-stroke; opacity: 1; stroke-width: 0.5px; fill: rgb(68, 6, 88); fill-opacity: 1; stroke: rgb(229, 236, 246); stroke-opacity: 1;\"/></g><g class=\"point\"><path d=\"M0,282.82V254.18H141.06V282.82Z\" style=\"vector-effect: non-scaling-stroke; opacity: 1; stroke-width: 0.5px; fill: rgb(69, 14, 96); fill-opacity: 1; stroke: rgb(229, 236, 246); stroke-opacity: 1;\"/></g><g class=\"point\"><path d=\"M0,247.02V218.38H163.72V247.02Z\" style=\"vector-effect: non-scaling-stroke; opacity: 1; stroke-width: 0.5px; fill: rgb(71, 34, 115); fill-opacity: 1; stroke: rgb(229, 236, 246); stroke-opacity: 1;\"/></g><g class=\"point\"><path d=\"M0,211.22V182.58H166V211.22Z\" style=\"vector-effect: non-scaling-stroke; opacity: 1; stroke-width: 0.5px; fill: rgb(72, 36, 117); fill-opacity: 1; stroke: rgb(229, 236, 246); stroke-opacity: 1;\"/></g><g class=\"point\"><path d=\"M0,175.42V146.78H166.13V175.42Z\" style=\"vector-effect: non-scaling-stroke; opacity: 1; stroke-width: 0.5px; fill: rgb(72, 36, 117); fill-opacity: 1; stroke: rgb(229, 236, 246); stroke-opacity: 1;\"/></g><g class=\"point\"><path d=\"M0,139.62V110.98H170.75V139.62Z\" style=\"vector-effect: non-scaling-stroke; opacity: 1; stroke-width: 0.5px; fill: rgb(72, 40, 120); fill-opacity: 1; stroke: rgb(229, 236, 246); stroke-opacity: 1;\"/></g><g class=\"point\"><path d=\"M0,103.82V75.18H173.34V103.82Z\" style=\"vector-effect: non-scaling-stroke; opacity: 1; stroke-width: 0.5px; fill: rgb(71, 42, 121); fill-opacity: 1; stroke: rgb(229, 236, 246); stroke-opacity: 1;\"/></g><g class=\"point\"><path d=\"M0,68.02V39.38H297.1V68.02Z\" style=\"vector-effect: non-scaling-stroke; opacity: 1; stroke-width: 0.5px; fill: rgb(40, 126, 142); fill-opacity: 1; stroke: rgb(229, 236, 246); stroke-opacity: 1;\"/></g><g class=\"point\"><path d=\"M0,32.22V3.58H527.25V32.22Z\" style=\"vector-effect: non-scaling-stroke; opacity: 1; stroke-width: 0.5px; fill: rgb(253, 231, 37); fill-opacity: 1; stroke: rgb(229, 236, 246); stroke-opacity: 1;\"/></g></g></g></g></g><g class=\"overplot\"/><path class=\"xlines-above crisp\" d=\"M0,0\" style=\"fill: none;\"/><path class=\"ylines-above crisp\" d=\"M0,0\" style=\"fill: none;\"/><g class=\"overlines-above\"/><g class=\"xaxislayer-above\"><g class=\"xtick\"><text text-anchor=\"middle\" x=\"0\" y=\"411\" transform=\"translate(154,0)\" style=\"font-family: 'Open Sans', verdana, arial, sans-serif; font-size: 12px; fill: rgb(42, 63, 95); fill-opacity: 1; white-space: pre; opacity: 1;\">0</text></g><g class=\"xtick\"><text text-anchor=\"middle\" x=\"0\" y=\"411\" style=\"font-family: 'Open Sans', verdana, arial, sans-serif; font-size: 12px; fill: rgb(42, 63, 95); fill-opacity: 1; white-space: pre; opacity: 1;\" transform=\"translate(291.16999999999996,0)\">20k</text></g><g class=\"xtick\"><text text-anchor=\"middle\" x=\"0\" y=\"411\" style=\"font-family: 'Open Sans', verdana, arial, sans-serif; font-size: 12px; fill: rgb(42, 63, 95); fill-opacity: 1; white-space: pre; opacity: 1;\" transform=\"translate(428.34,0)\">40k</text></g><g class=\"xtick\"><text text-anchor=\"middle\" x=\"0\" y=\"411\" style=\"font-family: 'Open Sans', verdana, arial, sans-serif; font-size: 12px; fill: rgb(42, 63, 95); fill-opacity: 1; white-space: pre; opacity: 1;\" transform=\"translate(565.51,0)\">60k</text></g><g class=\"xtick\"><text text-anchor=\"middle\" x=\"0\" y=\"411\" style=\"font-family: 'Open Sans', verdana, arial, sans-serif; font-size: 12px; fill: rgb(42, 63, 95); fill-opacity: 1; white-space: pre; opacity: 1;\" transform=\"translate(702.68,0)\">80k</text></g></g><g class=\"yaxislayer-above\"><g class=\"ytick\"><text text-anchor=\"end\" x=\"153\" y=\"4.199999999999999\" transform=\"translate(0,380.1)\" style=\"font-family: 'Open Sans', verdana, arial, sans-serif; font-size: 12px; fill: rgb(42, 63, 95); fill-opacity: 1; white-space: pre; opacity: 1;\">Starbound</text></g><g class=\"ytick\"><text text-anchor=\"end\" x=\"153\" y=\"4.199999999999999\" transform=\"translate(0,344.3)\" style=\"font-family: 'Open Sans', verdana, arial, sans-serif; font-size: 12px; fill: rgb(42, 63, 95); fill-opacity: 1; white-space: pre; opacity: 1;\">Heroes &amp; Generals</text></g><g class=\"ytick\"><text text-anchor=\"end\" x=\"153\" y=\"4.199999999999999\" transform=\"translate(0,308.5)\" style=\"font-family: 'Open Sans', verdana, arial, sans-serif; font-size: 12px; fill: rgb(42, 63, 95); fill-opacity: 1; white-space: pre; opacity: 1;\">Garry's Mod</text></g><g class=\"ytick\"><text text-anchor=\"end\" x=\"153\" y=\"4.199999999999999\" transform=\"translate(0,272.7)\" style=\"font-family: 'Open Sans', verdana, arial, sans-serif; font-size: 12px; fill: rgb(42, 63, 95); fill-opacity: 1; white-space: pre; opacity: 1;\">Portal 2</text></g><g class=\"ytick\"><text text-anchor=\"end\" x=\"153\" y=\"4.199999999999999\" transform=\"translate(0,236.9)\" style=\"font-family: 'Open Sans', verdana, arial, sans-serif; font-size: 12px; fill: rgb(42, 63, 95); fill-opacity: 1; white-space: pre; opacity: 1;\">Undertale</text></g><g class=\"ytick\"><text text-anchor=\"end\" x=\"153\" y=\"4.199999999999999\" transform=\"translate(0,201.1)\" style=\"font-family: 'Open Sans', verdana, arial, sans-serif; font-size: 12px; fill: rgb(42, 63, 95); fill-opacity: 1; white-space: pre; opacity: 1;\">DayZ</text></g><g class=\"ytick\"><text text-anchor=\"end\" x=\"153\" y=\"4.199999999999999\" transform=\"translate(0,165.3)\" style=\"font-family: 'Open Sans', verdana, arial, sans-serif; font-size: 12px; fill: rgb(42, 63, 95); fill-opacity: 1; white-space: pre; opacity: 1;\">Robocraft</text></g><g class=\"ytick\"><text text-anchor=\"end\" x=\"153\" y=\"4.199999999999999\" transform=\"translate(0,129.5)\" style=\"font-family: 'Open Sans', verdana, arial, sans-serif; font-size: 12px; fill: rgb(42, 63, 95); fill-opacity: 1; white-space: pre; opacity: 1;\">Grand Theft Auto V</text></g><g class=\"ytick\"><text text-anchor=\"end\" x=\"153\" y=\"4.199999999999999\" transform=\"translate(0,93.7)\" style=\"font-family: 'Open Sans', verdana, arial, sans-serif; font-size: 12px; fill: rgb(42, 63, 95); fill-opacity: 1; white-space: pre; opacity: 1;\">Rust</text></g><g class=\"ytick\"><text text-anchor=\"end\" x=\"153\" y=\"4.199999999999999\" transform=\"translate(0,57.9)\" style=\"font-family: 'Open Sans', verdana, arial, sans-serif; font-size: 12px; fill: rgb(42, 63, 95); fill-opacity: 1; white-space: pre; opacity: 1;\">Team Fortress 2</text></g></g><g class=\"overaxes-above\"/></g></g><g class=\"polarlayer\"/><g class=\"ternarylayer\"/><g class=\"geolayer\"/><g class=\"funnelarealayer\"/><g class=\"pielayer\"/><g class=\"iciclelayer\"/><g class=\"treemaplayer\"/><g class=\"sunburstlayer\"/><g class=\"glimages\"/><defs id=\"topdefs-140c87\"><g class=\"clips\"/></defs><g class=\"layer-above\"><g class=\"imagelayer\"/><g class=\"shapelayer\"/></g><g class=\"infolayer\"><g class=\"cbcoloraxis colorbar\" transform=\"translate(154,40)\"><rect class=\"cbbg\" x=\"566\" y=\"0\" width=\"168.296875\" height=\"358\" style=\"fill: rgb(0, 0, 0); fill-opacity: 0; stroke: rgb(68, 68, 68); stroke-opacity: 1; stroke-width: 0;\"/><g class=\"cbfills\" transform=\"translate(0,32)\"><rect class=\"cbfill\" x=\"576\" width=\"30\" y=\"0\" height=\"316\" style=\"fill: url('#g140c87-cbcoloraxis');\"/></g><g class=\"cblines\" transform=\"translate(0,32)\"/><g class=\"cbaxis crisp\" transform=\"translate(0,-40)\"><g class=\"ycbcoloraxistick\"><text text-anchor=\"start\" x=\"608.9\" y=\"4.199999999999999\" transform=\"translate(0,378.95)\" style=\"font-family: 'Open Sans', verdana, arial, sans-serif; font-size: 12px; fill: rgb(42, 63, 95); fill-opacity: 1; white-space: pre; opacity: 1;\">20k</text></g><g class=\"ycbcoloraxistick\"><text text-anchor=\"start\" x=\"608.9\" y=\"4.199999999999999\" style=\"font-family: 'Open Sans', verdana, arial, sans-serif; font-size: 12px; fill: rgb(42, 63, 95); fill-opacity: 1; white-space: pre; opacity: 1;\" transform=\"translate(0,324.98)\">30k</text></g><g class=\"ycbcoloraxistick\"><text text-anchor=\"start\" x=\"608.9\" y=\"4.199999999999999\" style=\"font-family: 'Open Sans', verdana, arial, sans-serif; font-size: 12px; fill: rgb(42, 63, 95); fill-opacity: 1; white-space: pre; opacity: 1;\" transform=\"translate(0,271.01)\">40k</text></g><g class=\"ycbcoloraxistick\"><text text-anchor=\"start\" x=\"608.9\" y=\"4.199999999999999\" style=\"font-family: 'Open Sans', verdana, arial, sans-serif; font-size: 12px; fill: rgb(42, 63, 95); fill-opacity: 1; white-space: pre; opacity: 1;\" transform=\"translate(0,217.04)\">50k</text></g><g class=\"ycbcoloraxistick\"><text text-anchor=\"start\" x=\"608.9\" y=\"4.199999999999999\" style=\"font-family: 'Open Sans', verdana, arial, sans-serif; font-size: 12px; fill: rgb(42, 63, 95); fill-opacity: 1; white-space: pre; opacity: 1;\" transform=\"translate(0,163.07)\">60k</text></g><g class=\"ycbcoloraxistick\"><text text-anchor=\"start\" x=\"608.9\" y=\"4.199999999999999\" style=\"font-family: 'Open Sans', verdana, arial, sans-serif; font-size: 12px; fill: rgb(42, 63, 95); fill-opacity: 1; white-space: pre; opacity: 1;\" transform=\"translate(0,109.1)\">70k</text></g></g><g class=\"cbtitleunshift\" transform=\"translate(-154,-40)\"><g class=\"cbtitle\" transform=\"\"><text class=\"ycbcoloraxistitle\" x=\"730.1\" y=\"63.50000000000001\" text-anchor=\"start\" style=\"font-family: 'Open Sans', verdana, arial, sans-serif; font-size: 14px; fill: rgb(42, 63, 95); opacity: 1; font-weight: normal; white-space: pre;\">Cantidad de usuarios</text></g></g><rect class=\"cboutline\" x=\"576\" y=\"32\" width=\"30\" height=\"316\" style=\"stroke: rgb(68, 68, 68); stroke-opacity: 1; fill: none; stroke-width: 0;\"/></g><g class=\"g-gtitle\"><text class=\"gtitle\" x=\"45\" y=\"20\" text-anchor=\"start\" dy=\"0em\" style=\"font-family: 'Open Sans', verdana, arial, sans-serif; font-size: 17px; fill: rgb(42, 63, 95); opacity: 1; font-weight: normal; white-space: pre;\">Videojuegos más populares</text></g><g class=\"g-xtitle\"><text class=\"xtitle\" x=\"431.5\" y=\"438.3\" text-anchor=\"middle\" style=\"font-family: 'Open Sans', verdana, arial, sans-serif; font-size: 14px; fill: rgb(42, 63, 95); opacity: 1; font-weight: normal; white-space: pre;\">Cantidad de usuarios</text></g><g class=\"g-ytitle\" transform=\"translate(2.2685546875,0)\"><text class=\"ytitle\" transform=\"rotate(-90,11.731249999999989,219)\" x=\"11.731249999999989\" y=\"219\" text-anchor=\"middle\" style=\"font-family: 'Open Sans', verdana, arial, sans-serif; font-size: 14px; fill: rgb(42, 63, 95); opacity: 1; font-weight: normal; white-space: pre;\">Videojuegos</text></g></g></svg>"
      ],
      "text/plain": [
       "<IPython.core.display.SVG object>"
      ]
     },
     "metadata": {},
     "output_type": "display_data"
    }
   ],
   "source": [
    "fig = px.bar(top10.sort_values(by='amount'), y='app_name', x='amount', color='amount', title='Videojuegos más populares',\n",
    "             color_continuous_scale='viridis',\n",
    "             labels={'app_name': 'Videojuegos',\n",
    "                     \"amount\": 'Cantidad de usuarios'},\n",
    "             hover_data=HOVER_DATA_COLUMNS,\n",
    "             width=900,\n",
    "             height=450\n",
    "             )\n",
    "fig.update_layout(paper_bgcolor='#FAFAFA',\n",
    "                  margin=dict(l=20, r=20, t=40, b=50)\n",
    "                  )\n",
    "# Jupyter\n",
    "#fig.show()\n",
    "\n",
    "# Static\n",
    "display(SVG(fig.to_image(format='svg')))"
   ]
  },
  {
   "cell_type": "markdown",
   "id": "57261081-9818-4558-928c-a43c778adf55",
   "metadata": {},
   "source": [
    "###### Videos con mayor tiempo de juego"
   ]
  },
  {
   "cell_type": "code",
   "execution_count": 81,
   "id": "8835fc9e-66e9-42b4-b848-7017a1d60809",
   "metadata": {},
   "outputs": [],
   "source": [
    "hours_by_productId = data_reviews.groupby('product_id', as_index=False).hours.sum()\n",
    "\n",
    "reviews_games_hours = pd.merge(hours_by_productId, data_games, left_on='product_id',\n",
    "                               right_on='id').sort_values(by='hours', ascending=False)\n",
    "\n",
    "hours10 = reviews_games_hours.head(10).sort_values(by='hours')"
   ]
  },
  {
   "cell_type": "code",
   "execution_count": 82,
   "id": "29ca9724-675c-4fb6-bfd6-faddb28f1611",
   "metadata": {},
   "outputs": [
    {
     "name": "stderr",
     "output_type": "stream",
     "text": [
      "/Users/Hernandelval/opt/miniconda3/envs/snakes/lib/python3.8/site-packages/seaborn/distributions.py:2619: FutureWarning:\n",
      "\n",
      "`distplot` is a deprecated function and will be removed in a future version. Please adapt your code to use either `displot` (a figure-level function with similar flexibility) or `histplot` (an axes-level function for histograms).\n",
      "\n"
     ]
    },
    {
     "data": {
      "text/plain": [
       "<AxesSubplot:xlabel='product_id', ylabel='Density'>"
      ]
     },
     "execution_count": 82,
     "metadata": {},
     "output_type": "execute_result"
    },
    {
     "data": {
      "image/png": "[encoded data removed]",
      "text/plain": [
       "<Figure size 432x288 with 1 Axes>"
      ]
     },
     "metadata": {
      "needs_background": "light"
     },
     "output_type": "display_data"
    }
   ],
   "source": [
    "sns.distplot(hours_by_productId['product_id'], bins = 20)"
   ]
  },
  {
   "cell_type": "markdown",
   "id": "bbd1e31d-5a13-4071-a032-82b7682830fa",
   "metadata": {},
   "source": [
    "##### Género más popular"
   ]
  },
  {
   "cell_type": "code",
   "execution_count": 83,
   "id": "59344675-8a7c-405d-b315-e68d43c58e78",
   "metadata": {},
   "outputs": [],
   "source": [
    "all_genres = list(itertools.chain(*data_games.genres))\n",
    "value, count = np.unique(all_genres, return_counts=True)\n",
    "order = np.argsort(count)"
   ]
  },
  {
   "cell_type": "code",
   "execution_count": 84,
   "id": "8bf73f93-25e1-4a53-a60e-2548dc674f31",
   "metadata": {},
   "outputs": [
    {
     "data": {
      "image/svg+xml": [
       "<svg xmlns=\"http://www.w3.org/2000/svg\" xmlns:xlink=\"http://www.w3.org/1999/xlink\" class=\"main-svg\" width=\"850\" height=\"550\" style=\"\" viewBox=\"0 0 850 550\"><rect x=\"0\" y=\"0\" width=\"850\" height=\"550\" style=\"fill: rgb(250, 250, 250); fill-opacity: 1;\"/><defs id=\"defs-325673\"><g class=\"clips\"><clipPath id=\"clip325673xyplot\" class=\"plotclip\"><rect width=\"582\" height=\"416\"/></clipPath><clipPath class=\"axesclip\" id=\"clip325673x\"><rect x=\"164\" y=\"0\" width=\"582\" height=\"550\"/></clipPath><clipPath class=\"axesclip\" id=\"clip325673y\"><rect x=\"0\" y=\"54\" width=\"850\" height=\"416\"/></clipPath><clipPath class=\"axesclip\" id=\"clip325673xy\"><rect x=\"164\" y=\"54\" width=\"582\" height=\"416\"/></clipPath></g><g class=\"gradients\"><linearGradient x1=\"0\" x2=\"0\" y1=\"1\" y2=\"0\" id=\"g325673-cbcoloraxis\"><stop offset=\"0%\" stop-color=\"rgb(211, 242, 163)\" stop-opacity=\"1\"/><stop offset=\"16.666667%\" stop-color=\"rgb(151, 225, 150)\" stop-opacity=\"1\"/><stop offset=\"33.333333%\" stop-color=\"rgb(108, 192, 139)\" stop-opacity=\"1\"/><stop offset=\"50%\" stop-color=\"rgb(76, 155, 130)\" stop-opacity=\"1\"/><stop offset=\"66.666667%\" stop-color=\"rgb(33, 122, 121)\" stop-opacity=\"1\"/><stop offset=\"83.333333%\" stop-color=\"rgb(16, 89, 101)\" stop-opacity=\"1\"/><stop offset=\"100%\" stop-color=\"rgb(7, 64, 80)\" stop-opacity=\"1\"/></linearGradient></g><g class=\"patterns\"/></defs><g class=\"bglayer\"><rect class=\"bg\" x=\"164\" y=\"54\" width=\"582\" height=\"416\" style=\"fill: rgb(229, 236, 246); fill-opacity: 1; stroke-width: 0;\"/></g><g class=\"layer-below\"><g class=\"imagelayer\"/><g class=\"shapelayer\"/></g><g class=\"cartesianlayer\"><g class=\"subplot xy\"><g class=\"layer-subplot\"><g class=\"shapelayer\"/><g class=\"imagelayer\"/></g><g class=\"gridlayer\"><g class=\"x\"><path class=\"xgrid crisp\" transform=\"translate(271.43,0)\" d=\"M0,54v416\" style=\"stroke: rgb(255, 255, 255); stroke-opacity: 1; stroke-width: 1px;\"/><path class=\"xgrid crisp\" transform=\"translate(378.86,0)\" d=\"M0,54v416\" style=\"stroke: rgb(255, 255, 255); stroke-opacity: 1; stroke-width: 1px;\"/><path class=\"xgrid crisp\" transform=\"translate(486.3,0)\" d=\"M0,54v416\" style=\"stroke: rgb(255, 255, 255); stroke-opacity: 1; stroke-width: 1px;\"/><path class=\"xgrid crisp\" transform=\"translate(593.73,0)\" d=\"M0,54v416\" style=\"stroke: rgb(255, 255, 255); stroke-opacity: 1; stroke-width: 1px;\"/><path class=\"xgrid crisp\" transform=\"translate(701.16,0)\" d=\"M0,54v416\" style=\"stroke: rgb(255, 255, 255); stroke-opacity: 1; stroke-width: 1px;\"/></g><g class=\"y\"/></g><g class=\"zerolinelayer\"><path class=\"xzl zl crisp\" transform=\"translate(164,0)\" d=\"M0,54v416\" style=\"stroke: rgb(255, 255, 255); stroke-opacity: 1; stroke-width: 2px;\"/></g><path class=\"xlines-below\"/><path class=\"ylines-below\"/><g class=\"overlines-below\"/><g class=\"xaxislayer-below\"/><g class=\"yaxislayer-below\"/><g class=\"overaxes-below\"/><g class=\"plot\" transform=\"translate(164,54)\" clip-path=\"url(#clip325673xyplot)\"><g class=\"barlayer mlayer\"><g class=\"trace bars\" style=\"opacity: 1;\"><g class=\"points\"><g class=\"point\"><path d=\"M0,414.19V399.72H0.11V414.19Z\" style=\"vector-effect: non-scaling-stroke; opacity: 1; stroke-width: 0.5px; fill: rgb(211, 242, 163); fill-opacity: 1; stroke: rgb(229, 236, 246); stroke-opacity: 1;\"/></g><g class=\"point\"><path d=\"M0,396.1V381.63H1.24V396.1Z\" style=\"vector-effect: non-scaling-stroke; opacity: 1; stroke-width: 0.5px; fill: rgb(210, 242, 163); fill-opacity: 1; stroke: rgb(229, 236, 246); stroke-opacity: 1;\"/></g><g class=\"point\"><path d=\"M0,378.02V363.55H1.45V378.02Z\" style=\"vector-effect: non-scaling-stroke; opacity: 1; stroke-width: 0.5px; fill: rgb(210, 242, 163); fill-opacity: 1; stroke: rgb(229, 236, 246); stroke-opacity: 1;\"/></g><g class=\"point\"><path d=\"M0,359.93V345.46H1.72V359.93Z\" style=\"vector-effect: non-scaling-stroke; opacity: 1; stroke-width: 0.5px; fill: rgb(210, 242, 163); fill-opacity: 1; stroke: rgb(229, 236, 246); stroke-opacity: 1;\"/></g><g class=\"point\"><path d=\"M0,341.84V327.37H1.88V341.84Z\" style=\"vector-effect: non-scaling-stroke; opacity: 1; stroke-width: 0.5px; fill: rgb(210, 242, 163); fill-opacity: 1; stroke: rgb(229, 236, 246); stroke-opacity: 1;\"/></g><g class=\"point\"><path d=\"M0,323.76V309.29H2.26V323.76Z\" style=\"vector-effect: non-scaling-stroke; opacity: 1; stroke-width: 0.5px; fill: rgb(210, 242, 163); fill-opacity: 1; stroke: rgb(229, 236, 246); stroke-opacity: 1;\"/></g><g class=\"point\"><path d=\"M0,305.67V291.2H3.33V305.67Z\" style=\"vector-effect: non-scaling-stroke; opacity: 1; stroke-width: 0.5px; fill: rgb(209, 241, 163); fill-opacity: 1; stroke: rgb(229, 236, 246); stroke-opacity: 1;\"/></g><g class=\"point\"><path d=\"M0,287.58V273.11H3.44V287.58Z\" style=\"vector-effect: non-scaling-stroke; opacity: 1; stroke-width: 0.5px; fill: rgb(209, 241, 163); fill-opacity: 1; stroke: rgb(229, 236, 246); stroke-opacity: 1;\"/></g><g class=\"point\"><path d=\"M0,269.5V255.03H5.86V269.5Z\" style=\"vector-effect: non-scaling-stroke; opacity: 1; stroke-width: 0.5px; fill: rgb(207, 241, 162); fill-opacity: 1; stroke: rgb(229, 236, 246); stroke-opacity: 1;\"/></g><g class=\"point\"><path d=\"M0,251.41V236.94H7.36V251.41Z\" style=\"vector-effect: non-scaling-stroke; opacity: 1; stroke-width: 0.5px; fill: rgb(206, 241, 162); fill-opacity: 1; stroke: rgb(229, 236, 246); stroke-opacity: 1;\"/></g><g class=\"point\"><path d=\"M0,233.32V218.85H28.36V233.32Z\" style=\"vector-effect: non-scaling-stroke; opacity: 1; stroke-width: 0.5px; fill: rgb(193, 237, 159); fill-opacity: 1; stroke: rgb(229, 236, 246); stroke-opacity: 1;\"/></g><g class=\"point\"><path d=\"M0,215.23V200.77H32.12V215.23Z\" style=\"vector-effect: non-scaling-stroke; opacity: 1; stroke-width: 0.5px; fill: rgb(190, 236, 158); fill-opacity: 1; stroke: rgb(229, 236, 246); stroke-opacity: 1;\"/></g><g class=\"point\"><path d=\"M0,197.15V182.68H35.51V197.15Z\" style=\"vector-effect: non-scaling-stroke; opacity: 1; stroke-width: 0.5px; fill: rgb(188, 235, 158); fill-opacity: 1; stroke: rgb(229, 236, 246); stroke-opacity: 1;\"/></g><g class=\"point\"><path d=\"M0,179.06V164.59H52.75V179.06Z\" style=\"vector-effect: non-scaling-stroke; opacity: 1; stroke-width: 0.5px; fill: rgb(177, 232, 156); fill-opacity: 1; stroke: rgb(229, 236, 246); stroke-opacity: 1;\"/></g><g class=\"point\"><path d=\"M0,160.97V146.5H65.1V160.97Z\" style=\"vector-effect: non-scaling-stroke; opacity: 1; stroke-width: 0.5px; fill: rgb(169, 230, 154); fill-opacity: 1; stroke: rgb(229, 236, 246); stroke-opacity: 1;\"/></g><g class=\"point\"><path d=\"M0,142.89V128.42H98.73V142.89Z\" style=\"vector-effect: non-scaling-stroke; opacity: 1; stroke-width: 0.5px; fill: rgb(148, 223, 149); fill-opacity: 1; stroke: rgb(229, 236, 246); stroke-opacity: 1;\"/></g><g class=\"point\"><path d=\"M0,124.8V110.33H157.66V124.8Z\" style=\"vector-effect: non-scaling-stroke; opacity: 1; stroke-width: 0.5px; fill: rgb(120, 202, 142); fill-opacity: 1; stroke: rgb(229, 236, 246); stroke-opacity: 1;\"/></g><g class=\"point\"><path d=\"M0,106.71V92.24H162.28V106.71Z\" style=\"vector-effect: non-scaling-stroke; opacity: 1; stroke-width: 0.5px; fill: rgb(118, 200, 142); fill-opacity: 1; stroke: rgb(229, 236, 246); stroke-opacity: 1;\"/></g><g class=\"point\"><path d=\"M0,88.63V74.16H197.62V88.63Z\" style=\"vector-effect: non-scaling-stroke; opacity: 1; stroke-width: 0.5px; fill: rgb(103, 187, 138); fill-opacity: 1; stroke: rgb(229, 236, 246); stroke-opacity: 1;\"/></g><g class=\"point\"><path d=\"M0,70.54V56.07H269.23V70.54Z\" style=\"vector-effect: non-scaling-stroke; opacity: 1; stroke-width: 0.5px; fill: rgb(79, 158, 131); fill-opacity: 1; stroke: rgb(229, 236, 246); stroke-opacity: 1;\"/></g><g class=\"point\"><path d=\"M0,52.45V37.98H291.84V52.45Z\" style=\"vector-effect: non-scaling-stroke; opacity: 1; stroke-width: 0.5px; fill: rgb(69, 150, 129); fill-opacity: 1; stroke: rgb(229, 236, 246); stroke-opacity: 1;\"/></g><g class=\"point\"><path d=\"M0,34.37V19.9H362.69V34.37Z\" style=\"vector-effect: non-scaling-stroke; opacity: 1; stroke-width: 0.5px; fill: rgb(36, 124, 122); fill-opacity: 1; stroke: rgb(229, 236, 246); stroke-opacity: 1;\"/></g><g class=\"point\"><path d=\"M0,16.28V1.81H552.9V16.28Z\" style=\"vector-effect: non-scaling-stroke; opacity: 1; stroke-width: 0.5px; fill: rgb(7, 64, 80); fill-opacity: 1; stroke: rgb(229, 236, 246); stroke-opacity: 1;\"/></g></g></g></g></g><g class=\"overplot\"/><path class=\"xlines-above crisp\" d=\"M0,0\" style=\"fill: none;\"/><path class=\"ylines-above crisp\" d=\"M0,0\" style=\"fill: none;\"/><g class=\"overlines-above\"/><g class=\"xaxislayer-above\"><g class=\"xtick\"><text text-anchor=\"middle\" x=\"0\" y=\"483\" transform=\"translate(164,0)\" style=\"font-family: 'Open Sans', verdana, arial, sans-serif; font-size: 12px; fill: rgb(42, 63, 95); fill-opacity: 1; white-space: pre; opacity: 1;\">0</text></g><g class=\"xtick\"><text text-anchor=\"middle\" x=\"0\" y=\"483\" style=\"font-family: 'Open Sans', verdana, arial, sans-serif; font-size: 12px; fill: rgb(42, 63, 95); fill-opacity: 1; white-space: pre; opacity: 1;\" transform=\"translate(271.43,0)\">2k</text></g><g class=\"xtick\"><text text-anchor=\"middle\" x=\"0\" y=\"483\" style=\"font-family: 'Open Sans', verdana, arial, sans-serif; font-size: 12px; fill: rgb(42, 63, 95); fill-opacity: 1; white-space: pre; opacity: 1;\" transform=\"translate(378.86,0)\">4k</text></g><g class=\"xtick\"><text text-anchor=\"middle\" x=\"0\" y=\"483\" style=\"font-family: 'Open Sans', verdana, arial, sans-serif; font-size: 12px; fill: rgb(42, 63, 95); fill-opacity: 1; white-space: pre; opacity: 1;\" transform=\"translate(486.3,0)\">6k</text></g><g class=\"xtick\"><text text-anchor=\"middle\" x=\"0\" y=\"483\" style=\"font-family: 'Open Sans', verdana, arial, sans-serif; font-size: 12px; fill: rgb(42, 63, 95); fill-opacity: 1; white-space: pre; opacity: 1;\" transform=\"translate(593.73,0)\">8k</text></g><g class=\"xtick\"><text text-anchor=\"middle\" x=\"0\" y=\"483\" style=\"font-family: 'Open Sans', verdana, arial, sans-serif; font-size: 12px; fill: rgb(42, 63, 95); fill-opacity: 1; white-space: pre; opacity: 1;\" transform=\"translate(701.16,0)\">10k</text></g></g><g class=\"yaxislayer-above\"><g class=\"ytick\"><text text-anchor=\"end\" x=\"163\" y=\"4.199999999999999\" transform=\"translate(0,460.96)\" style=\"font-family: 'Open Sans', verdana, arial, sans-serif; font-size: 12px; fill: rgb(42, 63, 95); fill-opacity: 1; white-space: pre; opacity: 1;\">Accounting</text></g><g class=\"ytick\"><text text-anchor=\"end\" x=\"163\" y=\"4.199999999999999\" transform=\"translate(0,442.87)\" style=\"font-family: 'Open Sans', verdana, arial, sans-serif; font-size: 12px; fill: rgb(42, 63, 95); fill-opacity: 1; white-space: pre; opacity: 1;\">Software Training</text></g><g class=\"ytick\"><text text-anchor=\"end\" x=\"163\" y=\"4.199999999999999\" transform=\"translate(0,424.78)\" style=\"font-family: 'Open Sans', verdana, arial, sans-serif; font-size: 12px; fill: rgb(42, 63, 95); fill-opacity: 1; white-space: pre; opacity: 1;\">Photo Editing</text></g><g class=\"ytick\"><text text-anchor=\"end\" x=\"163\" y=\"4.199999999999999\" transform=\"translate(0,406.7)\" style=\"font-family: 'Open Sans', verdana, arial, sans-serif; font-size: 12px; fill: rgb(42, 63, 95); fill-opacity: 1; white-space: pre; opacity: 1;\">Video Production</text></g><g class=\"ytick\"><text text-anchor=\"end\" x=\"163\" y=\"4.199999999999999\" transform=\"translate(0,388.61)\" style=\"font-family: 'Open Sans', verdana, arial, sans-serif; font-size: 12px; fill: rgb(42, 63, 95); fill-opacity: 1; white-space: pre; opacity: 1;\">Audio Production</text></g><g class=\"ytick\"><text text-anchor=\"end\" x=\"163\" y=\"4.199999999999999\" transform=\"translate(0,370.52)\" style=\"font-family: 'Open Sans', verdana, arial, sans-serif; font-size: 12px; fill: rgb(42, 63, 95); fill-opacity: 1; white-space: pre; opacity: 1;\">Education</text></g><g class=\"ytick\"><text text-anchor=\"end\" x=\"163\" y=\"4.199999999999999\" transform=\"translate(0,352.43)\" style=\"font-family: 'Open Sans', verdana, arial, sans-serif; font-size: 12px; fill: rgb(42, 63, 95); fill-opacity: 1; white-space: pre; opacity: 1;\">Web Publishing</text></g><g class=\"ytick\"><text text-anchor=\"end\" x=\"163\" y=\"4.199999999999999\" transform=\"translate(0,334.35)\" style=\"font-family: 'Open Sans', verdana, arial, sans-serif; font-size: 12px; fill: rgb(42, 63, 95); fill-opacity: 1; white-space: pre; opacity: 1;\">Animation &amp; Modeling</text></g><g class=\"ytick\"><text text-anchor=\"end\" x=\"163\" y=\"4.199999999999999\" transform=\"translate(0,316.26)\" style=\"font-family: 'Open Sans', verdana, arial, sans-serif; font-size: 12px; fill: rgb(42, 63, 95); fill-opacity: 1; white-space: pre; opacity: 1;\">Utilities</text></g><g class=\"ytick\"><text text-anchor=\"end\" x=\"163\" y=\"4.199999999999999\" transform=\"translate(0,298.16999999999996)\" style=\"font-family: 'Open Sans', verdana, arial, sans-serif; font-size: 12px; fill: rgb(42, 63, 95); fill-opacity: 1; white-space: pre; opacity: 1;\">Design &amp; Illustration</text></g><g class=\"ytick\"><text text-anchor=\"end\" x=\"163\" y=\"4.199999999999999\" transform=\"translate(0,280.09000000000003)\" style=\"font-family: 'Open Sans', verdana, arial, sans-serif; font-size: 12px; fill: rgb(42, 63, 95); fill-opacity: 1; white-space: pre; opacity: 1;\">Massively Multiplayer</text></g><g class=\"ytick\"><text text-anchor=\"end\" x=\"163\" y=\"4.199999999999999\" transform=\"translate(0,262)\" style=\"font-family: 'Open Sans', verdana, arial, sans-serif; font-size: 12px; fill: rgb(42, 63, 95); fill-opacity: 1; white-space: pre; opacity: 1;\">Racing</text></g><g class=\"ytick\"><text text-anchor=\"end\" x=\"163\" y=\"4.199999999999999\" transform=\"translate(0,243.91)\" style=\"font-family: 'Open Sans', verdana, arial, sans-serif; font-size: 12px; fill: rgb(42, 63, 95); fill-opacity: 1; white-space: pre; opacity: 1;\">Sports</text></g><g class=\"ytick\"><text text-anchor=\"end\" x=\"163\" y=\"4.199999999999999\" transform=\"translate(0,225.83)\" style=\"font-family: 'Open Sans', verdana, arial, sans-serif; font-size: 12px; fill: rgb(42, 63, 95); fill-opacity: 1; white-space: pre; opacity: 1;\">Free to Play</text></g><g class=\"ytick\"><text text-anchor=\"end\" x=\"163\" y=\"4.199999999999999\" transform=\"translate(0,207.74)\" style=\"font-family: 'Open Sans', verdana, arial, sans-serif; font-size: 12px; fill: rgb(42, 63, 95); fill-opacity: 1; white-space: pre; opacity: 1;\">Early Access</text></g><g class=\"ytick\"><text text-anchor=\"end\" x=\"163\" y=\"4.199999999999999\" transform=\"translate(0,189.65)\" style=\"font-family: 'Open Sans', verdana, arial, sans-serif; font-size: 12px; fill: rgb(42, 63, 95); fill-opacity: 1; white-space: pre; opacity: 1;\"/></g><g class=\"ytick\"><text text-anchor=\"end\" x=\"163\" y=\"4.199999999999999\" transform=\"translate(0,171.57)\" style=\"font-family: 'Open Sans', verdana, arial, sans-serif; font-size: 12px; fill: rgb(42, 63, 95); fill-opacity: 1; white-space: pre; opacity: 1;\">RPG</text></g><g class=\"ytick\"><text text-anchor=\"end\" x=\"163\" y=\"4.199999999999999\" transform=\"translate(0,153.48000000000002)\" style=\"font-family: 'Open Sans', verdana, arial, sans-serif; font-size: 12px; fill: rgb(42, 63, 95); fill-opacity: 1; white-space: pre; opacity: 1;\">Simulation</text></g><g class=\"ytick\"><text text-anchor=\"end\" x=\"163\" y=\"4.199999999999999\" transform=\"translate(0,135.39)\" style=\"font-family: 'Open Sans', verdana, arial, sans-serif; font-size: 12px; fill: rgb(42, 63, 95); fill-opacity: 1; white-space: pre; opacity: 1;\">Strategy</text></g><g class=\"ytick\"><text text-anchor=\"end\" x=\"163\" y=\"4.199999999999999\" transform=\"translate(0,117.3)\" style=\"font-family: 'Open Sans', verdana, arial, sans-serif; font-size: 12px; fill: rgb(42, 63, 95); fill-opacity: 1; white-space: pre; opacity: 1;\">Casual</text></g><g class=\"ytick\"><text text-anchor=\"end\" x=\"163\" y=\"4.199999999999999\" transform=\"translate(0,99.22)\" style=\"font-family: 'Open Sans', verdana, arial, sans-serif; font-size: 12px; fill: rgb(42, 63, 95); fill-opacity: 1; white-space: pre; opacity: 1;\">Adventure</text></g><g class=\"ytick\"><text text-anchor=\"end\" x=\"163\" y=\"4.199999999999999\" transform=\"translate(0,81.13)\" style=\"font-family: 'Open Sans', verdana, arial, sans-serif; font-size: 12px; fill: rgb(42, 63, 95); fill-opacity: 1; white-space: pre; opacity: 1;\">Action</text></g><g class=\"ytick\"><text text-anchor=\"end\" x=\"163\" y=\"4.199999999999999\" transform=\"translate(0,63.04)\" style=\"font-family: 'Open Sans', verdana, arial, sans-serif; font-size: 12px; fill: rgb(42, 63, 95); fill-opacity: 1; white-space: pre; opacity: 1;\">Indie</text></g></g><g class=\"overaxes-above\"/></g></g><g class=\"polarlayer\"/><g class=\"ternarylayer\"/><g class=\"geolayer\"/><g class=\"funnelarealayer\"/><g class=\"pielayer\"/><g class=\"iciclelayer\"/><g class=\"treemaplayer\"/><g class=\"sunburstlayer\"/><g class=\"glimages\"/><defs id=\"topdefs-325673\"><g class=\"clips\"/></defs><g class=\"layer-above\"><g class=\"imagelayer\"/><g class=\"shapelayer\"/></g><g class=\"infolayer\"><g class=\"cbcoloraxis colorbar\" transform=\"translate(164,54)\"><rect class=\"cbbg\" x=\"594\" y=\"0\" width=\"81.90625\" height=\"416\" style=\"fill: rgb(0, 0, 0); fill-opacity: 0; stroke: rgb(68, 68, 68); stroke-opacity: 1; stroke-width: 0;\"/><g class=\"cbfills\" transform=\"translate(0,32)\"><rect class=\"cbfill\" x=\"604\" width=\"30\" y=\"0\" height=\"374\" style=\"fill: url('#g325673-cbcoloraxis');\"/></g><g class=\"cblines\" transform=\"translate(0,32)\"/><g class=\"cbaxis crisp\" transform=\"translate(0,-54)\"><g class=\"ycbcoloraxistick\"><text text-anchor=\"start\" x=\"636.9\" y=\"4.199999999999999\" transform=\"translate(0,387.39)\" style=\"font-family: 'Open Sans', verdana, arial, sans-serif; font-size: 12px; fill: rgb(42, 63, 95); fill-opacity: 1; white-space: pre; opacity: 1;\">2k</text></g><g class=\"ycbcoloraxistick\"><text text-anchor=\"start\" x=\"636.9\" y=\"4.199999999999999\" style=\"font-family: 'Open Sans', verdana, arial, sans-serif; font-size: 12px; fill: rgb(42, 63, 95); fill-opacity: 1; white-space: pre; opacity: 1;\" transform=\"translate(0,314.70000000000005)\">4k</text></g><g class=\"ycbcoloraxistick\"><text text-anchor=\"start\" x=\"636.9\" y=\"4.199999999999999\" style=\"font-family: 'Open Sans', verdana, arial, sans-serif; font-size: 12px; fill: rgb(42, 63, 95); fill-opacity: 1; white-space: pre; opacity: 1;\" transform=\"translate(0,242.02000000000004)\">6k</text></g><g class=\"ycbcoloraxistick\"><text text-anchor=\"start\" x=\"636.9\" y=\"4.199999999999999\" style=\"font-family: 'Open Sans', verdana, arial, sans-serif; font-size: 12px; fill: rgb(42, 63, 95); fill-opacity: 1; white-space: pre; opacity: 1;\" transform=\"translate(0,169.33000000000004)\">8k</text></g><g class=\"ycbcoloraxistick\"><text text-anchor=\"start\" x=\"636.9\" y=\"4.199999999999999\" style=\"font-family: 'Open Sans', verdana, arial, sans-serif; font-size: 12px; fill: rgb(42, 63, 95); fill-opacity: 1; white-space: pre; opacity: 1;\" transform=\"translate(0,96.65000000000003)\">10k</text></g></g><g class=\"cbtitleunshift\" transform=\"translate(-164,-54)\"><g class=\"cbtitle\" transform=\"\"><text class=\"ycbcoloraxistitle\" x=\"767.64\" y=\"77.50000000000001\" text-anchor=\"start\" style=\"font-family: 'Open Sans', verdana, arial, sans-serif; font-size: 14px; fill: rgb(42, 63, 95); opacity: 1; font-weight: normal; white-space: pre;\">Cantidad</text></g></g><rect class=\"cboutline\" x=\"604\" y=\"32\" width=\"30\" height=\"374\" style=\"stroke: rgb(68, 68, 68); stroke-opacity: 1; fill: none; stroke-width: 0;\"/></g><g class=\"g-gtitle\"><text class=\"gtitle\" x=\"42.5\" y=\"27\" text-anchor=\"start\" dy=\"0em\" style=\"font-family: 'Open Sans', verdana, arial, sans-serif; font-size: 17px; fill: rgb(42, 63, 95); opacity: 1; font-weight: normal; white-space: pre;\">Géneros</text></g><g class=\"g-xtitle\"><text class=\"xtitle\" x=\"455\" y=\"510.3\" text-anchor=\"middle\" style=\"font-family: 'Open Sans', verdana, arial, sans-serif; font-size: 14px; fill: rgb(42, 63, 95); opacity: 1; font-weight: normal; white-space: pre;\">Cantidad de videojuegos</text></g><g class=\"g-ytitle\" transform=\"translate(38.7998046875,0)\"><text class=\"ytitle\" transform=\"rotate(-90,-24.80000000000001,262)\" x=\"-24.80000000000001\" y=\"262\" text-anchor=\"middle\" style=\"font-family: 'Open Sans', verdana, arial, sans-serif; font-size: 14px; fill: rgb(42, 63, 95); opacity: 1; font-weight: normal; white-space: pre;\">Generos</text></g></g></svg>"
      ],
      "text/plain": [
       "<IPython.core.display.SVG object>"
      ]
     },
     "metadata": {},
     "output_type": "display_data"
    }
   ],
   "source": [
    "fig = px.bar(x=count[order], y=value[order], color=count[order],\n",
    "             color_continuous_scale='emrld',\n",
    "             title='Géneros',\n",
    "             labels={\n",
    "                 'x': 'Cantidad de videojuegos',\n",
    "                 'y': 'Generos', 'color': 'Cantidad'},\n",
    "             width=850,\n",
    "             height=550,\n",
    "             # log_x=True,\n",
    "             )\n",
    "fig.update_layout(paper_bgcolor='#FAFAFA',\n",
    "                  margin=dict(l=10, r=20, t=54)\n",
    "                  )\n",
    "#fig.show()\n",
    "display(SVG(fig.to_image(format='svg')))\n"
   ]
  },
  {
   "cell_type": "markdown",
   "id": "32004eee-86e1-419a-9ac2-c1894a9fee1b",
   "metadata": {},
   "source": [
    "##### Juegos pagos más jugados"
   ]
  },
  {
   "cell_type": "code",
   "execution_count": 85,
   "id": "b3095f5c-709b-49e6-90f8-c198f06b7836",
   "metadata": {},
   "outputs": [],
   "source": [
    "df_items = data_games.query('category_price==\"paid\"')\n",
    "merge_paid_games = pd.merge(cantidad_por_productoId, df_items, left_on='product_id',\n",
    "                            right_on='id').sort_values(by='amount', ascending=False).head(10)"
   ]
  },
  {
   "cell_type": "code",
   "execution_count": 86,
   "id": "fd32ebd6-6e17-4ab1-bdec-a933e65cdcc9",
   "metadata": {},
   "outputs": [
    {
     "data": {
      "image/svg+xml": [
       "<svg xmlns=\"http://www.w3.org/2000/svg\" xmlns:xlink=\"http://www.w3.org/1999/xlink\" class=\"main-svg\" width=\"800\" height=\"500\" style=\"\" viewBox=\"0 0 800 500\"><rect x=\"0\" y=\"0\" width=\"800\" height=\"500\" style=\"fill: rgb(250, 250, 250); fill-opacity: 1;\"/><defs id=\"defs-ed76f3\"><g class=\"clips\"><clipPath id=\"cliped76f3xyplot\" class=\"plotclip\"><rect width=\"549\" height=\"329\"/></clipPath><clipPath class=\"axesclip\" id=\"cliped76f3x\"><rect x=\"60\" y=\"0\" width=\"549\" height=\"500\"/></clipPath><clipPath class=\"axesclip\" id=\"cliped76f3y\"><rect x=\"0\" y=\"40\" width=\"800\" height=\"329\"/></clipPath><clipPath class=\"axesclip\" id=\"cliped76f3xy\"><rect x=\"60\" y=\"40\" width=\"549\" height=\"329\"/></clipPath></g><g class=\"gradients\"><linearGradient x1=\"0\" x2=\"0\" y1=\"1\" y2=\"0\" id=\"ged76f3-cbcoloraxis\"><stop offset=\"0%\" stop-color=\"rgb(255, 255, 204)\" stop-opacity=\"1\"/><stop offset=\"12.5%\" stop-color=\"rgb(255, 237, 160)\" stop-opacity=\"1\"/><stop offset=\"25%\" stop-color=\"rgb(254, 217, 118)\" stop-opacity=\"1\"/><stop offset=\"37.5%\" stop-color=\"rgb(254, 178, 76)\" stop-opacity=\"1\"/><stop offset=\"50%\" stop-color=\"rgb(253, 141, 60)\" stop-opacity=\"1\"/><stop offset=\"62.5%\" stop-color=\"rgb(252, 78, 42)\" stop-opacity=\"1\"/><stop offset=\"75%\" stop-color=\"rgb(227, 26, 28)\" stop-opacity=\"1\"/><stop offset=\"87.5%\" stop-color=\"rgb(189, 0, 38)\" stop-opacity=\"1\"/><stop offset=\"100%\" stop-color=\"rgb(128, 0, 38)\" stop-opacity=\"1\"/></linearGradient></g><g class=\"patterns\"/></defs><g class=\"bglayer\"><rect class=\"bg\" x=\"60\" y=\"40\" width=\"549\" height=\"329\" style=\"fill: rgb(229, 236, 246); fill-opacity: 1; stroke-width: 0;\"/></g><g class=\"layer-below\"><g class=\"imagelayer\"/><g class=\"shapelayer\"/></g><g class=\"cartesianlayer\"><g class=\"subplot xy\"><g class=\"layer-subplot\"><g class=\"shapelayer\"/><g class=\"imagelayer\"/></g><g class=\"gridlayer\"><g class=\"x\"/><g class=\"y\"><path class=\"ygrid crisp\" transform=\"translate(0,332.92)\" d=\"M60,0h549\" style=\"stroke: rgb(255, 255, 255); stroke-opacity: 1; stroke-width: 1px;\"/><path class=\"ygrid crisp\" transform=\"translate(0,296.85)\" d=\"M60,0h549\" style=\"stroke: rgb(255, 255, 255); stroke-opacity: 1; stroke-width: 1px;\"/><path class=\"ygrid crisp\" transform=\"translate(0,260.77)\" d=\"M60,0h549\" style=\"stroke: rgb(255, 255, 255); stroke-opacity: 1; stroke-width: 1px;\"/><path class=\"ygrid crisp\" transform=\"translate(0,224.7)\" d=\"M60,0h549\" style=\"stroke: rgb(255, 255, 255); stroke-opacity: 1; stroke-width: 1px;\"/><path class=\"ygrid crisp\" transform=\"translate(0,188.62)\" d=\"M60,0h549\" style=\"stroke: rgb(255, 255, 255); stroke-opacity: 1; stroke-width: 1px;\"/><path class=\"ygrid crisp\" transform=\"translate(0,152.54000000000002)\" d=\"M60,0h549\" style=\"stroke: rgb(255, 255, 255); stroke-opacity: 1; stroke-width: 1px;\"/><path class=\"ygrid crisp\" transform=\"translate(0,116.47)\" d=\"M60,0h549\" style=\"stroke: rgb(255, 255, 255); stroke-opacity: 1; stroke-width: 1px;\"/><path class=\"ygrid crisp\" transform=\"translate(0,80.39)\" d=\"M60,0h549\" style=\"stroke: rgb(255, 255, 255); stroke-opacity: 1; stroke-width: 1px;\"/><path class=\"ygrid crisp\" transform=\"translate(0,44.31)\" d=\"M60,0h549\" style=\"stroke: rgb(255, 255, 255); stroke-opacity: 1; stroke-width: 1px;\"/></g></g><g class=\"zerolinelayer\"><path class=\"yzl zl crisp\" transform=\"translate(0,369)\" d=\"M60,0h549\" style=\"stroke: rgb(255, 255, 255); stroke-opacity: 1; stroke-width: 2px;\"/></g><path class=\"xlines-below\"/><path class=\"ylines-below\"/><g class=\"overlines-below\"/><g class=\"xaxislayer-below\"/><g class=\"yaxislayer-below\"/><g class=\"overaxes-below\"/><g class=\"plot\" transform=\"translate(60,40)\" clip-path=\"url(#cliped76f3xyplot)\"><g class=\"barlayer mlayer\"><g class=\"trace bars\" style=\"opacity: 1;\"><g class=\"points\"><g class=\"point\"><path d=\"M5.49,329V16.45H49.41V329Z\" style=\"vector-effect: non-scaling-stroke; opacity: 1; stroke-width: 0.5px; fill: rgb(128, 0, 38); fill-opacity: 1; stroke: rgb(229, 236, 246); stroke-opacity: 1;\"/></g><g class=\"point\"><path d=\"M60.39,329V146.65H104.31V329Z\" style=\"vector-effect: non-scaling-stroke; opacity: 1; stroke-width: 0.5px; fill: rgb(254, 188, 86); fill-opacity: 1; stroke: rgb(229, 236, 246); stroke-opacity: 1;\"/></g><g class=\"point\"><path d=\"M115.29,329V154.23H159.21V329Z\" style=\"vector-effect: non-scaling-stroke; opacity: 1; stroke-width: 0.5px; fill: rgb(254, 200, 99); fill-opacity: 1; stroke: rgb(229, 236, 246); stroke-opacity: 1;\"/></g><g class=\"point\"><path d=\"M170.19,329V154.36H214.11V329Z\" style=\"vector-effect: non-scaling-stroke; opacity: 1; stroke-width: 0.5px; fill: rgb(254, 200, 99); fill-opacity: 1; stroke: rgb(229, 236, 246); stroke-opacity: 1;\"/></g><g class=\"point\"><path d=\"M225.09,329V156.76H269.01V329Z\" style=\"vector-effect: non-scaling-stroke; opacity: 1; stroke-width: 0.5px; fill: rgb(254, 204, 103); fill-opacity: 1; stroke: rgb(229, 236, 246); stroke-opacity: 1;\"/></g><g class=\"point\"><path d=\"M279.99,329V180.6H323.91V329Z\" style=\"vector-effect: non-scaling-stroke; opacity: 1; stroke-width: 0.5px; fill: rgb(255, 229, 144); fill-opacity: 1; stroke: rgb(229, 236, 246); stroke-opacity: 1;\"/></g><g class=\"point\"><path d=\"M334.89,329V196.79H378.81V329Z\" style=\"vector-effect: non-scaling-stroke; opacity: 1; stroke-width: 0.5px; fill: rgb(255, 242, 172); fill-opacity: 1; stroke: rgb(229, 236, 246); stroke-opacity: 1;\"/></g><g class=\"point\"><path d=\"M389.79,329V196.84H433.71V329Z\" style=\"vector-effect: non-scaling-stroke; opacity: 1; stroke-width: 0.5px; fill: rgb(255, 242, 172); fill-opacity: 1; stroke: rgb(229, 236, 246); stroke-opacity: 1;\"/></g><g class=\"point\"><path d=\"M444.69,329V197.11H488.61V329Z\" style=\"vector-effect: non-scaling-stroke; opacity: 1; stroke-width: 0.5px; fill: rgb(255, 242, 172); fill-opacity: 1; stroke: rgb(229, 236, 246); stroke-opacity: 1;\"/></g><g class=\"point\"><path d=\"M499.59,329V214.98H543.51V329Z\" style=\"vector-effect: non-scaling-stroke; opacity: 1; stroke-width: 0.5px; fill: rgb(255, 255, 204); fill-opacity: 1; stroke: rgb(229, 236, 246); stroke-opacity: 1;\"/></g></g></g></g></g><g class=\"overplot\"/><path class=\"xlines-above crisp\" d=\"M0,0\" style=\"fill: none;\"/><path class=\"ylines-above crisp\" d=\"M0,0\" style=\"fill: none;\"/><g class=\"overlines-above\"/><g class=\"xaxislayer-above\"><g class=\"xtick\"><text text-anchor=\"start\" x=\"0\" y=\"382\" transform=\"translate(87.45,0) rotate(30,0,376)\" style=\"font-family: 'Open Sans', verdana, arial, sans-serif; font-size: 12px; fill: rgb(42, 63, 95); fill-opacity: 1; white-space: pre; opacity: 1;\">Rust</text></g><g class=\"xtick\"><text text-anchor=\"start\" x=\"0\" y=\"382\" transform=\"translate(142.35,0) rotate(30,0,376)\" style=\"font-family: 'Open Sans', verdana, arial, sans-serif; font-size: 12px; fill: rgb(42, 63, 95); fill-opacity: 1; white-space: pre; opacity: 1;\">Grand Theft Auto V</text></g><g class=\"xtick\"><text text-anchor=\"start\" x=\"0\" y=\"382\" transform=\"translate(197.25,0) rotate(30,0,376)\" style=\"font-family: 'Open Sans', verdana, arial, sans-serif; font-size: 12px; fill: rgb(42, 63, 95); fill-opacity: 1; white-space: pre; opacity: 1;\">DayZ</text></g><g class=\"xtick\"><text text-anchor=\"start\" x=\"0\" y=\"382\" transform=\"translate(252.15,0) rotate(30,0,376)\" style=\"font-family: 'Open Sans', verdana, arial, sans-serif; font-size: 12px; fill: rgb(42, 63, 95); fill-opacity: 1; white-space: pre; opacity: 1;\">Undertale</text></g><g class=\"xtick\"><text text-anchor=\"start\" x=\"0\" y=\"382\" transform=\"translate(307.05,0) rotate(30,0,376)\" style=\"font-family: 'Open Sans', verdana, arial, sans-serif; font-size: 12px; fill: rgb(42, 63, 95); fill-opacity: 1; white-space: pre; opacity: 1;\">Portal 2</text></g><g class=\"xtick\"><text text-anchor=\"start\" x=\"0\" y=\"382\" transform=\"translate(361.95,0) rotate(30,0,376)\" style=\"font-family: 'Open Sans', verdana, arial, sans-serif; font-size: 12px; fill: rgb(42, 63, 95); fill-opacity: 1; white-space: pre; opacity: 1;\">Garry's Mod</text></g><g class=\"xtick\"><text text-anchor=\"start\" x=\"0\" y=\"382\" transform=\"translate(416.85,0) rotate(30,0,376)\" style=\"font-family: 'Open Sans', verdana, arial, sans-serif; font-size: 12px; fill: rgb(42, 63, 95); fill-opacity: 1; white-space: pre; opacity: 1;\">Starbound</text></g><g class=\"xtick\"><text text-anchor=\"start\" x=\"0\" y=\"382\" transform=\"translate(471.75,0) rotate(30,0,376)\" style=\"font-family: 'Open Sans', verdana, arial, sans-serif; font-size: 12px; fill: rgb(42, 63, 95); fill-opacity: 1; white-space: pre; opacity: 1;\">ARK: Survival Evolved</text></g><g class=\"xtick\"><text text-anchor=\"start\" x=\"0\" y=\"382\" transform=\"translate(526.65,0) rotate(30,0,376)\" style=\"font-family: 'Open Sans', verdana, arial, sans-serif; font-size: 12px; fill: rgb(42, 63, 95); fill-opacity: 1; white-space: pre; opacity: 1;\">H1Z1</text></g><g class=\"xtick\"><text text-anchor=\"start\" x=\"0\" y=\"382\" transform=\"translate(581.55,0) rotate(30,0,376)\" style=\"font-family: 'Open Sans', verdana, arial, sans-serif; font-size: 12px; fill: rgb(42, 63, 95); fill-opacity: 1; white-space: pre; opacity: 1;\">Sid Meier's Civilization® V</text></g></g><g class=\"yaxislayer-above\"><g class=\"ytick\"><text text-anchor=\"end\" x=\"59\" y=\"4.199999999999999\" transform=\"translate(0,369)\" style=\"font-family: 'Open Sans', verdana, arial, sans-serif; font-size: 12px; fill: rgb(42, 63, 95); fill-opacity: 1; white-space: pre; opacity: 1;\">0</text></g><g class=\"ytick\"><text text-anchor=\"end\" x=\"59\" y=\"4.199999999999999\" style=\"font-family: 'Open Sans', verdana, arial, sans-serif; font-size: 12px; fill: rgb(42, 63, 95); fill-opacity: 1; white-space: pre; opacity: 1;\" transform=\"translate(0,332.92)\">5k</text></g><g class=\"ytick\"><text text-anchor=\"end\" x=\"59\" y=\"4.199999999999999\" style=\"font-family: 'Open Sans', verdana, arial, sans-serif; font-size: 12px; fill: rgb(42, 63, 95); fill-opacity: 1; white-space: pre; opacity: 1;\" transform=\"translate(0,296.85)\">10k</text></g><g class=\"ytick\"><text text-anchor=\"end\" x=\"59\" y=\"4.199999999999999\" style=\"font-family: 'Open Sans', verdana, arial, sans-serif; font-size: 12px; fill: rgb(42, 63, 95); fill-opacity: 1; white-space: pre; opacity: 1;\" transform=\"translate(0,260.77)\">15k</text></g><g class=\"ytick\"><text text-anchor=\"end\" x=\"59\" y=\"4.199999999999999\" style=\"font-family: 'Open Sans', verdana, arial, sans-serif; font-size: 12px; fill: rgb(42, 63, 95); fill-opacity: 1; white-space: pre; opacity: 1;\" transform=\"translate(0,224.7)\">20k</text></g><g class=\"ytick\"><text text-anchor=\"end\" x=\"59\" y=\"4.199999999999999\" style=\"font-family: 'Open Sans', verdana, arial, sans-serif; font-size: 12px; fill: rgb(42, 63, 95); fill-opacity: 1; white-space: pre; opacity: 1;\" transform=\"translate(0,188.62)\">25k</text></g><g class=\"ytick\"><text text-anchor=\"end\" x=\"59\" y=\"4.199999999999999\" style=\"font-family: 'Open Sans', verdana, arial, sans-serif; font-size: 12px; fill: rgb(42, 63, 95); fill-opacity: 1; white-space: pre; opacity: 1;\" transform=\"translate(0,152.54000000000002)\">30k</text></g><g class=\"ytick\"><text text-anchor=\"end\" x=\"59\" y=\"4.199999999999999\" style=\"font-family: 'Open Sans', verdana, arial, sans-serif; font-size: 12px; fill: rgb(42, 63, 95); fill-opacity: 1; white-space: pre; opacity: 1;\" transform=\"translate(0,116.47)\">35k</text></g><g class=\"ytick\"><text text-anchor=\"end\" x=\"59\" y=\"4.199999999999999\" style=\"font-family: 'Open Sans', verdana, arial, sans-serif; font-size: 12px; fill: rgb(42, 63, 95); fill-opacity: 1; white-space: pre; opacity: 1;\" transform=\"translate(0,80.39)\">40k</text></g><g class=\"ytick\"><text text-anchor=\"end\" x=\"59\" y=\"4.199999999999999\" style=\"font-family: 'Open Sans', verdana, arial, sans-serif; font-size: 12px; fill: rgb(42, 63, 95); fill-opacity: 1; white-space: pre; opacity: 1;\" transform=\"translate(0,44.31)\">45k</text></g></g><g class=\"overaxes-above\"/></g></g><g class=\"polarlayer\"/><g class=\"ternarylayer\"/><g class=\"geolayer\"/><g class=\"funnelarealayer\"/><g class=\"pielayer\"/><g class=\"iciclelayer\"/><g class=\"treemaplayer\"/><g class=\"sunburstlayer\"/><g class=\"glimages\"/><defs id=\"topdefs-ed76f3\"><g class=\"clips\"/></defs><g class=\"layer-above\"><g class=\"imagelayer\"/><g class=\"shapelayer\"/></g><g class=\"infolayer\"><g class=\"cbcoloraxis colorbar\" transform=\"translate(60,40)\"><rect class=\"cbbg\" x=\"560\" y=\"0\" width=\"168.171875\" height=\"329\" style=\"fill: rgb(0, 0, 0); fill-opacity: 0; stroke: rgb(68, 68, 68); stroke-opacity: 1; stroke-width: 0;\"/><g class=\"cbfills\" transform=\"translate(0,32)\"><rect class=\"cbfill\" x=\"570\" width=\"30\" y=\"0\" height=\"287\" style=\"fill: url('#ged76f3-cbcoloraxis');\"/></g><g class=\"cblines\" transform=\"translate(0,32)\"/><g class=\"cbaxis crisp\" transform=\"translate(0,-40)\"><g class=\"ycbcoloraxistick\"><text text-anchor=\"start\" x=\"602.9\" y=\"4.199999999999999\" transform=\"translate(0,315.21)\" style=\"font-family: 'Open Sans', verdana, arial, sans-serif; font-size: 12px; fill: rgb(42, 63, 95); fill-opacity: 1; white-space: pre; opacity: 1;\">20k</text></g><g class=\"ycbcoloraxistick\"><text text-anchor=\"start\" x=\"602.9\" y=\"4.199999999999999\" style=\"font-family: 'Open Sans', verdana, arial, sans-serif; font-size: 12px; fill: rgb(42, 63, 95); fill-opacity: 1; white-space: pre; opacity: 1;\" transform=\"translate(0,263.05999999999995)\">25k</text></g><g class=\"ycbcoloraxistick\"><text text-anchor=\"start\" x=\"602.9\" y=\"4.199999999999999\" style=\"font-family: 'Open Sans', verdana, arial, sans-serif; font-size: 12px; fill: rgb(42, 63, 95); fill-opacity: 1; white-space: pre; opacity: 1;\" transform=\"translate(0,210.90999999999997)\">30k</text></g><g class=\"ycbcoloraxistick\"><text text-anchor=\"start\" x=\"602.9\" y=\"4.199999999999999\" style=\"font-family: 'Open Sans', verdana, arial, sans-serif; font-size: 12px; fill: rgb(42, 63, 95); fill-opacity: 1; white-space: pre; opacity: 1;\" transform=\"translate(0,158.76)\">35k</text></g><g class=\"ycbcoloraxistick\"><text text-anchor=\"start\" x=\"602.9\" y=\"4.199999999999999\" style=\"font-family: 'Open Sans', verdana, arial, sans-serif; font-size: 12px; fill: rgb(42, 63, 95); fill-opacity: 1; white-space: pre; opacity: 1;\" transform=\"translate(0,106.60999999999997)\">40k</text></g></g><g class=\"cbtitleunshift\" transform=\"translate(-60,-40)\"><g class=\"cbtitle\" transform=\"\"><text class=\"ycbcoloraxistitle\" x=\"629.98\" y=\"63.499999999999986\" text-anchor=\"start\" style=\"font-family: 'Open Sans', verdana, arial, sans-serif; font-size: 14px; fill: rgb(42, 63, 95); opacity: 1; font-weight: normal; white-space: pre;\">Cantidad de usuarios</text></g></g><rect class=\"cboutline\" x=\"570\" y=\"32\" width=\"30\" height=\"287\" style=\"stroke: rgb(68, 68, 68); stroke-opacity: 1; fill: none; stroke-width: 0;\"/></g><g class=\"g-gtitle\"><text class=\"gtitle\" x=\"40\" y=\"20\" text-anchor=\"start\" dy=\"0em\" style=\"font-family: 'Open Sans', verdana, arial, sans-serif; font-size: 17px; fill: rgb(42, 63, 95); opacity: 1; font-weight: normal; white-space: pre;\">Videojuegos de pago mas jugados</text></g><g class=\"g-xtitle\"><text class=\"xtitle\" x=\"334.5\" y=\"487.762890625\" text-anchor=\"middle\" style=\"font-family: 'Open Sans', verdana, arial, sans-serif; font-size: 14px; fill: rgb(42, 63, 95); opacity: 1; font-weight: normal; white-space: pre;\">Videojuegos</text></g><g class=\"g-ytitle\" transform=\"translate(2.1591796875,0)\"><text class=\"ytitle\" transform=\"rotate(-90,11.840625000000003,204.5)\" x=\"11.840625000000003\" y=\"204.5\" text-anchor=\"middle\" style=\"font-family: 'Open Sans', verdana, arial, sans-serif; font-size: 14px; fill: rgb(42, 63, 95); opacity: 1; font-weight: normal; white-space: pre;\">Cantidad de usuarios</text></g></g></svg>"
      ],
      "text/plain": [
       "<IPython.core.display.SVG object>"
      ]
     },
     "metadata": {},
     "output_type": "display_data"
    }
   ],
   "source": [
    "fig = px.bar(data_frame=merge_paid_games, x='app_name', y='amount', title='Videojuegos de pago mas jugados',\n",
    "             labels={'app_name': 'Videojuegos',\n",
    "                     'amount': 'Cantidad de usuarios'},\n",
    "             hover_data=HOVER_DATA_COLUMNS,\n",
    "             color=merge_paid_games.amount, color_continuous_scale='ylorrd',\n",
    "             width=800,\n",
    "             height=500\n",
    "             )\n",
    "\n",
    "fig.update_layout(paper_bgcolor='#FAFAFA',\n",
    "                  margin=dict(l=30, r=20, t=40, b=30)\n",
    "                  )\n",
    "#fig.show()\n",
    "display(SVG(fig.to_image(format='svg')))"
   ]
  },
  {
   "cell_type": "markdown",
   "id": "4fe3d4a2-8ffc-4197-80e7-b755de503ae3",
   "metadata": {},
   "source": [
    "##### Juegos gratis más jugados"
   ]
  },
  {
   "cell_type": "code",
   "execution_count": 87,
   "id": "a11a8ce0-d43b-41a3-abac-d32ba3aa4490",
   "metadata": {},
   "outputs": [],
   "source": [
    "f_items = data_games.query('category_price==\"free\"')\n",
    "merge_free_games = pd.merge(cantidad_por_productoId, df_items, left_on='product_id',\n",
    "                            right_on='id').sort_values(by='amount', ascending=False).head(10)"
   ]
  },
  {
   "cell_type": "code",
   "execution_count": 88,
   "id": "6cc6227a-eb9d-4673-a215-9f4020f1bf11",
   "metadata": {},
   "outputs": [
    {
     "data": {
      "image/svg+xml": [
       "<svg xmlns=\"http://www.w3.org/2000/svg\" xmlns:xlink=\"http://www.w3.org/1999/xlink\" class=\"main-svg\" width=\"800\" height=\"500\" style=\"\" viewBox=\"0 0 800 500\"><rect x=\"0\" y=\"0\" width=\"800\" height=\"500\" style=\"fill: rgb(250, 250, 250); fill-opacity: 1;\"/><defs id=\"defs-e7f6e2\"><g class=\"clips\"><clipPath id=\"clipe7f6e2xyplot\" class=\"plotclip\"><rect width=\"549\" height=\"329\"/></clipPath><clipPath class=\"axesclip\" id=\"clipe7f6e2x\"><rect x=\"60\" y=\"0\" width=\"549\" height=\"500\"/></clipPath><clipPath class=\"axesclip\" id=\"clipe7f6e2y\"><rect x=\"0\" y=\"40\" width=\"800\" height=\"329\"/></clipPath><clipPath class=\"axesclip\" id=\"clipe7f6e2xy\"><rect x=\"60\" y=\"40\" width=\"549\" height=\"329\"/></clipPath></g><g class=\"gradients\"><linearGradient x1=\"0\" x2=\"0\" y1=\"1\" y2=\"0\" id=\"ge7f6e2-cbcoloraxis\"><stop offset=\"0%\" stop-color=\"rgb(255, 255, 204)\" stop-opacity=\"1\"/><stop offset=\"12.5%\" stop-color=\"rgb(255, 237, 160)\" stop-opacity=\"1\"/><stop offset=\"25%\" stop-color=\"rgb(254, 217, 118)\" stop-opacity=\"1\"/><stop offset=\"37.5%\" stop-color=\"rgb(254, 178, 76)\" stop-opacity=\"1\"/><stop offset=\"50%\" stop-color=\"rgb(253, 141, 60)\" stop-opacity=\"1\"/><stop offset=\"62.5%\" stop-color=\"rgb(252, 78, 42)\" stop-opacity=\"1\"/><stop offset=\"75%\" stop-color=\"rgb(227, 26, 28)\" stop-opacity=\"1\"/><stop offset=\"87.5%\" stop-color=\"rgb(189, 0, 38)\" stop-opacity=\"1\"/><stop offset=\"100%\" stop-color=\"rgb(128, 0, 38)\" stop-opacity=\"1\"/></linearGradient></g><g class=\"patterns\"/></defs><g class=\"bglayer\"><rect class=\"bg\" x=\"60\" y=\"40\" width=\"549\" height=\"329\" style=\"fill: rgb(229, 236, 246); fill-opacity: 1; stroke-width: 0;\"/></g><g class=\"layer-below\"><g class=\"imagelayer\"/><g class=\"shapelayer\"/></g><g class=\"cartesianlayer\"><g class=\"subplot xy\"><g class=\"layer-subplot\"><g class=\"shapelayer\"/><g class=\"imagelayer\"/></g><g class=\"gridlayer\"><g class=\"x\"/><g class=\"y\"><path class=\"ygrid crisp\" transform=\"translate(0,332.92)\" d=\"M60,0h549\" style=\"stroke: rgb(255, 255, 255); stroke-opacity: 1; stroke-width: 1px;\"/><path class=\"ygrid crisp\" transform=\"translate(0,296.85)\" d=\"M60,0h549\" style=\"stroke: rgb(255, 255, 255); stroke-opacity: 1; stroke-width: 1px;\"/><path class=\"ygrid crisp\" transform=\"translate(0,260.77)\" d=\"M60,0h549\" style=\"stroke: rgb(255, 255, 255); stroke-opacity: 1; stroke-width: 1px;\"/><path class=\"ygrid crisp\" transform=\"translate(0,224.7)\" d=\"M60,0h549\" style=\"stroke: rgb(255, 255, 255); stroke-opacity: 1; stroke-width: 1px;\"/><path class=\"ygrid crisp\" transform=\"translate(0,188.62)\" d=\"M60,0h549\" style=\"stroke: rgb(255, 255, 255); stroke-opacity: 1; stroke-width: 1px;\"/><path class=\"ygrid crisp\" transform=\"translate(0,152.54000000000002)\" d=\"M60,0h549\" style=\"stroke: rgb(255, 255, 255); stroke-opacity: 1; stroke-width: 1px;\"/><path class=\"ygrid crisp\" transform=\"translate(0,116.47)\" d=\"M60,0h549\" style=\"stroke: rgb(255, 255, 255); stroke-opacity: 1; stroke-width: 1px;\"/><path class=\"ygrid crisp\" transform=\"translate(0,80.39)\" d=\"M60,0h549\" style=\"stroke: rgb(255, 255, 255); stroke-opacity: 1; stroke-width: 1px;\"/><path class=\"ygrid crisp\" transform=\"translate(0,44.31)\" d=\"M60,0h549\" style=\"stroke: rgb(255, 255, 255); stroke-opacity: 1; stroke-width: 1px;\"/></g></g><g class=\"zerolinelayer\"><path class=\"yzl zl crisp\" transform=\"translate(0,369)\" d=\"M60,0h549\" style=\"stroke: rgb(255, 255, 255); stroke-opacity: 1; stroke-width: 2px;\"/></g><path class=\"xlines-below\"/><path class=\"ylines-below\"/><g class=\"overlines-below\"/><g class=\"xaxislayer-below\"/><g class=\"yaxislayer-below\"/><g class=\"overaxes-below\"/><g class=\"plot\" transform=\"translate(60,40)\" clip-path=\"url(#clipe7f6e2xyplot)\"><g class=\"barlayer mlayer\"><g class=\"trace bars\" style=\"opacity: 1;\"><g class=\"points\"><g class=\"point\"><path d=\"M5.49,329V16.45H49.41V329Z\" style=\"vector-effect: non-scaling-stroke; opacity: 1; stroke-width: 0.5px; fill: rgb(128, 0, 38); fill-opacity: 1; stroke: rgb(229, 236, 246); stroke-opacity: 1;\"/></g><g class=\"point\"><path d=\"M60.39,329V146.65H104.31V329Z\" style=\"vector-effect: non-scaling-stroke; opacity: 1; stroke-width: 0.5px; fill: rgb(254, 188, 86); fill-opacity: 1; stroke: rgb(229, 236, 246); stroke-opacity: 1;\"/></g><g class=\"point\"><path d=\"M115.29,329V154.23H159.21V329Z\" style=\"vector-effect: non-scaling-stroke; opacity: 1; stroke-width: 0.5px; fill: rgb(254, 200, 99); fill-opacity: 1; stroke: rgb(229, 236, 246); stroke-opacity: 1;\"/></g><g class=\"point\"><path d=\"M170.19,329V154.36H214.11V329Z\" style=\"vector-effect: non-scaling-stroke; opacity: 1; stroke-width: 0.5px; fill: rgb(254, 200, 99); fill-opacity: 1; stroke: rgb(229, 236, 246); stroke-opacity: 1;\"/></g><g class=\"point\"><path d=\"M225.09,329V156.76H269.01V329Z\" style=\"vector-effect: non-scaling-stroke; opacity: 1; stroke-width: 0.5px; fill: rgb(254, 204, 103); fill-opacity: 1; stroke: rgb(229, 236, 246); stroke-opacity: 1;\"/></g><g class=\"point\"><path d=\"M279.99,329V180.6H323.91V329Z\" style=\"vector-effect: non-scaling-stroke; opacity: 1; stroke-width: 0.5px; fill: rgb(255, 229, 144); fill-opacity: 1; stroke: rgb(229, 236, 246); stroke-opacity: 1;\"/></g><g class=\"point\"><path d=\"M334.89,329V196.79H378.81V329Z\" style=\"vector-effect: non-scaling-stroke; opacity: 1; stroke-width: 0.5px; fill: rgb(255, 242, 172); fill-opacity: 1; stroke: rgb(229, 236, 246); stroke-opacity: 1;\"/></g><g class=\"point\"><path d=\"M389.79,329V196.84H433.71V329Z\" style=\"vector-effect: non-scaling-stroke; opacity: 1; stroke-width: 0.5px; fill: rgb(255, 242, 172); fill-opacity: 1; stroke: rgb(229, 236, 246); stroke-opacity: 1;\"/></g><g class=\"point\"><path d=\"M444.69,329V197.11H488.61V329Z\" style=\"vector-effect: non-scaling-stroke; opacity: 1; stroke-width: 0.5px; fill: rgb(255, 242, 172); fill-opacity: 1; stroke: rgb(229, 236, 246); stroke-opacity: 1;\"/></g><g class=\"point\"><path d=\"M499.59,329V214.98H543.51V329Z\" style=\"vector-effect: non-scaling-stroke; opacity: 1; stroke-width: 0.5px; fill: rgb(255, 255, 204); fill-opacity: 1; stroke: rgb(229, 236, 246); stroke-opacity: 1;\"/></g></g></g></g></g><g class=\"overplot\"/><path class=\"xlines-above crisp\" d=\"M0,0\" style=\"fill: none;\"/><path class=\"ylines-above crisp\" d=\"M0,0\" style=\"fill: none;\"/><g class=\"overlines-above\"/><g class=\"xaxislayer-above\"><g class=\"xtick\"><text text-anchor=\"start\" x=\"0\" y=\"382\" transform=\"translate(87.45,0) rotate(30,0,376)\" style=\"font-family: 'Open Sans', verdana, arial, sans-serif; font-size: 12px; fill: rgb(42, 63, 95); fill-opacity: 1; white-space: pre; opacity: 1;\">Rust</text></g><g class=\"xtick\"><text text-anchor=\"start\" x=\"0\" y=\"382\" transform=\"translate(142.35,0) rotate(30,0,376)\" style=\"font-family: 'Open Sans', verdana, arial, sans-serif; font-size: 12px; fill: rgb(42, 63, 95); fill-opacity: 1; white-space: pre; opacity: 1;\">Grand Theft Auto V</text></g><g class=\"xtick\"><text text-anchor=\"start\" x=\"0\" y=\"382\" transform=\"translate(197.25,0) rotate(30,0,376)\" style=\"font-family: 'Open Sans', verdana, arial, sans-serif; font-size: 12px; fill: rgb(42, 63, 95); fill-opacity: 1; white-space: pre; opacity: 1;\">DayZ</text></g><g class=\"xtick\"><text text-anchor=\"start\" x=\"0\" y=\"382\" transform=\"translate(252.15,0) rotate(30,0,376)\" style=\"font-family: 'Open Sans', verdana, arial, sans-serif; font-size: 12px; fill: rgb(42, 63, 95); fill-opacity: 1; white-space: pre; opacity: 1;\">Undertale</text></g><g class=\"xtick\"><text text-anchor=\"start\" x=\"0\" y=\"382\" transform=\"translate(307.05,0) rotate(30,0,376)\" style=\"font-family: 'Open Sans', verdana, arial, sans-serif; font-size: 12px; fill: rgb(42, 63, 95); fill-opacity: 1; white-space: pre; opacity: 1;\">Portal 2</text></g><g class=\"xtick\"><text text-anchor=\"start\" x=\"0\" y=\"382\" transform=\"translate(361.95,0) rotate(30,0,376)\" style=\"font-family: 'Open Sans', verdana, arial, sans-serif; font-size: 12px; fill: rgb(42, 63, 95); fill-opacity: 1; white-space: pre; opacity: 1;\">Garry's Mod</text></g><g class=\"xtick\"><text text-anchor=\"start\" x=\"0\" y=\"382\" transform=\"translate(416.85,0) rotate(30,0,376)\" style=\"font-family: 'Open Sans', verdana, arial, sans-serif; font-size: 12px; fill: rgb(42, 63, 95); fill-opacity: 1; white-space: pre; opacity: 1;\">Starbound</text></g><g class=\"xtick\"><text text-anchor=\"start\" x=\"0\" y=\"382\" transform=\"translate(471.75,0) rotate(30,0,376)\" style=\"font-family: 'Open Sans', verdana, arial, sans-serif; font-size: 12px; fill: rgb(42, 63, 95); fill-opacity: 1; white-space: pre; opacity: 1;\">ARK: Survival Evolved</text></g><g class=\"xtick\"><text text-anchor=\"start\" x=\"0\" y=\"382\" transform=\"translate(526.65,0) rotate(30,0,376)\" style=\"font-family: 'Open Sans', verdana, arial, sans-serif; font-size: 12px; fill: rgb(42, 63, 95); fill-opacity: 1; white-space: pre; opacity: 1;\">H1Z1</text></g><g class=\"xtick\"><text text-anchor=\"start\" x=\"0\" y=\"382\" transform=\"translate(581.55,0) rotate(30,0,376)\" style=\"font-family: 'Open Sans', verdana, arial, sans-serif; font-size: 12px; fill: rgb(42, 63, 95); fill-opacity: 1; white-space: pre; opacity: 1;\">Sid Meier's Civilization® V</text></g></g><g class=\"yaxislayer-above\"><g class=\"ytick\"><text text-anchor=\"end\" x=\"59\" y=\"4.199999999999999\" transform=\"translate(0,369)\" style=\"font-family: 'Open Sans', verdana, arial, sans-serif; font-size: 12px; fill: rgb(42, 63, 95); fill-opacity: 1; white-space: pre; opacity: 1;\">0</text></g><g class=\"ytick\"><text text-anchor=\"end\" x=\"59\" y=\"4.199999999999999\" style=\"font-family: 'Open Sans', verdana, arial, sans-serif; font-size: 12px; fill: rgb(42, 63, 95); fill-opacity: 1; white-space: pre; opacity: 1;\" transform=\"translate(0,332.92)\">5k</text></g><g class=\"ytick\"><text text-anchor=\"end\" x=\"59\" y=\"4.199999999999999\" style=\"font-family: 'Open Sans', verdana, arial, sans-serif; font-size: 12px; fill: rgb(42, 63, 95); fill-opacity: 1; white-space: pre; opacity: 1;\" transform=\"translate(0,296.85)\">10k</text></g><g class=\"ytick\"><text text-anchor=\"end\" x=\"59\" y=\"4.199999999999999\" style=\"font-family: 'Open Sans', verdana, arial, sans-serif; font-size: 12px; fill: rgb(42, 63, 95); fill-opacity: 1; white-space: pre; opacity: 1;\" transform=\"translate(0,260.77)\">15k</text></g><g class=\"ytick\"><text text-anchor=\"end\" x=\"59\" y=\"4.199999999999999\" style=\"font-family: 'Open Sans', verdana, arial, sans-serif; font-size: 12px; fill: rgb(42, 63, 95); fill-opacity: 1; white-space: pre; opacity: 1;\" transform=\"translate(0,224.7)\">20k</text></g><g class=\"ytick\"><text text-anchor=\"end\" x=\"59\" y=\"4.199999999999999\" style=\"font-family: 'Open Sans', verdana, arial, sans-serif; font-size: 12px; fill: rgb(42, 63, 95); fill-opacity: 1; white-space: pre; opacity: 1;\" transform=\"translate(0,188.62)\">25k</text></g><g class=\"ytick\"><text text-anchor=\"end\" x=\"59\" y=\"4.199999999999999\" style=\"font-family: 'Open Sans', verdana, arial, sans-serif; font-size: 12px; fill: rgb(42, 63, 95); fill-opacity: 1; white-space: pre; opacity: 1;\" transform=\"translate(0,152.54000000000002)\">30k</text></g><g class=\"ytick\"><text text-anchor=\"end\" x=\"59\" y=\"4.199999999999999\" style=\"font-family: 'Open Sans', verdana, arial, sans-serif; font-size: 12px; fill: rgb(42, 63, 95); fill-opacity: 1; white-space: pre; opacity: 1;\" transform=\"translate(0,116.47)\">35k</text></g><g class=\"ytick\"><text text-anchor=\"end\" x=\"59\" y=\"4.199999999999999\" style=\"font-family: 'Open Sans', verdana, arial, sans-serif; font-size: 12px; fill: rgb(42, 63, 95); fill-opacity: 1; white-space: pre; opacity: 1;\" transform=\"translate(0,80.39)\">40k</text></g><g class=\"ytick\"><text text-anchor=\"end\" x=\"59\" y=\"4.199999999999999\" style=\"font-family: 'Open Sans', verdana, arial, sans-serif; font-size: 12px; fill: rgb(42, 63, 95); fill-opacity: 1; white-space: pre; opacity: 1;\" transform=\"translate(0,44.31)\">45k</text></g></g><g class=\"overaxes-above\"/></g></g><g class=\"polarlayer\"/><g class=\"ternarylayer\"/><g class=\"geolayer\"/><g class=\"funnelarealayer\"/><g class=\"pielayer\"/><g class=\"iciclelayer\"/><g class=\"treemaplayer\"/><g class=\"sunburstlayer\"/><g class=\"glimages\"/><defs id=\"topdefs-e7f6e2\"><g class=\"clips\"/></defs><g class=\"layer-above\"><g class=\"imagelayer\"/><g class=\"shapelayer\"/></g><g class=\"infolayer\"><g class=\"cbcoloraxis colorbar\" transform=\"translate(60,40)\"><rect class=\"cbbg\" x=\"560\" y=\"0\" width=\"168.171875\" height=\"329\" style=\"fill: rgb(0, 0, 0); fill-opacity: 0; stroke: rgb(68, 68, 68); stroke-opacity: 1; stroke-width: 0;\"/><g class=\"cbfills\" transform=\"translate(0,32)\"><rect class=\"cbfill\" x=\"570\" width=\"30\" y=\"0\" height=\"287\" style=\"fill: url('#ge7f6e2-cbcoloraxis');\"/></g><g class=\"cblines\" transform=\"translate(0,32)\"/><g class=\"cbaxis crisp\" transform=\"translate(0,-40)\"><g class=\"ycbcoloraxistick\"><text text-anchor=\"start\" x=\"602.9\" y=\"4.199999999999999\" transform=\"translate(0,315.21)\" style=\"font-family: 'Open Sans', verdana, arial, sans-serif; font-size: 12px; fill: rgb(42, 63, 95); fill-opacity: 1; white-space: pre; opacity: 1;\">20k</text></g><g class=\"ycbcoloraxistick\"><text text-anchor=\"start\" x=\"602.9\" y=\"4.199999999999999\" style=\"font-family: 'Open Sans', verdana, arial, sans-serif; font-size: 12px; fill: rgb(42, 63, 95); fill-opacity: 1; white-space: pre; opacity: 1;\" transform=\"translate(0,263.05999999999995)\">25k</text></g><g class=\"ycbcoloraxistick\"><text text-anchor=\"start\" x=\"602.9\" y=\"4.199999999999999\" style=\"font-family: 'Open Sans', verdana, arial, sans-serif; font-size: 12px; fill: rgb(42, 63, 95); fill-opacity: 1; white-space: pre; opacity: 1;\" transform=\"translate(0,210.90999999999997)\">30k</text></g><g class=\"ycbcoloraxistick\"><text text-anchor=\"start\" x=\"602.9\" y=\"4.199999999999999\" style=\"font-family: 'Open Sans', verdana, arial, sans-serif; font-size: 12px; fill: rgb(42, 63, 95); fill-opacity: 1; white-space: pre; opacity: 1;\" transform=\"translate(0,158.76)\">35k</text></g><g class=\"ycbcoloraxistick\"><text text-anchor=\"start\" x=\"602.9\" y=\"4.199999999999999\" style=\"font-family: 'Open Sans', verdana, arial, sans-serif; font-size: 12px; fill: rgb(42, 63, 95); fill-opacity: 1; white-space: pre; opacity: 1;\" transform=\"translate(0,106.60999999999997)\">40k</text></g></g><g class=\"cbtitleunshift\" transform=\"translate(-60,-40)\"><g class=\"cbtitle\" transform=\"\"><text class=\"ycbcoloraxistitle\" x=\"629.98\" y=\"63.499999999999986\" text-anchor=\"start\" style=\"font-family: 'Open Sans', verdana, arial, sans-serif; font-size: 14px; fill: rgb(42, 63, 95); opacity: 1; font-weight: normal; white-space: pre;\">Cantidad de usuarios</text></g></g><rect class=\"cboutline\" x=\"570\" y=\"32\" width=\"30\" height=\"287\" style=\"stroke: rgb(68, 68, 68); stroke-opacity: 1; fill: none; stroke-width: 0;\"/></g><g class=\"g-gtitle\"><text class=\"gtitle\" x=\"40\" y=\"20\" text-anchor=\"start\" dy=\"0em\" style=\"font-family: 'Open Sans', verdana, arial, sans-serif; font-size: 17px; fill: rgb(42, 63, 95); opacity: 1; font-weight: normal; white-space: pre;\">Videojuegos gratis mas jugados</text></g><g class=\"g-xtitle\"><text class=\"xtitle\" x=\"334.5\" y=\"487.762890625\" text-anchor=\"middle\" style=\"font-family: 'Open Sans', verdana, arial, sans-serif; font-size: 14px; fill: rgb(42, 63, 95); opacity: 1; font-weight: normal; white-space: pre;\">Videojuegos</text></g><g class=\"g-ytitle\" transform=\"translate(2.1591796875,0)\"><text class=\"ytitle\" transform=\"rotate(-90,11.840625000000003,204.5)\" x=\"11.840625000000003\" y=\"204.5\" text-anchor=\"middle\" style=\"font-family: 'Open Sans', verdana, arial, sans-serif; font-size: 14px; fill: rgb(42, 63, 95); opacity: 1; font-weight: normal; white-space: pre;\">Cantidad de usuarios</text></g></g></svg>"
      ],
      "text/plain": [
       "<IPython.core.display.SVG object>"
      ]
     },
     "metadata": {},
     "output_type": "display_data"
    }
   ],
   "source": [
    "fig = px.bar(data_frame=merge_free_games, x='app_name', y='amount', title='Videojuegos gratis mas jugados',\n",
    "             labels={'app_name': 'Videojuegos',\n",
    "                     'amount': 'Cantidad de usuarios', 'color': 'Cantidad'},\n",
    "             hover_data=HOVER_DATA_COLUMNS,\n",
    "             color=merge_free_games.amount, color_continuous_scale='ylorrd',\n",
    "             width=800,\n",
    "             height=500)\n",
    "\n",
    "fig.update_layout(paper_bgcolor='#FAFAFA',\n",
    "                  margin=dict(l=20, r=20, t=40, b=30)\n",
    "                  )\n",
    "#fig.show()\n",
    "display(SVG(fig.to_image(format='svg')))"
   ]
  },
  {
   "cell_type": "markdown",
   "id": "656fcff6-612d-4dfb-ae03-af7330d935f3",
   "metadata": {},
   "source": [
    "##### Porcentaje de usuarios por condición de precio"
   ]
  },
  {
   "cell_type": "code",
   "execution_count": 89,
   "id": "d1b9e9cc-041e-48ee-b19d-363177f807ae",
   "metadata": {},
   "outputs": [
    {
     "data": {
      "image/svg+xml": [
       "<svg xmlns=\"http://www.w3.org/2000/svg\" xmlns:xlink=\"http://www.w3.org/1999/xlink\" class=\"main-svg\" width=\"450\" height=\"350\" style=\"\" viewBox=\"0 0 450 350\"><rect x=\"0\" y=\"0\" width=\"450\" height=\"350\" style=\"fill: rgb(237, 242, 244); fill-opacity: 1;\"/><defs id=\"defs-faeac7\"><g class=\"clips\"/><g class=\"gradients\"/><g class=\"patterns\"/></defs><g class=\"bglayer\"/><g class=\"layer-below\"><g class=\"imagelayer\"/><g class=\"shapelayer\"/></g><g class=\"cartesianlayer\"/><g class=\"polarlayer\"/><g class=\"ternarylayer\"/><g class=\"geolayer\"/><g class=\"funnelarealayer\"/><g class=\"pielayer\"><g class=\"trace\" stroke-linejoin=\"round\" style=\"opacity: 1;\"><g class=\"slice\"><path class=\"surface\" d=\"M167.77936562597935,171.3312004449453a56.400000000000006,56.400000000000006 0 1 0 53.220634374020655,-37.73120044494529l0,-84.6a141,141 0 1 1 -133.05158593505163,94.32800111236321Z\" style=\"pointer-events: all; stroke-width: 0; fill: rgb(38, 70, 83); fill-opacity: 1; stroke: rgb(68, 68, 68); stroke-opacity: 1;\"/><g class=\"slicetext\"><text data-notex=\"1\" class=\"slicetext\" transform=\"translate(278.08380504509654,267.46319375362845)\" text-anchor=\"middle\" x=\"0\" y=\"0\" style=\"font-family: 'Open Sans', verdana, arial, sans-serif; font-size: 12px; fill: rgb(255, 255, 255); fill-opacity: 1; white-space: pre;\"><tspan class=\"line\" dy=\"0em\" x=\"0\" y=\"0\">paid</tspan><tspan class=\"line\" dy=\"1.3em\" x=\"0\" y=\"0\">80.4%</tspan></text></g></g><g class=\"slice\"><path class=\"surface\" d=\"M221,133.6a56.400000000000006,56.400000000000006 0 0 0 -53.220634374020655,37.73120044494529l-79.83095156103097,-28.003199332582078a141,141 0 0 1 133.05158593505163,-94.32800111236321Z\" style=\"pointer-events: all; stroke-width: 0; fill: rgb(230, 57, 70); fill-opacity: 1; stroke: rgb(68, 68, 68); stroke-opacity: 1;\"/><g class=\"slicetext\"><text data-notex=\"1\" class=\"slicetext\" transform=\"translate(163.9161949549035,106.42743124637154)\" text-anchor=\"middle\" x=\"0\" y=\"0\" style=\"font-family: 'Open Sans', verdana, arial, sans-serif; font-size: 12px; fill: rgb(255, 255, 255); fill-opacity: 1; white-space: pre;\"><tspan class=\"line\" dy=\"0em\" x=\"0\" y=\"0\">free</tspan><tspan class=\"line\" dy=\"1.3em\" x=\"0\" y=\"0\">19.6%</tspan></text></g></g></g></g><g class=\"iciclelayer\"/><g class=\"treemaplayer\"/><g class=\"sunburstlayer\"/><g class=\"glimages\"/><defs id=\"topdefs-faeac7\"><g class=\"clips\"/><clipPath id=\"legendfaeac7\"><rect width=\"82\" height=\"61\" x=\"0\" y=\"0\"/></clipPath></defs><g class=\"layer-above\"><g class=\"imagelayer\"/><g class=\"shapelayer\"/></g><g class=\"infolayer\"><g class=\"legend\" pointer-events=\"all\" transform=\"translate(367.64,30)\"><rect class=\"bg\" shape-rendering=\"crispEdges\" style=\"stroke: rgb(68, 68, 68); stroke-opacity: 1; fill: rgb(237, 242, 244); fill-opacity: 1; stroke-width: 0px;\" width=\"82\" height=\"61\" x=\"0\" y=\"0\"/><g class=\"scrollbox\" transform=\"\" clip-path=\"url(#legendfaeac7)\"><g class=\"groups\"><g class=\"traces\" transform=\"translate(0,17.55)\" style=\"opacity: 1;\"><text class=\"legendtext\" text-anchor=\"start\" x=\"40\" y=\"6.63\" style=\"font-family: 'Open Sans', verdana, arial, sans-serif; font-size: 17px; fill: rgb(42, 63, 95); fill-opacity: 1; white-space: pre;\">paid</text><g class=\"layers\" style=\"opacity: 1;\"><g class=\"legendfill\"/><g class=\"legendlines\"/><g class=\"legendsymbols\"><g class=\"legendpoints\"><path class=\"legendpie\" d=\"M6,6H-6V-6H6Z\" transform=\"translate(20,0)\" style=\"stroke-width: 0; fill: rgb(38, 70, 83); fill-opacity: 1; stroke: rgb(68, 68, 68); stroke-opacity: 1;\"/></g></g></g><rect class=\"legendtoggle\" x=\"0\" y=\"-12.55\" width=\"76.0625\" height=\"25.1\" style=\"fill: rgb(0, 0, 0); fill-opacity: 0;\"/></g><g class=\"traces\" transform=\"translate(0,42.650000000000006)\" style=\"opacity: 1;\"><text class=\"legendtext\" text-anchor=\"start\" x=\"40\" y=\"6.63\" style=\"font-family: 'Open Sans', verdana, arial, sans-serif; font-size: 17px; fill: rgb(42, 63, 95); fill-opacity: 1; white-space: pre;\">free</text><g class=\"layers\" style=\"opacity: 1;\"><g class=\"legendfill\"/><g class=\"legendlines\"/><g class=\"legendsymbols\"><g class=\"legendpoints\"><path class=\"legendpie\" d=\"M6,6H-6V-6H6Z\" transform=\"translate(20,0)\" style=\"stroke-width: 0; fill: rgb(230, 57, 70); fill-opacity: 1; stroke: rgb(68, 68, 68); stroke-opacity: 1;\"/></g></g></g><rect class=\"legendtoggle\" x=\"0\" y=\"-12.55\" width=\"76.0625\" height=\"25.1\" style=\"fill: rgb(0, 0, 0); fill-opacity: 0;\"/></g></g></g><rect class=\"scrollbar\" rx=\"20\" ry=\"3\" width=\"0\" height=\"0\" style=\"fill: rgb(128, 139, 164); fill-opacity: 1;\" x=\"0\" y=\"0\"/></g><g class=\"g-gtitle\"><text class=\"gtitle\" x=\"22.5\" y=\"15\" text-anchor=\"start\" dy=\"0em\" style=\"font-family: 'Open Sans', verdana, arial, sans-serif; font-size: 17px; fill: rgb(42, 63, 95); opacity: 1; font-weight: normal; white-space: pre;\">% Usuarios por precio</text></g></g></svg>"
      ],
      "text/plain": [
       "<IPython.core.display.SVG object>"
      ]
     },
     "metadata": {},
     "output_type": "display_data"
    }
   ],
   "source": [
    "fig = px.pie(reviews_games_amount,\n",
    "             names='category_price',\n",
    "             values='amount',\n",
    "             title='% Usuarios por precio',\n",
    "             width=450,\n",
    "             height=350,\n",
    "             hole=0.4,\n",
    "             color_discrete_sequence=('#264653', '#E63946'),\n",
    "             labels={'category_price': 'Tipo Precio', 'amount': 'Cantidad'}\n",
    "             )\n",
    "\n",
    "fig.update_layout(\n",
    "    margin=dict(t=30, b=0),\n",
    "    legend=dict(font=dict(size=17)),\n",
    "    paper_bgcolor='#edf2f4'\n",
    ")\n",
    "fig.update_traces(textposition='inside', textinfo='percent+label')\n",
    "#fig.show()\n",
    "display(SVG(fig.to_image(format='svg')))"
   ]
  },
  {
   "cell_type": "markdown",
   "id": "9fbe777a-346e-4ff3-bbbf-8f4364a90225",
   "metadata": {},
   "source": [
    "## Sistemas de Recomendación\n",
    "\n",
    "##### Nuevos usuarios\n",
    "###### Se les recomendará automáticamente los videojuegos con mayor popularidad. Al utilizarlos serán instantáneamente tenidos en cuenta por el algoritmo recomendador, para futuras sugerencias."
   ]
  },
  {
   "cell_type": "code",
   "execution_count": 90,
   "id": "14ae5ba2-7744-42a1-8b92-fe34d1dafa0b",
   "metadata": {},
   "outputs": [],
   "source": [
    "def plot_table(df):\n",
    "    COLUMNS_FOR_USER = ['app_name', 'url', 'category_price']\n",
    "    fig = go.Figure(go.Table(\n",
    "        header=dict(values=['Videojuego', 'Sitio web', 'Tipo de precio'],\n",
    "                    fill_color='#ffd166',\n",
    "                    font=dict(size=13)),\n",
    "        cells=dict(values=np.vstack(df[COLUMNS_FOR_USER].values).T,\n",
    "                   fill_color='#264653',\n",
    "                   line_color='black',\n",
    "                   line_width=.4,\n",
    "                   font=dict(color='#f1faee'),\n",
    "                   height=30),\n",
    "        columnwidth=[1.5, 4, 1]))\n",
    "\n",
    "    fig.update_layout(width=1000, height=370, margin=dict(t=10, b=0, l=0))\n",
    "    return display(SVG(fig.to_image('svg')))"
   ]
  },
  {
   "cell_type": "code",
   "execution_count": 91,
   "id": "042f12e3-c95a-48e0-813b-558561a0c2f4",
   "metadata": {},
   "outputs": [
    {
     "data": {
      "image/svg+xml": [
       "<svg xmlns=\"http://www.w3.org/2000/svg\" xmlns:xlink=\"http://www.w3.org/1999/xlink\" class=\"main-svg\" width=\"1000\" height=\"370\" style=\"\" viewBox=\"0 0 1000 370\"><rect x=\"0\" y=\"0\" width=\"1000\" height=\"370\" style=\"fill: rgb(255, 255, 255); fill-opacity: 1;\"/><defs id=\"defs-91a908\"><g class=\"clips\"/><g class=\"gradients\"/><g class=\"patterns\"/></defs><g class=\"bglayer\"/><g class=\"layer-below\"><g class=\"imagelayer\"/><g class=\"shapelayer\"/></g><g class=\"cartesianlayer\"/><g class=\"polarlayer\"/><g class=\"ternarylayer\"/><g class=\"geolayer\"/><g class=\"funnelarealayer\"/><g class=\"pielayer\"/><g class=\"iciclelayer\"/><g class=\"treemaplayer\"/><g class=\"sunburstlayer\"/><g class=\"glimages\"/><g class=\"table\" overflow=\"visible\" width=\"1000\" height=\"370\" transform=\"\" style=\"box-sizing: content-box; position: absolute; left: 0px; overflow: visible; shape-rendering: crispedges; pointer-events: all;\"><g class=\"table-control-view\" transform=\"translate(0,10)\" clip-path=\"url(#clip91a908_scrollAreaBottomClip_0307b5true)\" style=\"box-sizing: content-box;\"><rect class=\"scroll-background\" fill=\"none\" width=\"920\" height=\"360\"/><g class=\"y-column\" transform=\"\" clip-path=\"url(#clip91a908_columnBoundaryClippath_0307b5true_0)\"><g class=\"column-block\" id=\"cells1\" transform=\"\" style=\"cursor: default;\"><g class=\"column-cells\"><g class=\"column-cell\" transform=\"translate(0,28)\"><rect class=\"cell-rect\" width=\"212.30769230769232\" stroke-width=\"0.4\" style=\"stroke: rgb(0, 0, 0); stroke-opacity: 1; fill: rgb(38, 70, 83); fill-opacity: 1;\" height=\"30\"/><g class=\"cell-text-holder\" transform=\"translate(106.15384615384616,8)\" text-anchor=\"middle\" style=\"shape-rendering: geometricprecision;\"><text class=\"cell-text\" dy=\"0.75em\" x=\"0\" y=\"0\" style=\"cursor: auto; font-family: 'Open Sans', verdana, arial, sans-serif; font-size: 12px; fill: rgb(241, 250, 238); fill-opacity: 1; white-space: pre;\">Team Fortress 2</text></g></g><g class=\"column-cell\" transform=\"translate(0,58)\"><rect class=\"cell-rect\" width=\"212.30769230769232\" stroke-width=\"0.4\" style=\"stroke: rgb(0, 0, 0); stroke-opacity: 1; fill: rgb(38, 70, 83); fill-opacity: 1;\" height=\"30\"/><g class=\"cell-text-holder\" transform=\"translate(106.15384615384616,8)\" text-anchor=\"middle\" style=\"shape-rendering: geometricprecision;\"><text class=\"cell-text\" dy=\"0.75em\" style=\"cursor: auto; font-family: 'Open Sans', verdana, arial, sans-serif; font-size: 12px; fill: rgb(241, 250, 238); fill-opacity: 1;\">Rust</text></g></g><g class=\"column-cell\" transform=\"translate(0,88)\"><rect class=\"cell-rect\" width=\"212.30769230769232\" stroke-width=\"0.4\" style=\"stroke: rgb(0, 0, 0); stroke-opacity: 1; fill: rgb(38, 70, 83); fill-opacity: 1;\" height=\"30\"/><g class=\"cell-text-holder\" transform=\"translate(106.15384615384616,8)\" text-anchor=\"middle\" style=\"shape-rendering: geometricprecision;\"><text class=\"cell-text\" dy=\"0.75em\" x=\"0\" y=\"0\" style=\"cursor: auto; font-family: 'Open Sans', verdana, arial, sans-serif; font-size: 12px; fill: rgb(241, 250, 238); fill-opacity: 1; white-space: pre;\">Grand Theft Auto V</text></g></g><g class=\"column-cell\" transform=\"translate(0,118)\"><rect class=\"cell-rect\" width=\"212.30769230769232\" stroke-width=\"0.4\" style=\"stroke: rgb(0, 0, 0); stroke-opacity: 1; fill: rgb(38, 70, 83); fill-opacity: 1;\" height=\"30\"/><g class=\"cell-text-holder\" transform=\"translate(106.15384615384616,8)\" text-anchor=\"middle\" style=\"shape-rendering: geometricprecision;\"><text class=\"cell-text\" dy=\"0.75em\" style=\"cursor: auto; font-family: 'Open Sans', verdana, arial, sans-serif; font-size: 12px; fill: rgb(241, 250, 238); fill-opacity: 1;\">Robocraft</text></g></g><g class=\"column-cell\" transform=\"translate(0,148)\"><rect class=\"cell-rect\" width=\"212.30769230769232\" stroke-width=\"0.4\" style=\"stroke: rgb(0, 0, 0); stroke-opacity: 1; fill: rgb(38, 70, 83); fill-opacity: 1;\" height=\"30\"/><g class=\"cell-text-holder\" transform=\"translate(106.15384615384616,8)\" text-anchor=\"middle\" style=\"shape-rendering: geometricprecision;\"><text class=\"cell-text\" dy=\"0.75em\" style=\"cursor: auto; font-family: 'Open Sans', verdana, arial, sans-serif; font-size: 12px; fill: rgb(241, 250, 238); fill-opacity: 1;\">DayZ</text></g></g><g class=\"column-cell\" transform=\"translate(0,178)\"><rect class=\"cell-rect\" width=\"212.30769230769232\" stroke-width=\"0.4\" style=\"stroke: rgb(0, 0, 0); stroke-opacity: 1; fill: rgb(38, 70, 83); fill-opacity: 1;\" height=\"30\"/><g class=\"cell-text-holder\" transform=\"translate(106.15384615384616,8)\" text-anchor=\"middle\" style=\"shape-rendering: geometricprecision;\"><text class=\"cell-text\" dy=\"0.75em\" style=\"cursor: auto; font-family: 'Open Sans', verdana, arial, sans-serif; font-size: 12px; fill: rgb(241, 250, 238); fill-opacity: 1;\">Undertale</text></g></g><g class=\"column-cell\" transform=\"translate(0,208)\"><rect class=\"cell-rect\" width=\"212.30769230769232\" stroke-width=\"0.4\" style=\"stroke: rgb(0, 0, 0); stroke-opacity: 1; fill: rgb(38, 70, 83); fill-opacity: 1;\" height=\"30\"/><g class=\"cell-text-holder\" transform=\"translate(106.15384615384616,8)\" text-anchor=\"middle\" style=\"shape-rendering: geometricprecision;\"><text class=\"cell-text\" dy=\"0.75em\" x=\"0\" y=\"0\" style=\"cursor: auto; font-family: 'Open Sans', verdana, arial, sans-serif; font-size: 12px; fill: rgb(241, 250, 238); fill-opacity: 1; white-space: pre;\">Portal 2</text></g></g><g class=\"column-cell\" transform=\"translate(0,238)\"><rect class=\"cell-rect\" width=\"212.30769230769232\" stroke-width=\"0.4\" style=\"stroke: rgb(0, 0, 0); stroke-opacity: 1; fill: rgb(38, 70, 83); fill-opacity: 1;\" height=\"30\"/><g class=\"cell-text-holder\" transform=\"translate(106.15384615384616,8)\" text-anchor=\"middle\" style=\"shape-rendering: geometricprecision;\"><text class=\"cell-text\" dy=\"0.75em\" x=\"0\" y=\"0\" style=\"cursor: auto; font-family: 'Open Sans', verdana, arial, sans-serif; font-size: 12px; fill: rgb(241, 250, 238); fill-opacity: 1; white-space: pre;\">Garry's Mod</text></g></g><g class=\"column-cell\" transform=\"translate(0,268)\"><rect class=\"cell-rect\" width=\"212.30769230769232\" stroke-width=\"0.4\" style=\"stroke: rgb(0, 0, 0); stroke-opacity: 1; fill: rgb(38, 70, 83); fill-opacity: 1;\" height=\"30.5\"/><g class=\"cell-text-holder\" transform=\"translate(50.05228365384616,20)\" style=\"shape-rendering: geometricprecision;\"><text class=\"cell-text\" dy=\"0\" x=\"0\" y=\"0\" style=\"cursor: auto; font-family: 'Open Sans', verdana, arial, sans-serif; font-size: 12px; fill: rgb(241, 250, 238); fill-opacity: 1; white-space: pre;\">Heroes &amp; Generals</text></g></g><g class=\"column-cell\" transform=\"translate(0,298.5)\"><rect class=\"cell-rect\" width=\"212.30769230769232\" stroke-width=\"0.4\" style=\"stroke: rgb(0, 0, 0); stroke-opacity: 1; fill: rgb(38, 70, 83); fill-opacity: 1;\" height=\"30\"/><g class=\"cell-text-holder\" transform=\"translate(106.15384615384616,8)\" text-anchor=\"middle\" style=\"shape-rendering: geometricprecision;\"><text class=\"cell-text\" dy=\"0.75em\" style=\"cursor: auto; font-family: 'Open Sans', verdana, arial, sans-serif; font-size: 12px; fill: rgb(241, 250, 238); fill-opacity: 1;\">Starbound</text></g></g></g></g><g class=\"column-block\" id=\"cells2\" transform=\"\" style=\"cursor: default;\"><g class=\"column-cells\"/></g><g class=\"column-block\" id=\"header\" style=\"cursor: ew-resize;\"><g class=\"column-cells\"><g class=\"column-cell\" transform=\"\"><rect class=\"cell-rect\" width=\"212.30769230769232\" stroke-width=\"1\" style=\"stroke: rgb(255, 255, 255); stroke-opacity: 1; fill: rgb(255, 209, 102); fill-opacity: 1;\" height=\"28\"/><g class=\"cell-text-holder\" transform=\"translate(106.15384615384616,8)\" text-anchor=\"middle\" style=\"shape-rendering: geometricprecision;\"><text class=\"cell-text\" dy=\"0.75em\" style=\"cursor: auto; font-family: 'Open Sans', verdana, arial, sans-serif; font-size: 13px; fill: rgb(42, 63, 95); fill-opacity: 1;\">Videojuego</text></g></g></g></g><g class=\"column-boundary\"/><clipPath class=\"column-boundary-clippath\" id=\"clip91a908_columnBoundaryClippath_0307b5true_0\"><rect class=\"column-boundary-rect\" fill=\"none\" width=\"214.30769230769232\" height=\"367\" x=\"-1\" y=\"-1\"/></clipPath></g><g class=\"y-column\" transform=\"translate(212.30769230769232,0)\" clip-path=\"url(#clip91a908_columnBoundaryClippath_0307b5true_1)\"><g class=\"column-block\" id=\"cells1\" transform=\"\" style=\"cursor: default;\"><g class=\"column-cells\"><g class=\"column-cell\" transform=\"translate(0,28)\"><rect class=\"cell-rect\" width=\"566.1538461538462\" stroke-width=\"0.4\" style=\"stroke: rgb(0, 0, 0); stroke-opacity: 1; fill: rgb(38, 70, 83); fill-opacity: 1;\" height=\"30\"/><g class=\"cell-text-holder\" transform=\"translate(283.0769230769231,8)\" text-anchor=\"middle\" style=\"shape-rendering: geometricprecision;\"><text class=\"cell-text\" dy=\"0.75em\" style=\"cursor: auto; font-family: 'Open Sans', verdana, arial, sans-serif; font-size: 12px; fill: rgb(241, 250, 238); fill-opacity: 1;\">http://store.steampowered.com/app/440/Team_Fortress_2/</text></g></g><g class=\"column-cell\" transform=\"translate(0,58)\"><rect class=\"cell-rect\" width=\"566.1538461538462\" stroke-width=\"0.4\" style=\"stroke: rgb(0, 0, 0); stroke-opacity: 1; fill: rgb(38, 70, 83); fill-opacity: 1;\" height=\"30\"/><g class=\"cell-text-holder\" transform=\"translate(283.0769230769231,8)\" text-anchor=\"middle\" style=\"shape-rendering: geometricprecision;\"><text class=\"cell-text\" dy=\"0.75em\" style=\"cursor: auto; font-family: 'Open Sans', verdana, arial, sans-serif; font-size: 12px; fill: rgb(241, 250, 238); fill-opacity: 1;\">http://store.steampowered.com/app/252490/Rust/</text></g></g><g class=\"column-cell\" transform=\"translate(0,88)\"><rect class=\"cell-rect\" width=\"566.1538461538462\" stroke-width=\"0.4\" style=\"stroke: rgb(0, 0, 0); stroke-opacity: 1; fill: rgb(38, 70, 83); fill-opacity: 1;\" height=\"30\"/><g class=\"cell-text-holder\" transform=\"translate(283.0769230769231,8)\" text-anchor=\"middle\" style=\"shape-rendering: geometricprecision;\"><text class=\"cell-text\" dy=\"0.75em\" style=\"cursor: auto; font-family: 'Open Sans', verdana, arial, sans-serif; font-size: 12px; fill: rgb(241, 250, 238); fill-opacity: 1;\">http://store.steampowered.com/app/271590/Grand_Theft_Auto_V/</text></g></g><g class=\"column-cell\" transform=\"translate(0,118)\"><rect class=\"cell-rect\" width=\"566.1538461538462\" stroke-width=\"0.4\" style=\"stroke: rgb(0, 0, 0); stroke-opacity: 1; fill: rgb(38, 70, 83); fill-opacity: 1;\" height=\"30\"/><g class=\"cell-text-holder\" transform=\"translate(283.0769230769231,8)\" text-anchor=\"middle\" style=\"shape-rendering: geometricprecision;\"><text class=\"cell-text\" dy=\"0.75em\" style=\"cursor: auto; font-family: 'Open Sans', verdana, arial, sans-serif; font-size: 12px; fill: rgb(241, 250, 238); fill-opacity: 1;\">http://store.steampowered.com/app/301520/Robocraft/</text></g></g><g class=\"column-cell\" transform=\"translate(0,148)\"><rect class=\"cell-rect\" width=\"566.1538461538462\" stroke-width=\"0.4\" style=\"stroke: rgb(0, 0, 0); stroke-opacity: 1; fill: rgb(38, 70, 83); fill-opacity: 1;\" height=\"30\"/><g class=\"cell-text-holder\" transform=\"translate(283.0769230769231,8)\" text-anchor=\"middle\" style=\"shape-rendering: geometricprecision;\"><text class=\"cell-text\" dy=\"0.75em\" style=\"cursor: auto; font-family: 'Open Sans', verdana, arial, sans-serif; font-size: 12px; fill: rgb(241, 250, 238); fill-opacity: 1;\">http://store.steampowered.com/app/221100/DayZ/</text></g></g><g class=\"column-cell\" transform=\"translate(0,178)\"><rect class=\"cell-rect\" width=\"566.1538461538462\" stroke-width=\"0.4\" style=\"stroke: rgb(0, 0, 0); stroke-opacity: 1; fill: rgb(38, 70, 83); fill-opacity: 1;\" height=\"30\"/><g class=\"cell-text-holder\" transform=\"translate(283.0769230769231,8)\" text-anchor=\"middle\" style=\"shape-rendering: geometricprecision;\"><text class=\"cell-text\" dy=\"0.75em\" style=\"cursor: auto; font-family: 'Open Sans', verdana, arial, sans-serif; font-size: 12px; fill: rgb(241, 250, 238); fill-opacity: 1;\">http://store.steampowered.com/app/391540/Undertale/</text></g></g><g class=\"column-cell\" transform=\"translate(0,208)\"><rect class=\"cell-rect\" width=\"566.1538461538462\" stroke-width=\"0.4\" style=\"stroke: rgb(0, 0, 0); stroke-opacity: 1; fill: rgb(38, 70, 83); fill-opacity: 1;\" height=\"30\"/><g class=\"cell-text-holder\" transform=\"translate(283.0769230769231,8)\" text-anchor=\"middle\" style=\"shape-rendering: geometricprecision;\"><text class=\"cell-text\" dy=\"0.75em\" style=\"cursor: auto; font-family: 'Open Sans', verdana, arial, sans-serif; font-size: 12px; fill: rgb(241, 250, 238); fill-opacity: 1;\">http://store.steampowered.com/app/620/Portal_2/</text></g></g><g class=\"column-cell\" transform=\"translate(0,238)\"><rect class=\"cell-rect\" width=\"566.1538461538462\" stroke-width=\"0.4\" style=\"stroke: rgb(0, 0, 0); stroke-opacity: 1; fill: rgb(38, 70, 83); fill-opacity: 1;\" height=\"30\"/><g class=\"cell-text-holder\" transform=\"translate(283.0769230769231,8)\" text-anchor=\"middle\" style=\"shape-rendering: geometricprecision;\"><text class=\"cell-text\" dy=\"0.75em\" style=\"cursor: auto; font-family: 'Open Sans', verdana, arial, sans-serif; font-size: 12px; fill: rgb(241, 250, 238); fill-opacity: 1;\">http://store.steampowered.com/app/4000/Garrys_Mod/</text></g></g><g class=\"column-cell\" transform=\"translate(0,268)\"><rect class=\"cell-rect\" width=\"566.1538461538462\" stroke-width=\"0.4\" style=\"stroke: rgb(0, 0, 0); stroke-opacity: 1; fill: rgb(38, 70, 83); fill-opacity: 1;\" height=\"30.5\"/><g class=\"cell-text-holder\" transform=\"translate(283.0769230769231,8)\" text-anchor=\"middle\" style=\"shape-rendering: geometricprecision;\"><text class=\"cell-text\" dy=\"0.75em\" style=\"cursor: auto; font-family: 'Open Sans', verdana, arial, sans-serif; font-size: 12px; fill: rgb(241, 250, 238); fill-opacity: 1;\">http://store.steampowered.com/app/227940/Heroes__Generals/</text></g></g><g class=\"column-cell\" transform=\"translate(0,298.5)\"><rect class=\"cell-rect\" width=\"566.1538461538462\" stroke-width=\"0.4\" style=\"stroke: rgb(0, 0, 0); stroke-opacity: 1; fill: rgb(38, 70, 83); fill-opacity: 1;\" height=\"30\"/><g class=\"cell-text-holder\" transform=\"translate(283.0769230769231,8)\" text-anchor=\"middle\" style=\"shape-rendering: geometricprecision;\"><text class=\"cell-text\" dy=\"0.75em\" style=\"cursor: auto; font-family: 'Open Sans', verdana, arial, sans-serif; font-size: 12px; fill: rgb(241, 250, 238); fill-opacity: 1;\">http://store.steampowered.com/app/211820/Starbound/</text></g></g></g></g><g class=\"column-block\" id=\"cells2\" transform=\"\" style=\"cursor: default;\"><g class=\"column-cells\"/></g><g class=\"column-block\" id=\"header\" style=\"cursor: ew-resize;\"><g class=\"column-cells\"><g class=\"column-cell\" transform=\"\"><rect class=\"cell-rect\" width=\"566.1538461538462\" stroke-width=\"1\" style=\"stroke: rgb(255, 255, 255); stroke-opacity: 1; fill: rgb(255, 209, 102); fill-opacity: 1;\" height=\"28\"/><g class=\"cell-text-holder\" transform=\"translate(283.0769230769231,8)\" text-anchor=\"middle\" style=\"shape-rendering: geometricprecision;\"><text class=\"cell-text\" dy=\"0.75em\" x=\"0\" y=\"0\" style=\"cursor: auto; font-family: 'Open Sans', verdana, arial, sans-serif; font-size: 13px; fill: rgb(42, 63, 95); fill-opacity: 1; white-space: pre;\">Sitio web</text></g></g></g></g><g class=\"column-boundary\"/><clipPath class=\"column-boundary-clippath\" id=\"clip91a908_columnBoundaryClippath_0307b5true_1\"><rect class=\"column-boundary-rect\" fill=\"none\" width=\"568.1538461538462\" height=\"367\" x=\"-1\" y=\"-1\"/></clipPath></g><g class=\"y-column\" transform=\"translate(778.4615384615386,0)\" clip-path=\"url(#clip91a908_columnBoundaryClippath_0307b5true_2)\"><g class=\"column-block\" id=\"cells1\" transform=\"\" style=\"cursor: default;\"><g class=\"column-cells\"><g class=\"column-cell\" transform=\"translate(0,28)\"><rect class=\"cell-rect\" width=\"141.53846153846155\" stroke-width=\"0.4\" style=\"stroke: rgb(0, 0, 0); stroke-opacity: 1; fill: rgb(38, 70, 83); fill-opacity: 1;\" height=\"30\"/><g class=\"cell-text-holder\" transform=\"translate(70.76923076923077,8)\" text-anchor=\"middle\" style=\"shape-rendering: geometricprecision;\"><text class=\"cell-text\" dy=\"0.75em\" style=\"cursor: auto; font-family: 'Open Sans', verdana, arial, sans-serif; font-size: 12px; fill: rgb(241, 250, 238); fill-opacity: 1;\">free</text></g></g><g class=\"column-cell\" transform=\"translate(0,58)\"><rect class=\"cell-rect\" width=\"141.53846153846155\" stroke-width=\"0.4\" style=\"stroke: rgb(0, 0, 0); stroke-opacity: 1; fill: rgb(38, 70, 83); fill-opacity: 1;\" height=\"30\"/><g class=\"cell-text-holder\" transform=\"translate(70.76923076923077,8)\" text-anchor=\"middle\" style=\"shape-rendering: geometricprecision;\"><text class=\"cell-text\" dy=\"0.75em\" style=\"cursor: auto; font-family: 'Open Sans', verdana, arial, sans-serif; font-size: 12px; fill: rgb(241, 250, 238); fill-opacity: 1;\">paid</text></g></g><g class=\"column-cell\" transform=\"translate(0,88)\"><rect class=\"cell-rect\" width=\"141.53846153846155\" stroke-width=\"0.4\" style=\"stroke: rgb(0, 0, 0); stroke-opacity: 1; fill: rgb(38, 70, 83); fill-opacity: 1;\" height=\"30\"/><g class=\"cell-text-holder\" transform=\"translate(70.76923076923077,8)\" text-anchor=\"middle\" style=\"shape-rendering: geometricprecision;\"><text class=\"cell-text\" dy=\"0.75em\" style=\"cursor: auto; font-family: 'Open Sans', verdana, arial, sans-serif; font-size: 12px; fill: rgb(241, 250, 238); fill-opacity: 1;\">paid</text></g></g><g class=\"column-cell\" transform=\"translate(0,118)\"><rect class=\"cell-rect\" width=\"141.53846153846155\" stroke-width=\"0.4\" style=\"stroke: rgb(0, 0, 0); stroke-opacity: 1; fill: rgb(38, 70, 83); fill-opacity: 1;\" height=\"30\"/><g class=\"cell-text-holder\" transform=\"translate(70.76923076923077,8)\" text-anchor=\"middle\" style=\"shape-rendering: geometricprecision;\"><text class=\"cell-text\" dy=\"0.75em\" style=\"cursor: auto; font-family: 'Open Sans', verdana, arial, sans-serif; font-size: 12px; fill: rgb(241, 250, 238); fill-opacity: 1;\">free</text></g></g><g class=\"column-cell\" transform=\"translate(0,148)\"><rect class=\"cell-rect\" width=\"141.53846153846155\" stroke-width=\"0.4\" style=\"stroke: rgb(0, 0, 0); stroke-opacity: 1; fill: rgb(38, 70, 83); fill-opacity: 1;\" height=\"30\"/><g class=\"cell-text-holder\" transform=\"translate(70.76923076923077,8)\" text-anchor=\"middle\" style=\"shape-rendering: geometricprecision;\"><text class=\"cell-text\" dy=\"0.75em\" style=\"cursor: auto; font-family: 'Open Sans', verdana, arial, sans-serif; font-size: 12px; fill: rgb(241, 250, 238); fill-opacity: 1;\">paid</text></g></g><g class=\"column-cell\" transform=\"translate(0,178)\"><rect class=\"cell-rect\" width=\"141.53846153846155\" stroke-width=\"0.4\" style=\"stroke: rgb(0, 0, 0); stroke-opacity: 1; fill: rgb(38, 70, 83); fill-opacity: 1;\" height=\"30\"/><g class=\"cell-text-holder\" transform=\"translate(70.76923076923077,8)\" text-anchor=\"middle\" style=\"shape-rendering: geometricprecision;\"><text class=\"cell-text\" dy=\"0.75em\" style=\"cursor: auto; font-family: 'Open Sans', verdana, arial, sans-serif; font-size: 12px; fill: rgb(241, 250, 238); fill-opacity: 1;\">paid</text></g></g><g class=\"column-cell\" transform=\"translate(0,208)\"><rect class=\"cell-rect\" width=\"141.53846153846155\" stroke-width=\"0.4\" style=\"stroke: rgb(0, 0, 0); stroke-opacity: 1; fill: rgb(38, 70, 83); fill-opacity: 1;\" height=\"30\"/><g class=\"cell-text-holder\" transform=\"translate(70.76923076923077,8)\" text-anchor=\"middle\" style=\"shape-rendering: geometricprecision;\"><text class=\"cell-text\" dy=\"0.75em\" style=\"cursor: auto; font-family: 'Open Sans', verdana, arial, sans-serif; font-size: 12px; fill: rgb(241, 250, 238); fill-opacity: 1;\">paid</text></g></g><g class=\"column-cell\" transform=\"translate(0,238)\"><rect class=\"cell-rect\" width=\"141.53846153846155\" stroke-width=\"0.4\" style=\"stroke: rgb(0, 0, 0); stroke-opacity: 1; fill: rgb(38, 70, 83); fill-opacity: 1;\" height=\"30\"/><g class=\"cell-text-holder\" transform=\"translate(70.76923076923077,8)\" text-anchor=\"middle\" style=\"shape-rendering: geometricprecision;\"><text class=\"cell-text\" dy=\"0.75em\" style=\"cursor: auto; font-family: 'Open Sans', verdana, arial, sans-serif; font-size: 12px; fill: rgb(241, 250, 238); fill-opacity: 1;\">paid</text></g></g><g class=\"column-cell\" transform=\"translate(0,268)\"><rect class=\"cell-rect\" width=\"141.53846153846155\" stroke-width=\"0.4\" style=\"stroke: rgb(0, 0, 0); stroke-opacity: 1; fill: rgb(38, 70, 83); fill-opacity: 1;\" height=\"30.5\"/><g class=\"cell-text-holder\" transform=\"translate(70.76923076923077,8)\" text-anchor=\"middle\" style=\"shape-rendering: geometricprecision;\"><text class=\"cell-text\" dy=\"0.75em\" style=\"cursor: auto; font-family: 'Open Sans', verdana, arial, sans-serif; font-size: 12px; fill: rgb(241, 250, 238); fill-opacity: 1;\">free</text></g></g><g class=\"column-cell\" transform=\"translate(0,298.5)\"><rect class=\"cell-rect\" width=\"141.53846153846155\" stroke-width=\"0.4\" style=\"stroke: rgb(0, 0, 0); stroke-opacity: 1; fill: rgb(38, 70, 83); fill-opacity: 1;\" height=\"30\"/><g class=\"cell-text-holder\" transform=\"translate(70.76923076923077,8)\" text-anchor=\"middle\" style=\"shape-rendering: geometricprecision;\"><text class=\"cell-text\" dy=\"0.75em\" style=\"cursor: auto; font-family: 'Open Sans', verdana, arial, sans-serif; font-size: 12px; fill: rgb(241, 250, 238); fill-opacity: 1;\">paid</text></g></g></g></g><g class=\"column-block\" id=\"cells2\" transform=\"\" style=\"cursor: default;\"><g class=\"column-cells\"/></g><g class=\"column-block\" id=\"header\" style=\"cursor: ew-resize;\"><g class=\"column-cells\"><g class=\"column-cell\" transform=\"\"><rect class=\"cell-rect\" width=\"141.53846153846155\" stroke-width=\"1\" style=\"stroke: rgb(255, 255, 255); stroke-opacity: 1; fill: rgb(255, 209, 102); fill-opacity: 1;\" height=\"28\"/><g class=\"cell-text-holder\" transform=\"translate(70.76923076923077,8)\" text-anchor=\"middle\" style=\"shape-rendering: geometricprecision;\"><text class=\"cell-text\" dy=\"0.75em\" x=\"0\" y=\"0\" style=\"cursor: auto; font-family: 'Open Sans', verdana, arial, sans-serif; font-size: 13px; fill: rgb(42, 63, 95); fill-opacity: 1; white-space: pre;\">Tipo de precio</text></g></g></g></g><g class=\"column-boundary\"/><clipPath class=\"column-boundary-clippath\" id=\"clip91a908_columnBoundaryClippath_0307b5true_2\"><rect class=\"column-boundary-rect\" fill=\"none\" width=\"143.53846153846155\" height=\"367\" x=\"-1\" y=\"-1\"/></clipPath></g><g class=\"scrollbar-kit\" transform=\"translate(929,28)\" style=\"shape-rendering: geometricprecision;\"><g class=\"scrollbar\"><g class=\"scrollbar-slider\" transform=\"\"/></g></g><clipPath class=\"scroll-area-clip\" id=\"clip91a908_scrollAreaBottomClip_0307b5true\"><rect class=\"scroll-area-clip-rect\" x=\"-45\" y=\"-5\" fill=\"none\" width=\"1010\" height=\"365\"/></clipPath></g></g><defs id=\"topdefs-91a908\"><g class=\"clips\"/></defs><g class=\"layer-above\"><g class=\"imagelayer\"/><g class=\"shapelayer\"/></g><g class=\"infolayer\"><g class=\"g-gtitle\"/></g></svg>"
      ],
      "text/plain": [
       "<IPython.core.display.SVG object>"
      ]
     },
     "metadata": {},
     "output_type": "display_data"
    }
   ],
   "source": [
    "plot_table(reviews_games_amount.head(10))"
   ]
  },
  {
   "cell_type": "markdown",
   "id": "581a440b-18a4-4be8-aafe-ac27f995845f",
   "metadata": {},
   "source": [
    "#### Benchmark\n",
    "###### Particularmente considero, en primera instancia, de mayor relevancia la sugerencia de los juegos mas jugados, independientemente del analisis 'item-item', 'usuario-item' ni 'usuario-usuario'"
   ]
  },
  {
   "cell_type": "code",
   "execution_count": 92,
   "id": "3653ca0d-17aa-445f-82b9-12c61a636c79",
   "metadata": {},
   "outputs": [],
   "source": [
    "def get_popularity_recommendations(username, top=10):\n",
    "    df_recs = reviews_games_amount[~reviews_games_amount.id.isin(\n",
    "        data_reviews.query('username==@username').product_id)]\n",
    "    plot_table(df_recs.head(top))"
   ]
  },
  {
   "cell_type": "code",
   "execution_count": 93,
   "id": "b169c80a-8d0e-4ec6-a3e4-cf7c55c17e84",
   "metadata": {},
   "outputs": [
    {
     "data": {
      "image/svg+xml": [
       "<svg xmlns=\"http://www.w3.org/2000/svg\" xmlns:xlink=\"http://www.w3.org/1999/xlink\" class=\"main-svg\" width=\"1000\" height=\"370\" style=\"\" viewBox=\"0 0 1000 370\"><rect x=\"0\" y=\"0\" width=\"1000\" height=\"370\" style=\"fill: rgb(255, 255, 255); fill-opacity: 1;\"/><defs id=\"defs-42877d\"><g class=\"clips\"/><g class=\"gradients\"/><g class=\"patterns\"/></defs><g class=\"bglayer\"/><g class=\"layer-below\"><g class=\"imagelayer\"/><g class=\"shapelayer\"/></g><g class=\"cartesianlayer\"/><g class=\"polarlayer\"/><g class=\"ternarylayer\"/><g class=\"geolayer\"/><g class=\"funnelarealayer\"/><g class=\"pielayer\"/><g class=\"iciclelayer\"/><g class=\"treemaplayer\"/><g class=\"sunburstlayer\"/><g class=\"glimages\"/><g class=\"table\" overflow=\"visible\" width=\"1000\" height=\"370\" transform=\"\" style=\"box-sizing: content-box; position: absolute; left: 0px; overflow: visible; shape-rendering: crispedges; pointer-events: all;\"><g class=\"table-control-view\" transform=\"translate(0,10)\" clip-path=\"url(#clip42877d_scrollAreaBottomClip_2be3d0true)\" style=\"box-sizing: content-box;\"><rect class=\"scroll-background\" fill=\"none\" width=\"920\" height=\"360\"/><g class=\"y-column\" transform=\"\" clip-path=\"url(#clip42877d_columnBoundaryClippath_2be3d0true_0)\"><g class=\"column-block\" id=\"cells1\" transform=\"\" style=\"cursor: default;\"><g class=\"column-cells\"><g class=\"column-cell\" transform=\"translate(0,28)\"><rect class=\"cell-rect\" width=\"212.30769230769232\" stroke-width=\"0.4\" style=\"stroke: rgb(0, 0, 0); stroke-opacity: 1; fill: rgb(38, 70, 83); fill-opacity: 1;\" height=\"30\"/><g class=\"cell-text-holder\" transform=\"translate(106.15384615384616,8)\" text-anchor=\"middle\" style=\"shape-rendering: geometricprecision;\"><text class=\"cell-text\" dy=\"0.75em\" x=\"0\" y=\"0\" style=\"cursor: auto; font-family: 'Open Sans', verdana, arial, sans-serif; font-size: 12px; fill: rgb(241, 250, 238); fill-opacity: 1; white-space: pre;\">Team Fortress 2</text></g></g><g class=\"column-cell\" transform=\"translate(0,58)\"><rect class=\"cell-rect\" width=\"212.30769230769232\" stroke-width=\"0.4\" style=\"stroke: rgb(0, 0, 0); stroke-opacity: 1; fill: rgb(38, 70, 83); fill-opacity: 1;\" height=\"30\"/><g class=\"cell-text-holder\" transform=\"translate(106.15384615384616,8)\" text-anchor=\"middle\" style=\"shape-rendering: geometricprecision;\"><text class=\"cell-text\" dy=\"0.75em\" style=\"cursor: auto; font-family: 'Open Sans', verdana, arial, sans-serif; font-size: 12px; fill: rgb(241, 250, 238); fill-opacity: 1;\">Rust</text></g></g><g class=\"column-cell\" transform=\"translate(0,88)\"><rect class=\"cell-rect\" width=\"212.30769230769232\" stroke-width=\"0.4\" style=\"stroke: rgb(0, 0, 0); stroke-opacity: 1; fill: rgb(38, 70, 83); fill-opacity: 1;\" height=\"30\"/><g class=\"cell-text-holder\" transform=\"translate(106.15384615384616,8)\" text-anchor=\"middle\" style=\"shape-rendering: geometricprecision;\"><text class=\"cell-text\" dy=\"0.75em\" x=\"0\" y=\"0\" style=\"cursor: auto; font-family: 'Open Sans', verdana, arial, sans-serif; font-size: 12px; fill: rgb(241, 250, 238); fill-opacity: 1; white-space: pre;\">Grand Theft Auto V</text></g></g><g class=\"column-cell\" transform=\"translate(0,118)\"><rect class=\"cell-rect\" width=\"212.30769230769232\" stroke-width=\"0.4\" style=\"stroke: rgb(0, 0, 0); stroke-opacity: 1; fill: rgb(38, 70, 83); fill-opacity: 1;\" height=\"30\"/><g class=\"cell-text-holder\" transform=\"translate(106.15384615384616,8)\" text-anchor=\"middle\" style=\"shape-rendering: geometricprecision;\"><text class=\"cell-text\" dy=\"0.75em\" style=\"cursor: auto; font-family: 'Open Sans', verdana, arial, sans-serif; font-size: 12px; fill: rgb(241, 250, 238); fill-opacity: 1;\">Robocraft</text></g></g><g class=\"column-cell\" transform=\"translate(0,148)\"><rect class=\"cell-rect\" width=\"212.30769230769232\" stroke-width=\"0.4\" style=\"stroke: rgb(0, 0, 0); stroke-opacity: 1; fill: rgb(38, 70, 83); fill-opacity: 1;\" height=\"30\"/><g class=\"cell-text-holder\" transform=\"translate(106.15384615384616,8)\" text-anchor=\"middle\" style=\"shape-rendering: geometricprecision;\"><text class=\"cell-text\" dy=\"0.75em\" style=\"cursor: auto; font-family: 'Open Sans', verdana, arial, sans-serif; font-size: 12px; fill: rgb(241, 250, 238); fill-opacity: 1;\">DayZ</text></g></g><g class=\"column-cell\" transform=\"translate(0,178)\"><rect class=\"cell-rect\" width=\"212.30769230769232\" stroke-width=\"0.4\" style=\"stroke: rgb(0, 0, 0); stroke-opacity: 1; fill: rgb(38, 70, 83); fill-opacity: 1;\" height=\"30\"/><g class=\"cell-text-holder\" transform=\"translate(106.15384615384616,8)\" text-anchor=\"middle\" style=\"shape-rendering: geometricprecision;\"><text class=\"cell-text\" dy=\"0.75em\" style=\"cursor: auto; font-family: 'Open Sans', verdana, arial, sans-serif; font-size: 12px; fill: rgb(241, 250, 238); fill-opacity: 1;\">Undertale</text></g></g><g class=\"column-cell\" transform=\"translate(0,208)\"><rect class=\"cell-rect\" width=\"212.30769230769232\" stroke-width=\"0.4\" style=\"stroke: rgb(0, 0, 0); stroke-opacity: 1; fill: rgb(38, 70, 83); fill-opacity: 1;\" height=\"30\"/><g class=\"cell-text-holder\" transform=\"translate(106.15384615384616,8)\" text-anchor=\"middle\" style=\"shape-rendering: geometricprecision;\"><text class=\"cell-text\" dy=\"0.75em\" x=\"0\" y=\"0\" style=\"cursor: auto; font-family: 'Open Sans', verdana, arial, sans-serif; font-size: 12px; fill: rgb(241, 250, 238); fill-opacity: 1; white-space: pre;\">Portal 2</text></g></g><g class=\"column-cell\" transform=\"translate(0,238)\"><rect class=\"cell-rect\" width=\"212.30769230769232\" stroke-width=\"0.4\" style=\"stroke: rgb(0, 0, 0); stroke-opacity: 1; fill: rgb(38, 70, 83); fill-opacity: 1;\" height=\"30\"/><g class=\"cell-text-holder\" transform=\"translate(106.15384615384616,8)\" text-anchor=\"middle\" style=\"shape-rendering: geometricprecision;\"><text class=\"cell-text\" dy=\"0.75em\" x=\"0\" y=\"0\" style=\"cursor: auto; font-family: 'Open Sans', verdana, arial, sans-serif; font-size: 12px; fill: rgb(241, 250, 238); fill-opacity: 1; white-space: pre;\">Garry's Mod</text></g></g><g class=\"column-cell\" transform=\"translate(0,268)\"><rect class=\"cell-rect\" width=\"212.30769230769232\" stroke-width=\"0.4\" style=\"stroke: rgb(0, 0, 0); stroke-opacity: 1; fill: rgb(38, 70, 83); fill-opacity: 1;\" height=\"30.5\"/><g class=\"cell-text-holder\" transform=\"translate(50.05228365384616,20)\" style=\"shape-rendering: geometricprecision;\"><text class=\"cell-text\" dy=\"0\" x=\"0\" y=\"0\" style=\"cursor: auto; font-family: 'Open Sans', verdana, arial, sans-serif; font-size: 12px; fill: rgb(241, 250, 238); fill-opacity: 1; white-space: pre;\">Heroes &amp; Generals</text></g></g><g class=\"column-cell\" transform=\"translate(0,298.5)\"><rect class=\"cell-rect\" width=\"212.30769230769232\" stroke-width=\"0.4\" style=\"stroke: rgb(0, 0, 0); stroke-opacity: 1; fill: rgb(38, 70, 83); fill-opacity: 1;\" height=\"30\"/><g class=\"cell-text-holder\" transform=\"translate(106.15384615384616,8)\" text-anchor=\"middle\" style=\"shape-rendering: geometricprecision;\"><text class=\"cell-text\" dy=\"0.75em\" style=\"cursor: auto; font-family: 'Open Sans', verdana, arial, sans-serif; font-size: 12px; fill: rgb(241, 250, 238); fill-opacity: 1;\">Starbound</text></g></g></g></g><g class=\"column-block\" id=\"cells2\" transform=\"\" style=\"cursor: default;\"><g class=\"column-cells\"/></g><g class=\"column-block\" id=\"header\" style=\"cursor: ew-resize;\"><g class=\"column-cells\"><g class=\"column-cell\" transform=\"\"><rect class=\"cell-rect\" width=\"212.30769230769232\" stroke-width=\"1\" style=\"stroke: rgb(255, 255, 255); stroke-opacity: 1; fill: rgb(255, 209, 102); fill-opacity: 1;\" height=\"28\"/><g class=\"cell-text-holder\" transform=\"translate(106.15384615384616,8)\" text-anchor=\"middle\" style=\"shape-rendering: geometricprecision;\"><text class=\"cell-text\" dy=\"0.75em\" style=\"cursor: auto; font-family: 'Open Sans', verdana, arial, sans-serif; font-size: 13px; fill: rgb(42, 63, 95); fill-opacity: 1;\">Videojuego</text></g></g></g></g><g class=\"column-boundary\"/><clipPath class=\"column-boundary-clippath\" id=\"clip42877d_columnBoundaryClippath_2be3d0true_0\"><rect class=\"column-boundary-rect\" fill=\"none\" width=\"214.30769230769232\" height=\"367\" x=\"-1\" y=\"-1\"/></clipPath></g><g class=\"y-column\" transform=\"translate(212.30769230769232,0)\" clip-path=\"url(#clip42877d_columnBoundaryClippath_2be3d0true_1)\"><g class=\"column-block\" id=\"cells1\" transform=\"\" style=\"cursor: default;\"><g class=\"column-cells\"><g class=\"column-cell\" transform=\"translate(0,28)\"><rect class=\"cell-rect\" width=\"566.1538461538462\" stroke-width=\"0.4\" style=\"stroke: rgb(0, 0, 0); stroke-opacity: 1; fill: rgb(38, 70, 83); fill-opacity: 1;\" height=\"30\"/><g class=\"cell-text-holder\" transform=\"translate(283.0769230769231,8)\" text-anchor=\"middle\" style=\"shape-rendering: geometricprecision;\"><text class=\"cell-text\" dy=\"0.75em\" style=\"cursor: auto; font-family: 'Open Sans', verdana, arial, sans-serif; font-size: 12px; fill: rgb(241, 250, 238); fill-opacity: 1;\">http://store.steampowered.com/app/440/Team_Fortress_2/</text></g></g><g class=\"column-cell\" transform=\"translate(0,58)\"><rect class=\"cell-rect\" width=\"566.1538461538462\" stroke-width=\"0.4\" style=\"stroke: rgb(0, 0, 0); stroke-opacity: 1; fill: rgb(38, 70, 83); fill-opacity: 1;\" height=\"30\"/><g class=\"cell-text-holder\" transform=\"translate(283.0769230769231,8)\" text-anchor=\"middle\" style=\"shape-rendering: geometricprecision;\"><text class=\"cell-text\" dy=\"0.75em\" style=\"cursor: auto; font-family: 'Open Sans', verdana, arial, sans-serif; font-size: 12px; fill: rgb(241, 250, 238); fill-opacity: 1;\">http://store.steampowered.com/app/252490/Rust/</text></g></g><g class=\"column-cell\" transform=\"translate(0,88)\"><rect class=\"cell-rect\" width=\"566.1538461538462\" stroke-width=\"0.4\" style=\"stroke: rgb(0, 0, 0); stroke-opacity: 1; fill: rgb(38, 70, 83); fill-opacity: 1;\" height=\"30\"/><g class=\"cell-text-holder\" transform=\"translate(283.0769230769231,8)\" text-anchor=\"middle\" style=\"shape-rendering: geometricprecision;\"><text class=\"cell-text\" dy=\"0.75em\" style=\"cursor: auto; font-family: 'Open Sans', verdana, arial, sans-serif; font-size: 12px; fill: rgb(241, 250, 238); fill-opacity: 1;\">http://store.steampowered.com/app/271590/Grand_Theft_Auto_V/</text></g></g><g class=\"column-cell\" transform=\"translate(0,118)\"><rect class=\"cell-rect\" width=\"566.1538461538462\" stroke-width=\"0.4\" style=\"stroke: rgb(0, 0, 0); stroke-opacity: 1; fill: rgb(38, 70, 83); fill-opacity: 1;\" height=\"30\"/><g class=\"cell-text-holder\" transform=\"translate(283.0769230769231,8)\" text-anchor=\"middle\" style=\"shape-rendering: geometricprecision;\"><text class=\"cell-text\" dy=\"0.75em\" style=\"cursor: auto; font-family: 'Open Sans', verdana, arial, sans-serif; font-size: 12px; fill: rgb(241, 250, 238); fill-opacity: 1;\">http://store.steampowered.com/app/301520/Robocraft/</text></g></g><g class=\"column-cell\" transform=\"translate(0,148)\"><rect class=\"cell-rect\" width=\"566.1538461538462\" stroke-width=\"0.4\" style=\"stroke: rgb(0, 0, 0); stroke-opacity: 1; fill: rgb(38, 70, 83); fill-opacity: 1;\" height=\"30\"/><g class=\"cell-text-holder\" transform=\"translate(283.0769230769231,8)\" text-anchor=\"middle\" style=\"shape-rendering: geometricprecision;\"><text class=\"cell-text\" dy=\"0.75em\" style=\"cursor: auto; font-family: 'Open Sans', verdana, arial, sans-serif; font-size: 12px; fill: rgb(241, 250, 238); fill-opacity: 1;\">http://store.steampowered.com/app/221100/DayZ/</text></g></g><g class=\"column-cell\" transform=\"translate(0,178)\"><rect class=\"cell-rect\" width=\"566.1538461538462\" stroke-width=\"0.4\" style=\"stroke: rgb(0, 0, 0); stroke-opacity: 1; fill: rgb(38, 70, 83); fill-opacity: 1;\" height=\"30\"/><g class=\"cell-text-holder\" transform=\"translate(283.0769230769231,8)\" text-anchor=\"middle\" style=\"shape-rendering: geometricprecision;\"><text class=\"cell-text\" dy=\"0.75em\" style=\"cursor: auto; font-family: 'Open Sans', verdana, arial, sans-serif; font-size: 12px; fill: rgb(241, 250, 238); fill-opacity: 1;\">http://store.steampowered.com/app/391540/Undertale/</text></g></g><g class=\"column-cell\" transform=\"translate(0,208)\"><rect class=\"cell-rect\" width=\"566.1538461538462\" stroke-width=\"0.4\" style=\"stroke: rgb(0, 0, 0); stroke-opacity: 1; fill: rgb(38, 70, 83); fill-opacity: 1;\" height=\"30\"/><g class=\"cell-text-holder\" transform=\"translate(283.0769230769231,8)\" text-anchor=\"middle\" style=\"shape-rendering: geometricprecision;\"><text class=\"cell-text\" dy=\"0.75em\" style=\"cursor: auto; font-family: 'Open Sans', verdana, arial, sans-serif; font-size: 12px; fill: rgb(241, 250, 238); fill-opacity: 1;\">http://store.steampowered.com/app/620/Portal_2/</text></g></g><g class=\"column-cell\" transform=\"translate(0,238)\"><rect class=\"cell-rect\" width=\"566.1538461538462\" stroke-width=\"0.4\" style=\"stroke: rgb(0, 0, 0); stroke-opacity: 1; fill: rgb(38, 70, 83); fill-opacity: 1;\" height=\"30\"/><g class=\"cell-text-holder\" transform=\"translate(283.0769230769231,8)\" text-anchor=\"middle\" style=\"shape-rendering: geometricprecision;\"><text class=\"cell-text\" dy=\"0.75em\" style=\"cursor: auto; font-family: 'Open Sans', verdana, arial, sans-serif; font-size: 12px; fill: rgb(241, 250, 238); fill-opacity: 1;\">http://store.steampowered.com/app/4000/Garrys_Mod/</text></g></g><g class=\"column-cell\" transform=\"translate(0,268)\"><rect class=\"cell-rect\" width=\"566.1538461538462\" stroke-width=\"0.4\" style=\"stroke: rgb(0, 0, 0); stroke-opacity: 1; fill: rgb(38, 70, 83); fill-opacity: 1;\" height=\"30.5\"/><g class=\"cell-text-holder\" transform=\"translate(283.0769230769231,8)\" text-anchor=\"middle\" style=\"shape-rendering: geometricprecision;\"><text class=\"cell-text\" dy=\"0.75em\" style=\"cursor: auto; font-family: 'Open Sans', verdana, arial, sans-serif; font-size: 12px; fill: rgb(241, 250, 238); fill-opacity: 1;\">http://store.steampowered.com/app/227940/Heroes__Generals/</text></g></g><g class=\"column-cell\" transform=\"translate(0,298.5)\"><rect class=\"cell-rect\" width=\"566.1538461538462\" stroke-width=\"0.4\" style=\"stroke: rgb(0, 0, 0); stroke-opacity: 1; fill: rgb(38, 70, 83); fill-opacity: 1;\" height=\"30\"/><g class=\"cell-text-holder\" transform=\"translate(283.0769230769231,8)\" text-anchor=\"middle\" style=\"shape-rendering: geometricprecision;\"><text class=\"cell-text\" dy=\"0.75em\" style=\"cursor: auto; font-family: 'Open Sans', verdana, arial, sans-serif; font-size: 12px; fill: rgb(241, 250, 238); fill-opacity: 1;\">http://store.steampowered.com/app/211820/Starbound/</text></g></g></g></g><g class=\"column-block\" id=\"cells2\" transform=\"\" style=\"cursor: default;\"><g class=\"column-cells\"/></g><g class=\"column-block\" id=\"header\" style=\"cursor: ew-resize;\"><g class=\"column-cells\"><g class=\"column-cell\" transform=\"\"><rect class=\"cell-rect\" width=\"566.1538461538462\" stroke-width=\"1\" style=\"stroke: rgb(255, 255, 255); stroke-opacity: 1; fill: rgb(255, 209, 102); fill-opacity: 1;\" height=\"28\"/><g class=\"cell-text-holder\" transform=\"translate(283.0769230769231,8)\" text-anchor=\"middle\" style=\"shape-rendering: geometricprecision;\"><text class=\"cell-text\" dy=\"0.75em\" x=\"0\" y=\"0\" style=\"cursor: auto; font-family: 'Open Sans', verdana, arial, sans-serif; font-size: 13px; fill: rgb(42, 63, 95); fill-opacity: 1; white-space: pre;\">Sitio web</text></g></g></g></g><g class=\"column-boundary\"/><clipPath class=\"column-boundary-clippath\" id=\"clip42877d_columnBoundaryClippath_2be3d0true_1\"><rect class=\"column-boundary-rect\" fill=\"none\" width=\"568.1538461538462\" height=\"367\" x=\"-1\" y=\"-1\"/></clipPath></g><g class=\"y-column\" transform=\"translate(778.4615384615386,0)\" clip-path=\"url(#clip42877d_columnBoundaryClippath_2be3d0true_2)\"><g class=\"column-block\" id=\"cells1\" transform=\"\" style=\"cursor: default;\"><g class=\"column-cells\"><g class=\"column-cell\" transform=\"translate(0,28)\"><rect class=\"cell-rect\" width=\"141.53846153846155\" stroke-width=\"0.4\" style=\"stroke: rgb(0, 0, 0); stroke-opacity: 1; fill: rgb(38, 70, 83); fill-opacity: 1;\" height=\"30\"/><g class=\"cell-text-holder\" transform=\"translate(70.76923076923077,8)\" text-anchor=\"middle\" style=\"shape-rendering: geometricprecision;\"><text class=\"cell-text\" dy=\"0.75em\" style=\"cursor: auto; font-family: 'Open Sans', verdana, arial, sans-serif; font-size: 12px; fill: rgb(241, 250, 238); fill-opacity: 1;\">free</text></g></g><g class=\"column-cell\" transform=\"translate(0,58)\"><rect class=\"cell-rect\" width=\"141.53846153846155\" stroke-width=\"0.4\" style=\"stroke: rgb(0, 0, 0); stroke-opacity: 1; fill: rgb(38, 70, 83); fill-opacity: 1;\" height=\"30\"/><g class=\"cell-text-holder\" transform=\"translate(70.76923076923077,8)\" text-anchor=\"middle\" style=\"shape-rendering: geometricprecision;\"><text class=\"cell-text\" dy=\"0.75em\" style=\"cursor: auto; font-family: 'Open Sans', verdana, arial, sans-serif; font-size: 12px; fill: rgb(241, 250, 238); fill-opacity: 1;\">paid</text></g></g><g class=\"column-cell\" transform=\"translate(0,88)\"><rect class=\"cell-rect\" width=\"141.53846153846155\" stroke-width=\"0.4\" style=\"stroke: rgb(0, 0, 0); stroke-opacity: 1; fill: rgb(38, 70, 83); fill-opacity: 1;\" height=\"30\"/><g class=\"cell-text-holder\" transform=\"translate(70.76923076923077,8)\" text-anchor=\"middle\" style=\"shape-rendering: geometricprecision;\"><text class=\"cell-text\" dy=\"0.75em\" style=\"cursor: auto; font-family: 'Open Sans', verdana, arial, sans-serif; font-size: 12px; fill: rgb(241, 250, 238); fill-opacity: 1;\">paid</text></g></g><g class=\"column-cell\" transform=\"translate(0,118)\"><rect class=\"cell-rect\" width=\"141.53846153846155\" stroke-width=\"0.4\" style=\"stroke: rgb(0, 0, 0); stroke-opacity: 1; fill: rgb(38, 70, 83); fill-opacity: 1;\" height=\"30\"/><g class=\"cell-text-holder\" transform=\"translate(70.76923076923077,8)\" text-anchor=\"middle\" style=\"shape-rendering: geometricprecision;\"><text class=\"cell-text\" dy=\"0.75em\" style=\"cursor: auto; font-family: 'Open Sans', verdana, arial, sans-serif; font-size: 12px; fill: rgb(241, 250, 238); fill-opacity: 1;\">free</text></g></g><g class=\"column-cell\" transform=\"translate(0,148)\"><rect class=\"cell-rect\" width=\"141.53846153846155\" stroke-width=\"0.4\" style=\"stroke: rgb(0, 0, 0); stroke-opacity: 1; fill: rgb(38, 70, 83); fill-opacity: 1;\" height=\"30\"/><g class=\"cell-text-holder\" transform=\"translate(70.76923076923077,8)\" text-anchor=\"middle\" style=\"shape-rendering: geometricprecision;\"><text class=\"cell-text\" dy=\"0.75em\" style=\"cursor: auto; font-family: 'Open Sans', verdana, arial, sans-serif; font-size: 12px; fill: rgb(241, 250, 238); fill-opacity: 1;\">paid</text></g></g><g class=\"column-cell\" transform=\"translate(0,178)\"><rect class=\"cell-rect\" width=\"141.53846153846155\" stroke-width=\"0.4\" style=\"stroke: rgb(0, 0, 0); stroke-opacity: 1; fill: rgb(38, 70, 83); fill-opacity: 1;\" height=\"30\"/><g class=\"cell-text-holder\" transform=\"translate(70.76923076923077,8)\" text-anchor=\"middle\" style=\"shape-rendering: geometricprecision;\"><text class=\"cell-text\" dy=\"0.75em\" style=\"cursor: auto; font-family: 'Open Sans', verdana, arial, sans-serif; font-size: 12px; fill: rgb(241, 250, 238); fill-opacity: 1;\">paid</text></g></g><g class=\"column-cell\" transform=\"translate(0,208)\"><rect class=\"cell-rect\" width=\"141.53846153846155\" stroke-width=\"0.4\" style=\"stroke: rgb(0, 0, 0); stroke-opacity: 1; fill: rgb(38, 70, 83); fill-opacity: 1;\" height=\"30\"/><g class=\"cell-text-holder\" transform=\"translate(70.76923076923077,8)\" text-anchor=\"middle\" style=\"shape-rendering: geometricprecision;\"><text class=\"cell-text\" dy=\"0.75em\" style=\"cursor: auto; font-family: 'Open Sans', verdana, arial, sans-serif; font-size: 12px; fill: rgb(241, 250, 238); fill-opacity: 1;\">paid</text></g></g><g class=\"column-cell\" transform=\"translate(0,238)\"><rect class=\"cell-rect\" width=\"141.53846153846155\" stroke-width=\"0.4\" style=\"stroke: rgb(0, 0, 0); stroke-opacity: 1; fill: rgb(38, 70, 83); fill-opacity: 1;\" height=\"30\"/><g class=\"cell-text-holder\" transform=\"translate(70.76923076923077,8)\" text-anchor=\"middle\" style=\"shape-rendering: geometricprecision;\"><text class=\"cell-text\" dy=\"0.75em\" style=\"cursor: auto; font-family: 'Open Sans', verdana, arial, sans-serif; font-size: 12px; fill: rgb(241, 250, 238); fill-opacity: 1;\">paid</text></g></g><g class=\"column-cell\" transform=\"translate(0,268)\"><rect class=\"cell-rect\" width=\"141.53846153846155\" stroke-width=\"0.4\" style=\"stroke: rgb(0, 0, 0); stroke-opacity: 1; fill: rgb(38, 70, 83); fill-opacity: 1;\" height=\"30.5\"/><g class=\"cell-text-holder\" transform=\"translate(70.76923076923077,8)\" text-anchor=\"middle\" style=\"shape-rendering: geometricprecision;\"><text class=\"cell-text\" dy=\"0.75em\" style=\"cursor: auto; font-family: 'Open Sans', verdana, arial, sans-serif; font-size: 12px; fill: rgb(241, 250, 238); fill-opacity: 1;\">free</text></g></g><g class=\"column-cell\" transform=\"translate(0,298.5)\"><rect class=\"cell-rect\" width=\"141.53846153846155\" stroke-width=\"0.4\" style=\"stroke: rgb(0, 0, 0); stroke-opacity: 1; fill: rgb(38, 70, 83); fill-opacity: 1;\" height=\"30\"/><g class=\"cell-text-holder\" transform=\"translate(70.76923076923077,8)\" text-anchor=\"middle\" style=\"shape-rendering: geometricprecision;\"><text class=\"cell-text\" dy=\"0.75em\" style=\"cursor: auto; font-family: 'Open Sans', verdana, arial, sans-serif; font-size: 12px; fill: rgb(241, 250, 238); fill-opacity: 1;\">paid</text></g></g></g></g><g class=\"column-block\" id=\"cells2\" transform=\"\" style=\"cursor: default;\"><g class=\"column-cells\"/></g><g class=\"column-block\" id=\"header\" style=\"cursor: ew-resize;\"><g class=\"column-cells\"><g class=\"column-cell\" transform=\"\"><rect class=\"cell-rect\" width=\"141.53846153846155\" stroke-width=\"1\" style=\"stroke: rgb(255, 255, 255); stroke-opacity: 1; fill: rgb(255, 209, 102); fill-opacity: 1;\" height=\"28\"/><g class=\"cell-text-holder\" transform=\"translate(70.76923076923077,8)\" text-anchor=\"middle\" style=\"shape-rendering: geometricprecision;\"><text class=\"cell-text\" dy=\"0.75em\" x=\"0\" y=\"0\" style=\"cursor: auto; font-family: 'Open Sans', verdana, arial, sans-serif; font-size: 13px; fill: rgb(42, 63, 95); fill-opacity: 1; white-space: pre;\">Tipo de precio</text></g></g></g></g><g class=\"column-boundary\"/><clipPath class=\"column-boundary-clippath\" id=\"clip42877d_columnBoundaryClippath_2be3d0true_2\"><rect class=\"column-boundary-rect\" fill=\"none\" width=\"143.53846153846155\" height=\"367\" x=\"-1\" y=\"-1\"/></clipPath></g><g class=\"scrollbar-kit\" transform=\"translate(929,28)\" style=\"shape-rendering: geometricprecision;\"><g class=\"scrollbar\"><g class=\"scrollbar-slider\" transform=\"\"/></g></g><clipPath class=\"scroll-area-clip\" id=\"clip42877d_scrollAreaBottomClip_2be3d0true\"><rect class=\"scroll-area-clip-rect\" x=\"-45\" y=\"-5\" fill=\"none\" width=\"1010\" height=\"365\"/></clipPath></g></g><defs id=\"topdefs-42877d\"><g class=\"clips\"/></defs><g class=\"layer-above\"><g class=\"imagelayer\"/><g class=\"shapelayer\"/></g><g class=\"infolayer\"><g class=\"g-gtitle\"/></g></svg>"
      ],
      "text/plain": [
       "<IPython.core.display.SVG object>"
      ]
     },
     "metadata": {},
     "output_type": "display_data"
    }
   ],
   "source": [
    "get_popularity_recommendations('nd')"
   ]
  },
  {
   "cell_type": "markdown",
   "id": "d5bc88b5-076d-47cd-9861-49de81fb9b90",
   "metadata": {},
   "source": [
    "#### Filtro Colaborativo\n",
    "##### Si bien se ha realizado \"limpieza\" y un procesamiento de datos en todos el proceso llevado adelante hasta este punto, un buen filtro colaborativo conlleva mucho trabajo; De todas formas, en este proyecto se realizó una etapa de investigación adicional con el finn de solucionar la faltante de calificaciones entre 'usuario-item', escenario esperable desde el momento uno que se cargaron los datos. Detalle a tener en cuenta... el consumo de productos digitales no suele tener una crítica muy descriptiva sobre la calidad del mismo, no se brindan calificaciónes cuantitativas a modo de dato duro para poder tomar, por consiguiente, este detalle NO menor, puede ser un inconveniente en algunos casos reales."
   ]
  },
  {
   "cell_type": "code",
   "execution_count": 94,
   "id": "d1cb226b-9452-41ae-b737-dc934f03ba57",
   "metadata": {},
   "outputs": [
    {
     "data": {
      "text/html": [
       "<div>\n",
       "<style scoped>\n",
       "    .dataframe tbody tr th:only-of-type {\n",
       "        vertical-align: middle;\n",
       "    }\n",
       "\n",
       "    .dataframe tbody tr th {\n",
       "        vertical-align: top;\n",
       "    }\n",
       "\n",
       "    .dataframe thead th {\n",
       "        text-align: right;\n",
       "    }\n",
       "</style>\n",
       "<table border=\"1\" class=\"dataframe\">\n",
       "  <thead>\n",
       "    <tr style=\"text-align: right;\">\n",
       "      <th></th>\n",
       "      <th>genres</th>\n",
       "      <th>app_name</th>\n",
       "      <th>release_date</th>\n",
       "      <th>id</th>\n",
       "      <th>publisher</th>\n",
       "      <th>url</th>\n",
       "      <th>categories</th>\n",
       "      <th>category_price</th>\n",
       "    </tr>\n",
       "  </thead>\n",
       "  <tbody>\n",
       "    <tr>\n",
       "      <th>0</th>\n",
       "      <td>[Action, Casual, Indie, Simulation, Strategy]</td>\n",
       "      <td>Lost Summoner Kitty</td>\n",
       "      <td>2018-01-04</td>\n",
       "      <td>761140</td>\n",
       "      <td>Kotoshiro</td>\n",
       "      <td>http://store.steampowered.com/app/761140/Lost_...</td>\n",
       "      <td>['action', 'casual', 'indie', 'simulation', 's...</td>\n",
       "      <td>paid</td>\n",
       "    </tr>\n",
       "    <tr>\n",
       "      <th>1</th>\n",
       "      <td>[Free to Play, Indie, RPG, Strategy]</td>\n",
       "      <td>Ironbound</td>\n",
       "      <td>2018-01-04</td>\n",
       "      <td>643980</td>\n",
       "      <td>Making Fun, Inc.</td>\n",
       "      <td>http://store.steampowered.com/app/643980/Ironb...</td>\n",
       "      <td>['2d', 'board game', 'card game', 'character c...</td>\n",
       "      <td>free</td>\n",
       "    </tr>\n",
       "    <tr>\n",
       "      <th>2</th>\n",
       "      <td>[Casual, Free to Play, Indie, Simulation, Sports]</td>\n",
       "      <td>Real Pool 3D - Poolians</td>\n",
       "      <td>2017-07-24</td>\n",
       "      <td>670290</td>\n",
       "      <td>Poolians.com</td>\n",
       "      <td>http://store.steampowered.com/app/670290/Real_...</td>\n",
       "      <td>['casual', 'free to play', 'inapp purchases', ...</td>\n",
       "      <td>free</td>\n",
       "    </tr>\n",
       "    <tr>\n",
       "      <th>3</th>\n",
       "      <td>[Action, Adventure, Casual]</td>\n",
       "      <td>弹炸人2222</td>\n",
       "      <td>2017-12-07</td>\n",
       "      <td>767400</td>\n",
       "      <td>彼岸领域</td>\n",
       "      <td>http://store.steampowered.com/app/767400/2222/</td>\n",
       "      <td>['action', 'adventure', 'casual', 'singleplayer']</td>\n",
       "      <td>paid</td>\n",
       "    </tr>\n",
       "    <tr>\n",
       "      <th>4</th>\n",
       "      <td>[]</td>\n",
       "      <td>Log Challenge</td>\n",
       "      <td>NaN</td>\n",
       "      <td>773570</td>\n",
       "      <td>NaN</td>\n",
       "      <td>http://store.steampowered.com/app/773570/Log_C...</td>\n",
       "      <td>['action', 'casual', 'full controller support'...</td>\n",
       "      <td>paid</td>\n",
       "    </tr>\n",
       "  </tbody>\n",
       "</table>\n",
       "</div>"
      ],
      "text/plain": [
       "                                              genres                 app_name  \\\n",
       "0      [Action, Casual, Indie, Simulation, Strategy]      Lost Summoner Kitty   \n",
       "1               [Free to Play, Indie, RPG, Strategy]                Ironbound   \n",
       "2  [Casual, Free to Play, Indie, Simulation, Sports]  Real Pool 3D - Poolians   \n",
       "3                        [Action, Adventure, Casual]                  弹炸人2222   \n",
       "4                                                 []            Log Challenge   \n",
       "\n",
       "  release_date      id         publisher  \\\n",
       "0   2018-01-04  761140         Kotoshiro   \n",
       "1   2018-01-04  643980  Making Fun, Inc.   \n",
       "2   2017-07-24  670290      Poolians.com   \n",
       "3   2017-12-07  767400              彼岸领域   \n",
       "4          NaN  773570               NaN   \n",
       "\n",
       "                                                 url  \\\n",
       "0  http://store.steampowered.com/app/761140/Lost_...   \n",
       "1  http://store.steampowered.com/app/643980/Ironb...   \n",
       "2  http://store.steampowered.com/app/670290/Real_...   \n",
       "3     http://store.steampowered.com/app/767400/2222/   \n",
       "4  http://store.steampowered.com/app/773570/Log_C...   \n",
       "\n",
       "                                          categories category_price  \n",
       "0  ['action', 'casual', 'indie', 'simulation', 's...           paid  \n",
       "1  ['2d', 'board game', 'card game', 'character c...           free  \n",
       "2  ['casual', 'free to play', 'inapp purchases', ...           free  \n",
       "3  ['action', 'adventure', 'casual', 'singleplayer']           paid  \n",
       "4  ['action', 'casual', 'full controller support'...           paid  "
      ]
     },
     "execution_count": 94,
     "metadata": {},
     "output_type": "execute_result"
    }
   ],
   "source": [
    "data_games.head()"
   ]
  },
  {
   "cell_type": "code",
   "execution_count": 95,
   "id": "fd1c3400-85a2-4188-b6dd-5d55d107a38b",
   "metadata": {},
   "outputs": [
    {
     "data": {
      "text/plain": [
       "genres            object\n",
       "app_name          object\n",
       "release_date      object\n",
       "id                 int64\n",
       "publisher         object\n",
       "url               object\n",
       "categories        object\n",
       "category_price    object\n",
       "dtype: object"
      ]
     },
     "execution_count": 95,
     "metadata": {},
     "output_type": "execute_result"
    }
   ],
   "source": [
    "data_games.dtypes"
   ]
  },
  {
   "cell_type": "code",
   "execution_count": 96,
   "id": "8e3651e8-095c-4d24-994b-34fd6a2565cc",
   "metadata": {},
   "outputs": [
    {
     "data": {
      "text/html": [
       "<div>\n",
       "<style scoped>\n",
       "    .dataframe tbody tr th:only-of-type {\n",
       "        vertical-align: middle;\n",
       "    }\n",
       "\n",
       "    .dataframe tbody tr th {\n",
       "        vertical-align: top;\n",
       "    }\n",
       "\n",
       "    .dataframe thead th {\n",
       "        text-align: right;\n",
       "    }\n",
       "</style>\n",
       "<table border=\"1\" class=\"dataframe\">\n",
       "  <thead>\n",
       "    <tr style=\"text-align: right;\">\n",
       "      <th></th>\n",
       "      <th>username</th>\n",
       "      <th>hours</th>\n",
       "      <th>product_id</th>\n",
       "      <th>date</th>\n",
       "      <th>text</th>\n",
       "    </tr>\n",
       "  </thead>\n",
       "  <tbody>\n",
       "    <tr>\n",
       "      <th>0</th>\n",
       "      <td>Chaos Syren</td>\n",
       "      <td>0.1</td>\n",
       "      <td>725280</td>\n",
       "      <td>2017-12-17</td>\n",
       "      <td>This would not be acceptable as an entertainme...</td>\n",
       "    </tr>\n",
       "    <tr>\n",
       "      <th>1</th>\n",
       "      <td>hello?&lt;</td>\n",
       "      <td>14.6</td>\n",
       "      <td>328100</td>\n",
       "      <td>2017-10-16</td>\n",
       "      <td>Better than Minecraft</td>\n",
       "    </tr>\n",
       "    <tr>\n",
       "      <th>2</th>\n",
       "      <td>DarklyThinking</td>\n",
       "      <td>16.6</td>\n",
       "      <td>35140</td>\n",
       "      <td>2018-01-04</td>\n",
       "      <td>Still worth playing in 2018.\\nProbably my favo...</td>\n",
       "    </tr>\n",
       "    <tr>\n",
       "      <th>3</th>\n",
       "      <td>nd</td>\n",
       "      <td>1.0</td>\n",
       "      <td>725280</td>\n",
       "      <td>2017-11-28</td>\n",
       "      <td>endless rooms of some underground complex, blo...</td>\n",
       "    </tr>\n",
       "    <tr>\n",
       "      <th>4</th>\n",
       "      <td>jimllfixitok</td>\n",
       "      <td>1.1</td>\n",
       "      <td>707610</td>\n",
       "      <td>2017-10-16</td>\n",
       "      <td>no sound. icons don't work. re-installed but n...</td>\n",
       "    </tr>\n",
       "  </tbody>\n",
       "</table>\n",
       "</div>"
      ],
      "text/plain": [
       "         username  hours  product_id       date  \\\n",
       "0     Chaos Syren    0.1      725280 2017-12-17   \n",
       "1         hello?<   14.6      328100 2017-10-16   \n",
       "2  DarklyThinking   16.6       35140 2018-01-04   \n",
       "3              nd    1.0      725280 2017-11-28   \n",
       "4    jimllfixitok    1.1      707610 2017-10-16   \n",
       "\n",
       "                                                text  \n",
       "0  This would not be acceptable as an entertainme...  \n",
       "1                              Better than Minecraft  \n",
       "2  Still worth playing in 2018.\\nProbably my favo...  \n",
       "3  endless rooms of some underground complex, blo...  \n",
       "4  no sound. icons don't work. re-installed but n...  "
      ]
     },
     "execution_count": 96,
     "metadata": {},
     "output_type": "execute_result"
    }
   ],
   "source": [
    "data_reviews.head()"
   ]
  },
  {
   "cell_type": "code",
   "execution_count": 97,
   "id": "7cd99773-db5e-4fb1-b5cb-557f625f6d6f",
   "metadata": {},
   "outputs": [
    {
     "data": {
      "text/plain": [
       "username              object\n",
       "hours                float64\n",
       "product_id             int64\n",
       "date          datetime64[ns]\n",
       "text                  object\n",
       "dtype: object"
      ]
     },
     "execution_count": 97,
     "metadata": {},
     "output_type": "execute_result"
    }
   ],
   "source": [
    "data_reviews.dtypes"
   ]
  },
  {
   "cell_type": "code",
   "execution_count": 98,
   "id": "bf4d9c05-7869-49d1-a24f-f6afeaaf3471",
   "metadata": {},
   "outputs": [],
   "source": [
    "data_games['id'] = data_games['id'].astype(pd.Int64Dtype())"
   ]
  },
  {
   "cell_type": "code",
   "execution_count": 99,
   "id": "468fc9f1-b385-482b-9540-51f585ac4756",
   "metadata": {},
   "outputs": [],
   "source": [
    "# Con un 'sort' me hago con el 'id' de ambos datasets para luego tomar\n",
    "# esa instancia para hacer merge\n",
    "\n",
    "data_reviews = data_reviews.sort_values('product_id')\n",
    "data_games = data_games.sort_values('id')"
   ]
  },
  {
   "cell_type": "code",
   "execution_count": 100,
   "id": "5eddfca7-8375-49c8-a19a-83f6ac9a9bb6",
   "metadata": {},
   "outputs": [],
   "source": [
    "reviews_games = pd.merge(data_reviews, data_games[['app_name','id', 'category_price', 'categories']],\n",
    "                        left_on='product_id',\n",
    "                        right_on='id',\n",
    "                        how='left')"
   ]
  },
  {
   "cell_type": "code",
   "execution_count": 101,
   "id": "ac8990fb-c9ae-4f9a-beb9-7d44b5869044",
   "metadata": {},
   "outputs": [],
   "source": [
    "reviews_games.head()\n",
    "reviews_games['id'] = reviews_games['id'].astype(pd.Int64Dtype())"
   ]
  },
  {
   "cell_type": "code",
   "execution_count": 102,
   "id": "45a4e3d7-6df1-4f6d-82d2-1f1d64e9716a",
   "metadata": {},
   "outputs": [
    {
     "data": {
      "text/html": [
       "<div>\n",
       "<style scoped>\n",
       "    .dataframe tbody tr th:only-of-type {\n",
       "        vertical-align: middle;\n",
       "    }\n",
       "\n",
       "    .dataframe tbody tr th {\n",
       "        vertical-align: top;\n",
       "    }\n",
       "\n",
       "    .dataframe thead th {\n",
       "        text-align: right;\n",
       "    }\n",
       "</style>\n",
       "<table border=\"1\" class=\"dataframe\">\n",
       "  <thead>\n",
       "    <tr style=\"text-align: right;\">\n",
       "      <th></th>\n",
       "      <th>username</th>\n",
       "      <th>hours</th>\n",
       "      <th>product_id</th>\n",
       "      <th>date</th>\n",
       "      <th>text</th>\n",
       "      <th>app_name</th>\n",
       "      <th>id</th>\n",
       "      <th>category_price</th>\n",
       "      <th>categories</th>\n",
       "    </tr>\n",
       "  </thead>\n",
       "  <tbody>\n",
       "    <tr>\n",
       "      <th>0</th>\n",
       "      <td>twitch.tv/miljoo</td>\n",
       "      <td>110.2</td>\n",
       "      <td>10</td>\n",
       "      <td>2017-12-26</td>\n",
       "      <td>i suck at this game</td>\n",
       "      <td>Counter-Strike</td>\n",
       "      <td>10</td>\n",
       "      <td>paid</td>\n",
       "      <td>['1980s', '1990s', 'action', 'assassin', 'clas...</td>\n",
       "    </tr>\n",
       "    <tr>\n",
       "      <th>1</th>\n",
       "      <td>[NC] Cake</td>\n",
       "      <td>1.6</td>\n",
       "      <td>10</td>\n",
       "      <td>2017-12-29</td>\n",
       "      <td>Good</td>\n",
       "      <td>Counter-Strike</td>\n",
       "      <td>10</td>\n",
       "      <td>paid</td>\n",
       "      <td>['1980s', '1990s', 'action', 'assassin', 'clas...</td>\n",
       "    </tr>\n",
       "    <tr>\n",
       "      <th>2</th>\n",
       "      <td>Matuzka</td>\n",
       "      <td>1.6</td>\n",
       "      <td>10</td>\n",
       "      <td>2017-12-29</td>\n",
       "      <td>Good old times!</td>\n",
       "      <td>Counter-Strike</td>\n",
       "      <td>10</td>\n",
       "      <td>paid</td>\n",
       "      <td>['1980s', '1990s', 'action', 'assassin', 'clas...</td>\n",
       "    </tr>\n",
       "    <tr>\n",
       "      <th>3</th>\n",
       "      <td>smselby27</td>\n",
       "      <td>19.1</td>\n",
       "      <td>10</td>\n",
       "      <td>2017-12-29</td>\n",
       "      <td>i love this game so much i love it too much</td>\n",
       "      <td>Counter-Strike</td>\n",
       "      <td>10</td>\n",
       "      <td>paid</td>\n",
       "      <td>['1980s', '1990s', 'action', 'assassin', 'clas...</td>\n",
       "    </tr>\n",
       "    <tr>\n",
       "      <th>4</th>\n",
       "      <td>japa</td>\n",
       "      <td>1360.7</td>\n",
       "      <td>10</td>\n",
       "      <td>2017-12-29</td>\n",
       "      <td>best game ever !</td>\n",
       "      <td>Counter-Strike</td>\n",
       "      <td>10</td>\n",
       "      <td>paid</td>\n",
       "      <td>['1980s', '1990s', 'action', 'assassin', 'clas...</td>\n",
       "    </tr>\n",
       "  </tbody>\n",
       "</table>\n",
       "</div>"
      ],
      "text/plain": [
       "           username   hours  product_id       date  \\\n",
       "0  twitch.tv/miljoo   110.2          10 2017-12-26   \n",
       "1         [NC] Cake     1.6          10 2017-12-29   \n",
       "2           Matuzka     1.6          10 2017-12-29   \n",
       "3         smselby27    19.1          10 2017-12-29   \n",
       "4              japa  1360.7          10 2017-12-29   \n",
       "\n",
       "                                          text        app_name  id  \\\n",
       "0                          i suck at this game  Counter-Strike  10   \n",
       "1                                         Good  Counter-Strike  10   \n",
       "2                              Good old times!  Counter-Strike  10   \n",
       "3  i love this game so much i love it too much  Counter-Strike  10   \n",
       "4                             best game ever !  Counter-Strike  10   \n",
       "\n",
       "  category_price                                         categories  \n",
       "0           paid  ['1980s', '1990s', 'action', 'assassin', 'clas...  \n",
       "1           paid  ['1980s', '1990s', 'action', 'assassin', 'clas...  \n",
       "2           paid  ['1980s', '1990s', 'action', 'assassin', 'clas...  \n",
       "3           paid  ['1980s', '1990s', 'action', 'assassin', 'clas...  \n",
       "4           paid  ['1980s', '1990s', 'action', 'assassin', 'clas...  "
      ]
     },
     "execution_count": 102,
     "metadata": {},
     "output_type": "execute_result"
    }
   ],
   "source": [
    "reviews_games.head()"
   ]
  },
  {
   "cell_type": "code",
   "execution_count": 103,
   "id": "c6dfa5e6-a867-4369-a662-c364ba8fd0eb",
   "metadata": {},
   "outputs": [
    {
     "data": {
      "text/plain": [
       "username                  object\n",
       "hours                    float64\n",
       "product_id                 int64\n",
       "date              datetime64[ns]\n",
       "text                      object\n",
       "app_name                  object\n",
       "id                         Int64\n",
       "category_price            object\n",
       "categories                object\n",
       "dtype: object"
      ]
     },
     "execution_count": 103,
     "metadata": {},
     "output_type": "execute_result"
    }
   ],
   "source": [
    "reviews_games.dtypes"
   ]
  },
  {
   "cell_type": "code",
   "execution_count": 104,
   "id": "aa51032e-a06b-4085-aa80-f949d905a664",
   "metadata": {},
   "outputs": [
    {
     "data": {
      "text/plain": [
       "username               0\n",
       "hours                  0\n",
       "product_id             0\n",
       "date                   0\n",
       "text                   0\n",
       "app_name          879178\n",
       "id                879178\n",
       "category_price    879178\n",
       "categories        879178\n",
       "dtype: int64"
      ]
     },
     "execution_count": 104,
     "metadata": {},
     "output_type": "execute_result"
    }
   ],
   "source": [
    "reviews_games.isna().sum()"
   ]
  },
  {
   "cell_type": "code",
   "execution_count": 105,
   "id": "202ad3f0-cf6a-49f7-9d8c-5fbd55d18ff0",
   "metadata": {},
   "outputs": [
    {
     "data": {
      "text/plain": [
       "(3681082, 9)"
      ]
     },
     "execution_count": 105,
     "metadata": {},
     "output_type": "execute_result"
    }
   ],
   "source": [
    "reviews_games.shape"
   ]
  },
  {
   "cell_type": "code",
   "execution_count": 106,
   "id": "746682ce-a328-405e-b36e-0efc6d568246",
   "metadata": {},
   "outputs": [],
   "source": [
    "reviews_games = reviews_games.dropna(axis=0, subset=['id'])"
   ]
  },
  {
   "cell_type": "code",
   "execution_count": 107,
   "id": "3e23e60d-7493-42d3-8bf1-c12c7793253e",
   "metadata": {},
   "outputs": [
    {
     "data": {
      "text/plain": [
       "username          0\n",
       "hours             0\n",
       "product_id        0\n",
       "date              0\n",
       "text              0\n",
       "app_name          0\n",
       "id                0\n",
       "category_price    0\n",
       "categories        0\n",
       "dtype: int64"
      ]
     },
     "execution_count": 107,
     "metadata": {},
     "output_type": "execute_result"
    }
   ],
   "source": [
    "reviews_games.isna().sum()"
   ]
  },
  {
   "cell_type": "code",
   "execution_count": 108,
   "id": "b4610427-4580-4165-ae07-c9d84f3a4abf",
   "metadata": {},
   "outputs": [],
   "source": [
    "import string"
   ]
  },
  {
   "cell_type": "code",
   "execution_count": 109,
   "id": "588dbdef-de0f-4a15-819c-587387d8d3ce",
   "metadata": {},
   "outputs": [
    {
     "name": "stderr",
     "output_type": "stream",
     "text": [
      "/var/folders/jm/b4qb1b4d0sxb54q_z7zylyx00000gp/T/ipykernel_49537/2741191725.py:1: FutureWarning:\n",
      "\n",
      "The default value of regex will change from True to False in a future version.\n",
      "\n"
     ]
    }
   ],
   "source": [
    "reviews_games['n_categories'] = reviews_games['categories'].str.replace('[{}]'.format(string.punctuation),' ')"
   ]
  },
  {
   "cell_type": "code",
   "execution_count": 110,
   "id": "d2aced58-bb6a-4846-b944-d0b9596772f0",
   "metadata": {},
   "outputs": [
    {
     "data": {
      "text/html": [
       "<div>\n",
       "<style scoped>\n",
       "    .dataframe tbody tr th:only-of-type {\n",
       "        vertical-align: middle;\n",
       "    }\n",
       "\n",
       "    .dataframe tbody tr th {\n",
       "        vertical-align: top;\n",
       "    }\n",
       "\n",
       "    .dataframe thead th {\n",
       "        text-align: right;\n",
       "    }\n",
       "</style>\n",
       "<table border=\"1\" class=\"dataframe\">\n",
       "  <thead>\n",
       "    <tr style=\"text-align: right;\">\n",
       "      <th></th>\n",
       "      <th>username</th>\n",
       "      <th>hours</th>\n",
       "      <th>product_id</th>\n",
       "      <th>date</th>\n",
       "      <th>text</th>\n",
       "      <th>app_name</th>\n",
       "      <th>id</th>\n",
       "      <th>category_price</th>\n",
       "      <th>categories</th>\n",
       "      <th>n_categories</th>\n",
       "    </tr>\n",
       "  </thead>\n",
       "  <tbody>\n",
       "    <tr>\n",
       "      <th>0</th>\n",
       "      <td>twitch.tv/miljoo</td>\n",
       "      <td>110.2</td>\n",
       "      <td>10</td>\n",
       "      <td>2017-12-26</td>\n",
       "      <td>i suck at this game</td>\n",
       "      <td>Counter-Strike</td>\n",
       "      <td>10</td>\n",
       "      <td>paid</td>\n",
       "      <td>['1980s', '1990s', 'action', 'assassin', 'clas...</td>\n",
       "      <td>1980s    1990s    action    assassin    clas...</td>\n",
       "    </tr>\n",
       "    <tr>\n",
       "      <th>1</th>\n",
       "      <td>[NC] Cake</td>\n",
       "      <td>1.6</td>\n",
       "      <td>10</td>\n",
       "      <td>2017-12-29</td>\n",
       "      <td>Good</td>\n",
       "      <td>Counter-Strike</td>\n",
       "      <td>10</td>\n",
       "      <td>paid</td>\n",
       "      <td>['1980s', '1990s', 'action', 'assassin', 'clas...</td>\n",
       "      <td>1980s    1990s    action    assassin    clas...</td>\n",
       "    </tr>\n",
       "    <tr>\n",
       "      <th>2</th>\n",
       "      <td>Matuzka</td>\n",
       "      <td>1.6</td>\n",
       "      <td>10</td>\n",
       "      <td>2017-12-29</td>\n",
       "      <td>Good old times!</td>\n",
       "      <td>Counter-Strike</td>\n",
       "      <td>10</td>\n",
       "      <td>paid</td>\n",
       "      <td>['1980s', '1990s', 'action', 'assassin', 'clas...</td>\n",
       "      <td>1980s    1990s    action    assassin    clas...</td>\n",
       "    </tr>\n",
       "    <tr>\n",
       "      <th>3</th>\n",
       "      <td>smselby27</td>\n",
       "      <td>19.1</td>\n",
       "      <td>10</td>\n",
       "      <td>2017-12-29</td>\n",
       "      <td>i love this game so much i love it too much</td>\n",
       "      <td>Counter-Strike</td>\n",
       "      <td>10</td>\n",
       "      <td>paid</td>\n",
       "      <td>['1980s', '1990s', 'action', 'assassin', 'clas...</td>\n",
       "      <td>1980s    1990s    action    assassin    clas...</td>\n",
       "    </tr>\n",
       "    <tr>\n",
       "      <th>4</th>\n",
       "      <td>japa</td>\n",
       "      <td>1360.7</td>\n",
       "      <td>10</td>\n",
       "      <td>2017-12-29</td>\n",
       "      <td>best game ever !</td>\n",
       "      <td>Counter-Strike</td>\n",
       "      <td>10</td>\n",
       "      <td>paid</td>\n",
       "      <td>['1980s', '1990s', 'action', 'assassin', 'clas...</td>\n",
       "      <td>1980s    1990s    action    assassin    clas...</td>\n",
       "    </tr>\n",
       "  </tbody>\n",
       "</table>\n",
       "</div>"
      ],
      "text/plain": [
       "           username   hours  product_id       date  \\\n",
       "0  twitch.tv/miljoo   110.2          10 2017-12-26   \n",
       "1         [NC] Cake     1.6          10 2017-12-29   \n",
       "2           Matuzka     1.6          10 2017-12-29   \n",
       "3         smselby27    19.1          10 2017-12-29   \n",
       "4              japa  1360.7          10 2017-12-29   \n",
       "\n",
       "                                          text        app_name  id  \\\n",
       "0                          i suck at this game  Counter-Strike  10   \n",
       "1                                         Good  Counter-Strike  10   \n",
       "2                              Good old times!  Counter-Strike  10   \n",
       "3  i love this game so much i love it too much  Counter-Strike  10   \n",
       "4                             best game ever !  Counter-Strike  10   \n",
       "\n",
       "  category_price                                         categories  \\\n",
       "0           paid  ['1980s', '1990s', 'action', 'assassin', 'clas...   \n",
       "1           paid  ['1980s', '1990s', 'action', 'assassin', 'clas...   \n",
       "2           paid  ['1980s', '1990s', 'action', 'assassin', 'clas...   \n",
       "3           paid  ['1980s', '1990s', 'action', 'assassin', 'clas...   \n",
       "4           paid  ['1980s', '1990s', 'action', 'assassin', 'clas...   \n",
       "\n",
       "                                        n_categories  \n",
       "0    1980s    1990s    action    assassin    clas...  \n",
       "1    1980s    1990s    action    assassin    clas...  \n",
       "2    1980s    1990s    action    assassin    clas...  \n",
       "3    1980s    1990s    action    assassin    clas...  \n",
       "4    1980s    1990s    action    assassin    clas...  "
      ]
     },
     "execution_count": 110,
     "metadata": {},
     "output_type": "execute_result"
    }
   ],
   "source": [
    "reviews_games.head()"
   ]
  },
  {
   "cell_type": "code",
   "execution_count": 111,
   "id": "ff6b1227-a1dd-49ee-b436-d7d1e213b07f",
   "metadata": {},
   "outputs": [
    {
     "name": "stdout",
     "output_type": "stream",
     "text": [
      "2801904\n"
     ]
    }
   ],
   "source": [
    "cant_filas = len(reviews_games['categories'])\n",
    "print(cant_filas)\n",
    "#reviews_games['categories'][1]"
   ]
  },
  {
   "cell_type": "code",
   "execution_count": 112,
   "id": "0aa6f96a-fe74-4671-9805-f9d53b758ec5",
   "metadata": {},
   "outputs": [
    {
     "data": {
      "text/html": [
       "<div>\n",
       "<style scoped>\n",
       "    .dataframe tbody tr th:only-of-type {\n",
       "        vertical-align: middle;\n",
       "    }\n",
       "\n",
       "    .dataframe tbody tr th {\n",
       "        vertical-align: top;\n",
       "    }\n",
       "\n",
       "    .dataframe thead th {\n",
       "        text-align: right;\n",
       "    }\n",
       "</style>\n",
       "<table border=\"1\" class=\"dataframe\">\n",
       "  <thead>\n",
       "    <tr style=\"text-align: right;\">\n",
       "      <th></th>\n",
       "      <th>username</th>\n",
       "      <th>hours</th>\n",
       "      <th>product_id</th>\n",
       "      <th>date</th>\n",
       "      <th>text</th>\n",
       "      <th>app_name</th>\n",
       "      <th>id</th>\n",
       "      <th>category_price</th>\n",
       "      <th>categories</th>\n",
       "      <th>n_categories</th>\n",
       "    </tr>\n",
       "  </thead>\n",
       "  <tbody>\n",
       "    <tr>\n",
       "      <th>0</th>\n",
       "      <td>twitch.tv/miljoo</td>\n",
       "      <td>110.2</td>\n",
       "      <td>10</td>\n",
       "      <td>2017-12-26</td>\n",
       "      <td>i suck at this game</td>\n",
       "      <td>Counter-Strike</td>\n",
       "      <td>10</td>\n",
       "      <td>paid</td>\n",
       "      <td>['1980s', '1990s', 'action', 'assassin', 'clas...</td>\n",
       "      <td>1980s    1990s    action    assassin    clas...</td>\n",
       "    </tr>\n",
       "    <tr>\n",
       "      <th>1</th>\n",
       "      <td>[NC] Cake</td>\n",
       "      <td>1.6</td>\n",
       "      <td>10</td>\n",
       "      <td>2017-12-29</td>\n",
       "      <td>Good</td>\n",
       "      <td>Counter-Strike</td>\n",
       "      <td>10</td>\n",
       "      <td>paid</td>\n",
       "      <td>['1980s', '1990s', 'action', 'assassin', 'clas...</td>\n",
       "      <td>1980s    1990s    action    assassin    clas...</td>\n",
       "    </tr>\n",
       "    <tr>\n",
       "      <th>2</th>\n",
       "      <td>Matuzka</td>\n",
       "      <td>1.6</td>\n",
       "      <td>10</td>\n",
       "      <td>2017-12-29</td>\n",
       "      <td>Good old times!</td>\n",
       "      <td>Counter-Strike</td>\n",
       "      <td>10</td>\n",
       "      <td>paid</td>\n",
       "      <td>['1980s', '1990s', 'action', 'assassin', 'clas...</td>\n",
       "      <td>1980s    1990s    action    assassin    clas...</td>\n",
       "    </tr>\n",
       "    <tr>\n",
       "      <th>3</th>\n",
       "      <td>smselby27</td>\n",
       "      <td>19.1</td>\n",
       "      <td>10</td>\n",
       "      <td>2017-12-29</td>\n",
       "      <td>i love this game so much i love it too much</td>\n",
       "      <td>Counter-Strike</td>\n",
       "      <td>10</td>\n",
       "      <td>paid</td>\n",
       "      <td>['1980s', '1990s', 'action', 'assassin', 'clas...</td>\n",
       "      <td>1980s    1990s    action    assassin    clas...</td>\n",
       "    </tr>\n",
       "    <tr>\n",
       "      <th>4</th>\n",
       "      <td>japa</td>\n",
       "      <td>1360.7</td>\n",
       "      <td>10</td>\n",
       "      <td>2017-12-29</td>\n",
       "      <td>best game ever !</td>\n",
       "      <td>Counter-Strike</td>\n",
       "      <td>10</td>\n",
       "      <td>paid</td>\n",
       "      <td>['1980s', '1990s', 'action', 'assassin', 'clas...</td>\n",
       "      <td>1980s    1990s    action    assassin    clas...</td>\n",
       "    </tr>\n",
       "  </tbody>\n",
       "</table>\n",
       "</div>"
      ],
      "text/plain": [
       "           username   hours  product_id       date  \\\n",
       "0  twitch.tv/miljoo   110.2          10 2017-12-26   \n",
       "1         [NC] Cake     1.6          10 2017-12-29   \n",
       "2           Matuzka     1.6          10 2017-12-29   \n",
       "3         smselby27    19.1          10 2017-12-29   \n",
       "4              japa  1360.7          10 2017-12-29   \n",
       "\n",
       "                                          text        app_name  id  \\\n",
       "0                          i suck at this game  Counter-Strike  10   \n",
       "1                                         Good  Counter-Strike  10   \n",
       "2                              Good old times!  Counter-Strike  10   \n",
       "3  i love this game so much i love it too much  Counter-Strike  10   \n",
       "4                             best game ever !  Counter-Strike  10   \n",
       "\n",
       "  category_price                                         categories  \\\n",
       "0           paid  ['1980s', '1990s', 'action', 'assassin', 'clas...   \n",
       "1           paid  ['1980s', '1990s', 'action', 'assassin', 'clas...   \n",
       "2           paid  ['1980s', '1990s', 'action', 'assassin', 'clas...   \n",
       "3           paid  ['1980s', '1990s', 'action', 'assassin', 'clas...   \n",
       "4           paid  ['1980s', '1990s', 'action', 'assassin', 'clas...   \n",
       "\n",
       "                                        n_categories  \n",
       "0    1980s    1990s    action    assassin    clas...  \n",
       "1    1980s    1990s    action    assassin    clas...  \n",
       "2    1980s    1990s    action    assassin    clas...  \n",
       "3    1980s    1990s    action    assassin    clas...  \n",
       "4    1980s    1990s    action    assassin    clas...  "
      ]
     },
     "execution_count": 112,
     "metadata": {},
     "output_type": "execute_result"
    }
   ],
   "source": [
    "reviews_games.head()"
   ]
  },
  {
   "cell_type": "markdown",
   "id": "812906ec-28c8-4203-b110-d485051fc26f",
   "metadata": {},
   "source": [
    "###### Para trabajar con Jaccard o Similitud coseno, puedo comparar las similitudes entre las categorías de los juegos que juega cada usuario "
   ]
  },
  {
   "cell_type": "code",
   "execution_count": 113,
   "id": "84e6e170-5779-4830-92a3-3f40eadad6cf",
   "metadata": {},
   "outputs": [
    {
     "name": "stdout",
     "output_type": "stream",
     "text": [
      "  1980s    1990s    action    assassin    classic    competitive    fps    firstperson    military    multiplayer    multiplayer    ninja    pvp    score attack    shooter    strategy    survival    tactical    teambased    tower defense    valve anticheat enabled    esports  \n"
     ]
    }
   ],
   "source": [
    "print(reviews_games['n_categories'][0])"
   ]
  },
  {
   "cell_type": "markdown",
   "id": "88ea683d-b7ff-45a9-a21c-593d25af7db1",
   "metadata": {},
   "source": [
    "##### Armamos un dataframe con las columnas 'username', 'product_id', 'app_name', 'app_name', 'category_price' y 'n_categories' y tomando un porcentaje del total de juegos; Para poder así evitar cálculos muy trabajosos."
   ]
  },
  {
   "cell_type": "code",
   "execution_count": 114,
   "id": "a0452818-4000-49bd-ae58-85f1633120a7",
   "metadata": {},
   "outputs": [],
   "source": [
    "Df =pd.DataFrame(reviews_games, columns=['username', 'id','app_name','category_price','n_categories'])"
   ]
  },
  {
   "cell_type": "code",
   "execution_count": 115,
   "id": "5bdd8537-270b-477a-82eb-f857d82f988a",
   "metadata": {},
   "outputs": [
    {
     "data": {
      "text/html": [
       "<div>\n",
       "<style scoped>\n",
       "    .dataframe tbody tr th:only-of-type {\n",
       "        vertical-align: middle;\n",
       "    }\n",
       "\n",
       "    .dataframe tbody tr th {\n",
       "        vertical-align: top;\n",
       "    }\n",
       "\n",
       "    .dataframe thead th {\n",
       "        text-align: right;\n",
       "    }\n",
       "</style>\n",
       "<table border=\"1\" class=\"dataframe\">\n",
       "  <thead>\n",
       "    <tr style=\"text-align: right;\">\n",
       "      <th></th>\n",
       "      <th>username</th>\n",
       "      <th>id</th>\n",
       "      <th>app_name</th>\n",
       "      <th>category_price</th>\n",
       "      <th>n_categories</th>\n",
       "    </tr>\n",
       "  </thead>\n",
       "  <tbody>\n",
       "    <tr>\n",
       "      <th>0</th>\n",
       "      <td>twitch.tv/miljoo</td>\n",
       "      <td>10</td>\n",
       "      <td>Counter-Strike</td>\n",
       "      <td>paid</td>\n",
       "      <td>1980s    1990s    action    assassin    clas...</td>\n",
       "    </tr>\n",
       "    <tr>\n",
       "      <th>1</th>\n",
       "      <td>[NC] Cake</td>\n",
       "      <td>10</td>\n",
       "      <td>Counter-Strike</td>\n",
       "      <td>paid</td>\n",
       "      <td>1980s    1990s    action    assassin    clas...</td>\n",
       "    </tr>\n",
       "    <tr>\n",
       "      <th>2</th>\n",
       "      <td>Matuzka</td>\n",
       "      <td>10</td>\n",
       "      <td>Counter-Strike</td>\n",
       "      <td>paid</td>\n",
       "      <td>1980s    1990s    action    assassin    clas...</td>\n",
       "    </tr>\n",
       "    <tr>\n",
       "      <th>3</th>\n",
       "      <td>smselby27</td>\n",
       "      <td>10</td>\n",
       "      <td>Counter-Strike</td>\n",
       "      <td>paid</td>\n",
       "      <td>1980s    1990s    action    assassin    clas...</td>\n",
       "    </tr>\n",
       "    <tr>\n",
       "      <th>4</th>\n",
       "      <td>japa</td>\n",
       "      <td>10</td>\n",
       "      <td>Counter-Strike</td>\n",
       "      <td>paid</td>\n",
       "      <td>1980s    1990s    action    assassin    clas...</td>\n",
       "    </tr>\n",
       "  </tbody>\n",
       "</table>\n",
       "</div>"
      ],
      "text/plain": [
       "           username  id        app_name category_price  \\\n",
       "0  twitch.tv/miljoo  10  Counter-Strike           paid   \n",
       "1         [NC] Cake  10  Counter-Strike           paid   \n",
       "2           Matuzka  10  Counter-Strike           paid   \n",
       "3         smselby27  10  Counter-Strike           paid   \n",
       "4              japa  10  Counter-Strike           paid   \n",
       "\n",
       "                                        n_categories  \n",
       "0    1980s    1990s    action    assassin    clas...  \n",
       "1    1980s    1990s    action    assassin    clas...  \n",
       "2    1980s    1990s    action    assassin    clas...  \n",
       "3    1980s    1990s    action    assassin    clas...  \n",
       "4    1980s    1990s    action    assassin    clas...  "
      ]
     },
     "execution_count": 115,
     "metadata": {},
     "output_type": "execute_result"
    }
   ],
   "source": [
    "Df.head()"
   ]
  },
  {
   "cell_type": "code",
   "execution_count": 116,
   "id": "30dd9ad3-358e-4c62-8014-3f7365311f3d",
   "metadata": {
    "tags": []
   },
   "outputs": [],
   "source": [
    "# Seccionamos el dataframe para evitar peso excesivo.\n",
    "df = Df.sample(frac=0.0001)\n",
    "df = df.reset_index(drop=True)"
   ]
  },
  {
   "cell_type": "code",
   "execution_count": 117,
   "id": "1827dca6-4d10-4d15-8cab-97ac238ce224",
   "metadata": {
    "tags": []
   },
   "outputs": [
    {
     "name": "stdout",
     "output_type": "stream",
     "text": [
      "(280, 5)\n"
     ]
    }
   ],
   "source": [
    "print(df.shape)"
   ]
  },
  {
   "cell_type": "code",
   "execution_count": 118,
   "id": "a7b1313d-5d84-4410-bc5b-acd25ce353db",
   "metadata": {},
   "outputs": [],
   "source": [
    "# Realizamos el procesamiento de lenguaje natural de 'categories'\n",
    "from stop_words import get_stop_words\n",
    "stop_words = get_stop_words ('english')"
   ]
  },
  {
   "cell_type": "code",
   "execution_count": 119,
   "id": "54772951-1fcf-4e4e-b81e-b38cf8f76aef",
   "metadata": {},
   "outputs": [],
   "source": [
    "#Importamos también las librerías a usar de Sklearn\n",
    "\n",
    "\n",
    "from sklearn.feature_extraction.text import CountVectorizer\n",
    "vectorizer = CountVectorizer()"
   ]
  },
  {
   "cell_type": "code",
   "execution_count": 120,
   "id": "887e854f-6cd8-44a0-9690-5a3579bbaf0a",
   "metadata": {},
   "outputs": [],
   "source": [
    "from sklearn.feature_extraction.text import TfidfVectorizer"
   ]
  },
  {
   "cell_type": "code",
   "execution_count": 121,
   "id": "129d7791-7cb6-47b8-a1fb-d8c7bf3bc8bd",
   "metadata": {
    "tags": []
   },
   "outputs": [],
   "source": [
    "# Creo la matriz de freq. vectorizo y ejecuto además fit_transform a la columna\n",
    "# 'categories' para cotejar cada uno de los vectores\n",
    "vectorizer=TfidfVectorizer()\n",
    "X_Tfidf = vectorizer.fit_transform(df['n_categories'])"
   ]
  },
  {
   "cell_type": "code",
   "execution_count": 122,
   "id": "afa24e95-7e91-4347-b854-19330dca82f9",
   "metadata": {},
   "outputs": [
    {
     "name": "stdout",
     "output_type": "stream",
     "text": [
      "(280, 336)\n"
     ]
    }
   ],
   "source": [
    "print(X_Tfidf.shape)"
   ]
  },
  {
   "cell_type": "code",
   "execution_count": 123,
   "id": "8c72e8fe-e533-49a4-8af7-7843223546c4",
   "metadata": {},
   "outputs": [],
   "source": [
    "# Comienzo a trabajar con Similaridad coseno\n",
    "\n",
    "from sklearn.metrics.pairwise import linear_kernel\n",
    "cosine_sim = linear_kernel(X_Tfidf,X_Tfidf)"
   ]
  },
  {
   "cell_type": "code",
   "execution_count": 124,
   "id": "f612c1ee-5d43-4d7c-9080-fbbd3bad8ddc",
   "metadata": {},
   "outputs": [],
   "source": [
    "indices = pd.Series(df.index, index = df['app_name']).drop_duplicates()\n",
    "\n",
    "df = df.dropna()"
   ]
  },
  {
   "cell_type": "code",
   "execution_count": 125,
   "id": "60ab3762-411d-4d95-ba53-61f15f9f0af2",
   "metadata": {},
   "outputs": [
    {
     "name": "stdout",
     "output_type": "stream",
     "text": [
      "Tu Seleccionaste Killing Floor 2 y tus recomendaciones son:\n",
      "161                      Contagion\n",
      "35     Call of Duty®: Black Ops II\n",
      "214                         Deceit\n",
      "15             Call of Duty®: WWII\n",
      "Name: app_name, dtype: object\n"
     ]
    }
   ],
   "source": [
    "# En base a la  similaridad coseno arrojada, defino una función que tome los scores afines, e imprima la recomendación correspondiente.\n",
    "\n",
    "def get_recomenndations (app_name, cosine_sim = cosine_sim):\n",
    "    idx = indices [app_name]\n",
    "    sim_scores = list(enumerate(cosine_sim[idx]))\n",
    "    sim_scores = sorted(sim_scores, key = lambda x: x[1], reverse = True)\n",
    "    sim_scores = sim_scores [1:5]\n",
    "    games_indices = [i[0]for i in sim_scores]\n",
    "    return df['app_name'].iloc[games_indices]\n",
    "\n",
    "games = str(df.iloc[3]['app_name'])\n",
    "print ('Tu Seleccionaste ' + games + ' y tus recomendaciones son:')\n",
    "print (get_recomenndations(games))"
   ]
  },
  {
   "cell_type": "markdown",
   "id": "ae82e7b3-7fbb-4302-9c24-55830da99944",
   "metadata": {},
   "source": [
    "### Surprise"
   ]
  },
  {
   "cell_type": "code",
   "execution_count": 126,
   "id": "1b441e31-21cb-4c89-a7c5-89295888b5f2",
   "metadata": {},
   "outputs": [],
   "source": [
    "from tqdm.notebook import tqdm\n",
    "from surprise.model_selection import cross_validate, RandomizedSearchCV, train_test_split\n",
    "from surprise.reader import Reader\n",
    "from surprise import Dataset\n",
    "from surprise import SVD"
   ]
  },
  {
   "cell_type": "code",
   "execution_count": 127,
   "id": "31b01307-5106-4cdf-ac79-084a0fbe9af8",
   "metadata": {},
   "outputs": [
    {
     "data": {
      "text/plain": [
       "Index(['username', 'hours', 'product_id', 'date', 'text'], dtype='object')"
      ]
     },
     "execution_count": 127,
     "metadata": {},
     "output_type": "execute_result"
    }
   ],
   "source": [
    "data_reviews.columns"
   ]
  },
  {
   "cell_type": "code",
   "execution_count": 128,
   "id": "ae1e3c3c-7d2c-4a2f-9dca-eb5912566813",
   "metadata": {},
   "outputs": [],
   "source": [
    "indices1 = pd.Series(data_reviews.index, index = data_reviews['hours']).drop_duplicates()"
   ]
  },
  {
   "cell_type": "code",
   "execution_count": 129,
   "id": "38c1b9ae-26f9-4e61-b64d-0bce5adf475c",
   "metadata": {},
   "outputs": [
    {
     "data": {
      "text/plain": [
       "(3681082, 5)"
      ]
     },
     "execution_count": 129,
     "metadata": {},
     "output_type": "execute_result"
    }
   ],
   "source": [
    "data_reviews.shape"
   ]
  },
  {
   "cell_type": "code",
   "execution_count": 130,
   "id": "cb13e17a-bbd6-411f-a35d-dd0b144754ba",
   "metadata": {},
   "outputs": [],
   "source": [
    "def get_ratings_by_group(dataframe):\n",
    "    '''\n",
    "    Parameters:\n",
    "    dataframe: Dataframe must include columns: product_id and hours\n",
    "    Return:\n",
    "    Return list of dataframe representing groups of items.\n",
    "    '''\n",
    "    ratings = []\n",
    "    for product_id, group in tqdm(dataframe.groupby('product_id')):\n",
    "        group['f'] = group['hours'] / group['hours'].sum() #Frequencies\n",
    "        group = group.sort_values('f', ascending=False)\n",
    "        group['f'] = group['f'].shift(fill_value=0).cumsum()\n",
    "        group['f'] = 4*(1 - group['f']) + 1\n",
    "        ratings.append(group)\n",
    "    return ratings"
   ]
  },
  {
   "cell_type": "code",
   "execution_count": 131,
   "id": "bf43d375-aa8a-41f7-a4dd-19468fa4cc64",
   "metadata": {},
   "outputs": [
    {
     "name": "stdout",
     "output_type": "stream",
     "text": [
      "Requirement already satisfied: ipywidgets in /Users/Hernandelval/opt/miniconda3/envs/snakes/lib/python3.8/site-packages (7.6.5)\n",
      "Requirement already satisfied: ipython>=4.0.0 in /Users/Hernandelval/opt/miniconda3/envs/snakes/lib/python3.8/site-packages (from ipywidgets) (7.27.0)\n",
      "Requirement already satisfied: jupyterlab-widgets>=1.0.0 in /Users/Hernandelval/opt/miniconda3/envs/snakes/lib/python3.8/site-packages (from ipywidgets) (1.0.2)\n",
      "Requirement already satisfied: traitlets>=4.3.1 in /Users/Hernandelval/opt/miniconda3/envs/snakes/lib/python3.8/site-packages (from ipywidgets) (5.1.0)\n",
      "Requirement already satisfied: nbformat>=4.2.0 in /Users/Hernandelval/opt/miniconda3/envs/snakes/lib/python3.8/site-packages (from ipywidgets) (5.1.3)\n",
      "Requirement already satisfied: ipykernel>=4.5.1 in /Users/Hernandelval/opt/miniconda3/envs/snakes/lib/python3.8/site-packages (from ipywidgets) (6.4.1)\n",
      "Requirement already satisfied: ipython-genutils~=0.2.0 in /Users/Hernandelval/opt/miniconda3/envs/snakes/lib/python3.8/site-packages (from ipywidgets) (0.2.0)\n",
      "Requirement already satisfied: widgetsnbextension~=3.5.0 in /Users/Hernandelval/opt/miniconda3/envs/snakes/lib/python3.8/site-packages (from ipywidgets) (3.5.1)\n",
      "Requirement already satisfied: appnope in /Users/Hernandelval/opt/miniconda3/envs/snakes/lib/python3.8/site-packages (from ipykernel>=4.5.1->ipywidgets) (0.1.2)\n",
      "Requirement already satisfied: debugpy<2.0,>=1.0.0 in /Users/Hernandelval/opt/miniconda3/envs/snakes/lib/python3.8/site-packages (from ipykernel>=4.5.1->ipywidgets) (1.4.1)\n",
      "Requirement already satisfied: jupyter-client<8.0 in /Users/Hernandelval/opt/miniconda3/envs/snakes/lib/python3.8/site-packages (from ipykernel>=4.5.1->ipywidgets) (7.0.1)\n",
      "Requirement already satisfied: matplotlib-inline<0.2.0,>=0.1.0 in /Users/Hernandelval/opt/miniconda3/envs/snakes/lib/python3.8/site-packages (from ipykernel>=4.5.1->ipywidgets) (0.1.2)\n",
      "Requirement already satisfied: tornado<7.0,>=4.2 in /Users/Hernandelval/opt/miniconda3/envs/snakes/lib/python3.8/site-packages (from ipykernel>=4.5.1->ipywidgets) (6.1)\n",
      "Requirement already satisfied: decorator in /Users/Hernandelval/opt/miniconda3/envs/snakes/lib/python3.8/site-packages (from ipython>=4.0.0->ipywidgets) (5.1.0)\n",
      "Requirement already satisfied: pickleshare in /Users/Hernandelval/opt/miniconda3/envs/snakes/lib/python3.8/site-packages (from ipython>=4.0.0->ipywidgets) (0.7.5)\n",
      "Requirement already satisfied: backcall in /Users/Hernandelval/opt/miniconda3/envs/snakes/lib/python3.8/site-packages (from ipython>=4.0.0->ipywidgets) (0.2.0)\n",
      "Requirement already satisfied: jedi>=0.16 in /Users/Hernandelval/opt/miniconda3/envs/snakes/lib/python3.8/site-packages (from ipython>=4.0.0->ipywidgets) (0.18.0)\n",
      "Requirement already satisfied: pygments in /Users/Hernandelval/opt/miniconda3/envs/snakes/lib/python3.8/site-packages (from ipython>=4.0.0->ipywidgets) (2.10.0)\n",
      "Requirement already satisfied: setuptools>=18.5 in /Users/Hernandelval/opt/miniconda3/envs/snakes/lib/python3.8/site-packages (from ipython>=4.0.0->ipywidgets) (58.0.4)\n",
      "Requirement already satisfied: pexpect>4.3 in /Users/Hernandelval/opt/miniconda3/envs/snakes/lib/python3.8/site-packages (from ipython>=4.0.0->ipywidgets) (4.8.0)\n",
      "Requirement already satisfied: prompt-toolkit!=3.0.0,!=3.0.1,<3.1.0,>=2.0.0 in /Users/Hernandelval/opt/miniconda3/envs/snakes/lib/python3.8/site-packages (from ipython>=4.0.0->ipywidgets) (3.0.20)\n",
      "Requirement already satisfied: parso<0.9.0,>=0.8.0 in /Users/Hernandelval/opt/miniconda3/envs/snakes/lib/python3.8/site-packages (from jedi>=0.16->ipython>=4.0.0->ipywidgets) (0.8.2)\n",
      "Requirement already satisfied: entrypoints in /Users/Hernandelval/opt/miniconda3/envs/snakes/lib/python3.8/site-packages (from jupyter-client<8.0->ipykernel>=4.5.1->ipywidgets) (0.3)\n",
      "Requirement already satisfied: python-dateutil>=2.1 in /Users/Hernandelval/opt/miniconda3/envs/snakes/lib/python3.8/site-packages (from jupyter-client<8.0->ipykernel>=4.5.1->ipywidgets) (2.8.2)\n",
      "Requirement already satisfied: nest-asyncio>=1.5 in /Users/Hernandelval/opt/miniconda3/envs/snakes/lib/python3.8/site-packages (from jupyter-client<8.0->ipykernel>=4.5.1->ipywidgets) (1.5.1)\n",
      "Requirement already satisfied: jupyter-core>=4.6.0 in /Users/Hernandelval/opt/miniconda3/envs/snakes/lib/python3.8/site-packages (from jupyter-client<8.0->ipykernel>=4.5.1->ipywidgets) (4.8.1)\n",
      "Requirement already satisfied: pyzmq>=13 in /Users/Hernandelval/opt/miniconda3/envs/snakes/lib/python3.8/site-packages (from jupyter-client<8.0->ipykernel>=4.5.1->ipywidgets) (22.2.1)\n",
      "Requirement already satisfied: jsonschema!=2.5.0,>=2.4 in /Users/Hernandelval/opt/miniconda3/envs/snakes/lib/python3.8/site-packages (from nbformat>=4.2.0->ipywidgets) (3.2.0)\n",
      "Requirement already satisfied: six>=1.11.0 in /Users/Hernandelval/opt/miniconda3/envs/snakes/lib/python3.8/site-packages (from jsonschema!=2.5.0,>=2.4->nbformat>=4.2.0->ipywidgets) (1.16.0)\n",
      "Requirement already satisfied: attrs>=17.4.0 in /Users/Hernandelval/opt/miniconda3/envs/snakes/lib/python3.8/site-packages (from jsonschema!=2.5.0,>=2.4->nbformat>=4.2.0->ipywidgets) (21.2.0)\n",
      "Requirement already satisfied: pyrsistent>=0.14.0 in /Users/Hernandelval/opt/miniconda3/envs/snakes/lib/python3.8/site-packages (from jsonschema!=2.5.0,>=2.4->nbformat>=4.2.0->ipywidgets) (0.17.3)\n",
      "Requirement already satisfied: ptyprocess>=0.5 in /Users/Hernandelval/opt/miniconda3/envs/snakes/lib/python3.8/site-packages (from pexpect>4.3->ipython>=4.0.0->ipywidgets) (0.7.0)\n",
      "Requirement already satisfied: wcwidth in /Users/Hernandelval/opt/miniconda3/envs/snakes/lib/python3.8/site-packages (from prompt-toolkit!=3.0.0,!=3.0.1,<3.1.0,>=2.0.0->ipython>=4.0.0->ipywidgets) (0.2.5)\n",
      "Requirement already satisfied: notebook>=4.4.1 in /Users/Hernandelval/opt/miniconda3/envs/snakes/lib/python3.8/site-packages (from widgetsnbextension~=3.5.0->ipywidgets) (6.4.3)\n",
      "Requirement already satisfied: jinja2 in /Users/Hernandelval/opt/miniconda3/envs/snakes/lib/python3.8/site-packages (from notebook>=4.4.1->widgetsnbextension~=3.5.0->ipywidgets) (3.0.1)\n",
      "Requirement already satisfied: argon2-cffi in /Users/Hernandelval/opt/miniconda3/envs/snakes/lib/python3.8/site-packages (from notebook>=4.4.1->widgetsnbextension~=3.5.0->ipywidgets) (20.1.0)\n",
      "Requirement already satisfied: prometheus-client in /Users/Hernandelval/opt/miniconda3/envs/snakes/lib/python3.8/site-packages (from notebook>=4.4.1->widgetsnbextension~=3.5.0->ipywidgets) (0.11.0)\n",
      "Requirement already satisfied: terminado>=0.8.3 in /Users/Hernandelval/opt/miniconda3/envs/snakes/lib/python3.8/site-packages (from notebook>=4.4.1->widgetsnbextension~=3.5.0->ipywidgets) (0.9.4)\n",
      "Requirement already satisfied: nbconvert in /Users/Hernandelval/opt/miniconda3/envs/snakes/lib/python3.8/site-packages (from notebook>=4.4.1->widgetsnbextension~=3.5.0->ipywidgets) (6.1.0)\n",
      "Requirement already satisfied: Send2Trash>=1.5.0 in /Users/Hernandelval/opt/miniconda3/envs/snakes/lib/python3.8/site-packages (from notebook>=4.4.1->widgetsnbextension~=3.5.0->ipywidgets) (1.8.0)\n",
      "Requirement already satisfied: cffi>=1.0.0 in /Users/Hernandelval/opt/miniconda3/envs/snakes/lib/python3.8/site-packages (from argon2-cffi->notebook>=4.4.1->widgetsnbextension~=3.5.0->ipywidgets) (1.14.6)\n",
      "Requirement already satisfied: pycparser in /Users/Hernandelval/opt/miniconda3/envs/snakes/lib/python3.8/site-packages (from cffi>=1.0.0->argon2-cffi->notebook>=4.4.1->widgetsnbextension~=3.5.0->ipywidgets) (2.20)\n",
      "Requirement already satisfied: MarkupSafe>=2.0 in /Users/Hernandelval/opt/miniconda3/envs/snakes/lib/python3.8/site-packages (from jinja2->notebook>=4.4.1->widgetsnbextension~=3.5.0->ipywidgets) (2.0.1)\n",
      "Requirement already satisfied: testpath in /Users/Hernandelval/opt/miniconda3/envs/snakes/lib/python3.8/site-packages (from nbconvert->notebook>=4.4.1->widgetsnbextension~=3.5.0->ipywidgets) (0.5.0)\n",
      "Requirement already satisfied: bleach in /Users/Hernandelval/opt/miniconda3/envs/snakes/lib/python3.8/site-packages (from nbconvert->notebook>=4.4.1->widgetsnbextension~=3.5.0->ipywidgets) (4.0.0)\n",
      "Requirement already satisfied: mistune<2,>=0.8.1 in /Users/Hernandelval/opt/miniconda3/envs/snakes/lib/python3.8/site-packages (from nbconvert->notebook>=4.4.1->widgetsnbextension~=3.5.0->ipywidgets) (0.8.4)\n",
      "Requirement already satisfied: pandocfilters>=1.4.1 in /Users/Hernandelval/opt/miniconda3/envs/snakes/lib/python3.8/site-packages (from nbconvert->notebook>=4.4.1->widgetsnbextension~=3.5.0->ipywidgets) (1.4.3)\n",
      "Requirement already satisfied: defusedxml in /Users/Hernandelval/opt/miniconda3/envs/snakes/lib/python3.8/site-packages (from nbconvert->notebook>=4.4.1->widgetsnbextension~=3.5.0->ipywidgets) (0.7.1)\n",
      "Requirement already satisfied: nbclient<0.6.0,>=0.5.0 in /Users/Hernandelval/opt/miniconda3/envs/snakes/lib/python3.8/site-packages (from nbconvert->notebook>=4.4.1->widgetsnbextension~=3.5.0->ipywidgets) (0.5.3)\n",
      "Requirement already satisfied: jupyterlab-pygments in /Users/Hernandelval/opt/miniconda3/envs/snakes/lib/python3.8/site-packages (from nbconvert->notebook>=4.4.1->widgetsnbextension~=3.5.0->ipywidgets) (0.1.2)\n",
      "Requirement already satisfied: async-generator in /Users/Hernandelval/opt/miniconda3/envs/snakes/lib/python3.8/site-packages (from nbclient<0.6.0,>=0.5.0->nbconvert->notebook>=4.4.1->widgetsnbextension~=3.5.0->ipywidgets) (1.10)\n",
      "Requirement already satisfied: packaging in /Users/Hernandelval/opt/miniconda3/envs/snakes/lib/python3.8/site-packages (from bleach->nbconvert->notebook>=4.4.1->widgetsnbextension~=3.5.0->ipywidgets) (21.0)\n",
      "Requirement already satisfied: webencodings in /Users/Hernandelval/opt/miniconda3/envs/snakes/lib/python3.8/site-packages (from bleach->nbconvert->notebook>=4.4.1->widgetsnbextension~=3.5.0->ipywidgets) (0.5.1)\n",
      "Requirement already satisfied: pyparsing>=2.0.2 in /Users/Hernandelval/opt/miniconda3/envs/snakes/lib/python3.8/site-packages (from packaging->bleach->nbconvert->notebook>=4.4.1->widgetsnbextension~=3.5.0->ipywidgets) (2.4.7)\n",
      "Enabling notebook extension jupyter-js-widgets/extension...\n",
      "      - Validating: \u001b[32mOK\u001b[0m\n"
     ]
    },
    {
     "data": {
      "application/vnd.jupyter.widget-view+json": {
       "model_id": "4c0f13902ef94a6d9858886f699477d5",
       "version_major": 2,
       "version_minor": 0
      },
      "text/plain": [
       "  0%|          | 0/14970 [00:00<?, ?it/s]"
      ]
     },
     "metadata": {},
     "output_type": "display_data"
    }
   ],
   "source": [
    "!pip install ipywidgets\n",
    "!jupyter nbextension enable --py widgetsnbextension\n",
    "ratings = pd.concat(get_ratings_by_group(data_reviews))"
   ]
  },
  {
   "cell_type": "code",
   "execution_count": 132,
   "id": "10546e89-f4ec-49c6-bc8d-a74d86635c6b",
   "metadata": {},
   "outputs": [
    {
     "data": {
      "text/html": [
       "<div>\n",
       "<style scoped>\n",
       "    .dataframe tbody tr th:only-of-type {\n",
       "        vertical-align: middle;\n",
       "    }\n",
       "\n",
       "    .dataframe tbody tr th {\n",
       "        vertical-align: top;\n",
       "    }\n",
       "\n",
       "    .dataframe thead th {\n",
       "        text-align: right;\n",
       "    }\n",
       "</style>\n",
       "<table border=\"1\" class=\"dataframe\">\n",
       "  <thead>\n",
       "    <tr style=\"text-align: right;\">\n",
       "      <th></th>\n",
       "      <th>username</th>\n",
       "      <th>hours</th>\n",
       "      <th>product_id</th>\n",
       "      <th>date</th>\n",
       "      <th>text</th>\n",
       "      <th>f</th>\n",
       "    </tr>\n",
       "  </thead>\n",
       "  <tbody>\n",
       "    <tr>\n",
       "      <th>1952522</th>\n",
       "      <td>GIANI VERSACE</td>\n",
       "      <td>4660.8</td>\n",
       "      <td>10</td>\n",
       "      <td>2017-12-28</td>\n",
       "      <td>BEST GAME EVER !</td>\n",
       "      <td>5.000000</td>\n",
       "    </tr>\n",
       "    <tr>\n",
       "      <th>1952966</th>\n",
       "      <td>-NiP-fQrest -A-</td>\n",
       "      <td>4452.8</td>\n",
       "      <td>10</td>\n",
       "      <td>2017-12-27</td>\n",
       "      <td>Y</td>\n",
       "      <td>4.556257</td>\n",
       "    </tr>\n",
       "    <tr>\n",
       "      <th>1953188</th>\n",
       "      <td>^DeaLer</td>\n",
       "      <td>3331.8</td>\n",
       "      <td>10</td>\n",
       "      <td>2017-12-25</td>\n",
       "      <td>Pekne :))</td>\n",
       "      <td>4.132317</td>\n",
       "    </tr>\n",
       "    <tr>\n",
       "      <th>1950698</th>\n",
       "      <td>DAMMescu</td>\n",
       "      <td>2700.0</td>\n",
       "      <td>10</td>\n",
       "      <td>2018-01-03</td>\n",
       "      <td>The greatest shooter of all times! &lt;3 :D</td>\n",
       "      <td>3.815105</td>\n",
       "    </tr>\n",
       "    <tr>\n",
       "      <th>1953185</th>\n",
       "      <td>KWC | Babban</td>\n",
       "      <td>2597.9</td>\n",
       "      <td>10</td>\n",
       "      <td>2017-12-26</td>\n",
       "      <td>Crazy game</td>\n",
       "      <td>3.558044</td>\n",
       "    </tr>\n",
       "    <tr>\n",
       "      <th>1950378</th>\n",
       "      <td>laki.k@n</td>\n",
       "      <td>2464.9</td>\n",
       "      <td>10</td>\n",
       "      <td>2018-01-04</td>\n",
       "      <td>Game for all times!</td>\n",
       "      <td>3.310705</td>\n",
       "    </tr>\n",
       "    <tr>\n",
       "      <th>1950777</th>\n",
       "      <td>LEOZERA -Hero.Challenge-</td>\n",
       "      <td>2305.6</td>\n",
       "      <td>10</td>\n",
       "      <td>2018-01-02</td>\n",
       "      <td>topzera</td>\n",
       "      <td>3.076028</td>\n",
       "    </tr>\n",
       "    <tr>\n",
       "      <th>1950377</th>\n",
       "      <td>☢ Анђеo ☢</td>\n",
       "      <td>1609.0</td>\n",
       "      <td>10</td>\n",
       "      <td>2018-01-04</td>\n",
       "      <td>Game for all times !</td>\n",
       "      <td>2.856518</td>\n",
       "    </tr>\n",
       "    <tr>\n",
       "      <th>1950458</th>\n",
       "      <td>Alone~</td>\n",
       "      <td>1598.4</td>\n",
       "      <td>10</td>\n",
       "      <td>2018-01-04</td>\n",
       "      <td>It was the best game ever &lt;3 my childhood was ...</td>\n",
       "      <td>2.703329</td>\n",
       "    </tr>\n",
       "    <tr>\n",
       "      <th>1951943</th>\n",
       "      <td>japa</td>\n",
       "      <td>1360.7</td>\n",
       "      <td>10</td>\n",
       "      <td>2017-12-29</td>\n",
       "      <td>best game ever !</td>\n",
       "      <td>2.551149</td>\n",
       "    </tr>\n",
       "  </tbody>\n",
       "</table>\n",
       "</div>"
      ],
      "text/plain": [
       "                         username   hours  product_id       date  \\\n",
       "1952522             GIANI VERSACE  4660.8          10 2017-12-28   \n",
       "1952966           -NiP-fQrest -A-  4452.8          10 2017-12-27   \n",
       "1953188                   ^DeaLer  3331.8          10 2017-12-25   \n",
       "1950698                  DAMMescu  2700.0          10 2018-01-03   \n",
       "1953185              KWC | Babban  2597.9          10 2017-12-26   \n",
       "1950378                  laki.k@n  2464.9          10 2018-01-04   \n",
       "1950777  LEOZERA -Hero.Challenge-  2305.6          10 2018-01-02   \n",
       "1950377                 ☢ Анђеo ☢  1609.0          10 2018-01-04   \n",
       "1950458                    Alone~  1598.4          10 2018-01-04   \n",
       "1951943                      japa  1360.7          10 2017-12-29   \n",
       "\n",
       "                                                      text         f  \n",
       "1952522                                   BEST GAME EVER !  5.000000  \n",
       "1952966                                                  Y  4.556257  \n",
       "1953188                                          Pekne :))  4.132317  \n",
       "1950698           The greatest shooter of all times! <3 :D  3.815105  \n",
       "1953185                                         Crazy game  3.558044  \n",
       "1950378                                Game for all times!  3.310705  \n",
       "1950777                                            topzera  3.076028  \n",
       "1950377                               Game for all times !  2.856518  \n",
       "1950458  It was the best game ever <3 my childhood was ...  2.703329  \n",
       "1951943                                   best game ever !  2.551149  "
      ]
     },
     "execution_count": 132,
     "metadata": {},
     "output_type": "execute_result"
    }
   ],
   "source": [
    "ratings.head(10)"
   ]
  },
  {
   "cell_type": "code",
   "execution_count": 133,
   "id": "2fd72441-9481-4971-876c-ae96239eb953",
   "metadata": {},
   "outputs": [
    {
     "data": {
      "text/plain": [
       "username      0\n",
       "hours         0\n",
       "product_id    0\n",
       "date          0\n",
       "text          0\n",
       "f             3\n",
       "dtype: int64"
      ]
     },
     "execution_count": 133,
     "metadata": {},
     "output_type": "execute_result"
    }
   ],
   "source": [
    "ratings.isna().sum()"
   ]
  },
  {
   "cell_type": "code",
   "execution_count": 134,
   "id": "77dc6026-91db-4bf4-b5bd-d077f4f3ae4a",
   "metadata": {},
   "outputs": [
    {
     "name": "stdout",
     "output_type": "stream",
     "text": [
      "username              object\n",
      "hours                float64\n",
      "product_id             int64\n",
      "date          datetime64[ns]\n",
      "text                  object\n",
      "f                    float32\n",
      "dtype: object\n"
     ]
    }
   ],
   "source": [
    "# Disminuyo la carga al cpu convirtiendo 'f' a flotante de 32 bits\n",
    "ratings.f=ratings.f.astype('float32')\n",
    "print(ratings.dtypes)"
   ]
  },
  {
   "cell_type": "code",
   "execution_count": 135,
   "id": "170e5959-ec56-43a7-a1bf-c56937973a88",
   "metadata": {},
   "outputs": [
    {
     "data": {
      "text/html": [
       "<div>\n",
       "<style scoped>\n",
       "    .dataframe tbody tr th:only-of-type {\n",
       "        vertical-align: middle;\n",
       "    }\n",
       "\n",
       "    .dataframe tbody tr th {\n",
       "        vertical-align: top;\n",
       "    }\n",
       "\n",
       "    .dataframe thead th {\n",
       "        text-align: right;\n",
       "    }\n",
       "</style>\n",
       "<table border=\"1\" class=\"dataframe\">\n",
       "  <thead>\n",
       "    <tr style=\"text-align: right;\">\n",
       "      <th></th>\n",
       "      <th>genres</th>\n",
       "      <th>app_name</th>\n",
       "      <th>release_date</th>\n",
       "      <th>id</th>\n",
       "      <th>publisher</th>\n",
       "      <th>url</th>\n",
       "      <th>categories</th>\n",
       "      <th>category_price</th>\n",
       "    </tr>\n",
       "  </thead>\n",
       "  <tbody>\n",
       "    <tr>\n",
       "      <th>18012</th>\n",
       "      <td>[Action]</td>\n",
       "      <td>Counter-Strike</td>\n",
       "      <td>2000-11-01</td>\n",
       "      <td>10</td>\n",
       "      <td>Valve</td>\n",
       "      <td>http://store.steampowered.com/app/10/CounterSt...</td>\n",
       "      <td>['1980s', '1990s', 'action', 'assassin', 'clas...</td>\n",
       "      <td>paid</td>\n",
       "    </tr>\n",
       "    <tr>\n",
       "      <th>18009</th>\n",
       "      <td>[Action]</td>\n",
       "      <td>Team Fortress Classic</td>\n",
       "      <td>1999-04-01</td>\n",
       "      <td>20</td>\n",
       "      <td>Valve</td>\n",
       "      <td>http://store.steampowered.com/app/20/Team_Fort...</td>\n",
       "      <td>['1990s', 'action', 'adventure', 'casual', 'cl...</td>\n",
       "      <td>paid</td>\n",
       "    </tr>\n",
       "    <tr>\n",
       "      <th>18020</th>\n",
       "      <td>[Action]</td>\n",
       "      <td>Day of Defeat</td>\n",
       "      <td>2003-05-01</td>\n",
       "      <td>30</td>\n",
       "      <td>Valve</td>\n",
       "      <td>http://store.steampowered.com/app/30/Day_of_De...</td>\n",
       "      <td>['action', 'classbased', 'classic', 'coop', 'f...</td>\n",
       "      <td>paid</td>\n",
       "    </tr>\n",
       "  </tbody>\n",
       "</table>\n",
       "</div>"
      ],
      "text/plain": [
       "         genres               app_name release_date  id publisher  \\\n",
       "18012  [Action]         Counter-Strike   2000-11-01  10     Valve   \n",
       "18009  [Action]  Team Fortress Classic   1999-04-01  20     Valve   \n",
       "18020  [Action]          Day of Defeat   2003-05-01  30     Valve   \n",
       "\n",
       "                                                     url  \\\n",
       "18012  http://store.steampowered.com/app/10/CounterSt...   \n",
       "18009  http://store.steampowered.com/app/20/Team_Fort...   \n",
       "18020  http://store.steampowered.com/app/30/Day_of_De...   \n",
       "\n",
       "                                              categories category_price  \n",
       "18012  ['1980s', '1990s', 'action', 'assassin', 'clas...           paid  \n",
       "18009  ['1990s', 'action', 'adventure', 'casual', 'cl...           paid  \n",
       "18020  ['action', 'classbased', 'classic', 'coop', 'f...           paid  "
      ]
     },
     "execution_count": 135,
     "metadata": {},
     "output_type": "execute_result"
    }
   ],
   "source": [
    "data_games.head(3)"
   ]
  },
  {
   "cell_type": "code",
   "execution_count": 136,
   "id": "e8f4dbab-0efe-4caf-9b8c-e433b8b67a1f",
   "metadata": {},
   "outputs": [
    {
     "data": {
      "text/plain": [
       "product_id\n",
       "10      1.267867\n",
       "20      1.150021\n",
       "30      1.247924\n",
       "40      1.208082\n",
       "50      1.544334\n",
       "          ...   \n",
       "3300    1.411695\n",
       "3310    1.685827\n",
       "3320    1.457629\n",
       "3330    1.177839\n",
       "3340    1.530147\n",
       "Name: f, Length: 100, dtype: float32"
      ]
     },
     "execution_count": 136,
     "metadata": {},
     "output_type": "execute_result"
    }
   ],
   "source": [
    "# Se agrupa por ID de cada videojuego, por cada uno de los grupos vamos a obtener\n",
    "# el promedio de calificaciones\n",
    "mean_ratings = ratings[['product_id','f']].groupby('product_id').f.mean() #Serie\n",
    "mean_ratings.head(100)"
   ]
  },
  {
   "cell_type": "code",
   "execution_count": 137,
   "id": "a9ab6366-39e0-4a81-9d32-8562bca0d363",
   "metadata": {},
   "outputs": [],
   "source": [
    "reader = Reader()"
   ]
  },
  {
   "cell_type": "code",
   "execution_count": 138,
   "id": "38e317bc-ff3e-497c-abea-ce8453023e16",
   "metadata": {},
   "outputs": [],
   "source": [
    "dataset = Dataset.load_from_df(ratings[['username','product_id','f']], reader)"
   ]
  },
  {
   "cell_type": "code",
   "execution_count": 142,
   "id": "fc0325bd-9600-4cff-a576-31531c99f2a8",
   "metadata": {},
   "outputs": [],
   "source": [
    "# Split al dataset para train y test\n",
    "\n",
    "trainset, testset = train_test_split(dataset, random_state=42, shuffle=True)"
   ]
  },
  {
   "cell_type": "code",
   "execution_count": 144,
   "id": "3af3e8b5-5eea-4570-a209-08f064f548ad",
   "metadata": {},
   "outputs": [],
   "source": [
    "svd = SVD(verbose=True, random_state=42)"
   ]
  },
  {
   "cell_type": "code",
   "execution_count": 145,
   "id": "1503b8a5-e5dd-486d-a330-40d46bdffe43",
   "metadata": {},
   "outputs": [
    {
     "name": "stdout",
     "output_type": "stream",
     "text": [
      "Processing epoch 0\n",
      "Processing epoch 1\n",
      "Processing epoch 2\n",
      "Processing epoch 3\n",
      "Processing epoch 4\n",
      "Processing epoch 5\n",
      "Processing epoch 6\n",
      "Processing epoch 7\n",
      "Processing epoch 8\n",
      "Processing epoch 9\n",
      "Processing epoch 10\n",
      "Processing epoch 11\n",
      "Processing epoch 12\n",
      "Processing epoch 13\n",
      "Processing epoch 14\n",
      "Processing epoch 15\n",
      "Processing epoch 16\n",
      "Processing epoch 17\n",
      "Processing epoch 18\n",
      "Processing epoch 19\n"
     ]
    },
    {
     "data": {
      "text/plain": [
       "<surprise.prediction_algorithms.matrix_factorization.SVD at 0x7fc0394d3160>"
      ]
     },
     "execution_count": 145,
     "metadata": {},
     "output_type": "execute_result"
    }
   ],
   "source": [
    "svd.fit(trainset)"
   ]
  },
  {
   "cell_type": "code",
   "execution_count": 146,
   "id": "6a3be40e-e349-4a2a-a9ed-d3a7f229ab54",
   "metadata": {},
   "outputs": [],
   "source": [
    "predicciones = svd.test(testset)"
   ]
  },
  {
   "cell_type": "code",
   "execution_count": 147,
   "id": "6227ccdb-4c2b-4611-a069-84759060acaf",
   "metadata": {},
   "outputs": [
    {
     "name": "stdout",
     "output_type": "stream",
     "text": [
      "user: Technitrose item: 391270     r_ui = 1.48   est = 5.00   {'was_impossible': False}\n",
      "user: WorstLifeDecision item: 227940     r_ui = 1.02   est = 5.00   {'was_impossible': False}\n",
      "user: pingray    item: 543770     r_ui = 1.06   est = 5.00   {'was_impossible': False}\n",
      "user: AUNG SAN♥ ҉҈҉ item: 278080     r_ui = 1.26   est = 5.00   {'was_impossible': False}\n"
     ]
    }
   ],
   "source": [
    "for preds in np.random.randint(0, len(predicciones), 4):\n",
    "    print(predicciones[preds])"
   ]
  },
  {
   "cell_type": "code",
   "execution_count": 140,
   "id": "9cd24721-2537-44d6-b3bd-dad3839a9698",
   "metadata": {},
   "outputs": [
    {
     "data": {
      "text/html": [
       "<div>\n",
       "<style scoped>\n",
       "    .dataframe tbody tr th:only-of-type {\n",
       "        vertical-align: middle;\n",
       "    }\n",
       "\n",
       "    .dataframe tbody tr th {\n",
       "        vertical-align: top;\n",
       "    }\n",
       "\n",
       "    .dataframe thead th {\n",
       "        text-align: right;\n",
       "    }\n",
       "</style>\n",
       "<table border=\"1\" class=\"dataframe\">\n",
       "  <thead>\n",
       "    <tr style=\"text-align: right;\">\n",
       "      <th></th>\n",
       "      <th>username</th>\n",
       "      <th>hours</th>\n",
       "      <th>product_id</th>\n",
       "      <th>date</th>\n",
       "      <th>text</th>\n",
       "      <th>f</th>\n",
       "    </tr>\n",
       "  </thead>\n",
       "  <tbody>\n",
       "    <tr>\n",
       "      <th>1952522</th>\n",
       "      <td>GIANI VERSACE</td>\n",
       "      <td>4660.8</td>\n",
       "      <td>10</td>\n",
       "      <td>2017-12-28</td>\n",
       "      <td>BEST GAME EVER !</td>\n",
       "      <td>5.0</td>\n",
       "    </tr>\n",
       "  </tbody>\n",
       "</table>\n",
       "</div>"
      ],
      "text/plain": [
       "              username   hours  product_id       date              text    f\n",
       "1952522  GIANI VERSACE  4660.8          10 2017-12-28  BEST GAME EVER !  5.0"
      ]
     },
     "execution_count": 140,
     "metadata": {},
     "output_type": "execute_result"
    }
   ],
   "source": [
    "ratings[ratings.username=='GIANI VERSACE'].head(3)"
   ]
  },
  {
   "cell_type": "code",
   "execution_count": 148,
   "id": "cc31e9e6-2f13-4aa5-9bbd-009897b4d2c7",
   "metadata": {},
   "outputs": [
    {
     "data": {
      "text/plain": [
       "Prediction(uid='GIANI VERSACE', iid=1952522, r_ui=None, est=5, details={'was_impossible': False})"
      ]
     },
     "execution_count": 148,
     "metadata": {},
     "output_type": "execute_result"
    }
   ],
   "source": [
    "svd.predict('GIANI VERSACE', 1952522)\n"
   ]
  },
  {
   "cell_type": "code",
   "execution_count": 150,
   "id": "6d233962-d0d9-442b-8fab-712872374a01",
   "metadata": {},
   "outputs": [],
   "source": [
    "from surprise import accuracy"
   ]
  },
  {
   "cell_type": "code",
   "execution_count": 152,
   "id": "78eb8a12-c6cc-4337-803b-44e11625cc87",
   "metadata": {},
   "outputs": [
    {
     "name": "stdout",
     "output_type": "stream",
     "text": [
      "RMSE: nan\n"
     ]
    },
    {
     "data": {
      "text/plain": [
       "nan"
      ]
     },
     "execution_count": 152,
     "metadata": {},
     "output_type": "execute_result"
    }
   ],
   "source": [
    "accuracy.rmse(predicciones, verbose=True)"
   ]
  },
  {
   "cell_type": "markdown",
   "id": "c43b0872-96c5-49e5-8162-413ee34c9ddf",
   "metadata": {},
   "source": [
    "### Optimización de Hiperparámetros"
   ]
  },
  {
   "cell_type": "code",
   "execution_count": 154,
   "id": "7660a640-7a0f-4b32-b776-c8148614f56e",
   "metadata": {},
   "outputs": [
    {
     "data": {
      "application/vnd.jupyter.widget-view+json": {
       "model_id": "149ccc44e68a4c11bae6fb60a72ff7cb",
       "version_major": 2,
       "version_minor": 0
      },
      "text/plain": [
       "  0%|          | 0/4 [00:00<?, ?it/s]"
      ]
     },
     "metadata": {},
     "output_type": "display_data"
    },
    {
     "name": "stdout",
     "output_type": "stream",
     "text": [
      "RMSE: nan\n",
      "RMSE: nan\n",
      "RMSE: nan\n",
      "RMSE: nan\n"
     ]
    }
   ],
   "source": [
    "rmse_test = []\n",
    "factores = np.arange(1, 5)\n",
    "\n",
    "for i in tqdm(factores):\n",
    "    algo = SVD(n_factors=i).fit(trainset)\n",
    "    predict_test = algo.test(testset)\n",
    "    rmse_test.append(accuracy.rmse(predict_test))"
   ]
  },
  {
   "cell_type": "code",
   "execution_count": 155,
   "id": "368729d1-9848-404c-8fd1-546b438e1d40",
   "metadata": {},
   "outputs": [
    {
     "name": "stderr",
     "output_type": "stream",
     "text": [
      "/Users/Hernandelval/opt/miniconda3/envs/snakes/lib/python3.8/site-packages/seaborn/_decorators.py:36: FutureWarning:\n",
      "\n",
      "Pass the following variables as keyword args: x, y. From version 0.12, the only valid positional argument will be `data`, and passing other arguments without an explicit keyword will result in an error or misinterpretation.\n",
      "\n"
     ]
    },
    {
     "data": {
      "text/plain": [
       "<AxesSubplot:xlabel='Factores', ylabel='RMSE'>"
      ]
     },
     "execution_count": 155,
     "metadata": {},
     "output_type": "execute_result"
    },
    {
     "data": {
      "image/png": "[encoded data removed]",
      "text/plain": [
       "<Figure size 432x288 with 1 Axes>"
      ]
     },
     "metadata": {
      "needs_background": "light"
     },
     "output_type": "display_data"
    }
   ],
   "source": [
    "plt.xlabel('Factores')\n",
    "plt.ylabel('RMSE')\n",
    "sns.set()\n",
    "sns.scatterplot(factores, rmse_test)"
   ]
  },
  {
   "cell_type": "code",
   "execution_count": 156,
   "id": "a9387e6d-7591-4a7d-be18-0f59908dd244",
   "metadata": {},
   "outputs": [
    {
     "name": "stdout",
     "output_type": "stream",
     "text": [
      "RMSE con 1 factor nan\n"
     ]
    }
   ],
   "source": [
    "print('RMSE con 1 factor', rmse_test[0])"
   ]
  },
  {
   "cell_type": "markdown",
   "id": "b1cde8d3-d193-4f5f-a83e-9e880eda4659",
   "metadata": {},
   "source": [
    "##### Luego de llevar adelante los estudios con gráficos, y estudiados los valores devueltos, se pudo realizar el EDA correspondiente. De manera tal que nos hicimos las preguntas pertinentes, ejecutando así índice de similaridad coseno para la matriz llegando a la conclusión, en base a procesamiento de lenguaje natural, que existen similitudes entre los juegos. Después de obtener esta información, creé una funcion que prediga (tomando como punto de partida el usuario, sus gustos y preferencias y lo ya jugado previamente) 5 juegos. Se generó también una evaluación del puntaje de cada juego, en función de las horas jugadas y la calificación del dicho usuario."
   ]
  },
  {
   "cell_type": "markdown",
   "id": "7f49f23a-a485-450b-82e0-2c59ca615508",
   "metadata": {
    "tags": []
   },
   "source": [
    "## Preguntas Extra\n",
    "### Para pensar, investigar y, opcionalmente, implementar"
   ]
  },
  {
   "cell_type": "markdown",
   "id": "db77ef9b-1a9f-44b7-ab1f-819bd3ec6040",
   "metadata": {},
   "source": [
    "##### Posibles dudas y/o inquietudes que se tiene sobre el dataset, y creo (en mi caso particular) factible responder.\n",
    "\n",
    "##### ¿Cuál es el momento ideal para realizar los lanzamientos de los productos? A su vez también, ¿Cuándo es el momento óptimo para ofrecer promociones? Por ejemplo; Teniéndose siempre en cuenta, los momentos que se incrementa considerablemente la cantidad de horas jugadas para poder obtener así, un incremento en los ingresos.\n",
    "##### ¿Cuántos videojuegos se publican aproximadamente por año? \n",
    "##### ¿En qué momento se encuentra el mayor tiempo de juego llevado a cabo por los usuarios?\n"
   ]
  },
  {
   "cell_type": "markdown",
   "id": "0baebf3a-e64a-4604-8e2a-ef22de4302b2",
   "metadata": {},
   "source": [
    "###### Hacemos un relevamiento de horas faltantes. Las cuales representan el 0.37 del total de datos del dataframe, entonces con estimar el promedio de cada usuario podría ser una opción efectiva para poder imputarles a los mismos, dichas horas. Haciéndonos así las horas de todos los usuarios."
   ]
  },
  {
   "cell_type": "code",
   "execution_count": 157,
   "id": "a929b838-a1ab-42d5-a7f7-bc40988b720b",
   "metadata": {},
   "outputs": [],
   "source": [
    "ordinalCategories = OrdinalEncoder(dtype=int).fit_transform(data_reviews[['username', 'product_id']])\n",
    "X = np.c_[ordinalCategories, data_reviews.hours]\n",
    "                                                            \n",
    "data_imputed = IterativeImputer(random_state=42).fit_transform(X)"
   ]
  },
  {
   "cell_type": "code",
   "execution_count": 158,
   "id": "88af8403-d7da-4ca8-a85b-9ab4549abb26",
   "metadata": {},
   "outputs": [],
   "source": [
    "# Se cambian valores imputados en la serie\n",
    "data_reviews.hours = data_imputed[:,2]"
   ]
  },
  {
   "cell_type": "markdown",
   "id": "73a0b7f6-43c0-4bed-859f-53bd7a0fc0f2",
   "metadata": {},
   "source": [
    "###### Fecha de lanzamiento"
   ]
  },
  {
   "cell_type": "code",
   "execution_count": 162,
   "id": "c9d6c86d-dd31-442e-b27f-3c4cb6f57e9c",
   "metadata": {
    "tags": []
   },
   "outputs": [],
   "source": [
    "# Procedemos con la transformacion de algunos valores del dataset, a los valores correspondientes.\n",
    "\n",
    "# Por ejemplo 'release_date' además de ser tipo *datetime* y de tener valores faltantes, posee\n",
    "# valores categóricos, los cuales convertiremos a *datetime* sin inconvenientes alguno\n",
    "# ya que varios comparten características y comportamientos."
   ]
  },
  {
   "cell_type": "code",
   "execution_count": 163,
   "id": "89a6516e-51f8-45c5-a976-3f3e615946a6",
   "metadata": {},
   "outputs": [
    {
     "data": {
      "text/plain": [
       "2017-10-31    47\n",
       "2017-12-01    44\n",
       "2017-09-01    42\n",
       "2017-09-15    40\n",
       "2017-12-15    40\n",
       "              ..\n",
       "2011-01-12     1\n",
       "1996-05-31     1\n",
       "1993-03-26     1\n",
       "2011-08-17     1\n",
       "2008-05-16     1\n",
       "Name: release_date, Length: 3136, dtype: int64"
      ]
     },
     "execution_count": 163,
     "metadata": {},
     "output_type": "execute_result"
    }
   ],
   "source": [
    "data_games.release_date.value_counts()"
   ]
  },
  {
   "cell_type": "code",
   "execution_count": 164,
   "id": "24937cbc-f63f-4a2e-a793-669ca9f25680",
   "metadata": {},
   "outputs": [],
   "source": [
    "# En esta celda vamos a obtener aquellos valores no correspondientes a fechas\n",
    "# de manera tal nos quede libre la exploracion de valores categóricos\n",
    "\n",
    "def isDateValid(x): \n",
    "    try:\n",
    "        return datetime.datetime.strptime(x, '%Y-%m-%d')        \n",
    "    except:\n",
    "        return False\n"
   ]
  },
  {
   "cell_type": "code",
   "execution_count": 165,
   "id": "c19b7393-7508-4f10-8d20-5df3a4c61fb3",
   "metadata": {},
   "outputs": [
    {
     "data": {
      "text/plain": [
       "0                Feb 2011\n",
       "1                Jul 2010\n",
       "2                Jun 2009\n",
       "3                Jan 2010\n",
       "4                Jun 2009\n",
       "              ...        \n",
       "231                  Soon\n",
       "232                Soon..\n",
       "233          January 2018\n",
       "234    Please wait warmly\n",
       "235               H2 2018\n",
       "Name: release_date, Length: 236, dtype: object"
      ]
     },
     "execution_count": 165,
     "metadata": {},
     "output_type": "execute_result"
    }
   ],
   "source": [
    "invalid_date_games = data_games.query('release_date.notna()', engine='python')\n",
    "invalid_date_games = pd.DataFrame([i for i in invalid_date_games.itertuples() \n",
    "                                   if not isDateValid(i.release_date)])\n",
    "invalid_date_games.release_date"
   ]
  },
  {
   "cell_type": "markdown",
   "id": "3cf550c7-aa03-4f1d-8e01-5776b74f9804",
   "metadata": {},
   "source": [
    "##### De lo devuelto en la celda anterior, los datos que no se vean \"completo\" o se encuentren abreviados, se los puede modificar gracias a una librería incluída en Python..."
   ]
  },
  {
   "cell_type": "code",
   "execution_count": 166,
   "id": "27fcbc52-8ee9-4f9a-a125-f85b215dc2dc",
   "metadata": {},
   "outputs": [],
   "source": [
    "def get_month(month):\n",
    "    if len(month) > 3:\n",
    "        return strptime(month, '%B').tm_mon\n",
    "    else:\n",
    "        return strptime(month, '%b').tm_mon"
   ]
  },
  {
   "cell_type": "code",
   "execution_count": 167,
   "id": "51d4288d-93ec-490a-9601-37a5d80a8745",
   "metadata": {},
   "outputs": [
    {
     "name": "stdout",
     "output_type": "stream",
     "text": [
      "Noviembre: 11\n",
      "Noviembre: 11\n",
      "Abril: 4\n",
      "Abril: 4\n"
     ]
    }
   ],
   "source": [
    "# Probamos dicha librería citada previamente\n",
    "\n",
    "print('Noviembre:', get_month('Nov'))\n",
    "print('Noviembre:', get_month('November'))\n",
    "print('Abril:', get_month('Apr'))\n",
    "print('Abril:', get_month('April'))"
   ]
  },
  {
   "cell_type": "markdown",
   "id": "a979346b-14dc-4da0-9929-6dfada1403be",
   "metadata": {},
   "source": [
    "###### Como bien se vé, toma una variable categórica y la convierte a datetime. De no corresponder, es decir si no es aplicable el patrón, simplemente devuelve un valor faltante"
   ]
  },
  {
   "cell_type": "code",
   "execution_count": 168,
   "id": "18d9a9d1-2ea2-4e07-afbc-3a1893334f7a",
   "metadata": {},
   "outputs": [],
   "source": [
    "def get_date(date_sring):\n",
    "    try:\n",
    "        # El país con el cual trabajamos en este modelos es Estados Unidos.\n",
    "        \n",
    "        # Y se encuentra conformado por: nombre de temporada + mes en el que inicia\n",
    "        SEASONS = {'Winter': 12, 'Summer': 7, 'Fall': 10, 'Spring': 4}\n",
    "        sep = date_sring.split()\n",
    "        # Primero verifica si es una temporada\n",
    "        if sep[0] in SEASONS.keys():\n",
    "            return datetime.datetime(year=int(sep[1]), month=SEASONS.get(sep[0]), day=1).date()\n",
    "\n",
    "        # De lo contrario, mediante la función anterior obtiene el número del mes a partir del nombre.\n",
    "        return datetime.datetime(year=int(sep[1]), month=get_month(sep[0]), day=1).date()\n",
    "    except:\n",
    "        # Y si no se cumplen ninguno de los dos casos devuelve falor faltante\n",
    "        return np.nan"
   ]
  },
  {
   "cell_type": "code",
   "execution_count": 169,
   "id": "d23fb5dc-2714-4b0a-8738-5b135fe7fb76",
   "metadata": {},
   "outputs": [
    {
     "name": "stdout",
     "output_type": "stream",
     "text": [
      "Noviembre 2020-11-01\n",
      "Noviembre 2020-11-01\n",
      "Verano 2020-07-01\n",
      "Winter 2020-12-01\n"
     ]
    }
   ],
   "source": [
    "print('Noviembre', get_date('Nov 2020'))\n",
    "print('Noviembre', get_date('November 2020'))\n",
    "print('Verano', get_date('Summer 2020'))\n",
    "print('Winter', get_date('Winter 2020'))"
   ]
  },
  {
   "cell_type": "markdown",
   "id": "8c8e2013-5ce2-496d-9bb0-004aa4c86b5f",
   "metadata": {},
   "source": [
    "##### Modificación de fechas categóricas"
   ]
  },
  {
   "cell_type": "code",
   "execution_count": 170,
   "id": "28c6fd8f-79dd-4bf2-8abf-5f4cef2eb490",
   "metadata": {},
   "outputs": [
    {
     "data": {
      "text/plain": [
       "0      2011-02-01\n",
       "1      2010-07-01\n",
       "2      2009-06-01\n",
       "3      2010-01-01\n",
       "4      2009-06-01\n",
       "          ...    \n",
       "231           nan\n",
       "232           nan\n",
       "233    2018-01-01\n",
       "234           nan\n",
       "235           nan\n",
       "Name: release_date, Length: 236, dtype: object"
      ]
     },
     "execution_count": 170,
     "metadata": {},
     "output_type": "execute_result"
    }
   ],
   "source": [
    "invalid_date_games.release_date = invalid_date_games.release_date.apply(lambda x: f'{get_date(x)}')\n",
    "invalid_date_games.release_date"
   ]
  },
  {
   "cell_type": "code",
   "execution_count": 171,
   "id": "a9795ed6-d5b8-48a6-950e-e2bc67382063",
   "metadata": {},
   "outputs": [],
   "source": [
    "# Se efectuan los cambios sobre el dataset original\n",
    "invalid_idx = invalid_date_games.Index.values\n",
    "data_games.loc[invalid_idx,\n",
    "               'release_date'] = invalid_date_games.release_date.values"
   ]
  },
  {
   "cell_type": "code",
   "execution_count": 173,
   "id": "9a9d9e25-4edf-451e-8aba-d89aca7322b0",
   "metadata": {},
   "outputs": [
    {
     "data": {
      "text/html": [
       "<div>\n",
       "<style scoped>\n",
       "    .dataframe tbody tr th:only-of-type {\n",
       "        vertical-align: middle;\n",
       "    }\n",
       "\n",
       "    .dataframe tbody tr th {\n",
       "        vertical-align: top;\n",
       "    }\n",
       "\n",
       "    .dataframe thead th {\n",
       "        text-align: right;\n",
       "    }\n",
       "</style>\n",
       "<table border=\"1\" class=\"dataframe\">\n",
       "  <thead>\n",
       "    <tr style=\"text-align: right;\">\n",
       "      <th></th>\n",
       "      <th>genres</th>\n",
       "      <th>app_name</th>\n",
       "      <th>release_date</th>\n",
       "      <th>id</th>\n",
       "      <th>publisher</th>\n",
       "      <th>url</th>\n",
       "      <th>categories</th>\n",
       "      <th>category_price</th>\n",
       "    </tr>\n",
       "  </thead>\n",
       "  <tbody>\n",
       "    <tr>\n",
       "      <th>520</th>\n",
       "      <td>[Racing]</td>\n",
       "      <td>Test Drive Unlimited 2</td>\n",
       "      <td>2011-02-01</td>\n",
       "      <td>9930</td>\n",
       "      <td>Atari</td>\n",
       "      <td>http://store.steampowered.com/app/9930/Test_Dr...</td>\n",
       "      <td>['action', 'adventure', 'arcade', 'atmospheric...</td>\n",
       "      <td>paid</td>\n",
       "    </tr>\n",
       "    <tr>\n",
       "      <th>17404</th>\n",
       "      <td>[Action]</td>\n",
       "      <td>Aliens vs Predator™ Bughunt Map Pack</td>\n",
       "      <td>2010-07-01</td>\n",
       "      <td>10697</td>\n",
       "      <td>SEGA</td>\n",
       "      <td>http://store.steampowered.com/app/10697/Aliens...</td>\n",
       "      <td>['action', 'coop', 'downloadable content', 'mu...</td>\n",
       "      <td>paid</td>\n",
       "    </tr>\n",
       "    <tr>\n",
       "      <th>17604</th>\n",
       "      <td>[Sports, Action]</td>\n",
       "      <td>Smashball</td>\n",
       "      <td>2009-06-01</td>\n",
       "      <td>17730</td>\n",
       "      <td>Smashball Labs LLC</td>\n",
       "      <td>http://store.steampowered.com/app/17730/Smashb...</td>\n",
       "      <td>['action', 'fps', 'free to play', 'mod', 'mods...</td>\n",
       "      <td>free</td>\n",
       "    </tr>\n",
       "    <tr>\n",
       "      <th>17467</th>\n",
       "      <td>[Strategy, Simulation]</td>\n",
       "      <td>Grand Ages: Rome - Reign of Augustus</td>\n",
       "      <td>2010-01-01</td>\n",
       "      <td>23455</td>\n",
       "      <td>Kalypso Media Digital</td>\n",
       "      <td>http://store.steampowered.com/app/23455/Grand_...</td>\n",
       "      <td>['city builder', 'historical', 'multiplayer', ...</td>\n",
       "      <td>paid</td>\n",
       "    </tr>\n",
       "    <tr>\n",
       "      <th>227</th>\n",
       "      <td>[Adventure, Indie]</td>\n",
       "      <td>Blueberry Garden</td>\n",
       "      <td>2009-06-01</td>\n",
       "      <td>29160</td>\n",
       "      <td>Erik Svedäng</td>\n",
       "      <td>http://store.steampowered.com/app/29160/Bluebe...</td>\n",
       "      <td>['adventure', 'indie', 'puzzle', 'short', 'sin...</td>\n",
       "      <td>paid</td>\n",
       "    </tr>\n",
       "  </tbody>\n",
       "</table>\n",
       "</div>"
      ],
      "text/plain": [
       "                       genres                              app_name  \\\n",
       "520                  [Racing]                Test Drive Unlimited 2   \n",
       "17404                [Action]  Aliens vs Predator™ Bughunt Map Pack   \n",
       "17604        [Sports, Action]                             Smashball   \n",
       "17467  [Strategy, Simulation]  Grand Ages: Rome - Reign of Augustus   \n",
       "227        [Adventure, Indie]                      Blueberry Garden   \n",
       "\n",
       "      release_date     id              publisher  \\\n",
       "520     2011-02-01   9930                  Atari   \n",
       "17404   2010-07-01  10697                   SEGA   \n",
       "17604   2009-06-01  17730     Smashball Labs LLC   \n",
       "17467   2010-01-01  23455  Kalypso Media Digital   \n",
       "227     2009-06-01  29160           Erik Svedäng   \n",
       "\n",
       "                                                     url  \\\n",
       "520    http://store.steampowered.com/app/9930/Test_Dr...   \n",
       "17404  http://store.steampowered.com/app/10697/Aliens...   \n",
       "17604  http://store.steampowered.com/app/17730/Smashb...   \n",
       "17467  http://store.steampowered.com/app/23455/Grand_...   \n",
       "227    http://store.steampowered.com/app/29160/Bluebe...   \n",
       "\n",
       "                                              categories category_price  \n",
       "520    ['action', 'adventure', 'arcade', 'atmospheric...           paid  \n",
       "17404  ['action', 'coop', 'downloadable content', 'mu...           paid  \n",
       "17604  ['action', 'fps', 'free to play', 'mod', 'mods...           free  \n",
       "17467  ['city builder', 'historical', 'multiplayer', ...           paid  \n",
       "227    ['adventure', 'indie', 'puzzle', 'short', 'sin...           paid  "
      ]
     },
     "execution_count": 173,
     "metadata": {},
     "output_type": "execute_result"
    }
   ],
   "source": [
    "\n",
    "# Graficamos y corroboramos los cambios \n",
    "\n",
    "data_games.loc[invalid_idx].head()\n"
   ]
  },
  {
   "cell_type": "markdown",
   "id": "20f0a088-8600-4305-9e10-f1b8d27f002b",
   "metadata": {},
   "source": [
    "##### Ahora podemos proceder con el análisis exploratorio (con series de tiempo) al tener el dataset modificado."
   ]
  },
  {
   "cell_type": "code",
   "execution_count": 174,
   "id": "b6f8291a-2a57-4936-99d4-0aeb4110cc09",
   "metadata": {},
   "outputs": [
    {
     "data": {
      "text/plain": [
       "genres               0\n",
       "app_name             1\n",
       "release_date      1614\n",
       "id                   0\n",
       "publisher         2915\n",
       "url                  0\n",
       "categories           0\n",
       "category_price       0\n",
       "dtype: int64"
      ]
     },
     "execution_count": 174,
     "metadata": {},
     "output_type": "execute_result"
    }
   ],
   "source": [
    "data_games.isna().sum()"
   ]
  },
  {
   "cell_type": "code",
   "execution_count": 175,
   "id": "c5d6e7c8-6749-4099-b091-40f311f16e3b",
   "metadata": {},
   "outputs": [
    {
     "data": {
      "text/plain": [
       "genres            object\n",
       "app_name          object\n",
       "release_date      object\n",
       "id                 Int64\n",
       "publisher         object\n",
       "url               object\n",
       "categories        object\n",
       "category_price    object\n",
       "dtype: object"
      ]
     },
     "execution_count": 175,
     "metadata": {},
     "output_type": "execute_result"
    }
   ],
   "source": [
    "data_games.dtypes"
   ]
  },
  {
   "cell_type": "code",
   "execution_count": 176,
   "id": "0d762b49-94fa-411c-938b-9aaeff6b64c0",
   "metadata": {},
   "outputs": [],
   "source": [
    "data_games['release_date'] = pd.to_datetime(data_games['release_date'], errors ='coerce')"
   ]
  },
  {
   "cell_type": "code",
   "execution_count": 177,
   "id": "15c001a6-2927-4205-9c7d-c545bdc9a117",
   "metadata": {},
   "outputs": [
    {
     "data": {
      "text/plain": [
       "genres                    object\n",
       "app_name                  object\n",
       "release_date      datetime64[ns]\n",
       "id                         Int64\n",
       "publisher                 object\n",
       "url                       object\n",
       "categories                object\n",
       "category_price            object\n",
       "dtype: object"
      ]
     },
     "execution_count": 177,
     "metadata": {},
     "output_type": "execute_result"
    }
   ],
   "source": [
    "data_games.dtypes"
   ]
  },
  {
   "cell_type": "code",
   "execution_count": 178,
   "id": "9acf7275-ce9f-46ea-9cbb-5116d79eed69",
   "metadata": {},
   "outputs": [],
   "source": [
    "# Agregamos nueva columna con el nombre del mes.\n",
    "\n",
    "games = data_games.assign(\n",
    "    month_name=data_games.release_date.dt.month_name(),\n",
    "    year=data_games.release_date.dt.year)"
   ]
  },
  {
   "cell_type": "code",
   "execution_count": 179,
   "id": "53de97b0-8696-4c1f-a639-b40a779034c8",
   "metadata": {},
   "outputs": [],
   "source": [
    "\n",
    "# Frecuencia de cada mes\n",
    "games_month = games.month_name.value_counts()\n",
    "\n",
    "# Pasando value_counts al df\n",
    "games_month = pd.DataFrame(\n",
    "    {'month_name': games_month.index, 'amount': games_month.values})\n",
    "\n",
    "# Se crea el número del mes.\n",
    "games_month['n_month'] = pd.to_datetime(\n",
    "    games_month.month_name, format='%B', errors='coerce').dt.month\n",
    "\n",
    "# Y en este asiento, se lo ordena.\n",
    "games_month.sort_values(by='n_month', inplace=True)"
   ]
  },
  {
   "cell_type": "code",
   "execution_count": 180,
   "id": "c04bb737-0019-468d-9d18-6934e11cc1ad",
   "metadata": {},
   "outputs": [
    {
     "data": {
      "image/svg+xml": [
       "<svg xmlns=\"http://www.w3.org/2000/svg\" xmlns:xlink=\"http://www.w3.org/1999/xlink\" class=\"main-svg\" width=\"900\" height=\"500\" style=\"\" viewBox=\"0 0 900 500\"><rect x=\"0\" y=\"0\" width=\"900\" height=\"500\" style=\"fill: rgb(250, 250, 250); fill-opacity: 1;\"/><defs id=\"defs-196e1b\"><g class=\"clips\"><clipPath id=\"clip196e1bxyplot\" class=\"plotclip\"><rect width=\"740\" height=\"313\"/></clipPath><clipPath class=\"axesclip\" id=\"clip196e1bx\"><rect x=\"80\" y=\"0\" width=\"740\" height=\"500\"/></clipPath><clipPath class=\"axesclip\" id=\"clip196e1by\"><rect x=\"0\" y=\"100\" width=\"900\" height=\"313\"/></clipPath><clipPath class=\"axesclip\" id=\"clip196e1bxy\"><rect x=\"80\" y=\"100\" width=\"740\" height=\"313\"/></clipPath></g><g class=\"gradients\"/><g class=\"patterns\"/></defs><g class=\"bglayer\"><rect class=\"bg\" x=\"80\" y=\"100\" width=\"740\" height=\"313\" style=\"fill: rgb(229, 236, 246); fill-opacity: 1; stroke-width: 0;\"/></g><g class=\"layer-below\"><g class=\"imagelayer\"/><g class=\"shapelayer\"/></g><g class=\"cartesianlayer\"><g class=\"subplot xy\"><g class=\"layer-subplot\"><g class=\"shapelayer\"/><g class=\"imagelayer\"/></g><g class=\"gridlayer\"><g class=\"x\"><path class=\"xgrid crisp\" transform=\"translate(125.13,0)\" d=\"M0,100v313\" style=\"stroke: rgb(255, 255, 255); stroke-opacity: 1; stroke-width: 1px;\"/><path class=\"xgrid crisp\" transform=\"translate(184.19,0)\" d=\"M0,100v313\" style=\"stroke: rgb(255, 255, 255); stroke-opacity: 1; stroke-width: 1px;\"/><path class=\"xgrid crisp\" transform=\"translate(243.26,0)\" d=\"M0,100v313\" style=\"stroke: rgb(255, 255, 255); stroke-opacity: 1; stroke-width: 1px;\"/><path class=\"xgrid crisp\" transform=\"translate(302.33000000000004,0)\" d=\"M0,100v313\" style=\"stroke: rgb(255, 255, 255); stroke-opacity: 1; stroke-width: 1px;\"/><path class=\"xgrid crisp\" transform=\"translate(361.4,0)\" d=\"M0,100v313\" style=\"stroke: rgb(255, 255, 255); stroke-opacity: 1; stroke-width: 1px;\"/><path class=\"xgrid crisp\" transform=\"translate(420.47,0)\" d=\"M0,100v313\" style=\"stroke: rgb(255, 255, 255); stroke-opacity: 1; stroke-width: 1px;\"/><path class=\"xgrid crisp\" transform=\"translate(479.53,0)\" d=\"M0,100v313\" style=\"stroke: rgb(255, 255, 255); stroke-opacity: 1; stroke-width: 1px;\"/><path class=\"xgrid crisp\" transform=\"translate(538.6,0)\" d=\"M0,100v313\" style=\"stroke: rgb(255, 255, 255); stroke-opacity: 1; stroke-width: 1px;\"/><path class=\"xgrid crisp\" transform=\"translate(597.67,0)\" d=\"M0,100v313\" style=\"stroke: rgb(255, 255, 255); stroke-opacity: 1; stroke-width: 1px;\"/><path class=\"xgrid crisp\" transform=\"translate(656.74,0)\" d=\"M0,100v313\" style=\"stroke: rgb(255, 255, 255); stroke-opacity: 1; stroke-width: 1px;\"/><path class=\"xgrid crisp\" transform=\"translate(715.81,0)\" d=\"M0,100v313\" style=\"stroke: rgb(255, 255, 255); stroke-opacity: 1; stroke-width: 1px;\"/><path class=\"xgrid crisp\" transform=\"translate(774.88,0)\" d=\"M0,100v313\" style=\"stroke: rgb(255, 255, 255); stroke-opacity: 1; stroke-width: 1px;\"/></g><g class=\"y\"><path class=\"ygrid crisp\" transform=\"translate(0,396.87)\" d=\"M80,0h740\" style=\"stroke: rgb(255, 255, 255); stroke-opacity: 1; stroke-width: 1px;\"/><path class=\"ygrid crisp\" transform=\"translate(0,360.46)\" d=\"M80,0h740\" style=\"stroke: rgb(255, 255, 255); stroke-opacity: 1; stroke-width: 1px;\"/><path class=\"ygrid crisp\" transform=\"translate(0,324.05)\" d=\"M80,0h740\" style=\"stroke: rgb(255, 255, 255); stroke-opacity: 1; stroke-width: 1px;\"/><path class=\"ygrid crisp\" transform=\"translate(0,287.63)\" d=\"M80,0h740\" style=\"stroke: rgb(255, 255, 255); stroke-opacity: 1; stroke-width: 1px;\"/><path class=\"ygrid crisp\" transform=\"translate(0,251.22)\" d=\"M80,0h740\" style=\"stroke: rgb(255, 255, 255); stroke-opacity: 1; stroke-width: 1px;\"/><path class=\"ygrid crisp\" transform=\"translate(0,214.81)\" d=\"M80,0h740\" style=\"stroke: rgb(255, 255, 255); stroke-opacity: 1; stroke-width: 1px;\"/><path class=\"ygrid crisp\" transform=\"translate(0,178.39)\" d=\"M80,0h740\" style=\"stroke: rgb(255, 255, 255); stroke-opacity: 1; stroke-width: 1px;\"/><path class=\"ygrid crisp\" transform=\"translate(0,141.98)\" d=\"M80,0h740\" style=\"stroke: rgb(255, 255, 255); stroke-opacity: 1; stroke-width: 1px;\"/><path class=\"ygrid crisp\" transform=\"translate(0,105.57)\" d=\"M80,0h740\" style=\"stroke: rgb(255, 255, 255); stroke-opacity: 1; stroke-width: 1px;\"/></g></g><g class=\"zerolinelayer\"/><path class=\"xlines-below\"/><path class=\"ylines-below\"/><g class=\"overlines-below\"/><g class=\"xaxislayer-below\"/><g class=\"yaxislayer-below\"/><g class=\"overaxes-below\"/><g class=\"plot\" transform=\"translate(80,100)\" clip-path=\"url(#clip196e1bxyplot)\"><g class=\"scatterlayer mlayer\"><g class=\"trace scatter trace9148a9\" style=\"stroke-miterlimit: 2; opacity: 1;\"><g class=\"fills\"/><g class=\"errorbars\"/><g class=\"lines\"><path class=\"js-line\" d=\"M45.13,289.22L104.19,283.4L163.26,225.87L222.33,240.43L281.4,214.94L340.47,232.42L399.53,155.95L458.6,101.33L517.67,58L576.74,23.77L635.81,86.41L694.88,102.06\" style=\"vector-effect: non-scaling-stroke; fill: none; stroke: rgb(99, 110, 250); stroke-opacity: 1; stroke-width: 2px; opacity: 1;\"/></g><g class=\"points\"><path class=\"point\" transform=\"translate(45.13,289.22)\" d=\"M6.5,0A6.5,6.5 0 1,1 0,-6.5A6.5,6.5 0 0,1 6.5,0Z\" style=\"opacity: 0.7; stroke-width: 0px; fill: rgb(99, 110, 250); fill-opacity: 1;\"/><path class=\"point\" transform=\"translate(104.19,283.4)\" d=\"M6.5,0A6.5,6.5 0 1,1 0,-6.5A6.5,6.5 0 0,1 6.5,0Z\" style=\"opacity: 0.7; stroke-width: 0px; fill: rgb(99, 110, 250); fill-opacity: 1;\"/><path class=\"point\" transform=\"translate(163.26,225.87)\" d=\"M6.5,0A6.5,6.5 0 1,1 0,-6.5A6.5,6.5 0 0,1 6.5,0Z\" style=\"opacity: 0.7; stroke-width: 0px; fill: rgb(99, 110, 250); fill-opacity: 1;\"/><path class=\"point\" transform=\"translate(222.33,240.43)\" d=\"M6.5,0A6.5,6.5 0 1,1 0,-6.5A6.5,6.5 0 0,1 6.5,0Z\" style=\"opacity: 0.7; stroke-width: 0px; fill: rgb(99, 110, 250); fill-opacity: 1;\"/><path class=\"point\" transform=\"translate(281.4,214.94)\" d=\"M6.5,0A6.5,6.5 0 1,1 0,-6.5A6.5,6.5 0 0,1 6.5,0Z\" style=\"opacity: 0.7; stroke-width: 0px; fill: rgb(99, 110, 250); fill-opacity: 1;\"/><path class=\"point\" transform=\"translate(340.47,232.42)\" d=\"M6.5,0A6.5,6.5 0 1,1 0,-6.5A6.5,6.5 0 0,1 6.5,0Z\" style=\"opacity: 0.7; stroke-width: 0px; fill: rgb(99, 110, 250); fill-opacity: 1;\"/><path class=\"point\" transform=\"translate(399.53,155.95)\" d=\"M6.5,0A6.5,6.5 0 1,1 0,-6.5A6.5,6.5 0 0,1 6.5,0Z\" style=\"opacity: 0.7; stroke-width: 0px; fill: rgb(99, 110, 250); fill-opacity: 1;\"/><path class=\"point\" transform=\"translate(458.6,101.33)\" d=\"M6.5,0A6.5,6.5 0 1,1 0,-6.5A6.5,6.5 0 0,1 6.5,0Z\" style=\"opacity: 0.7; stroke-width: 0px; fill: rgb(99, 110, 250); fill-opacity: 1;\"/><path class=\"point\" transform=\"translate(517.67,58)\" d=\"M6.5,0A6.5,6.5 0 1,1 0,-6.5A6.5,6.5 0 0,1 6.5,0Z\" style=\"opacity: 0.7; stroke-width: 0px; fill: rgb(99, 110, 250); fill-opacity: 1;\"/><path class=\"point\" transform=\"translate(576.74,23.77)\" d=\"M6.5,0A6.5,6.5 0 1,1 0,-6.5A6.5,6.5 0 0,1 6.5,0Z\" style=\"opacity: 0.7; stroke-width: 0px; fill: rgb(99, 110, 250); fill-opacity: 1;\"/><path class=\"point\" transform=\"translate(635.81,86.41)\" d=\"M6.5,0A6.5,6.5 0 1,1 0,-6.5A6.5,6.5 0 0,1 6.5,0Z\" style=\"opacity: 0.7; stroke-width: 0px; fill: rgb(99, 110, 250); fill-opacity: 1;\"/><path class=\"point\" transform=\"translate(694.88,102.06)\" d=\"M6.5,0A6.5,6.5 0 1,1 0,-6.5A6.5,6.5 0 0,1 6.5,0Z\" style=\"opacity: 0.7; stroke-width: 0px; fill: rgb(99, 110, 250); fill-opacity: 1;\"/></g><g class=\"text\"/></g></g></g><g class=\"overplot\"/><path class=\"xlines-above crisp\" d=\"M0,0\" style=\"fill: none;\"/><path class=\"ylines-above crisp\" d=\"M0,0\" style=\"fill: none;\"/><g class=\"overlines-above\"/><g class=\"xaxislayer-above\"><g class=\"xtick\"><text text-anchor=\"start\" x=\"0\" y=\"426\" transform=\"translate(125.13,0) rotate(30,0,420)\" style=\"font-family: 'Open Sans', verdana, arial, sans-serif; font-size: 12px; fill: rgb(42, 63, 95); fill-opacity: 1; white-space: pre; opacity: 1;\">January</text></g><g class=\"xtick\"><text text-anchor=\"start\" x=\"0\" y=\"426\" transform=\"translate(184.19,0) rotate(30,0,420)\" style=\"font-family: 'Open Sans', verdana, arial, sans-serif; font-size: 12px; fill: rgb(42, 63, 95); fill-opacity: 1; white-space: pre; opacity: 1;\">February</text></g><g class=\"xtick\"><text text-anchor=\"start\" x=\"0\" y=\"426\" transform=\"translate(243.26,0) rotate(30,0,420)\" style=\"font-family: 'Open Sans', verdana, arial, sans-serif; font-size: 12px; fill: rgb(42, 63, 95); fill-opacity: 1; white-space: pre; opacity: 1;\">March</text></g><g class=\"xtick\"><text text-anchor=\"start\" x=\"0\" y=\"426\" transform=\"translate(302.33000000000004,0) rotate(30,0,420)\" style=\"font-family: 'Open Sans', verdana, arial, sans-serif; font-size: 12px; fill: rgb(42, 63, 95); fill-opacity: 1; white-space: pre; opacity: 1;\">April</text></g><g class=\"xtick\"><text text-anchor=\"start\" x=\"0\" y=\"426\" transform=\"translate(361.4,0) rotate(30,0,420)\" style=\"font-family: 'Open Sans', verdana, arial, sans-serif; font-size: 12px; fill: rgb(42, 63, 95); fill-opacity: 1; white-space: pre; opacity: 1;\">May</text></g><g class=\"xtick\"><text text-anchor=\"start\" x=\"0\" y=\"426\" transform=\"translate(420.47,0) rotate(30,0,420)\" style=\"font-family: 'Open Sans', verdana, arial, sans-serif; font-size: 12px; fill: rgb(42, 63, 95); fill-opacity: 1; white-space: pre; opacity: 1;\">June</text></g><g class=\"xtick\"><text text-anchor=\"start\" x=\"0\" y=\"426\" transform=\"translate(479.53,0) rotate(30,0,420)\" style=\"font-family: 'Open Sans', verdana, arial, sans-serif; font-size: 12px; fill: rgb(42, 63, 95); fill-opacity: 1; white-space: pre; opacity: 1;\">July</text></g><g class=\"xtick\"><text text-anchor=\"start\" x=\"0\" y=\"426\" transform=\"translate(538.6,0) rotate(30,0,420)\" style=\"font-family: 'Open Sans', verdana, arial, sans-serif; font-size: 12px; fill: rgb(42, 63, 95); fill-opacity: 1; white-space: pre; opacity: 1;\">August</text></g><g class=\"xtick\"><text text-anchor=\"start\" x=\"0\" y=\"426\" transform=\"translate(597.67,0) rotate(30,0,420)\" style=\"font-family: 'Open Sans', verdana, arial, sans-serif; font-size: 12px; fill: rgb(42, 63, 95); fill-opacity: 1; white-space: pre; opacity: 1;\">September</text></g><g class=\"xtick\"><text text-anchor=\"start\" x=\"0\" y=\"426\" transform=\"translate(656.74,0) rotate(30,0,420)\" style=\"font-family: 'Open Sans', verdana, arial, sans-serif; font-size: 12px; fill: rgb(42, 63, 95); fill-opacity: 1; white-space: pre; opacity: 1;\">October</text></g><g class=\"xtick\"><text text-anchor=\"start\" x=\"0\" y=\"426\" transform=\"translate(715.81,0) rotate(30,0,420)\" style=\"font-family: 'Open Sans', verdana, arial, sans-serif; font-size: 12px; fill: rgb(42, 63, 95); fill-opacity: 1; white-space: pre; opacity: 1;\">November</text></g><g class=\"xtick\"><text text-anchor=\"start\" x=\"0\" y=\"426\" transform=\"translate(774.88,0) rotate(30,0,420)\" style=\"font-family: 'Open Sans', verdana, arial, sans-serif; font-size: 12px; fill: rgb(42, 63, 95); fill-opacity: 1; white-space: pre; opacity: 1;\">December</text></g></g><g class=\"yaxislayer-above\"><g class=\"ytick\"><text text-anchor=\"end\" x=\"79\" y=\"4.199999999999999\" transform=\"translate(0,396.87)\" style=\"font-family: 'Open Sans', verdana, arial, sans-serif; font-size: 12px; fill: rgb(42, 63, 95); fill-opacity: 1; white-space: pre; opacity: 1;\">1000</text></g><g class=\"ytick\"><text text-anchor=\"end\" x=\"79\" y=\"4.199999999999999\" style=\"font-family: 'Open Sans', verdana, arial, sans-serif; font-size: 12px; fill: rgb(42, 63, 95); fill-opacity: 1; white-space: pre; opacity: 1;\" transform=\"translate(0,360.46)\">1100</text></g><g class=\"ytick\"><text text-anchor=\"end\" x=\"79\" y=\"4.199999999999999\" style=\"font-family: 'Open Sans', verdana, arial, sans-serif; font-size: 12px; fill: rgb(42, 63, 95); fill-opacity: 1; white-space: pre; opacity: 1;\" transform=\"translate(0,324.05)\">1200</text></g><g class=\"ytick\"><text text-anchor=\"end\" x=\"79\" y=\"4.199999999999999\" style=\"font-family: 'Open Sans', verdana, arial, sans-serif; font-size: 12px; fill: rgb(42, 63, 95); fill-opacity: 1; white-space: pre; opacity: 1;\" transform=\"translate(0,287.63)\">1300</text></g><g class=\"ytick\"><text text-anchor=\"end\" x=\"79\" y=\"4.199999999999999\" style=\"font-family: 'Open Sans', verdana, arial, sans-serif; font-size: 12px; fill: rgb(42, 63, 95); fill-opacity: 1; white-space: pre; opacity: 1;\" transform=\"translate(0,251.22)\">1400</text></g><g class=\"ytick\"><text text-anchor=\"end\" x=\"79\" y=\"4.199999999999999\" style=\"font-family: 'Open Sans', verdana, arial, sans-serif; font-size: 12px; fill: rgb(42, 63, 95); fill-opacity: 1; white-space: pre; opacity: 1;\" transform=\"translate(0,214.81)\">1500</text></g><g class=\"ytick\"><text text-anchor=\"end\" x=\"79\" y=\"4.199999999999999\" style=\"font-family: 'Open Sans', verdana, arial, sans-serif; font-size: 12px; fill: rgb(42, 63, 95); fill-opacity: 1; white-space: pre; opacity: 1;\" transform=\"translate(0,178.39)\">1600</text></g><g class=\"ytick\"><text text-anchor=\"end\" x=\"79\" y=\"4.199999999999999\" style=\"font-family: 'Open Sans', verdana, arial, sans-serif; font-size: 12px; fill: rgb(42, 63, 95); fill-opacity: 1; white-space: pre; opacity: 1;\" transform=\"translate(0,141.98)\">1700</text></g><g class=\"ytick\"><text text-anchor=\"end\" x=\"79\" y=\"4.199999999999999\" style=\"font-family: 'Open Sans', verdana, arial, sans-serif; font-size: 12px; fill: rgb(42, 63, 95); fill-opacity: 1; white-space: pre; opacity: 1;\" transform=\"translate(0,105.57)\">1800</text></g></g><g class=\"overaxes-above\"/></g></g><g class=\"polarlayer\"/><g class=\"ternarylayer\"/><g class=\"geolayer\"/><g class=\"funnelarealayer\"/><g class=\"pielayer\"/><g class=\"iciclelayer\"/><g class=\"treemaplayer\"/><g class=\"sunburstlayer\"/><g class=\"glimages\"/><defs id=\"topdefs-196e1b\"><g class=\"clips\"/></defs><g class=\"layer-above\"><g class=\"imagelayer\"/><g class=\"shapelayer\"/></g><g class=\"infolayer\"><g class=\"g-gtitle\"><text class=\"gtitle\" x=\"45\" y=\"50\" text-anchor=\"start\" dy=\"0em\" style=\"font-family: 'Open Sans', verdana, arial, sans-serif; font-size: 17px; fill: rgb(42, 63, 95); opacity: 1; font-weight: normal; white-space: pre;\">Videojuegos / Fechas de lanzamiento</text></g><g class=\"g-xtitle\"><text class=\"xtitle\" x=\"450\" y=\"488.047265625\" text-anchor=\"middle\" style=\"font-family: 'Open Sans', verdana, arial, sans-serif; font-size: 18px; fill: rgb(42, 63, 95); opacity: 1; font-weight: normal; white-space: pre;\">Meses</text></g><g class=\"g-ytitle\"><text class=\"ytitle\" transform=\"rotate(-90,23.684375000000003,256.5)\" x=\"23.684375000000003\" y=\"256.5\" text-anchor=\"middle\" style=\"font-family: 'Open Sans', verdana, arial, sans-serif; font-size: 14px; fill: rgb(42, 63, 95); opacity: 1; font-weight: normal; white-space: pre;\">Videojuegos publicados</text></g></g></svg>"
      ],
      "text/plain": [
       "<IPython.core.display.SVG object>"
      ]
     },
     "metadata": {},
     "output_type": "display_data"
    }
   ],
   "source": [
    "\n",
    "# Se expone, SVG incluído.\n",
    "\n",
    "fig = go.Figure()\n",
    "fig.add_trace(go.Scatter(\n",
    "    x=games_month.month_name,\n",
    "    y=games_month.amount,\n",
    "    marker={'size': 13, 'opacity': .7}\n",
    "))\n",
    "fig.update_layout( \n",
    "    paper_bgcolor='#FAFAFA',\n",
    "    title='Videojuegos / Fechas de lanzamiento',\n",
    "    autosize=False,\n",
    "    height=500,\n",
    "    width=900,\n",
    "    hoverdistance=100,\n",
    "    spikedistance=1000,\n",
    "    xaxis=dict(\n",
    "        title_text='Meses',\n",
    "        titlefont=dict(size=18),\n",
    "        showspikes=True,\n",
    "        spikethickness=2,\n",
    "        spikedash=\"dot\",\n",
    "        spikecolor=\"#999999\",\n",
    "        spikemode=\"across\"),\n",
    "    yaxis=dict(title_text=\"Videojuegos publicados\")\n",
    ")\n",
    "# fig.show()\n",
    "display(SVG(fig.to_image(format='svg')))"
   ]
  },
  {
   "cell_type": "markdown",
   "id": "9f9ad3c8-9ead-4105-8a8c-787bb8a54f8f",
   "metadata": {},
   "source": [
    "##### Período notable en el fin del segundo trimestre, hasta la mitad del último, aproximadamente de medidados de Junio a Octubre (con su máximo pico en este último)"
   ]
  },
  {
   "cell_type": "markdown",
   "id": "d2330370-9fd9-4680-a727-ad781cdeab22",
   "metadata": {},
   "source": [
    "### Publcaciones anuales de Videojuegos "
   ]
  },
  {
   "cell_type": "code",
   "execution_count": 186,
   "id": "5ed29740-c13e-47ff-8872-0e64ca6f391c",
   "metadata": {},
   "outputs": [
    {
     "data": {
      "image/svg+xml": [
       "<svg xmlns=\"http://www.w3.org/2000/svg\" xmlns:xlink=\"http://www.w3.org/1999/xlink\" class=\"main-svg\" width=\"800\" height=\"400\" style=\"\" viewBox=\"0 0 800 400\"><rect x=\"0\" y=\"0\" width=\"800\" height=\"400\" style=\"fill: rgb(250, 250, 250); fill-opacity: 1;\"/><defs id=\"defs-45eafa\"><g class=\"clips\"><clipPath id=\"clip45eafaxyplot\" class=\"plotclip\"><rect width=\"613\" height=\"224\"/></clipPath><clipPath class=\"axesclip\" id=\"clip45eafax\"><rect x=\"80\" y=\"0\" width=\"613\" height=\"400\"/></clipPath><clipPath class=\"axesclip\" id=\"clip45eafay\"><rect x=\"0\" y=\"50\" width=\"800\" height=\"224\"/></clipPath><clipPath class=\"axesclip\" id=\"clip45eafaxy\"><rect x=\"80\" y=\"50\" width=\"613\" height=\"224\"/></clipPath></g><g class=\"gradients\"><linearGradient x1=\"0\" x2=\"0\" y1=\"1\" y2=\"0\" id=\"g45eafa-cbcoloraxis\"><stop offset=\"0%\" stop-color=\"rgb(94, 79, 162)\" stop-opacity=\"1\"/><stop offset=\"10%\" stop-color=\"rgb(50, 136, 189)\" stop-opacity=\"1\"/><stop offset=\"20%\" stop-color=\"rgb(102, 194, 165)\" stop-opacity=\"1\"/><stop offset=\"30%\" stop-color=\"rgb(171, 221, 164)\" stop-opacity=\"1\"/><stop offset=\"40%\" stop-color=\"rgb(230, 245, 152)\" stop-opacity=\"1\"/><stop offset=\"50%\" stop-color=\"rgb(255, 255, 191)\" stop-opacity=\"1\"/><stop offset=\"60%\" stop-color=\"rgb(254, 224, 139)\" stop-opacity=\"1\"/><stop offset=\"70%\" stop-color=\"rgb(253, 174, 97)\" stop-opacity=\"1\"/><stop offset=\"80%\" stop-color=\"rgb(244, 109, 67)\" stop-opacity=\"1\"/><stop offset=\"90%\" stop-color=\"rgb(213, 62, 79)\" stop-opacity=\"1\"/><stop offset=\"100%\" stop-color=\"rgb(158, 1, 66)\" stop-opacity=\"1\"/></linearGradient></g><g class=\"patterns\"/></defs><g class=\"bglayer\"><rect class=\"bg\" x=\"80\" y=\"50\" width=\"613\" height=\"224\" style=\"fill: rgb(229, 236, 246); fill-opacity: 1; stroke-width: 0;\"/></g><g class=\"layer-below\"><g class=\"imagelayer\"/><g class=\"shapelayer\"/></g><g class=\"cartesianlayer\"><g class=\"subplot xy\"><g class=\"layer-subplot\"><g class=\"shapelayer\"/><g class=\"imagelayer\"/></g><g class=\"gridlayer\"><g class=\"x\"/><g class=\"y\"><path class=\"ygrid crisp\" transform=\"translate(0,262.8)\" d=\"M80,0h613\" style=\"stroke: rgb(255, 255, 255); stroke-opacity: 1; stroke-width: 1px;\"/><path class=\"ygrid crisp\" transform=\"translate(0,246.52)\" d=\"M80,0h613\" style=\"stroke: rgb(255, 255, 255); stroke-opacity: 1; stroke-width: 1px;\"/><path class=\"ygrid crisp\" transform=\"translate(0,225)\" d=\"M80,0h613\" style=\"stroke: rgb(255, 255, 255); stroke-opacity: 1; stroke-width: 1px;\"/><path class=\"ygrid crisp\" transform=\"translate(0,208.72)\" d=\"M80,0h613\" style=\"stroke: rgb(255, 255, 255); stroke-opacity: 1; stroke-width: 1px;\"/><path class=\"ygrid crisp\" transform=\"translate(0,192.44)\" d=\"M80,0h613\" style=\"stroke: rgb(255, 255, 255); stroke-opacity: 1; stroke-width: 1px;\"/><path class=\"ygrid crisp\" transform=\"translate(0,170.92000000000002)\" d=\"M80,0h613\" style=\"stroke: rgb(255, 255, 255); stroke-opacity: 1; stroke-width: 1px;\"/><path class=\"ygrid crisp\" transform=\"translate(0,154.64)\" d=\"M80,0h613\" style=\"stroke: rgb(255, 255, 255); stroke-opacity: 1; stroke-width: 1px;\"/><path class=\"ygrid crisp\" transform=\"translate(0,138.36)\" d=\"M80,0h613\" style=\"stroke: rgb(255, 255, 255); stroke-opacity: 1; stroke-width: 1px;\"/><path class=\"ygrid crisp\" transform=\"translate(0,116.84)\" d=\"M80,0h613\" style=\"stroke: rgb(255, 255, 255); stroke-opacity: 1; stroke-width: 1px;\"/><path class=\"ygrid crisp\" transform=\"translate(0,100.56)\" d=\"M80,0h613\" style=\"stroke: rgb(255, 255, 255); stroke-opacity: 1; stroke-width: 1px;\"/><path class=\"ygrid crisp\" transform=\"translate(0,84.28)\" d=\"M80,0h613\" style=\"stroke: rgb(255, 255, 255); stroke-opacity: 1; stroke-width: 1px;\"/><path class=\"ygrid crisp\" transform=\"translate(0,62.75)\" d=\"M80,0h613\" style=\"stroke: rgb(255, 255, 255); stroke-opacity: 1; stroke-width: 1px;\"/></g></g><g class=\"zerolinelayer\"/><path class=\"xlines-below\"/><path class=\"ylines-below\"/><g class=\"overlines-below\"/><g class=\"xaxislayer-below\"/><g class=\"yaxislayer-below\"/><g class=\"overaxes-below\"/><g class=\"plot\" transform=\"translate(80,50)\" clip-path=\"url(#clip45eafaxyplot)\"><g class=\"barlayer mlayer\"><g class=\"trace bars\" style=\"opacity: 1;\"><g class=\"points\"><g class=\"point\"><path d=\"M564.95,2352V11.2H578.21V2352Z\" style=\"vector-effect: non-scaling-stroke; opacity: 1; stroke-width: 0.5px; fill: rgb(158, 1, 66); fill-opacity: 1; stroke: rgb(229, 236, 246); stroke-opacity: 1;\"/></g><g class=\"point\"><path d=\"M548.39,2352V19.74H561.64V2352Z\" style=\"vector-effect: non-scaling-stroke; opacity: 1; stroke-width: 0.5px; fill: rgb(253, 176, 99); fill-opacity: 1; stroke: rgb(229, 236, 246); stroke-opacity: 1;\"/></g><g class=\"point\"><path d=\"M531.82,2352V27.32H545.07V2352Z\" style=\"vector-effect: non-scaling-stroke; opacity: 1; stroke-width: 0.5px; fill: rgb(255, 254, 189); fill-opacity: 1; stroke: rgb(229, 236, 246); stroke-opacity: 1;\"/></g><g class=\"point\"><path d=\"M515.25,2352V41.97H528.51V2352Z\" style=\"vector-effect: non-scaling-stroke; opacity: 1; stroke-width: 0.5px; fill: rgb(150, 213, 164); fill-opacity: 1; stroke: rgb(229, 236, 246); stroke-opacity: 1;\"/></g><g class=\"point\"><path d=\"M498.68,2352V63.27H511.94V2352Z\" style=\"vector-effect: non-scaling-stroke; opacity: 1; stroke-width: 0.5px; fill: rgb(55, 141, 187); fill-opacity: 1; stroke: rgb(229, 236, 246); stroke-opacity: 1;\"/></g><g class=\"point\"><path d=\"M482.12,2352V69.68H495.37V2352Z\" style=\"vector-effect: non-scaling-stroke; opacity: 1; stroke-width: 0.5px; fill: rgb(58, 126, 184); fill-opacity: 1; stroke: rgb(229, 236, 246); stroke-opacity: 1;\"/></g><g class=\"point\"><path d=\"M465.55,2352V77.39H478.8V2352Z\" style=\"vector-effect: non-scaling-stroke; opacity: 1; stroke-width: 0.5px; fill: rgb(68, 113, 178); fill-opacity: 1; stroke: rgb(229, 236, 246); stroke-opacity: 1;\"/></g><g class=\"point\"><path d=\"M448.98,2352V79.07H462.24V2352Z\" style=\"vector-effect: non-scaling-stroke; opacity: 1; stroke-width: 0.5px; fill: rgb(70, 111, 177); fill-opacity: 1; stroke: rgb(229, 236, 246); stroke-opacity: 1;\"/></g><g class=\"point\"><path d=\"M432.41,2352V81.48H445.67V2352Z\" style=\"vector-effect: non-scaling-stroke; opacity: 1; stroke-width: 0.5px; fill: rgb(72, 107, 175); fill-opacity: 1; stroke: rgb(229, 236, 246); stroke-opacity: 1;\"/></g><g class=\"point\"><path d=\"M415.85,2352V90.44H429.1V2352Z\" style=\"vector-effect: non-scaling-stroke; opacity: 1; stroke-width: 0.5px; fill: rgb(79, 98, 171); fill-opacity: 1; stroke: rgb(229, 236, 246); stroke-opacity: 1;\"/></g><g class=\"point\"><path d=\"M399.28,2352V97.59H412.53V2352Z\" style=\"vector-effect: non-scaling-stroke; opacity: 1; stroke-width: 0.5px; fill: rgb(83, 93, 169); fill-opacity: 1; stroke: rgb(229, 236, 246); stroke-opacity: 1;\"/></g><g class=\"point\"><path d=\"M382.71,2352V97.59H395.96V2352Z\" style=\"vector-effect: non-scaling-stroke; opacity: 1; stroke-width: 0.5px; fill: rgb(83, 93, 169); fill-opacity: 1; stroke: rgb(229, 236, 246); stroke-opacity: 1;\"/></g><g class=\"point\"><path d=\"M366.14,2352V108.73H379.4V2352Z\" style=\"vector-effect: non-scaling-stroke; opacity: 1; stroke-width: 0.5px; fill: rgb(87, 88, 166); fill-opacity: 1; stroke: rgb(229, 236, 246); stroke-opacity: 1;\"/></g><g class=\"point\"><path d=\"M581.52,2352V108.73H594.78V2352Z\" style=\"vector-effect: non-scaling-stroke; opacity: 1; stroke-width: 0.5px; fill: rgb(87, 88, 166); fill-opacity: 1; stroke: rgb(229, 236, 246); stroke-opacity: 1;\"/></g><g class=\"point\"><path d=\"M333.01,2352V113.35H346.26V2352Z\" style=\"vector-effect: non-scaling-stroke; opacity: 1; stroke-width: 0.5px; fill: rgb(88, 86, 165); fill-opacity: 1; stroke: rgb(229, 236, 246); stroke-opacity: 1;\"/></g><g class=\"point\"><path d=\"M349.58,2352V117.43H362.83V2352Z\" style=\"vector-effect: non-scaling-stroke; opacity: 1; stroke-width: 0.5px; fill: rgb(89, 85, 165); fill-opacity: 1; stroke: rgb(229, 236, 246); stroke-opacity: 1;\"/></g><g class=\"point\"><path d=\"M299.87,2352V121.39H313.13V2352Z\" style=\"vector-effect: non-scaling-stroke; opacity: 1; stroke-width: 0.5px; fill: rgb(90, 84, 164); fill-opacity: 1; stroke: rgb(229, 236, 246); stroke-opacity: 1;\"/></g><g class=\"point\"><path d=\"M266.74,2352V123.92H279.99V2352Z\" style=\"vector-effect: non-scaling-stroke; opacity: 1; stroke-width: 0.5px; fill: rgb(90, 84, 164); fill-opacity: 1; stroke: rgb(229, 236, 246); stroke-opacity: 1;\"/></g><g class=\"point\"><path d=\"M250.17,2352V124.46H263.42V2352Z\" style=\"vector-effect: non-scaling-stroke; opacity: 1; stroke-width: 0.5px; fill: rgb(91, 83, 164); fill-opacity: 1; stroke: rgb(229, 236, 246); stroke-opacity: 1;\"/></g><g class=\"point\"><path d=\"M316.44,2352V126.16H329.69V2352Z\" style=\"vector-effect: non-scaling-stroke; opacity: 1; stroke-width: 0.5px; fill: rgb(91, 83, 164); fill-opacity: 1; stroke: rgb(229, 236, 246); stroke-opacity: 1;\"/></g><g class=\"point\"><path d=\"M217.04,2352V129.29H230.29V2352Z\" style=\"vector-effect: non-scaling-stroke; opacity: 1; stroke-width: 0.5px; fill: rgb(91, 83, 164); fill-opacity: 1; stroke: rgb(229, 236, 246); stroke-opacity: 1;\"/></g><g class=\"point\"><path d=\"M283.31,2352V130.68H296.56V2352Z\" style=\"vector-effect: non-scaling-stroke; opacity: 1; stroke-width: 0.5px; fill: rgb(91, 82, 164); fill-opacity: 1; stroke: rgb(229, 236, 246); stroke-opacity: 1;\"/></g><g class=\"point\"><path d=\"M233.6,2352V130.68H246.86V2352Z\" style=\"vector-effect: non-scaling-stroke; opacity: 1; stroke-width: 0.5px; fill: rgb(91, 82, 164); fill-opacity: 1; stroke: rgb(229, 236, 246); stroke-opacity: 1;\"/></g><g class=\"point\"><path d=\"M200.47,2352V134.54H213.72V2352Z\" style=\"vector-effect: non-scaling-stroke; opacity: 1; stroke-width: 0.5px; fill: rgb(92, 82, 163); fill-opacity: 1; stroke: rgb(229, 236, 246); stroke-opacity: 1;\"/></g><g class=\"point\"><path d=\"M183.9,2352V137.2H197.15V2352Z\" style=\"vector-effect: non-scaling-stroke; opacity: 1; stroke-width: 0.5px; fill: rgb(92, 82, 163); fill-opacity: 1; stroke: rgb(229, 236, 246); stroke-opacity: 1;\"/></g><g class=\"point\"><path d=\"M167.33,2352V138.16H180.59V2352Z\" style=\"vector-effect: non-scaling-stroke; opacity: 1; stroke-width: 0.5px; fill: rgb(92, 81, 163); fill-opacity: 1; stroke: rgb(229, 236, 246); stroke-opacity: 1;\"/></g><g class=\"point\"><path d=\"M150.76,2352V154.44H164.02V2352Z\" style=\"vector-effect: non-scaling-stroke; opacity: 1; stroke-width: 0.5px; fill: rgb(93, 80, 163); fill-opacity: 1; stroke: rgb(229, 236, 246); stroke-opacity: 1;\"/></g><g class=\"point\"><path d=\"M134.2,2352V156.48H147.45V2352Z\" style=\"vector-effect: non-scaling-stroke; opacity: 1; stroke-width: 0.5px; fill: rgb(93, 80, 163); fill-opacity: 1; stroke: rgb(229, 236, 246); stroke-opacity: 1;\"/></g><g class=\"point\"><path d=\"M117.63,2352V161.19H130.88V2352Z\" style=\"vector-effect: non-scaling-stroke; opacity: 1; stroke-width: 0.5px; fill: rgb(93, 80, 162); fill-opacity: 1; stroke: rgb(229, 236, 246); stroke-opacity: 1;\"/></g><g class=\"point\"><path d=\"M101.06,2352V167.1H114.32V2352Z\" style=\"vector-effect: non-scaling-stroke; opacity: 1; stroke-width: 0.5px; fill: rgb(94, 80, 162); fill-opacity: 1; stroke: rgb(229, 236, 246); stroke-opacity: 1;\"/></g><g class=\"point\"><path d=\"M84.49,2352V175H97.75V2352Z\" style=\"vector-effect: non-scaling-stroke; opacity: 1; stroke-width: 0.5px; fill: rgb(94, 79, 162); fill-opacity: 1; stroke: rgb(229, 236, 246); stroke-opacity: 1;\"/></g><g class=\"point\"><path d=\"M67.93,2352V180.24H81.18V2352Z\" style=\"vector-effect: non-scaling-stroke; opacity: 1; stroke-width: 0.5px; fill: rgb(94, 79, 162); fill-opacity: 1; stroke: rgb(229, 236, 246); stroke-opacity: 1;\"/></g><g class=\"point\"><path d=\"M598.09,2352V180.24H611.34V2352Z\" style=\"vector-effect: non-scaling-stroke; opacity: 1; stroke-width: 0.5px; fill: rgb(94, 79, 162); fill-opacity: 1; stroke: rgb(229, 236, 246); stroke-opacity: 1;\"/></g><g class=\"point\"><path d=\"M18.22,2352V196.52H31.48V2352Z\" style=\"vector-effect: non-scaling-stroke; opacity: 1; stroke-width: 0.5px; fill: rgb(94, 79, 162); fill-opacity: 1; stroke: rgb(229, 236, 246); stroke-opacity: 1;\"/></g><g class=\"point\"><path d=\"M1.66,2352V212.8H14.91V2352Z\" style=\"vector-effect: non-scaling-stroke; opacity: 1; stroke-width: 0.5px; fill: rgb(94, 79, 162); fill-opacity: 1; stroke: rgb(229, 236, 246); stroke-opacity: 1;\"/></g><g class=\"point\"><path d=\"M34.79,2352V212.8H48.05V2352Z\" style=\"vector-effect: non-scaling-stroke; opacity: 1; stroke-width: 0.5px; fill: rgb(94, 79, 162); fill-opacity: 1; stroke: rgb(229, 236, 246); stroke-opacity: 1;\"/></g><g class=\"point\"><path d=\"M51.36,2352V212.8H64.61V2352Z\" style=\"vector-effect: non-scaling-stroke; opacity: 1; stroke-width: 0.5px; fill: rgb(94, 79, 162); fill-opacity: 1; stroke: rgb(229, 236, 246); stroke-opacity: 1;\"/></g></g></g></g></g><g class=\"overplot\"/><path class=\"xlines-above crisp\" d=\"M0,0\" style=\"fill: none;\"/><path class=\"ylines-above crisp\" d=\"M0,0\" style=\"fill: none;\"/><g class=\"overlines-above\"/><g class=\"xaxislayer-above\"><g class=\"xtick\"><text text-anchor=\"middle\" x=\"0\" y=\"287\" transform=\"translate(121.42,0)\" style=\"font-family: 'Open Sans', verdana, arial, sans-serif; font-size: 12px; fill: rgb(42, 63, 95); fill-opacity: 1; white-space: pre; opacity: 1;\">1985</text></g><g class=\"xtick\"><text text-anchor=\"middle\" x=\"0\" y=\"287\" style=\"font-family: 'Open Sans', verdana, arial, sans-serif; font-size: 12px; fill: rgb(42, 63, 95); fill-opacity: 1; white-space: pre; opacity: 1;\" transform=\"translate(204.26,0)\">1990</text></g><g class=\"xtick\"><text text-anchor=\"middle\" x=\"0\" y=\"287\" style=\"font-family: 'Open Sans', verdana, arial, sans-serif; font-size: 12px; fill: rgb(42, 63, 95); fill-opacity: 1; white-space: pre; opacity: 1;\" transform=\"translate(287.09000000000003,0)\">1995</text></g><g class=\"xtick\"><text text-anchor=\"middle\" x=\"0\" y=\"287\" style=\"font-family: 'Open Sans', verdana, arial, sans-serif; font-size: 12px; fill: rgb(42, 63, 95); fill-opacity: 1; white-space: pre; opacity: 1;\" transform=\"translate(369.93,0)\">2000</text></g><g class=\"xtick\"><text text-anchor=\"middle\" x=\"0\" y=\"287\" style=\"font-family: 'Open Sans', verdana, arial, sans-serif; font-size: 12px; fill: rgb(42, 63, 95); fill-opacity: 1; white-space: pre; opacity: 1;\" transform=\"translate(452.77,0)\">2005</text></g><g class=\"xtick\"><text text-anchor=\"middle\" x=\"0\" y=\"287\" style=\"font-family: 'Open Sans', verdana, arial, sans-serif; font-size: 12px; fill: rgb(42, 63, 95); fill-opacity: 1; white-space: pre; opacity: 1;\" transform=\"translate(535.61,0)\">2010</text></g><g class=\"xtick\"><text text-anchor=\"middle\" x=\"0\" y=\"287\" style=\"font-family: 'Open Sans', verdana, arial, sans-serif; font-size: 12px; fill: rgb(42, 63, 95); fill-opacity: 1; white-space: pre; opacity: 1;\" transform=\"translate(618.45,0)\">2015</text></g></g><g class=\"yaxislayer-above\"><g class=\"ytick\"><text text-anchor=\"end\" x=\"79\" y=\"4.199999999999999\" transform=\"translate(0,262.8)\" style=\"font-family: 'Open Sans', verdana, arial, sans-serif; font-size: 12px; fill: rgb(42, 63, 95); fill-opacity: 1; white-space: pre; opacity: 1;\">1</text></g><g class=\"ytick\"><text text-anchor=\"end\" x=\"79\" y=\"3.15\" style=\"font-family: 'Open Sans', verdana, arial, sans-serif; font-size: 9px; fill: rgb(42, 63, 95); fill-opacity: 1; white-space: pre; opacity: 1;\" transform=\"translate(0,246.52)\">2</text></g><g class=\"ytick\"><text text-anchor=\"end\" x=\"79\" y=\"3.15\" style=\"font-family: 'Open Sans', verdana, arial, sans-serif; font-size: 9px; fill: rgb(42, 63, 95); fill-opacity: 1; white-space: pre; opacity: 1;\" transform=\"translate(0,225)\">5</text></g><g class=\"ytick\"><text text-anchor=\"end\" x=\"79\" y=\"4.199999999999999\" style=\"font-family: 'Open Sans', verdana, arial, sans-serif; font-size: 12px; fill: rgb(42, 63, 95); fill-opacity: 1; white-space: pre; opacity: 1;\" transform=\"translate(0,208.72)\">10</text></g><g class=\"ytick\"><text text-anchor=\"end\" x=\"79\" y=\"3.15\" style=\"font-family: 'Open Sans', verdana, arial, sans-serif; font-size: 9px; fill: rgb(42, 63, 95); fill-opacity: 1; white-space: pre; opacity: 1;\" transform=\"translate(0,192.44)\">2</text></g><g class=\"ytick\"><text text-anchor=\"end\" x=\"79\" y=\"3.15\" style=\"font-family: 'Open Sans', verdana, arial, sans-serif; font-size: 9px; fill: rgb(42, 63, 95); fill-opacity: 1; white-space: pre; opacity: 1;\" transform=\"translate(0,170.92000000000002)\">5</text></g><g class=\"ytick\"><text text-anchor=\"end\" x=\"79\" y=\"4.199999999999999\" style=\"font-family: 'Open Sans', verdana, arial, sans-serif; font-size: 12px; fill: rgb(42, 63, 95); fill-opacity: 1; white-space: pre; opacity: 1;\" transform=\"translate(0,154.64)\">100</text></g><g class=\"ytick\"><text text-anchor=\"end\" x=\"79\" y=\"3.15\" style=\"font-family: 'Open Sans', verdana, arial, sans-serif; font-size: 9px; fill: rgb(42, 63, 95); fill-opacity: 1; white-space: pre; opacity: 1;\" transform=\"translate(0,138.36)\">2</text></g><g class=\"ytick\"><text text-anchor=\"end\" x=\"79\" y=\"3.15\" style=\"font-family: 'Open Sans', verdana, arial, sans-serif; font-size: 9px; fill: rgb(42, 63, 95); fill-opacity: 1; white-space: pre; opacity: 1;\" transform=\"translate(0,116.84)\">5</text></g><g class=\"ytick\"><text text-anchor=\"end\" x=\"79\" y=\"4.199999999999999\" style=\"font-family: 'Open Sans', verdana, arial, sans-serif; font-size: 12px; fill: rgb(42, 63, 95); fill-opacity: 1; white-space: pre; opacity: 1;\" transform=\"translate(0,100.56)\">1000</text></g><g class=\"ytick\"><text text-anchor=\"end\" x=\"79\" y=\"3.15\" style=\"font-family: 'Open Sans', verdana, arial, sans-serif; font-size: 9px; fill: rgb(42, 63, 95); fill-opacity: 1; white-space: pre; opacity: 1;\" transform=\"translate(0,84.28)\">2</text></g><g class=\"ytick\"><text text-anchor=\"end\" x=\"79\" y=\"3.15\" style=\"font-family: 'Open Sans', verdana, arial, sans-serif; font-size: 9px; fill: rgb(42, 63, 95); fill-opacity: 1; white-space: pre; opacity: 1;\" transform=\"translate(0,62.75)\">5</text></g></g><g class=\"overaxes-above\"/></g></g><g class=\"polarlayer\"/><g class=\"ternarylayer\"/><g class=\"geolayer\"/><g class=\"funnelarealayer\"/><g class=\"pielayer\"/><g class=\"iciclelayer\"/><g class=\"treemaplayer\"/><g class=\"sunburstlayer\"/><g class=\"glimages\"/><defs id=\"topdefs-45eafa\"><g class=\"clips\"/><clipPath id=\"rangesliderx-45eafa\"><rect x=\"0\" y=\"0\" width=\"613\" height=\"45\"/></clipPath></defs><g class=\"layer-above\"><g class=\"imagelayer\"/><g class=\"shapelayer\"/></g><g class=\"infolayer\"><g class=\"cbcoloraxis colorbar\" transform=\"translate(80,50)\"><rect class=\"cbbg\" x=\"625\" y=\"0\" width=\"82.515625\" height=\"224\" style=\"fill: rgb(0, 0, 0); fill-opacity: 0; stroke: rgb(68, 68, 68); stroke-opacity: 1; stroke-width: 0;\"/><g class=\"cbfills\" transform=\"translate(0,32)\"><rect class=\"cbfill\" x=\"635\" width=\"30\" y=\"0\" height=\"182\" style=\"fill: url('#g45eafa-cbcoloraxis');\"/></g><g class=\"cblines\" transform=\"translate(0,32)\"/><g class=\"cbaxis crisp\" transform=\"translate(0,-50)\"><g class=\"ycbcoloraxistick\"><text text-anchor=\"start\" x=\"667.9\" y=\"4.199999999999999\" transform=\"translate(0,229.95999999999998)\" style=\"font-family: 'Open Sans', verdana, arial, sans-serif; font-size: 12px; fill: rgb(42, 63, 95); fill-opacity: 1; white-space: pre; opacity: 1;\">1000</text></g><g class=\"ycbcoloraxistick\"><text text-anchor=\"start\" x=\"667.9\" y=\"4.199999999999999\" style=\"font-family: 'Open Sans', verdana, arial, sans-serif; font-size: 12px; fill: rgb(42, 63, 95); fill-opacity: 1; white-space: pre; opacity: 1;\" transform=\"translate(0,195.88)\">2000</text></g><g class=\"ycbcoloraxistick\"><text text-anchor=\"start\" x=\"667.9\" y=\"4.199999999999999\" style=\"font-family: 'Open Sans', verdana, arial, sans-serif; font-size: 12px; fill: rgb(42, 63, 95); fill-opacity: 1; white-space: pre; opacity: 1;\" transform=\"translate(0,161.81)\">3000</text></g><g class=\"ycbcoloraxistick\"><text text-anchor=\"start\" x=\"667.9\" y=\"4.199999999999999\" style=\"font-family: 'Open Sans', verdana, arial, sans-serif; font-size: 12px; fill: rgb(42, 63, 95); fill-opacity: 1; white-space: pre; opacity: 1;\" transform=\"translate(0,127.72999999999999)\">4000</text></g><g class=\"ycbcoloraxistick\"><text text-anchor=\"start\" x=\"667.9\" y=\"4.199999999999999\" style=\"font-family: 'Open Sans', verdana, arial, sans-serif; font-size: 12px; fill: rgb(42, 63, 95); fill-opacity: 1; white-space: pre; opacity: 1;\" transform=\"translate(0,93.64999999999999)\">5000</text></g></g><g class=\"cbtitleunshift\" transform=\"translate(-80,-50)\"><g class=\"cbtitle\" transform=\"\"><text class=\"ycbcoloraxistitle\" x=\"715.26\" y=\"73.49999999999999\" text-anchor=\"start\" style=\"font-family: 'Open Sans', verdana, arial, sans-serif; font-size: 14px; fill: rgb(42, 63, 95); opacity: 1; font-weight: normal; white-space: pre;\">Cantidad</text></g></g><rect class=\"cboutline\" x=\"635\" y=\"32\" width=\"30\" height=\"182\" style=\"stroke: rgb(68, 68, 68); stroke-opacity: 1; fill: none; stroke-width: 0;\"/></g><g class=\"g-gtitle\"><text class=\"gtitle\" x=\"40\" y=\"25\" text-anchor=\"start\" dy=\"0em\" style=\"font-family: 'Open Sans', verdana, arial, sans-serif; font-size: 17px; fill: rgb(42, 63, 95); opacity: 1; font-weight: normal; white-space: pre;\">Videojuegos publicados por año</text></g><g class=\"rangeslider-container\" pointer-events=\"all\" transform=\"translate(80,305)\"><rect class=\"rangeslider-bg\" x=\"0\" y=\"0\" shape-rendering=\"crispEdges\" width=\"613\" height=\"45\" transform=\"\" fill=\"#E5ECF6\" stroke=\"#444\" stroke-width=\"0\"/><g class=\"rangeslider-rangeplot xy\" clip-path=\"url(#rangesliderx-45eafa)\"><g class=\"layer-subplot\"><g class=\"shapelayer\"/><g class=\"imagelayer\"/></g><g class=\"gridlayer\"><g class=\"x\"/><g class=\"y\"/></g><g class=\"zerolinelayer\"/><path class=\"xlines-below\"/><path class=\"ylines-below\"/><g class=\"overlines-below\"/><g class=\"xaxislayer-below\"/><g class=\"yaxislayer-below\"/><g class=\"overaxes-below\"/><g class=\"plot\"><g class=\"barlayer mlayer rangeplot\"><g class=\"trace bars\" style=\"opacity: 1;\"><g class=\"points\"><g class=\"point\"><path d=\"M564.95,472.5V2.25H578.21V472.5Z\" style=\"vector-effect: non-scaling-stroke; opacity: 1; stroke-width: 0.5px; fill: rgb(158, 1, 66); fill-opacity: 1; stroke: rgb(229, 236, 246); stroke-opacity: 1;\"/></g><g class=\"point\"><path d=\"M548.39,472.5V3.97H561.64V472.5Z\" style=\"vector-effect: non-scaling-stroke; opacity: 1; stroke-width: 0.5px; fill: rgb(253, 176, 99); fill-opacity: 1; stroke: rgb(229, 236, 246); stroke-opacity: 1;\"/></g><g class=\"point\"><path d=\"M531.82,472.5V5.49H545.07V472.5Z\" style=\"vector-effect: non-scaling-stroke; opacity: 1; stroke-width: 0.5px; fill: rgb(255, 254, 189); fill-opacity: 1; stroke: rgb(229, 236, 246); stroke-opacity: 1;\"/></g><g class=\"point\"><path d=\"M515.25,472.5V8.43H528.51V472.5Z\" style=\"vector-effect: non-scaling-stroke; opacity: 1; stroke-width: 0.5px; fill: rgb(150, 213, 164); fill-opacity: 1; stroke: rgb(229, 236, 246); stroke-opacity: 1;\"/></g><g class=\"point\"><path d=\"M498.68,472.5V12.71H511.94V472.5Z\" style=\"vector-effect: non-scaling-stroke; opacity: 1; stroke-width: 0.5px; fill: rgb(55, 141, 187); fill-opacity: 1; stroke: rgb(229, 236, 246); stroke-opacity: 1;\"/></g><g class=\"point\"><path d=\"M482.12,472.5V14H495.37V472.5Z\" style=\"vector-effect: non-scaling-stroke; opacity: 1; stroke-width: 0.5px; fill: rgb(58, 126, 184); fill-opacity: 1; stroke: rgb(229, 236, 246); stroke-opacity: 1;\"/></g><g class=\"point\"><path d=\"M465.55,472.5V15.55H478.8V472.5Z\" style=\"vector-effect: non-scaling-stroke; opacity: 1; stroke-width: 0.5px; fill: rgb(68, 113, 178); fill-opacity: 1; stroke: rgb(229, 236, 246); stroke-opacity: 1;\"/></g><g class=\"point\"><path d=\"M448.98,472.5V15.88H462.24V472.5Z\" style=\"vector-effect: non-scaling-stroke; opacity: 1; stroke-width: 0.5px; fill: rgb(70, 111, 177); fill-opacity: 1; stroke: rgb(229, 236, 246); stroke-opacity: 1;\"/></g><g class=\"point\"><path d=\"M432.41,472.5V16.37H445.67V472.5Z\" style=\"vector-effect: non-scaling-stroke; opacity: 1; stroke-width: 0.5px; fill: rgb(72, 107, 175); fill-opacity: 1; stroke: rgb(229, 236, 246); stroke-opacity: 1;\"/></g><g class=\"point\"><path d=\"M415.85,472.5V18.17H429.1V472.5Z\" style=\"vector-effect: non-scaling-stroke; opacity: 1; stroke-width: 0.5px; fill: rgb(79, 98, 171); fill-opacity: 1; stroke: rgb(229, 236, 246); stroke-opacity: 1;\"/></g><g class=\"point\"><path d=\"M399.28,472.5V19.6H412.53V472.5Z\" style=\"vector-effect: non-scaling-stroke; opacity: 1; stroke-width: 0.5px; fill: rgb(83, 93, 169); fill-opacity: 1; stroke: rgb(229, 236, 246); stroke-opacity: 1;\"/></g><g class=\"point\"><path d=\"M382.71,472.5V19.6H395.96V472.5Z\" style=\"vector-effect: non-scaling-stroke; opacity: 1; stroke-width: 0.5px; fill: rgb(83, 93, 169); fill-opacity: 1; stroke: rgb(229, 236, 246); stroke-opacity: 1;\"/></g><g class=\"point\"><path d=\"M366.14,472.5V21.84H379.4V472.5Z\" style=\"vector-effect: non-scaling-stroke; opacity: 1; stroke-width: 0.5px; fill: rgb(87, 88, 166); fill-opacity: 1; stroke: rgb(229, 236, 246); stroke-opacity: 1;\"/></g><g class=\"point\"><path d=\"M581.52,472.5V21.84H594.78V472.5Z\" style=\"vector-effect: non-scaling-stroke; opacity: 1; stroke-width: 0.5px; fill: rgb(87, 88, 166); fill-opacity: 1; stroke: rgb(229, 236, 246); stroke-opacity: 1;\"/></g><g class=\"point\"><path d=\"M333.01,472.5V22.77H346.26V472.5Z\" style=\"vector-effect: non-scaling-stroke; opacity: 1; stroke-width: 0.5px; fill: rgb(88, 86, 165); fill-opacity: 1; stroke: rgb(229, 236, 246); stroke-opacity: 1;\"/></g><g class=\"point\"><path d=\"M349.58,472.5V23.59H362.83V472.5Z\" style=\"vector-effect: non-scaling-stroke; opacity: 1; stroke-width: 0.5px; fill: rgb(89, 85, 165); fill-opacity: 1; stroke: rgb(229, 236, 246); stroke-opacity: 1;\"/></g><g class=\"point\"><path d=\"M299.87,472.5V24.39H313.13V472.5Z\" style=\"vector-effect: non-scaling-stroke; opacity: 1; stroke-width: 0.5px; fill: rgb(90, 84, 164); fill-opacity: 1; stroke: rgb(229, 236, 246); stroke-opacity: 1;\"/></g><g class=\"point\"><path d=\"M266.74,472.5V24.89H279.99V472.5Z\" style=\"vector-effect: non-scaling-stroke; opacity: 1; stroke-width: 0.5px; fill: rgb(90, 84, 164); fill-opacity: 1; stroke: rgb(229, 236, 246); stroke-opacity: 1;\"/></g><g class=\"point\"><path d=\"M250.17,472.5V25H263.42V472.5Z\" style=\"vector-effect: non-scaling-stroke; opacity: 1; stroke-width: 0.5px; fill: rgb(91, 83, 164); fill-opacity: 1; stroke: rgb(229, 236, 246); stroke-opacity: 1;\"/></g><g class=\"point\"><path d=\"M316.44,472.5V25.34H329.69V472.5Z\" style=\"vector-effect: non-scaling-stroke; opacity: 1; stroke-width: 0.5px; fill: rgb(91, 83, 164); fill-opacity: 1; stroke: rgb(229, 236, 246); stroke-opacity: 1;\"/></g><g class=\"point\"><path d=\"M217.04,472.5V25.97H230.29V472.5Z\" style=\"vector-effect: non-scaling-stroke; opacity: 1; stroke-width: 0.5px; fill: rgb(91, 83, 164); fill-opacity: 1; stroke: rgb(229, 236, 246); stroke-opacity: 1;\"/></g><g class=\"point\"><path d=\"M283.31,472.5V26.25H296.56V472.5Z\" style=\"vector-effect: non-scaling-stroke; opacity: 1; stroke-width: 0.5px; fill: rgb(91, 82, 164); fill-opacity: 1; stroke: rgb(229, 236, 246); stroke-opacity: 1;\"/></g><g class=\"point\"><path d=\"M233.6,472.5V26.25H246.86V472.5Z\" style=\"vector-effect: non-scaling-stroke; opacity: 1; stroke-width: 0.5px; fill: rgb(91, 82, 164); fill-opacity: 1; stroke: rgb(229, 236, 246); stroke-opacity: 1;\"/></g><g class=\"point\"><path d=\"M200.47,472.5V27.03H213.72V472.5Z\" style=\"vector-effect: non-scaling-stroke; opacity: 1; stroke-width: 0.5px; fill: rgb(92, 82, 163); fill-opacity: 1; stroke: rgb(229, 236, 246); stroke-opacity: 1;\"/></g><g class=\"point\"><path d=\"M183.9,472.5V27.56H197.15V472.5Z\" style=\"vector-effect: non-scaling-stroke; opacity: 1; stroke-width: 0.5px; fill: rgb(92, 82, 163); fill-opacity: 1; stroke: rgb(229, 236, 246); stroke-opacity: 1;\"/></g><g class=\"point\"><path d=\"M167.33,472.5V27.75H180.59V472.5Z\" style=\"vector-effect: non-scaling-stroke; opacity: 1; stroke-width: 0.5px; fill: rgb(92, 81, 163); fill-opacity: 1; stroke: rgb(229, 236, 246); stroke-opacity: 1;\"/></g><g class=\"point\"><path d=\"M150.76,472.5V31.03H164.02V472.5Z\" style=\"vector-effect: non-scaling-stroke; opacity: 1; stroke-width: 0.5px; fill: rgb(93, 80, 163); fill-opacity: 1; stroke: rgb(229, 236, 246); stroke-opacity: 1;\"/></g><g class=\"point\"><path d=\"M134.2,472.5V31.44H147.45V472.5Z\" style=\"vector-effect: non-scaling-stroke; opacity: 1; stroke-width: 0.5px; fill: rgb(93, 80, 163); fill-opacity: 1; stroke: rgb(229, 236, 246); stroke-opacity: 1;\"/></g><g class=\"point\"><path d=\"M117.63,472.5V32.38H130.88V472.5Z\" style=\"vector-effect: non-scaling-stroke; opacity: 1; stroke-width: 0.5px; fill: rgb(93, 80, 162); fill-opacity: 1; stroke: rgb(229, 236, 246); stroke-opacity: 1;\"/></g><g class=\"point\"><path d=\"M101.06,472.5V33.57H114.32V472.5Z\" style=\"vector-effect: non-scaling-stroke; opacity: 1; stroke-width: 0.5px; fill: rgb(94, 80, 162); fill-opacity: 1; stroke: rgb(229, 236, 246); stroke-opacity: 1;\"/></g><g class=\"point\"><path d=\"M84.49,472.5V35.16H97.75V472.5Z\" style=\"vector-effect: non-scaling-stroke; opacity: 1; stroke-width: 0.5px; fill: rgb(94, 79, 162); fill-opacity: 1; stroke: rgb(229, 236, 246); stroke-opacity: 1;\"/></g><g class=\"point\"><path d=\"M67.93,472.5V36.21H81.18V472.5Z\" style=\"vector-effect: non-scaling-stroke; opacity: 1; stroke-width: 0.5px; fill: rgb(94, 79, 162); fill-opacity: 1; stroke: rgb(229, 236, 246); stroke-opacity: 1;\"/></g><g class=\"point\"><path d=\"M598.09,472.5V36.21H611.34V472.5Z\" style=\"vector-effect: non-scaling-stroke; opacity: 1; stroke-width: 0.5px; fill: rgb(94, 79, 162); fill-opacity: 1; stroke: rgb(229, 236, 246); stroke-opacity: 1;\"/></g><g class=\"point\"><path d=\"M18.22,472.5V39.48H31.48V472.5Z\" style=\"vector-effect: non-scaling-stroke; opacity: 1; stroke-width: 0.5px; fill: rgb(94, 79, 162); fill-opacity: 1; stroke: rgb(229, 236, 246); stroke-opacity: 1;\"/></g><g class=\"point\"><path d=\"M1.66,472.5V42.75H14.91V472.5Z\" style=\"vector-effect: non-scaling-stroke; opacity: 1; stroke-width: 0.5px; fill: rgb(94, 79, 162); fill-opacity: 1; stroke: rgb(229, 236, 246); stroke-opacity: 1;\"/></g><g class=\"point\"><path d=\"M34.79,472.5V42.75H48.05V472.5Z\" style=\"vector-effect: non-scaling-stroke; opacity: 1; stroke-width: 0.5px; fill: rgb(94, 79, 162); fill-opacity: 1; stroke: rgb(229, 236, 246); stroke-opacity: 1;\"/></g><g class=\"point\"><path d=\"M51.36,472.5V42.75H64.61V472.5Z\" style=\"vector-effect: non-scaling-stroke; opacity: 1; stroke-width: 0.5px; fill: rgb(94, 79, 162); fill-opacity: 1; stroke: rgb(229, 236, 246); stroke-opacity: 1;\"/></g></g></g></g></g><g class=\"overplot\"/><path class=\"xlines-above crisp\" style=\"fill: none;\"/><path class=\"ylines-above crisp\" style=\"fill: none;\"/><g class=\"overlines-above\"/><g class=\"xaxislayer-above\"/><g class=\"yaxislayer-above\"/><g class=\"overaxes-above\"/></g><rect class=\"rangeslider-mask-min\" x=\"0\" y=\"0\" shape-rendering=\"crispEdges\" height=\"45\" width=\"0\" style=\"fill: rgb(0, 0, 0); fill-opacity: 0.4;\"/><rect class=\"rangeslider-mask-max\" y=\"0\" shape-rendering=\"crispEdges\" height=\"45\" x=\"613\" width=\"0\" style=\"fill: rgb(0, 0, 0); fill-opacity: 0.4;\"/><g class=\"rangeslider-grabber-min\" transform=\"translate(-2.5,0.5)\"><rect class=\"rangeslider-handle-min\" x=\"0\" width=\"4\" rx=\"1\" fill=\"#fff\" stroke=\"#444\" stroke-width=\"1\" shape-rendering=\"crispEdges\" y=\"11\" height=\"23\"/><rect class=\"rangeslider-grabarea-min\" width=\"10\" x=\"0\" y=\"0\" fill=\"transparent\" height=\"45\"/></g><g class=\"rangeslider-grabber-max\" transform=\"translate(611.5,0.5)\"><rect class=\"rangeslider-handle-max\" x=\"0\" width=\"4\" rx=\"1\" fill=\"#fff\" stroke=\"#444\" stroke-width=\"1\" shape-rendering=\"crispEdges\" y=\"11\" height=\"23\"/><rect class=\"rangeslider-grabarea-max\" width=\"10\" x=\"0\" y=\"0\" fill=\"transparent\" height=\"45\"/></g></g><g class=\"g-ytitle\"><text class=\"ytitle\" transform=\"rotate(-90,23.684375000000003,162)\" x=\"23.684375000000003\" y=\"162\" text-anchor=\"middle\" style=\"font-family: 'Open Sans', verdana, arial, sans-serif; font-size: 14px; fill: rgb(42, 63, 95); opacity: 1; font-weight: normal; white-space: pre;\">Cantidad</text></g><g class=\"g-xtitle\"><text class=\"xtitle\" x=\"386.5\" y=\"381\" text-anchor=\"middle\" style=\"font-family: 'Open Sans', verdana, arial, sans-serif; font-size: 14px; fill: rgb(42, 63, 95); opacity: 1; font-weight: normal; white-space: pre;\">Año</text></g></g></svg>"
      ],
      "text/plain": [
       "<IPython.core.display.SVG object>"
      ]
     },
     "metadata": {},
     "output_type": "display_data"
    }
   ],
   "source": [
    "games_year = games.year.value_counts()\n",
    "fig = px.bar(x=games_year.index, y=games_year.values, labels={\n",
    "             'x': 'Año', 'y': 'Cantidad', 'color': 'Cantidad'},\n",
    "             color=games_year.values,\n",
    "             title='Videojuegos publicados por año',\n",
    "             color_continuous_scale='spectral_r',\n",
    "             width=800,\n",
    "             height=400,\n",
    "             log_y=True\n",
    "             )\n",
    "\n",
    "fig.update_layout(paper_bgcolor='#FAFAFA',\n",
    "                  margin=dict(t=50, b=50)\n",
    "                  )\n",
    "fig.update_xaxes(rangeslider_visible=True)\n",
    "\n",
    "#fig.show()\n",
    "\n",
    "display(SVG(fig.to_image(format='svg')))"
   ]
  },
  {
   "cell_type": "markdown",
   "id": "5e033913-9e1e-414f-98f7-88fcfbb16cb1",
   "metadata": {},
   "source": [
    "###### Se nota un gran aumento de la produccion a lo largo del tiempo, pero con una notora caída en los ultimos dos años expuestos en el gráfico (año 2018 y 2019)."
   ]
  },
  {
   "cell_type": "code",
   "execution_count": 184,
   "id": "1a0908a0-b707-483a-92c0-2ca967c7fc71",
   "metadata": {},
   "outputs": [
    {
     "data": {
      "text/html": [
       "<div>\n",
       "<style scoped>\n",
       "    .dataframe tbody tr th:only-of-type {\n",
       "        vertical-align: middle;\n",
       "    }\n",
       "\n",
       "    .dataframe tbody tr th {\n",
       "        vertical-align: top;\n",
       "    }\n",
       "\n",
       "    .dataframe thead th {\n",
       "        text-align: right;\n",
       "    }\n",
       "</style>\n",
       "<table border=\"1\" class=\"dataframe\">\n",
       "  <thead>\n",
       "    <tr style=\"text-align: right;\">\n",
       "      <th></th>\n",
       "      <th>month_name</th>\n",
       "      <th>amount</th>\n",
       "      <th>month_number</th>\n",
       "    </tr>\n",
       "  </thead>\n",
       "  <tbody>\n",
       "    <tr>\n",
       "      <th>4</th>\n",
       "      <td>January</td>\n",
       "      <td>318981</td>\n",
       "      <td>1</td>\n",
       "    </tr>\n",
       "    <tr>\n",
       "      <th>8</th>\n",
       "      <td>February</td>\n",
       "      <td>245532</td>\n",
       "      <td>2</td>\n",
       "    </tr>\n",
       "    <tr>\n",
       "      <th>10</th>\n",
       "      <td>March</td>\n",
       "      <td>231286</td>\n",
       "      <td>3</td>\n",
       "    </tr>\n",
       "    <tr>\n",
       "      <th>11</th>\n",
       "      <td>April</td>\n",
       "      <td>215250</td>\n",
       "      <td>4</td>\n",
       "    </tr>\n",
       "    <tr>\n",
       "      <th>9</th>\n",
       "      <td>May</td>\n",
       "      <td>231412</td>\n",
       "      <td>5</td>\n",
       "    </tr>\n",
       "    <tr>\n",
       "      <th>2</th>\n",
       "      <td>June</td>\n",
       "      <td>360112</td>\n",
       "      <td>6</td>\n",
       "    </tr>\n",
       "    <tr>\n",
       "      <th>3</th>\n",
       "      <td>July</td>\n",
       "      <td>330274</td>\n",
       "      <td>7</td>\n",
       "    </tr>\n",
       "    <tr>\n",
       "      <th>5</th>\n",
       "      <td>August</td>\n",
       "      <td>269507</td>\n",
       "      <td>8</td>\n",
       "    </tr>\n",
       "    <tr>\n",
       "      <th>7</th>\n",
       "      <td>September</td>\n",
       "      <td>247771</td>\n",
       "      <td>9</td>\n",
       "    </tr>\n",
       "    <tr>\n",
       "      <th>6</th>\n",
       "      <td>October</td>\n",
       "      <td>267135</td>\n",
       "      <td>10</td>\n",
       "    </tr>\n",
       "    <tr>\n",
       "      <th>0</th>\n",
       "      <td>November</td>\n",
       "      <td>498841</td>\n",
       "      <td>11</td>\n",
       "    </tr>\n",
       "    <tr>\n",
       "      <th>1</th>\n",
       "      <td>December</td>\n",
       "      <td>464981</td>\n",
       "      <td>12</td>\n",
       "    </tr>\n",
       "  </tbody>\n",
       "</table>\n",
       "</div>"
      ],
      "text/plain": [
       "   month_name  amount  month_number\n",
       "4     January  318981             1\n",
       "8    February  245532             2\n",
       "10      March  231286             3\n",
       "11      April  215250             4\n",
       "9         May  231412             5\n",
       "2        June  360112             6\n",
       "3        July  330274             7\n",
       "5      August  269507             8\n",
       "7   September  247771             9\n",
       "6     October  267135            10\n",
       "0    November  498841            11\n",
       "1    December  464981            12"
      ]
     },
     "execution_count": 184,
     "metadata": {},
     "output_type": "execute_result"
    }
   ],
   "source": [
    "\n",
    "# Cantidad de usuarios por cada mes\n",
    "\n",
    "users_by_month = data_reviews.assign(month_name=data_reviews.date.dt.month_name())\n",
    "\n",
    "users_by_month = users_by_month.month_name.value_counts()\n",
    "\n",
    "users_by_month = pd.DataFrame(\n",
    "    {'month_name': users_by_month.index, 'amount': users_by_month.values})\n",
    "\n",
    "users_by_month['month_number'] = pd.to_datetime(users_by_month.month_name,\n",
    "                                                format='%B', errors='coerce').dt.month\n",
    "\n",
    "users_by_month.sort_values(by='month_number', inplace=True)\n",
    "users_by_month\n"
   ]
  },
  {
   "cell_type": "code",
   "execution_count": 185,
   "id": "7d9e98d5-4c59-46ae-a574-749f7692b5d0",
   "metadata": {},
   "outputs": [
    {
     "data": {
      "image/svg+xml": [
       "<svg xmlns=\"http://www.w3.org/2000/svg\" xmlns:xlink=\"http://www.w3.org/1999/xlink\" class=\"main-svg\" width=\"800\" height=\"400\" style=\"\" viewBox=\"0 0 800 400\"><rect x=\"0\" y=\"0\" width=\"800\" height=\"400\" style=\"fill: rgb(250, 250, 250); fill-opacity: 1;\"/><defs id=\"defs-158235\"><g class=\"clips\"><clipPath id=\"clip158235xyplot\" class=\"plotclip\"><rect width=\"640\" height=\"263\"/></clipPath><clipPath class=\"axesclip\" id=\"clip158235x\"><rect x=\"80\" y=\"0\" width=\"640\" height=\"400\"/></clipPath><clipPath class=\"axesclip\" id=\"clip158235y\"><rect x=\"0\" y=\"50\" width=\"800\" height=\"263\"/></clipPath><clipPath class=\"axesclip\" id=\"clip158235xy\"><rect x=\"80\" y=\"50\" width=\"640\" height=\"263\"/></clipPath></g><g class=\"gradients\"/><g class=\"patterns\"/></defs><g class=\"bglayer\"><rect class=\"bg\" x=\"80\" y=\"50\" width=\"640\" height=\"263\" style=\"fill: rgb(229, 236, 246); fill-opacity: 1; stroke-width: 0;\"/></g><g class=\"layer-below\"><g class=\"imagelayer\"/><g class=\"shapelayer\"/></g><g class=\"cartesianlayer\"><g class=\"subplot xy\"><g class=\"layer-subplot\"><g class=\"shapelayer\"/><g class=\"imagelayer\"/></g><g class=\"gridlayer\"><g class=\"x\"><path class=\"xgrid crisp\" transform=\"translate(120.12,0)\" d=\"M0,50v263\" style=\"stroke: rgb(255, 255, 255); stroke-opacity: 1; stroke-width: 1px;\"/><path class=\"xgrid crisp\" transform=\"translate(171.01,0)\" d=\"M0,50v263\" style=\"stroke: rgb(255, 255, 255); stroke-opacity: 1; stroke-width: 1px;\"/><path class=\"xgrid crisp\" transform=\"translate(221.9,0)\" d=\"M0,50v263\" style=\"stroke: rgb(255, 255, 255); stroke-opacity: 1; stroke-width: 1px;\"/><path class=\"xgrid crisp\" transform=\"translate(272.78,0)\" d=\"M0,50v263\" style=\"stroke: rgb(255, 255, 255); stroke-opacity: 1; stroke-width: 1px;\"/><path class=\"xgrid crisp\" transform=\"translate(323.66999999999996,0)\" d=\"M0,50v263\" style=\"stroke: rgb(255, 255, 255); stroke-opacity: 1; stroke-width: 1px;\"/><path class=\"xgrid crisp\" transform=\"translate(374.56,0)\" d=\"M0,50v263\" style=\"stroke: rgb(255, 255, 255); stroke-opacity: 1; stroke-width: 1px;\"/><path class=\"xgrid crisp\" transform=\"translate(425.44,0)\" d=\"M0,50v263\" style=\"stroke: rgb(255, 255, 255); stroke-opacity: 1; stroke-width: 1px;\"/><path class=\"xgrid crisp\" transform=\"translate(476.33,0)\" d=\"M0,50v263\" style=\"stroke: rgb(255, 255, 255); stroke-opacity: 1; stroke-width: 1px;\"/><path class=\"xgrid crisp\" transform=\"translate(527.22,0)\" d=\"M0,50v263\" style=\"stroke: rgb(255, 255, 255); stroke-opacity: 1; stroke-width: 1px;\"/><path class=\"xgrid crisp\" transform=\"translate(578.1,0)\" d=\"M0,50v263\" style=\"stroke: rgb(255, 255, 255); stroke-opacity: 1; stroke-width: 1px;\"/><path class=\"xgrid crisp\" transform=\"translate(628.99,0)\" d=\"M0,50v263\" style=\"stroke: rgb(255, 255, 255); stroke-opacity: 1; stroke-width: 1px;\"/><path class=\"xgrid crisp\" transform=\"translate(679.88,0)\" d=\"M0,50v263\" style=\"stroke: rgb(255, 255, 255); stroke-opacity: 1; stroke-width: 1px;\"/></g><g class=\"y\"><path class=\"ygrid crisp\" transform=\"translate(0,303.58000000000004)\" d=\"M80,0h640\" style=\"stroke: rgb(255, 255, 255); stroke-opacity: 1; stroke-width: 1px;\"/><path class=\"ygrid crisp\" transform=\"translate(0,264.71000000000004)\" d=\"M80,0h640\" style=\"stroke: rgb(255, 255, 255); stroke-opacity: 1; stroke-width: 1px;\"/><path class=\"ygrid crisp\" transform=\"translate(0,225.84)\" d=\"M80,0h640\" style=\"stroke: rgb(255, 255, 255); stroke-opacity: 1; stroke-width: 1px;\"/><path class=\"ygrid crisp\" transform=\"translate(0,186.98)\" d=\"M80,0h640\" style=\"stroke: rgb(255, 255, 255); stroke-opacity: 1; stroke-width: 1px;\"/><path class=\"ygrid crisp\" transform=\"translate(0,148.11)\" d=\"M80,0h640\" style=\"stroke: rgb(255, 255, 255); stroke-opacity: 1; stroke-width: 1px;\"/><path class=\"ygrid crisp\" transform=\"translate(0,109.24000000000001)\" d=\"M80,0h640\" style=\"stroke: rgb(255, 255, 255); stroke-opacity: 1; stroke-width: 1px;\"/><path class=\"ygrid crisp\" transform=\"translate(0,70.37)\" d=\"M80,0h640\" style=\"stroke: rgb(255, 255, 255); stroke-opacity: 1; stroke-width: 1px;\"/></g></g><g class=\"zerolinelayer\"/><path class=\"xlines-below\"/><path class=\"ylines-below\"/><g class=\"overlines-below\"/><g class=\"xaxislayer-below\"/><g class=\"yaxislayer-below\"/><g class=\"overaxes-below\"/><g class=\"plot\" transform=\"translate(80,50)\" clip-path=\"url(#clip158235xyplot)\"><g class=\"scatterlayer mlayer\"><g class=\"trace scatter trace3fbfee\" style=\"stroke-miterlimit: 2; opacity: 1;\"><g class=\"fills\"/><g class=\"errorbars\"/><g class=\"lines\"><path class=\"js-line\" d=\"M40.12,161.09L91.01,218.19L141.9,229.26L192.78,241.72L243.67,229.16L294.56,129.12L345.44,152.31L396.33,199.55L447.22,216.44L498.1,201.39L548.99,21.27L599.88,47.6\" style=\"vector-effect: non-scaling-stroke; fill: none; stroke: rgb(0, 0, 0); stroke-opacity: 1; stroke-width: 2px; opacity: 1;\"/></g><g class=\"points\"><path class=\"point\" transform=\"translate(40.12,161.09)\" d=\"M6.5,0A6.5,6.5 0 1,1 0,-6.5A6.5,6.5 0 0,1 6.5,0Z\" style=\"opacity: 0.7; stroke-width: 0px; fill: rgb(0, 0, 0); fill-opacity: 1;\"/><path class=\"point\" transform=\"translate(91.01,218.19)\" d=\"M6.5,0A6.5,6.5 0 1,1 0,-6.5A6.5,6.5 0 0,1 6.5,0Z\" style=\"opacity: 0.7; stroke-width: 0px; fill: rgb(0, 0, 0); fill-opacity: 1;\"/><path class=\"point\" transform=\"translate(141.9,229.26)\" d=\"M6.5,0A6.5,6.5 0 1,1 0,-6.5A6.5,6.5 0 0,1 6.5,0Z\" style=\"opacity: 0.7; stroke-width: 0px; fill: rgb(0, 0, 0); fill-opacity: 1;\"/><path class=\"point\" transform=\"translate(192.78,241.72)\" d=\"M6.5,0A6.5,6.5 0 1,1 0,-6.5A6.5,6.5 0 0,1 6.5,0Z\" style=\"opacity: 0.7; stroke-width: 0px; fill: rgb(0, 0, 0); fill-opacity: 1;\"/><path class=\"point\" transform=\"translate(243.67,229.16)\" d=\"M6.5,0A6.5,6.5 0 1,1 0,-6.5A6.5,6.5 0 0,1 6.5,0Z\" style=\"opacity: 0.7; stroke-width: 0px; fill: rgb(0, 0, 0); fill-opacity: 1;\"/><path class=\"point\" transform=\"translate(294.56,129.12)\" d=\"M6.5,0A6.5,6.5 0 1,1 0,-6.5A6.5,6.5 0 0,1 6.5,0Z\" style=\"opacity: 0.7; stroke-width: 0px; fill: rgb(0, 0, 0); fill-opacity: 1;\"/><path class=\"point\" transform=\"translate(345.44,152.31)\" d=\"M6.5,0A6.5,6.5 0 1,1 0,-6.5A6.5,6.5 0 0,1 6.5,0Z\" style=\"opacity: 0.7; stroke-width: 0px; fill: rgb(0, 0, 0); fill-opacity: 1;\"/><path class=\"point\" transform=\"translate(396.33,199.55)\" d=\"M6.5,0A6.5,6.5 0 1,1 0,-6.5A6.5,6.5 0 0,1 6.5,0Z\" style=\"opacity: 0.7; stroke-width: 0px; fill: rgb(0, 0, 0); fill-opacity: 1;\"/><path class=\"point\" transform=\"translate(447.22,216.44)\" d=\"M6.5,0A6.5,6.5 0 1,1 0,-6.5A6.5,6.5 0 0,1 6.5,0Z\" style=\"opacity: 0.7; stroke-width: 0px; fill: rgb(0, 0, 0); fill-opacity: 1;\"/><path class=\"point\" transform=\"translate(498.1,201.39)\" d=\"M6.5,0A6.5,6.5 0 1,1 0,-6.5A6.5,6.5 0 0,1 6.5,0Z\" style=\"opacity: 0.7; stroke-width: 0px; fill: rgb(0, 0, 0); fill-opacity: 1;\"/><path class=\"point\" transform=\"translate(548.99,21.27)\" d=\"M6.5,0A6.5,6.5 0 1,1 0,-6.5A6.5,6.5 0 0,1 6.5,0Z\" style=\"opacity: 0.7; stroke-width: 0px; fill: rgb(0, 0, 0); fill-opacity: 1;\"/><path class=\"point\" transform=\"translate(599.88,47.6)\" d=\"M6.5,0A6.5,6.5 0 1,1 0,-6.5A6.5,6.5 0 0,1 6.5,0Z\" style=\"opacity: 0.7; stroke-width: 0px; fill: rgb(0, 0, 0); fill-opacity: 1;\"/></g><g class=\"text\"/></g></g></g><g class=\"overplot\"/><path class=\"xlines-above crisp\" d=\"M0,0\" style=\"fill: none;\"/><path class=\"ylines-above crisp\" d=\"M0,0\" style=\"fill: none;\"/><g class=\"overlines-above\"/><g class=\"xaxislayer-above\"><g class=\"xtick\"><text text-anchor=\"start\" x=\"0\" y=\"326\" transform=\"translate(120.12,0) rotate(30,0,320)\" style=\"font-family: 'Open Sans', verdana, arial, sans-serif; font-size: 12px; fill: rgb(42, 63, 95); fill-opacity: 1; white-space: pre; opacity: 1;\">January</text></g><g class=\"xtick\"><text text-anchor=\"start\" x=\"0\" y=\"326\" transform=\"translate(171.01,0) rotate(30,0,320)\" style=\"font-family: 'Open Sans', verdana, arial, sans-serif; font-size: 12px; fill: rgb(42, 63, 95); fill-opacity: 1; white-space: pre; opacity: 1;\">February</text></g><g class=\"xtick\"><text text-anchor=\"start\" x=\"0\" y=\"326\" transform=\"translate(221.9,0) rotate(30,0,320)\" style=\"font-family: 'Open Sans', verdana, arial, sans-serif; font-size: 12px; fill: rgb(42, 63, 95); fill-opacity: 1; white-space: pre; opacity: 1;\">March</text></g><g class=\"xtick\"><text text-anchor=\"start\" x=\"0\" y=\"326\" transform=\"translate(272.78,0) rotate(30,0,320)\" style=\"font-family: 'Open Sans', verdana, arial, sans-serif; font-size: 12px; fill: rgb(42, 63, 95); fill-opacity: 1; white-space: pre; opacity: 1;\">April</text></g><g class=\"xtick\"><text text-anchor=\"start\" x=\"0\" y=\"326\" transform=\"translate(323.66999999999996,0) rotate(30,0,320)\" style=\"font-family: 'Open Sans', verdana, arial, sans-serif; font-size: 12px; fill: rgb(42, 63, 95); fill-opacity: 1; white-space: pre; opacity: 1;\">May</text></g><g class=\"xtick\"><text text-anchor=\"start\" x=\"0\" y=\"326\" transform=\"translate(374.56,0) rotate(30,0,320)\" style=\"font-family: 'Open Sans', verdana, arial, sans-serif; font-size: 12px; fill: rgb(42, 63, 95); fill-opacity: 1; white-space: pre; opacity: 1;\">June</text></g><g class=\"xtick\"><text text-anchor=\"start\" x=\"0\" y=\"326\" transform=\"translate(425.44,0) rotate(30,0,320)\" style=\"font-family: 'Open Sans', verdana, arial, sans-serif; font-size: 12px; fill: rgb(42, 63, 95); fill-opacity: 1; white-space: pre; opacity: 1;\">July</text></g><g class=\"xtick\"><text text-anchor=\"start\" x=\"0\" y=\"326\" transform=\"translate(476.33,0) rotate(30,0,320)\" style=\"font-family: 'Open Sans', verdana, arial, sans-serif; font-size: 12px; fill: rgb(42, 63, 95); fill-opacity: 1; white-space: pre; opacity: 1;\">August</text></g><g class=\"xtick\"><text text-anchor=\"start\" x=\"0\" y=\"326\" transform=\"translate(527.22,0) rotate(30,0,320)\" style=\"font-family: 'Open Sans', verdana, arial, sans-serif; font-size: 12px; fill: rgb(42, 63, 95); fill-opacity: 1; white-space: pre; opacity: 1;\">September</text></g><g class=\"xtick\"><text text-anchor=\"start\" x=\"0\" y=\"326\" transform=\"translate(578.1,0) rotate(30,0,320)\" style=\"font-family: 'Open Sans', verdana, arial, sans-serif; font-size: 12px; fill: rgb(42, 63, 95); fill-opacity: 1; white-space: pre; opacity: 1;\">October</text></g><g class=\"xtick\"><text text-anchor=\"start\" x=\"0\" y=\"326\" transform=\"translate(628.99,0) rotate(30,0,320)\" style=\"font-family: 'Open Sans', verdana, arial, sans-serif; font-size: 12px; fill: rgb(42, 63, 95); fill-opacity: 1; white-space: pre; opacity: 1;\">November</text></g><g class=\"xtick\"><text text-anchor=\"start\" x=\"0\" y=\"326\" transform=\"translate(679.88,0) rotate(30,0,320)\" style=\"font-family: 'Open Sans', verdana, arial, sans-serif; font-size: 12px; fill: rgb(42, 63, 95); fill-opacity: 1; white-space: pre; opacity: 1;\">December</text></g></g><g class=\"yaxislayer-above\"><g class=\"ytick\"><text text-anchor=\"end\" x=\"79\" y=\"4.199999999999999\" transform=\"translate(0,303.58000000000004)\" style=\"font-family: 'Open Sans', verdana, arial, sans-serif; font-size: 12px; fill: rgb(42, 63, 95); fill-opacity: 1; white-space: pre; opacity: 1;\">200k</text></g><g class=\"ytick\"><text text-anchor=\"end\" x=\"79\" y=\"4.199999999999999\" style=\"font-family: 'Open Sans', verdana, arial, sans-serif; font-size: 12px; fill: rgb(42, 63, 95); fill-opacity: 1; white-space: pre; opacity: 1;\" transform=\"translate(0,264.71000000000004)\">250k</text></g><g class=\"ytick\"><text text-anchor=\"end\" x=\"79\" y=\"4.199999999999999\" style=\"font-family: 'Open Sans', verdana, arial, sans-serif; font-size: 12px; fill: rgb(42, 63, 95); fill-opacity: 1; white-space: pre; opacity: 1;\" transform=\"translate(0,225.84)\">300k</text></g><g class=\"ytick\"><text text-anchor=\"end\" x=\"79\" y=\"4.199999999999999\" style=\"font-family: 'Open Sans', verdana, arial, sans-serif; font-size: 12px; fill: rgb(42, 63, 95); fill-opacity: 1; white-space: pre; opacity: 1;\" transform=\"translate(0,186.98)\">350k</text></g><g class=\"ytick\"><text text-anchor=\"end\" x=\"79\" y=\"4.199999999999999\" style=\"font-family: 'Open Sans', verdana, arial, sans-serif; font-size: 12px; fill: rgb(42, 63, 95); fill-opacity: 1; white-space: pre; opacity: 1;\" transform=\"translate(0,148.11)\">400k</text></g><g class=\"ytick\"><text text-anchor=\"end\" x=\"79\" y=\"4.199999999999999\" style=\"font-family: 'Open Sans', verdana, arial, sans-serif; font-size: 12px; fill: rgb(42, 63, 95); fill-opacity: 1; white-space: pre; opacity: 1;\" transform=\"translate(0,109.24000000000001)\">450k</text></g><g class=\"ytick\"><text text-anchor=\"end\" x=\"79\" y=\"4.199999999999999\" style=\"font-family: 'Open Sans', verdana, arial, sans-serif; font-size: 12px; fill: rgb(42, 63, 95); fill-opacity: 1; white-space: pre; opacity: 1;\" transform=\"translate(0,70.37)\">500k</text></g></g><g class=\"overaxes-above\"/></g></g><g class=\"polarlayer\"/><g class=\"ternarylayer\"/><g class=\"geolayer\"/><g class=\"funnelarealayer\"/><g class=\"pielayer\"/><g class=\"iciclelayer\"/><g class=\"treemaplayer\"/><g class=\"sunburstlayer\"/><g class=\"glimages\"/><defs id=\"topdefs-158235\"><g class=\"clips\"/></defs><g class=\"layer-above\"><g class=\"imagelayer\"/><g class=\"shapelayer\"/></g><g class=\"infolayer\"><g class=\"g-gtitle\"><text class=\"gtitle\" x=\"40\" y=\"25\" text-anchor=\"start\" dy=\"0em\" style=\"font-family: 'Open Sans', verdana, arial, sans-serif; font-size: 17px; fill: rgb(42, 63, 95); opacity: 1; font-weight: normal; white-space: pre;\">Cantidad de usuarios por mes</text></g><g class=\"g-xtitle\"><text class=\"xtitle\" x=\"400\" y=\"388.047265625\" text-anchor=\"middle\" style=\"font-family: 'Open Sans', verdana, arial, sans-serif; font-size: 18px; fill: rgb(42, 63, 95); opacity: 1; font-weight: normal; white-space: pre;\">Meses</text></g><g class=\"g-ytitle\"><text class=\"ytitle\" transform=\"rotate(-90,21.4,181.5)\" x=\"21.4\" y=\"181.5\" text-anchor=\"middle\" style=\"font-family: 'Open Sans', verdana, arial, sans-serif; font-size: 18px; fill: rgb(42, 63, 95); opacity: 1; font-weight: normal; white-space: pre;\">Cantidad</text></g></g></svg>"
      ],
      "text/plain": [
       "<IPython.core.display.SVG object>"
      ]
     },
     "metadata": {},
     "output_type": "display_data"
    }
   ],
   "source": [
    "\n",
    "# Se procede a graficar\n",
    "\n",
    "fig = go.Figure()\n",
    "fig.add_trace(go.Scatter(\n",
    "    x=users_by_month.month_name,\n",
    "    y=users_by_month.amount,\n",
    "    line={'color': '#000000'},\n",
    "    marker={'size': 13, 'opacity': .7},\n",
    "))\n",
    "fig.update_layout(\n",
    "    paper_bgcolor='#FAFAFA',\n",
    "    title='Cantidad de usuarios por mes',\n",
    "    autosize=False,\n",
    "    width=800,\n",
    "    height=400,\n",
    "    hoverdistance=100,\n",
    "    spikedistance=1000,\n",
    "    margin=dict(t=50),\n",
    "    xaxis=dict(\n",
    "        title_text='Meses',\n",
    "        titlefont=dict(size=18),\n",
    "        showspikes=True,\n",
    "        spikethickness=3,\n",
    "        spikedash=\"dot\",\n",
    "        spikecolor=\"red\",\n",
    "        spikemode=\"across\"),\n",
    "    yaxis=dict(title_text=\"Cantidad\",  titlefont=dict(size=18))\n",
    ")\n",
    "#fig.show()\n",
    "display(SVG(fig.to_image(format='svg')))"
   ]
  },
  {
   "cell_type": "markdown",
   "id": "3b44e0a7-5e8b-4e8a-9acc-834791d2d963",
   "metadata": {},
   "source": [
    "#### En el comienzo del año se presenta el primer pico, tomando en cuenta la caída de los siguientes tres meses. El segundo se encuentra muy cerca de la baja anterior, es decir, entre Mayo y Junio (pico intermedio). Este pico luego corrige bajando levemente, pero encontrándose flotante por encima del primero. El tercero y mas alto, esta ubicado en el último trimestre del año con su \"all year high\" en el mes de Noviembre. Pareciera llevar cierta relación con el verano/invierno del país en cuestión. Detalle para nada menor; En estos períodos la gente cuenta con mayor tiempo libre, por consiguiente no pareciera arriesgado afirmar que es el momento de mayor consumo del bien, es decir que juega más.\n",
    "\n",
    "#### Como conclusión, estos datos obtenidos en base a las preguntas que nos hicimos, resultan de gran interés e importancia. Sobretodo para conocer los períodos críticos, en los cuales se debe llevar a cabo una estructura de trabajo lo suficientemente preparada y capaz de afrontar una campaña de publicidad efectiva para luego, salir con el producto al mercado. Generando buena venta y umentando así los profits de los desarrolladores de servicios de entretenimiento multimedia, como son los videojuegos.\n",
    "\n",
    "#### A su vez también, esta info obtenida no solo nos arroja los 'highlights' del año, si no que nos esta permitiendo ver \"La cara \"B\" (temporadas o período del año con menor actividad) que mediante promociones y una serie de atenciones personalizadas para el usuario, se puede logar un gran refuerzo a nivel comercial. Intentando así no solo retocar quizá detalles de lo ya \"efectivo\" si no, replantearse estrategias para los meses sin actividad."
   ]
  },
  {
   "cell_type": "markdown",
   "id": "e371f871-5465-4640-8f6f-91b38ade1130",
   "metadata": {},
   "source": [
    "### Tal cual es pedido, se adjunta link de repositorio de GitHub\n",
    "\n",
    "https://github.com/Hernandelval/DS51-SR03.git\n"
   ]
  },
  {
   "cell_type": "code",
   "execution_count": null,
   "id": "c09a420b-2de5-445b-897c-d4837219ebef",
   "metadata": {},
   "outputs": [],
   "source": []
  },
  {
   "cell_type": "code",
   "execution_count": null,
   "id": "f3ad20da-ada8-40ba-be9c-51139f5a49c3",
   "metadata": {},
   "outputs": [],
   "source": []
  }
 ],
 "metadata": {
  "kernelspec": {
   "display_name": "Python 3 (ipykernel)",
   "language": "python",
   "name": "python3"
  },
  "language_info": {
   "codemirror_mode": {
    "name": "ipython",
    "version": 3
   },
   "file_extension": ".py",
   "mimetype": "text/x-python",
   "name": "python",
   "nbconvert_exporter": "python",
   "pygments_lexer": "ipython3",
   "version": "3.8.11"
  }
 },
 "nbformat": 4,
 "nbformat_minor": 5
}
